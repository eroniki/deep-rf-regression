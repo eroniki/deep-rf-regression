{
 "cells": [
  {
   "cell_type": "code",
   "execution_count": 41,
   "metadata": {
    "collapsed": false
   },
   "outputs": [],
   "source": [
    "#!/usr/bin/python\n",
    "from __future__ import division\n",
    "\n",
    "import numpy as np\n",
    "import numpy.matlib\n",
    "import scipy as sp\n",
    "import wifi_data\n",
    "import os\n",
    "from sklearn.naive_bayes import GaussianNB, MultinomialNB\n",
    "import sklearn.metrics\n",
    "from sklearn import mixture\n",
    "from sklearn.manifold import TSNE\n",
    "from keras.models import Model\n",
    "from keras.layers import Dense, Dropout, Activation, BatchNormalization, Input, merge, Merge, Conv1D\n",
    "from keras.optimizers import SGD\n",
    "from keras.utils.visualize_util import plot\n",
    "from keras.utils.np_utils import to_categorical\n",
    "from keras.callbacks import Callback, TensorBoard"
   ]
  },
  {
   "cell_type": "code",
   "execution_count": 2,
   "metadata": {
    "collapsed": true
   },
   "outputs": [],
   "source": [
    "import matplotlib.pyplot as plt\n",
    "import matplotlib.cm as cm\n",
    "from mpl_toolkits.mplot3d import Axes3D\n",
    "from mpl_toolkits.axes_grid1 import make_axes_locatable"
   ]
  },
  {
   "cell_type": "code",
   "execution_count": 4,
   "metadata": {
    "collapsed": false
   },
   "outputs": [
    {
     "name": "stdout",
     "output_type": "stream",
     "text": [
      "Using matplotlib backend: TkAgg\n"
     ]
    }
   ],
   "source": [
    "%matplotlib"
   ]
  },
  {
   "cell_type": "code",
   "execution_count": 5,
   "metadata": {
    "collapsed": true
   },
   "outputs": [],
   "source": [
    "def naiveBayes(x_train, y_train, x_test, y_test):\n",
    "    x_train = np.abs(x_train)\n",
    "    x_test = np.abs(x_test)\n",
    "    mnb  = MultinomialNB()\n",
    "    mdl = mnb.fit(x_train, y_train)\n",
    "    y_pred = mdl.predict(x_test)\n",
    "    prob = mdl.predict_proba(x_test)\n",
    "    return (y_test == y_pred).sum()/y_test.size, prob"
   ]
  },
  {
   "cell_type": "code",
   "execution_count": 6,
   "metadata": {
    "collapsed": true
   },
   "outputs": [],
   "source": [
    "def localization_error(y, y_hat):\n",
    "    return np.sqrt(np.sum(np.power((y-y_hat),2), axis=1))\n",
    "\n",
    "def cdf(error, nBins):\n",
    "    countsError, binsError = np.histogram(error, nBins);\n",
    "    f = np.cumsum(countsError) / np.sum(countsError);\n",
    "    return binsError, countsError, f"
   ]
  },
  {
   "cell_type": "code",
   "execution_count": 10,
   "metadata": {
    "collapsed": false
   },
   "outputs": [
    {
     "name": "stdout",
     "output_type": "stream",
     "text": [
      "WiFi Set:  (1200, 8) (343, 8)\n",
      "BT Set:  (1200, 8) (343, 8)\n",
      "LoRa Set:  (1200, 8) (343, 8)\n",
      "Grid Labels (by XY):  (1200, 2) (343, 2)\n",
      "Grid Labels (by #):  (1200, 1) (343, 1)\n"
     ]
    }
   ],
   "source": [
    "fname_dataset = \"hancock_data.mat\"\n",
    "fname_model = \"grid_classifier.h5\"\n",
    "folderLocation = os.path.dirname(\"/home/murat/wifi_localization/deep-rf-regression/\")\n",
    "# Create the dataset\n",
    "dataset = wifi_data.wifi_data(folder_location=folderLocation, filename=fname_dataset, normalize=False, missingValues=0, nTraining=1200, nTesting=343, nValidation=0, verbose=False)\n",
    "# Show the dataset properties\n",
    "print \"WiFi Set: \", dataset.wifi_train.shape, dataset.wifi_test.shape\n",
    "print \"BT Set: \", dataset.bt_train.shape, dataset.bt_test.shape\n",
    "print \"LoRa Set: \", dataset.lora_train.shape, dataset.lora_test.shape\n",
    "\n",
    "print \"Grid Labels (by XY): \", dataset.grid_labels_train.shape, dataset.grid_labels_test.shape\n",
    "print \"Grid Labels (by #): \", dataset.grid_numbers_train.shape, dataset.grid_numbers_test.shape\n",
    "\n",
    "# Validation split can be omitted, because Keras can create a validation\n",
    "# split from the training set\n",
    "if dataset.wifi_valid != None:\n",
    "    print \"Validation Shapes: \\n\"\n",
    "    print \"\\tWiFi: \", dataset.wifi_valid.shape\n",
    "    print \"\\tBT: \", dataset.bt_valid.shape\n",
    "    print \"\\tLoRa: \", dataset.lora_valid.shape\n",
    "    print \"\\tGrid (by xy-): \", dataset.grid_labels_valid.shape\n",
    "    print \"\\tGrid (by #): \", dataset.grid_numbers_valid.shape\n",
    "\n",
    "\n",
    "grid_numbers_train_categorical = to_categorical(dataset.grid_numbers_train, 175)\n",
    "grid_numbers_test_categorical = to_categorical(dataset.grid_numbers_test, 175)"
   ]
  },
  {
   "cell_type": "code",
   "execution_count": 11,
   "metadata": {
    "collapsed": false
   },
   "outputs": [
    {
     "name": "stderr",
     "output_type": "stream",
     "text": [
      "/usr/lib/python2.7/dist-packages/scipy/sparse/compressed.py:130: VisibleDeprecationWarning: `rank` is deprecated; use the `ndim` attribute or function instead. To find the rank of a matrix see `numpy.linalg.matrix_rank`.\n",
      "  if np.rank(self.data) != 1 or np.rank(self.indices) != 1 or np.rank(self.indptr) != 1:\n",
      "/usr/lib/python2.7/dist-packages/scipy/sparse/coo.py:200: VisibleDeprecationWarning: `rank` is deprecated; use the `ndim` attribute or function instead. To find the rank of a matrix see `numpy.linalg.matrix_rank`.\n",
      "  if np.rank(self.data) != 1 or np.rank(self.row) != 1 or np.rank(self.col) != 1:\n"
     ]
    }
   ],
   "source": [
    "accxy, _ = naiveBayes(dataset.lora_train,dataset.grid_numbers_train.ravel(),dataset.lora_test, dataset.grid_numbers_test.ravel())\n",
    "accx, probx = naiveBayes(dataset.lora_train, dataset.grid_labels_train[:,0].ravel(), dataset.lora_test, dataset.grid_labels_test[:,0].ravel())\n",
    "accy, proby = naiveBayes(dataset.lora_train, dataset.grid_labels_train[:,1].ravel(), dataset.lora_test, dataset.grid_labels_test[:,1].ravel())\n"
   ]
  },
  {
   "cell_type": "code",
   "execution_count": 13,
   "metadata": {
    "collapsed": false
   },
   "outputs": [
    {
     "name": "stdout",
     "output_type": "stream",
     "text": [
      "0.0320699708455 0.30612244898 0.0874635568513\n"
     ]
    }
   ],
   "source": [
    "print accxy, accx, accy"
   ]
  },
  {
   "cell_type": "code",
   "execution_count": 35,
   "metadata": {
    "collapsed": false
   },
   "outputs": [
    {
     "name": "stdout",
     "output_type": "stream",
     "text": [
      "[ 0 23]\n",
      "gt:  [ 0 23] x:  0 y:  18\n",
      "[ 1 18]\n",
      "gt:  [ 1 18] x:  6 y:  11\n",
      "[0 2]\n",
      "gt:  [0 2] x:  6 y:  19\n",
      "[0 3]\n",
      "gt:  [0 3] x:  6 y:  1\n",
      "[ 5 17]\n",
      "gt:  [ 5 17] x:  5 y:  11\n",
      "[ 6 21]\n",
      "gt:  [ 6 21] x:  0 y:  18\n",
      "[ 3 17]\n",
      "gt:  [ 3 17] x:  5 y:  19\n",
      "[4 7]\n",
      "gt:  [4 7] x:  5 y:  11\n",
      "[ 4 20]\n",
      "gt:  [ 4 20] x:  0 y:  20\n",
      "[ 1 15]\n",
      "gt:  [ 1 15] x:  6 y:  8\n",
      "[1 9]\n",
      "gt:  [1 9] x:  3 y:  3\n",
      "[ 0 24]\n",
      "gt:  [ 0 24] x:  0 y:  17\n",
      "[1 7]\n",
      "gt:  [1 7] x:  6 y:  1\n",
      "[ 2 20]\n",
      "gt:  [ 2 20] x:  5 y:  15\n",
      "[ 3 19]\n",
      "gt:  [ 3 19] x:  0 y:  17\n",
      "[ 1 14]\n",
      "gt:  [ 1 14] x:  1 y:  12\n",
      "[ 3 21]\n",
      "gt:  [ 3 21] x:  0 y:  21\n",
      "[1 5]\n",
      "gt:  [1 5] x:  6 y:  8\n",
      "[3 9]\n",
      "gt:  [3 9] x:  6 y:  9\n",
      "[1 0]\n",
      "gt:  [1 0] x:  6 y:  1\n",
      "[ 1 21]\n",
      "gt:  [ 1 21] x:  0 y:  18\n",
      "[ 5 14]\n",
      "gt:  [ 5 14] x:  5 y:  11\n",
      "[ 3 21]\n",
      "gt:  [ 3 21] x:  0 y:  20\n",
      "[5 0]\n",
      "gt:  [5 0] x:  1 y:  1\n",
      "[ 1 24]\n",
      "gt:  [ 1 24] x:  0 y:  21\n",
      "[ 0 11]\n",
      "gt:  [ 0 11] x:  0 y:  17\n",
      "[3 7]\n",
      "gt:  [3 7] x:  5 y:  3\n",
      "[ 5 11]\n",
      "gt:  [ 5 11] x:  1 y:  1\n",
      "[ 0 17]\n",
      "gt:  [ 0 17] x:  5 y:  10\n",
      "[ 4 21]\n",
      "gt:  [ 4 21] x:  4 y:  19\n",
      "[ 1 11]\n",
      "gt:  [ 1 11] x:  6 y:  1\n",
      "[ 4 19]\n",
      "gt:  [ 4 19] x:  4 y:  15\n",
      "[6 2]\n",
      "gt:  [6 2] x:  6 y:  1\n",
      "[ 0 19]\n",
      "gt:  [ 0 19] x:  0 y:  18\n",
      "[4 0]\n",
      "gt:  [4 0] x:  5 y:  19\n",
      "[ 4 16]\n",
      "gt:  [ 4 16] x:  5 y:  19\n",
      "[0 5]\n",
      "gt:  [0 5] x:  1 y:  12\n",
      "[1 7]\n",
      "gt:  [1 7] x:  5 y:  12\n",
      "[ 2 18]\n",
      "gt:  [ 2 18] x:  0 y:  17\n",
      "[2 2]\n",
      "gt:  [2 2] x:  1 y:  12\n",
      "[ 6 18]\n",
      "gt:  [ 6 18] x:  0 y:  24\n",
      "[6 8]\n",
      "gt:  [6 8] x:  6 y:  3\n",
      "[3 9]\n",
      "gt:  [3 9] x:  6 y:  8\n",
      "[2 7]\n",
      "gt:  [2 7] x:  6 y:  1\n",
      "[3 7]\n",
      "gt:  [3 7] x:  1 y:  12\n",
      "[ 6 11]\n",
      "gt:  [ 6 11] x:  6 y:  8\n",
      "[3 2]\n",
      "gt:  [3 2] x:  1 y:  12\n",
      "[6 2]\n",
      "gt:  [6 2] x:  1 y:  12\n",
      "[3 0]\n",
      "gt:  [3 0] x:  1 y:  12\n",
      "[0 4]\n",
      "gt:  [0 4] x:  0 y:  17\n",
      "[ 4 14]\n",
      "gt:  [ 4 14] x:  6 y:  8\n",
      "[1 0]\n",
      "gt:  [1 0] x:  6 y:  1\n",
      "[0 9]\n",
      "gt:  [0 9] x:  0 y:  21\n",
      "[1 5]\n",
      "gt:  [1 5] x:  6 y:  9\n",
      "[ 1 10]\n",
      "gt:  [ 1 10] x:  6 y:  9\n",
      "[0 6]\n",
      "gt:  [0 6] x:  0 y:  19\n",
      "[4 8]\n",
      "gt:  [4 8] x:  5 y:  11\n",
      "[ 4 16]\n",
      "gt:  [ 4 16] x:  0 y:  17\n",
      "[ 0 17]\n",
      "gt:  [ 0 17] x:  1 y:  12\n",
      "[ 6 10]\n",
      "gt:  [ 6 10] x:  6 y:  1\n",
      "[ 5 22]\n",
      "gt:  [ 5 22] x:  5 y:  11\n",
      "[3 9]\n",
      "gt:  [3 9] x:  6 y:  9\n",
      "[ 5 11]\n",
      "gt:  [ 5 11] x:  6 y:  19\n",
      "[ 1 12]\n",
      "gt:  [ 1 12] x:  1 y:  12\n",
      "[0 2]\n",
      "gt:  [0 2] x:  0 y:  17\n",
      "[6 9]\n",
      "gt:  [6 9] x:  6 y:  8\n",
      "[ 0 15]\n",
      "gt:  [ 0 15] x:  0 y:  17\n",
      "[ 5 14]\n",
      "gt:  [ 5 14] x:  5 y:  11\n",
      "[ 6 15]\n",
      "gt:  [ 6 15] x:  0 y:  17\n",
      "[4 1]\n",
      "gt:  [4 1] x:  5 y:  11\n",
      "[ 3 15]\n",
      "gt:  [ 3 15] x:  5 y:  15\n",
      "[0 4]\n",
      "gt:  [0 4] x:  0 y:  17\n",
      "[3 3]\n",
      "gt:  [3 3] x:  2 y:  4\n",
      "[3 0]\n",
      "gt:  [3 0] x:  3 y:  0\n",
      "[ 4 14]\n",
      "gt:  [ 4 14] x:  5 y:  19\n",
      "[ 4 12]\n",
      "gt:  [ 4 12] x:  5 y:  11\n",
      "[ 0 12]\n",
      "gt:  [ 0 12] x:  6 y:  8\n",
      "[ 1 13]\n",
      "gt:  [ 1 13] x:  6 y:  4\n",
      "[ 6 20]\n",
      "gt:  [ 6 20] x:  0 y:  18\n",
      "[ 5 10]\n",
      "gt:  [ 5 10] x:  3 y:  1\n",
      "[ 0 18]\n",
      "gt:  [ 0 18] x:  0 y:  20\n",
      "[0 6]\n",
      "gt:  [0 6] x:  5 y:  11\n",
      "[ 2 17]\n",
      "gt:  [ 2 17] x:  0 y:  21\n",
      "[5 6]\n",
      "gt:  [5 6] x:  1 y:  12\n",
      "[2 7]\n",
      "gt:  [2 7] x:  4 y:  19\n",
      "[ 1 16]\n",
      "gt:  [ 1 16] x:  6 y:  11\n",
      "[4 7]\n",
      "gt:  [4 7] x:  5 y:  11\n",
      "[ 0 21]\n",
      "gt:  [ 0 21] x:  0 y:  21\n",
      "[ 6 18]\n",
      "gt:  [ 6 18] x:  1 y:  1\n",
      "[ 6 13]\n",
      "gt:  [ 6 13] x:  6 y:  8\n",
      "[5 8]\n",
      "gt:  [5 8] x:  0 y:  18\n",
      "[ 6 18]\n",
      "gt:  [ 6 18] x:  1 y:  11\n",
      "[ 0 19]\n",
      "gt:  [ 0 19] x:  5 y:  21\n",
      "[ 5 13]\n",
      "gt:  [ 5 13] x:  6 y:  4\n",
      "[ 0 22]\n",
      "gt:  [ 0 22] x:  0 y:  19\n",
      "[ 0 17]\n",
      "gt:  [ 0 17] x:  5 y:  11\n",
      "[ 4 15]\n",
      "gt:  [ 4 15] x:  5 y:  19\n",
      "[ 6 19]\n",
      "gt:  [ 6 19] x:  0 y:  17\n",
      "[ 3 17]\n",
      "gt:  [ 3 17] x:  5 y:  19\n",
      "[ 6 17]\n",
      "gt:  [ 6 17] x:  0 y:  19\n",
      "[ 3 16]\n",
      "gt:  [ 3 16] x:  5 y:  19\n",
      "[ 0 11]\n",
      "gt:  [ 0 11] x:  0 y:  18\n",
      "[ 6 10]\n",
      "gt:  [ 6 10] x:  6 y:  1\n",
      "[ 1 13]\n",
      "gt:  [ 1 13] x:  1 y:  1\n",
      "[ 3 16]\n",
      "gt:  [ 3 16] x:  5 y:  15\n",
      "[1 7]\n",
      "gt:  [1 7] x:  6 y:  8\n",
      "[3 2]\n",
      "gt:  [3 2] x:  6 y:  3\n",
      "[0 8]\n",
      "gt:  [0 8] x:  0 y:  17\n",
      "[ 6 20]\n",
      "gt:  [ 6 20] x:  0 y:  18\n",
      "[1 3]\n",
      "gt:  [1 3] x:  0 y:  18\n",
      "[3 0]\n",
      "gt:  [3 0] x:  3 y:  2\n",
      "[4 6]\n",
      "gt:  [4 6] x:  6 y:  1\n",
      "[2 9]\n",
      "gt:  [2 9] x:  3 y:  0\n",
      "[0 3]\n",
      "gt:  [0 3] x:  6 y:  19\n",
      "[5 1]\n",
      "gt:  [5 1] x:  3 y:  1\n",
      "[ 0 21]\n",
      "gt:  [ 0 21] x:  0 y:  21\n",
      "[ 1 21]\n",
      "gt:  [ 1 21] x:  0 y:  18\n",
      "[ 3 20]\n",
      "gt:  [ 3 20] x:  0 y:  17\n",
      "[ 3 21]\n",
      "gt:  [ 3 21] x:  0 y:  19\n",
      "[ 1 14]\n",
      "gt:  [ 1 14] x:  1 y:  12\n",
      "[2 4]\n",
      "gt:  [2 4] x:  1 y:  12\n",
      "[ 3 12]\n",
      "gt:  [ 3 12] x:  5 y:  11\n",
      "[ 6 14]\n",
      "gt:  [ 6 14] x:  6 y:  19\n",
      "[ 3 16]\n",
      "gt:  [ 3 16] x:  5 y:  15\n",
      "[ 0 21]\n",
      "gt:  [ 0 21] x:  0 y:  21\n",
      "[5 6]\n",
      "gt:  [5 6] x:  0 y:  21\n",
      "[ 2 10]\n",
      "gt:  [ 2 10] x:  3 y:  0\n",
      "[ 5 19]\n",
      "gt:  [ 5 19] x:  4 y:  19\n",
      "[3 7]\n",
      "gt:  [3 7] x:  3 y:  3\n",
      "[4 8]\n",
      "gt:  [4 8] x:  5 y:  9\n",
      "[ 5 10]\n",
      "gt:  [ 5 10] x:  3 y:  0\n",
      "[1 5]\n",
      "gt:  [1 5] x:  1 y:  1\n",
      "[0 2]\n",
      "gt:  [0 2] x:  6 y:  1\n",
      "[ 0 19]\n",
      "gt:  [ 0 19] x:  0 y:  21\n",
      "[5 7]\n",
      "gt:  [5 7] x:  5 y:  15\n",
      "[ 0 11]\n",
      "gt:  [ 0 11] x:  0 y:  18\n",
      "[ 4 14]\n",
      "gt:  [ 4 14] x:  5 y:  19\n",
      "[0 5]\n",
      "gt:  [0 5] x:  6 y:  17\n",
      "[ 4 20]\n",
      "gt:  [ 4 20] x:  0 y:  19\n",
      "[ 1 14]\n",
      "gt:  [ 1 14] x:  5 y:  11\n",
      "[ 1 16]\n",
      "gt:  [ 1 16] x:  6 y:  19\n",
      "[3 1]\n",
      "gt:  [3 1] x:  5 y:  15\n",
      "[3 2]\n",
      "gt:  [3 2] x:  6 y:  8\n",
      "[ 5 12]\n",
      "gt:  [ 5 12] x:  5 y:  19\n",
      "[ 0 22]\n",
      "gt:  [ 0 22] x:  6 y:  18\n",
      "[ 5 12]\n",
      "gt:  [ 5 12] x:  6 y:  8\n",
      "[5 0]\n",
      "gt:  [5 0] x:  3 y:  3\n",
      "[0 0]\n",
      "gt:  [0 0] x:  0 y:  17\n",
      "[6 4]\n",
      "gt:  [6 4] x:  1 y:  1\n",
      "[ 1 15]\n",
      "gt:  [ 1 15] x:  5 y:  11\n",
      "[ 3 13]\n",
      "gt:  [ 3 13] x:  5 y:  19\n",
      "[ 1 23]\n",
      "gt:  [ 1 23] x:  0 y:  18\n",
      "[0 1]\n",
      "gt:  [0 1] x:  1 y:  12\n",
      "[ 5 17]\n",
      "gt:  [ 5 17] x:  5 y:  15\n",
      "[ 0 20]\n",
      "gt:  [ 0 20] x:  6 y:  3\n",
      "[ 3 17]\n",
      "gt:  [ 3 17] x:  0 y:  17\n",
      "[2 4]\n",
      "gt:  [2 4] x:  6 y:  1\n",
      "[ 4 10]\n",
      "gt:  [ 4 10] x:  4 y:  9\n",
      "[ 2 17]\n",
      "gt:  [ 2 17] x:  6 y:  8\n",
      "[2 5]\n",
      "gt:  [2 5] x:  6 y:  1\n",
      "[ 0 10]\n",
      "gt:  [ 0 10] x:  6 y:  19\n",
      "[ 0 10]\n",
      "gt:  [ 0 10] x:  0 y:  17\n",
      "[5 9]\n",
      "gt:  [5 9] x:  5 y:  15\n",
      "[ 3 16]\n",
      "gt:  [ 3 16] x:  5 y:  15\n",
      "[6 5]\n",
      "gt:  [6 5] x:  6 y:  8\n",
      "[ 3 18]\n",
      "gt:  [ 3 18] x:  0 y:  24\n",
      "[ 5 16]\n",
      "gt:  [ 5 16] x:  5 y:  15\n",
      "[ 2 14]\n",
      "gt:  [ 2 14] x:  0 y:  17\n",
      "[ 1 10]\n",
      "gt:  [ 1 10] x:  6 y:  8\n",
      "[2 5]\n",
      "gt:  [2 5] x:  6 y:  3\n",
      "[ 1 20]\n",
      "gt:  [ 1 20] x:  0 y:  21\n",
      "[6 5]\n",
      "gt:  [6 5] x:  6 y:  9\n",
      "[1 9]\n",
      "gt:  [1 9] x:  6 y:  1\n",
      "[ 1 19]\n",
      "gt:  [ 1 19] x:  0 y:  17\n",
      "[ 2 21]\n",
      "gt:  [ 2 21] x:  5 y:  19\n",
      "[4 0]\n",
      "gt:  [4 0] x:  3 y:  3\n",
      "[ 5 20]\n",
      "gt:  [ 5 20] x:  5 y:  15\n",
      "[5 7]\n",
      "gt:  [5 7] x:  0 y:  18\n",
      "[3 0]\n",
      "gt:  [3 0] x:  5 y:  19\n",
      "[ 6 15]\n",
      "gt:  [ 6 15] x:  5 y:  15\n",
      "[1 8]\n",
      "gt:  [1 8] x:  6 y:  9\n",
      "[ 1 15]\n",
      "gt:  [ 1 15] x:  1 y:  17\n",
      "[2 4]\n",
      "gt:  [2 4] x:  6 y:  18\n",
      "[6 5]\n",
      "gt:  [6 5] x:  6 y:  5\n",
      "[ 1 13]\n",
      "gt:  [ 1 13] x:  1 y:  12\n",
      "[ 1 14]\n",
      "gt:  [ 1 14] x:  1 y:  12\n",
      "[ 1 22]\n",
      "gt:  [ 1 22] x:  0 y:  18\n",
      "[4 0]\n",
      "gt:  [4 0] x:  3 y:  3\n",
      "[ 1 12]\n",
      "gt:  [ 1 12] x:  4 y:  19\n",
      "[ 1 22]\n",
      "gt:  [ 1 22] x:  4 y:  19\n",
      "[2 2]\n",
      "gt:  [2 2] x:  0 y:  17\n",
      "[3 6]\n",
      "gt:  [3 6] x:  6 y:  9\n",
      "[ 0 22]\n",
      "gt:  [ 0 22] x:  0 y:  21\n",
      "[ 2 13]\n",
      "gt:  [ 2 13] x:  6 y:  9\n",
      "[ 4 16]\n",
      "gt:  [ 4 16] x:  5 y:  19\n",
      "[ 1 11]\n",
      "gt:  [ 1 11] x:  1 y:  1\n",
      "[ 5 10]\n",
      "gt:  [ 5 10] x:  5 y:  11\n",
      "[ 3 16]\n",
      "gt:  [ 3 16] x:  5 y:  15\n",
      "[5 4]\n",
      "gt:  [5 4] x:  5 y:  11\n",
      "[ 6 24]\n",
      "gt:  [ 6 24] x:  0 y:  18\n",
      "[ 5 12]\n",
      "gt:  [ 5 12] x:  5 y:  19\n",
      "[ 1 23]\n",
      "gt:  [ 1 23] x:  0 y:  18\n",
      "[3 2]\n",
      "gt:  [3 2] x:  6 y:  8\n",
      "[ 5 24]\n",
      "gt:  [ 5 24] x:  5 y:  15\n",
      "[2 7]\n",
      "gt:  [2 7] x:  6 y:  8\n",
      "[ 6 11]\n",
      "gt:  [ 6 11] x:  6 y:  8\n",
      "[3 5]\n",
      "gt:  [3 5] x:  2 y:  9\n",
      "[ 5 11]\n",
      "gt:  [ 5 11] x:  2 y:  9\n",
      "[ 1 10]\n",
      "gt:  [ 1 10] x:  6 y:  9\n",
      "[ 0 13]\n",
      "gt:  [ 0 13] x:  0 y:  18\n",
      "[6 9]\n",
      "gt:  [6 9] x:  6 y:  9\n",
      "[0 8]\n",
      "gt:  [0 8] x:  1 y:  11\n",
      "[ 2 15]\n",
      "gt:  [ 2 15] x:  5 y:  19\n",
      "[5 7]\n",
      "gt:  [5 7] x:  0 y:  18\n",
      "[ 6 19]\n",
      "gt:  [ 6 19] x:  0 y:  20\n",
      "[ 2 18]\n",
      "gt:  [ 2 18] x:  0 y:  17\n",
      "[6 4]\n",
      "gt:  [6 4] x:  1 y:  1\n",
      "[ 3 16]\n",
      "gt:  [ 3 16] x:  0 y:  20\n",
      "[5 4]\n",
      "gt:  [5 4] x:  6 y:  1\n",
      "[5 0]\n",
      "gt:  [5 0] x:  3 y:  2\n",
      "[ 1 15]\n",
      "gt:  [ 1 15] x:  1 y:  1\n",
      "[ 3 14]\n",
      "gt:  [ 3 14] x:  0 y:  17\n",
      "[ 4 16]\n",
      "gt:  [ 4 16] x:  0 y:  17\n",
      "[ 1 13]\n",
      "gt:  [ 1 13] x:  1 y:  12\n",
      "[0 4]\n",
      "gt:  [0 4] x:  5 y:  15\n",
      "[1 1]\n",
      "gt:  [1 1] x:  6 y:  1\n",
      "[1 4]\n",
      "gt:  [1 4] x:  3 y:  0\n",
      "[1 2]\n",
      "gt:  [1 2] x:  6 y:  13\n",
      "[4 2]\n",
      "gt:  [4 2] x:  3 y:  8\n",
      "[3 4]\n",
      "gt:  [3 4] x:  6 y:  9\n",
      "[ 3 18]\n",
      "gt:  [ 3 18] x:  0 y:  21\n",
      "[ 2 15]\n",
      "gt:  [ 2 15] x:  0 y:  17\n",
      "[3 1]\n",
      "gt:  [3 1] x:  5 y:  12\n",
      "[ 6 12]\n",
      "gt:  [ 6 12] x:  6 y:  8\n",
      "[ 6 24]\n",
      "gt:  [ 6 24] x:  0 y:  24\n",
      "[5 2]\n",
      "gt:  [5 2] x:  3 y:  3\n",
      "[ 5 19]\n",
      "gt:  [ 5 19] x:  5 y:  15\n",
      "[ 5 18]\n",
      "gt:  [ 5 18] x:  5 y:  11\n",
      "[ 6 19]\n",
      "gt:  [ 6 19] x:  5 y:  19\n",
      "[ 2 18]\n",
      "gt:  [ 2 18] x:  1 y:  12\n",
      "[5 2]\n",
      "gt:  [5 2] x:  3 y:  0\n",
      "[2 0]\n",
      "gt:  [2 0] x:  6 y:  8\n",
      "[ 1 20]\n",
      "gt:  [ 1 20] x:  0 y:  17\n",
      "[ 0 20]\n",
      "gt:  [ 0 20] x:  1 y:  12\n",
      "[ 1 20]\n",
      "gt:  [ 1 20] x:  0 y:  20\n",
      "[2 7]\n",
      "gt:  [2 7] x:  1 y:  12\n",
      "[ 4 14]\n",
      "gt:  [ 4 14] x:  5 y:  15\n",
      "[ 2 11]\n",
      "gt:  [ 2 11] x:  6 y:  8\n",
      "[ 4 13]\n",
      "gt:  [ 4 13] x:  5 y:  19\n",
      "[5 4]\n",
      "gt:  [5 4] x:  6 y:  8\n",
      "[ 2 17]\n",
      "gt:  [ 2 17] x:  6 y:  19\n",
      "[ 1 23]\n",
      "gt:  [ 1 23] x:  1 y:  12\n",
      "[ 2 18]\n",
      "gt:  [ 2 18] x:  1 y:  1\n",
      "[2 2]\n",
      "gt:  [2 2] x:  6 y:  12\n",
      "[ 0 20]\n",
      "gt:  [ 0 20] x:  0 y:  21\n",
      "[ 6 11]\n",
      "gt:  [ 6 11] x:  6 y:  8\n",
      "[ 2 17]\n",
      "gt:  [ 2 17] x:  6 y:  1\n",
      "[ 4 16]\n",
      "gt:  [ 4 16] x:  0 y:  17\n",
      "[ 2 12]\n",
      "gt:  [ 2 12] x:  1 y:  12\n",
      "[ 3 18]\n",
      "gt:  [ 3 18] x:  0 y:  21\n",
      "[ 6 12]\n",
      "gt:  [ 6 12] x:  6 y:  8\n",
      "[0 9]\n",
      "gt:  [0 9] x:  6 y:  9\n",
      "[ 1 11]\n",
      "gt:  [ 1 11] x:  1 y:  12\n",
      "[2 1]\n",
      "gt:  [2 1] x:  6 y:  1\n",
      "[ 1 19]\n",
      "gt:  [ 1 19] x:  0 y:  21\n",
      "[5 6]\n",
      "gt:  [5 6] x:  5 y:  19\n",
      "[0 3]\n",
      "gt:  [0 3] x:  6 y:  8\n",
      "[3 3]\n",
      "gt:  [3 3] x:  6 y:  9\n",
      "[2 5]\n",
      "gt:  [2 5] x:  6 y:  8\n",
      "[ 5 20]\n",
      "gt:  [ 5 20] x:  5 y:  15\n",
      "[1 5]\n",
      "gt:  [1 5] x:  6 y:  9\n",
      "[ 6 22]\n",
      "gt:  [ 6 22] x:  6 y:  19\n",
      "[ 0 12]\n",
      "gt:  [ 0 12] x:  6 y:  19\n",
      "[ 0 14]\n",
      "gt:  [ 0 14] x:  5 y:  19\n",
      "[1 3]\n",
      "gt:  [1 3] x:  6 y:  9\n",
      "[ 5 14]\n",
      "gt:  [ 5 14] x:  5 y:  11\n",
      "[ 0 17]\n",
      "gt:  [ 0 17] x:  0 y:  18\n",
      "[ 1 24]\n",
      "gt:  [ 1 24] x:  0 y:  21\n",
      "[5 2]\n",
      "gt:  [5 2] x:  3 y:  10\n",
      "[0 1]\n",
      "gt:  [0 1] x:  0 y:  17\n",
      "[ 3 21]\n",
      "gt:  [ 3 21] x:  0 y:  21\n",
      "[ 4 20]\n",
      "gt:  [ 4 20] x:  5 y:  19\n",
      "[ 2 20]\n",
      "gt:  [ 2 20] x:  0 y:  19\n",
      "[1 9]\n",
      "gt:  [1 9] x:  1 y:  12\n",
      "[ 5 15]\n",
      "gt:  [ 5 15] x:  5 y:  15\n",
      "[5 9]\n",
      "gt:  [5 9] x:  5 y:  10\n",
      "[6 7]\n",
      "gt:  [6 7] x:  6 y:  8\n",
      "[ 1 11]\n",
      "gt:  [ 1 11] x:  1 y:  12\n",
      "[5 8]\n",
      "gt:  [5 8] x:  0 y:  18\n",
      "[3 9]\n",
      "gt:  [3 9] x:  6 y:  9\n",
      "[ 2 18]\n",
      "gt:  [ 2 18] x:  5 y:  11\n",
      "[0 9]\n",
      "gt:  [0 9] x:  6 y:  19\n",
      "[ 5 15]\n",
      "gt:  [ 5 15] x:  5 y:  19\n",
      "[ 3 10]\n",
      "gt:  [ 3 10] x:  5 y:  10\n",
      "[ 6 16]\n",
      "gt:  [ 6 16] x:  5 y:  19\n",
      "[1 0]\n",
      "gt:  [1 0] x:  6 y:  19\n",
      "[0 9]\n",
      "gt:  [0 9] x:  0 y:  20\n",
      "[ 1 11]\n",
      "gt:  [ 1 11] x:  1 y:  12\n",
      "[ 0 13]\n",
      "gt:  [ 0 13] x:  6 y:  17\n",
      "[4 5]\n",
      "gt:  [4 5] x:  6 y:  9\n",
      "[ 3 19]\n",
      "gt:  [ 3 19] x:  6 y:  19\n",
      "[ 6 10]\n",
      "gt:  [ 6 10] x:  3 y:  3\n",
      "[6 2]\n",
      "gt:  [6 2] x:  6 y:  9\n",
      "[ 1 13]\n",
      "gt:  [ 1 13] x:  2 y:  9\n",
      "[ 1 18]\n",
      "gt:  [ 1 18] x:  1 y:  12\n",
      "[5 2]\n",
      "gt:  [5 2] x:  3 y:  3\n",
      "[ 1 16]\n",
      "gt:  [ 1 16] x:  6 y:  19\n",
      "[1 0]\n",
      "gt:  [1 0] x:  5 y:  11\n",
      "[0 2]\n",
      "gt:  [0 2] x:  0 y:  20\n",
      "[ 5 19]\n",
      "gt:  [ 5 19] x:  5 y:  15\n",
      "[ 3 20]\n",
      "gt:  [ 3 20] x:  0 y:  19\n",
      "[4 2]\n",
      "gt:  [4 2] x:  5 y:  15\n",
      "[ 3 10]\n",
      "gt:  [ 3 10] x:  6 y:  9\n",
      "[5 9]\n",
      "gt:  [5 9] x:  5 y:  11\n",
      "[4 4]\n",
      "gt:  [4 4] x:  4 y:  9\n",
      "[3 2]\n",
      "gt:  [3 2] x:  3 y:  0\n",
      "[ 3 19]\n",
      "gt:  [ 3 19] x:  5 y:  15\n",
      "[ 2 15]\n",
      "gt:  [ 2 15] x:  4 y:  19\n",
      "[ 4 15]\n",
      "gt:  [ 4 15] x:  5 y:  15\n",
      "[ 6 17]\n",
      "gt:  [ 6 17] x:  0 y:  19\n",
      "[ 1 22]\n",
      "gt:  [ 1 22] x:  5 y:  21\n",
      "[ 4 18]\n",
      "gt:  [ 4 18] x:  0 y:  17\n",
      "[2 8]\n",
      "gt:  [2 8] x:  6 y:  9\n",
      "[ 0 22]\n",
      "gt:  [ 0 22] x:  0 y:  17\n",
      "[6 5]\n",
      "gt:  [6 5] x:  6 y:  19\n",
      "[3 1]\n",
      "gt:  [3 1] x:  1 y:  2\n",
      "[ 2 20]\n",
      "gt:  [ 2 20] x:  5 y:  19\n",
      "[ 1 17]\n",
      "gt:  [ 1 17] x:  6 y:  19\n",
      "[6 6]\n",
      "gt:  [6 6] x:  6 y:  9\n",
      "[ 0 14]\n",
      "gt:  [ 0 14] x:  6 y:  19\n",
      "[ 5 16]\n",
      "gt:  [ 5 16] x:  5 y:  11\n",
      "[ 1 23]\n",
      "gt:  [ 1 23] x:  0 y:  18\n",
      "[ 1 10]\n",
      "gt:  [ 1 10] x:  1 y:  1\n",
      "[0 5]\n",
      "gt:  [0 5] x:  4 y:  19\n",
      "[ 0 12]\n",
      "gt:  [ 0 12] x:  0 y:  21\n",
      "[ 0 21]\n",
      "gt:  [ 0 21] x:  0 y:  24\n",
      "[ 0 20]\n",
      "gt:  [ 0 20] x:  0 y:  17\n",
      "[ 0 13]\n",
      "gt:  [ 0 13] x:  0 y:  21\n",
      "[ 1 24]\n",
      "gt:  [ 1 24] x:  0 y:  21\n",
      "[0 3]\n",
      "gt:  [0 3] x:  6 y:  1\n",
      "[3 3]\n",
      "gt:  [3 3] x:  6 y:  8\n",
      "[1 9]\n",
      "gt:  [1 9] x:  6 y:  8\n",
      "[ 4 11]\n",
      "gt:  [ 4 11] x:  5 y:  11\n"
     ]
    },
    {
     "data": {
      "text/plain": [
       "0.023323615160349854"
      ]
     },
     "execution_count": 35,
     "metadata": {},
     "output_type": "execute_result"
    }
   ],
   "source": [
    "s = 0\n",
    "for i in range(0,343):\n",
    "    px = probx[i,:].reshape(1,probx[i,:].size)\n",
    "    py = proby[i,:].reshape(proby[i,:].size,1)\n",
    "    #print px\n",
    "    #print py\n",
    "    print dataset.grid_labels_test[i,:]\n",
    "    #print \"px shape: \", px.shape, \"py shape\", py.shape\n",
    "    belief_x = np.matlib.repmat(px, 25,1)\n",
    "    belief_y = np.matlib.repmat(py, 1,7)\n",
    "    # print belief_x.shape, belief_y.shape\n",
    "    belief = np.multiply(belief_x, belief_y)\n",
    "    belief = belief / np.sum(belief)\n",
    "    print \"gt: \", dataset.grid_labels_test[i,:], \"x: \", np.argmax(px), \"y: \", np.argmax(py)\n",
    "    qq = dataset.grid_labels_test[i,:] == np.hstack((np.argmax(px), np.argmax(py))) \n",
    "    ss = np.logical_and(qq[0], qq[1])\n",
    "    #print qq, ss\n",
    "    if(ss):\n",
    "        s+=1\n",
    "s/343"
   ]
  },
  {
   "cell_type": "code",
   "execution_count": 36,
   "metadata": {
    "collapsed": true
   },
   "outputs": [],
   "source": [
    "e = localization_error(dataset.grid_labels_test, np.vstack((np.argmax(probx, axis=1), np.argmax(proby, axis=1))).transpose())\n"
   ]
  },
  {
   "cell_type": "code",
   "execution_count": 37,
   "metadata": {
    "collapsed": false
   },
   "outputs": [
    {
     "data": {
      "text/plain": [
       "(343,)"
      ]
     },
     "execution_count": 37,
     "metadata": {},
     "output_type": "execute_result"
    }
   ],
   "source": [
    "e.shape"
   ]
  },
  {
   "cell_type": "code",
   "execution_count": 38,
   "metadata": {
    "collapsed": false
   },
   "outputs": [
    {
     "data": {
      "text/plain": [
       "0.0"
      ]
     },
     "execution_count": 38,
     "metadata": {},
     "output_type": "execute_result"
    }
   ],
   "source": [
    "np.min(e)"
   ]
  },
  {
   "cell_type": "code",
   "execution_count": 39,
   "metadata": {
    "collapsed": false
   },
   "outputs": [
    {
     "data": {
      "text/plain": [
       "19.646882704388499"
      ]
     },
     "execution_count": 39,
     "metadata": {},
     "output_type": "execute_result"
    }
   ],
   "source": [
    "np.max(e)"
   ]
  },
  {
   "cell_type": "code",
   "execution_count": 40,
   "metadata": {
    "collapsed": false
   },
   "outputs": [
    {
     "data": {
      "text/plain": [
       "5.8863938526680331"
      ]
     },
     "execution_count": 40,
     "metadata": {},
     "output_type": "execute_result"
    }
   ],
   "source": [
    "np.mean(e)"
   ]
  },
  {
   "cell_type": "code",
   "execution_count": 42,
   "metadata": {
    "collapsed": false
   },
   "outputs": [
    {
     "data": {
      "text/plain": [
       "(1, 7)"
      ]
     },
     "execution_count": 42,
     "metadata": {},
     "output_type": "execute_result"
    }
   ],
   "source": [
    "px.shape"
   ]
  },
  {
   "cell_type": "code",
   "execution_count": 43,
   "metadata": {
    "collapsed": false
   },
   "outputs": [
    {
     "data": {
      "text/plain": [
       "(343, 7)"
      ]
     },
     "execution_count": 43,
     "metadata": {},
     "output_type": "execute_result"
    }
   ],
   "source": [
    "probx.shape"
   ]
  },
  {
   "cell_type": "code",
   "execution_count": 50,
   "metadata": {
    "collapsed": false
   },
   "outputs": [],
   "source": [
    "predx = np.argmax(probx, axis=1)"
   ]
  },
  {
   "cell_type": "code",
   "execution_count": 51,
   "metadata": {
    "collapsed": true
   },
   "outputs": [],
   "source": [
    "predy = np.argmax(proby, axis=1)"
   ]
  },
  {
   "cell_type": "code",
   "execution_count": 54,
   "metadata": {
    "collapsed": true
   },
   "outputs": [],
   "source": [
    "pred = np.hstack((probx,proby))"
   ]
  },
  {
   "cell_type": "code",
   "execution_count": 53,
   "metadata": {
    "collapsed": false
   },
   "outputs": [
    {
     "data": {
      "text/plain": [
       "(343, 32)"
      ]
     },
     "execution_count": 53,
     "metadata": {},
     "output_type": "execute_result"
    }
   ],
   "source": [
    "pred"
   ]
  },
  {
   "cell_type": "code",
   "execution_count": 55,
   "metadata": {
    "collapsed": false
   },
   "outputs": [
    {
     "data": {
      "text/plain": [
       "(343,)"
      ]
     },
     "execution_count": 55,
     "metadata": {},
     "output_type": "execute_result"
    }
   ],
   "source": [
    "predy.shape"
   ]
  },
  {
   "cell_type": "code",
   "execution_count": 56,
   "metadata": {
    "collapsed": false
   },
   "outputs": [
    {
     "data": {
      "text/plain": [
       "(343,)"
      ]
     },
     "execution_count": 56,
     "metadata": {},
     "output_type": "execute_result"
    }
   ],
   "source": [
    "predx.shape"
   ]
  },
  {
   "cell_type": "code",
   "execution_count": 57,
   "metadata": {
    "collapsed": false
   },
   "outputs": [
    {
     "data": {
      "text/plain": [
       "(343, 32)"
      ]
     },
     "execution_count": 57,
     "metadata": {},
     "output_type": "execute_result"
    }
   ],
   "source": [
    "pred.shape"
   ]
  },
  {
   "cell_type": "code",
   "execution_count": 65,
   "metadata": {
    "collapsed": false
   },
   "outputs": [],
   "source": [
    "pred =np.vstack((predx,predy)).transpose()"
   ]
  },
  {
   "cell_type": "code",
   "execution_count": 66,
   "metadata": {
    "collapsed": false
   },
   "outputs": [
    {
     "data": {
      "text/plain": [
       "(343, 2)"
      ]
     },
     "execution_count": 66,
     "metadata": {},
     "output_type": "execute_result"
    }
   ],
   "source": [
    "pred.shape"
   ]
  },
  {
   "cell_type": "raw",
   "metadata": {},
   "source": [
    "print pred[1,:]"
   ]
  },
  {
   "cell_type": "code",
   "execution_count": 67,
   "metadata": {
    "collapsed": false
   },
   "outputs": [
    {
     "data": {
      "text/plain": [
       "array([[ 0, 18],\n",
       "       [ 6, 11],\n",
       "       [ 6, 19],\n",
       "       [ 6,  1],\n",
       "       [ 5, 11],\n",
       "       [ 0, 18],\n",
       "       [ 5, 19],\n",
       "       [ 5, 11],\n",
       "       [ 0, 20],\n",
       "       [ 6,  8],\n",
       "       [ 3,  3],\n",
       "       [ 0, 17],\n",
       "       [ 6,  1],\n",
       "       [ 5, 15],\n",
       "       [ 0, 17],\n",
       "       [ 1, 12],\n",
       "       [ 0, 21],\n",
       "       [ 6,  8],\n",
       "       [ 6,  9],\n",
       "       [ 6,  1],\n",
       "       [ 0, 18],\n",
       "       [ 5, 11],\n",
       "       [ 0, 20],\n",
       "       [ 1,  1],\n",
       "       [ 0, 21],\n",
       "       [ 0, 17],\n",
       "       [ 5,  3],\n",
       "       [ 1,  1],\n",
       "       [ 5, 10],\n",
       "       [ 4, 19],\n",
       "       [ 6,  1],\n",
       "       [ 4, 15],\n",
       "       [ 6,  1],\n",
       "       [ 0, 18],\n",
       "       [ 5, 19],\n",
       "       [ 5, 19],\n",
       "       [ 1, 12],\n",
       "       [ 5, 12],\n",
       "       [ 0, 17],\n",
       "       [ 1, 12],\n",
       "       [ 0, 24],\n",
       "       [ 6,  3],\n",
       "       [ 6,  8],\n",
       "       [ 6,  1],\n",
       "       [ 1, 12],\n",
       "       [ 6,  8],\n",
       "       [ 1, 12],\n",
       "       [ 1, 12],\n",
       "       [ 1, 12],\n",
       "       [ 0, 17],\n",
       "       [ 6,  8],\n",
       "       [ 6,  1],\n",
       "       [ 0, 21],\n",
       "       [ 6,  9],\n",
       "       [ 6,  9],\n",
       "       [ 0, 19],\n",
       "       [ 5, 11],\n",
       "       [ 0, 17],\n",
       "       [ 1, 12],\n",
       "       [ 6,  1],\n",
       "       [ 5, 11],\n",
       "       [ 6,  9],\n",
       "       [ 6, 19],\n",
       "       [ 1, 12],\n",
       "       [ 0, 17],\n",
       "       [ 6,  8],\n",
       "       [ 0, 17],\n",
       "       [ 5, 11],\n",
       "       [ 0, 17],\n",
       "       [ 5, 11],\n",
       "       [ 5, 15],\n",
       "       [ 0, 17],\n",
       "       [ 2,  4],\n",
       "       [ 3,  0],\n",
       "       [ 5, 19],\n",
       "       [ 5, 11],\n",
       "       [ 6,  8],\n",
       "       [ 6,  4],\n",
       "       [ 0, 18],\n",
       "       [ 3,  1],\n",
       "       [ 0, 20],\n",
       "       [ 5, 11],\n",
       "       [ 0, 21],\n",
       "       [ 1, 12],\n",
       "       [ 4, 19],\n",
       "       [ 6, 11],\n",
       "       [ 5, 11],\n",
       "       [ 0, 21],\n",
       "       [ 1,  1],\n",
       "       [ 6,  8],\n",
       "       [ 0, 18],\n",
       "       [ 1, 11],\n",
       "       [ 5, 21],\n",
       "       [ 6,  4],\n",
       "       [ 0, 19],\n",
       "       [ 5, 11],\n",
       "       [ 5, 19],\n",
       "       [ 0, 17],\n",
       "       [ 5, 19],\n",
       "       [ 0, 19],\n",
       "       [ 5, 19],\n",
       "       [ 0, 18],\n",
       "       [ 6,  1],\n",
       "       [ 1,  1],\n",
       "       [ 5, 15],\n",
       "       [ 6,  8],\n",
       "       [ 6,  3],\n",
       "       [ 0, 17],\n",
       "       [ 0, 18],\n",
       "       [ 0, 18],\n",
       "       [ 3,  2],\n",
       "       [ 6,  1],\n",
       "       [ 3,  0],\n",
       "       [ 6, 19],\n",
       "       [ 3,  1],\n",
       "       [ 0, 21],\n",
       "       [ 0, 18],\n",
       "       [ 0, 17],\n",
       "       [ 0, 19],\n",
       "       [ 1, 12],\n",
       "       [ 1, 12],\n",
       "       [ 5, 11],\n",
       "       [ 6, 19],\n",
       "       [ 5, 15],\n",
       "       [ 0, 21],\n",
       "       [ 0, 21],\n",
       "       [ 3,  0],\n",
       "       [ 4, 19],\n",
       "       [ 3,  3],\n",
       "       [ 5,  9],\n",
       "       [ 3,  0],\n",
       "       [ 1,  1],\n",
       "       [ 6,  1],\n",
       "       [ 0, 21],\n",
       "       [ 5, 15],\n",
       "       [ 0, 18],\n",
       "       [ 5, 19],\n",
       "       [ 6, 17],\n",
       "       [ 0, 19],\n",
       "       [ 5, 11],\n",
       "       [ 6, 19],\n",
       "       [ 5, 15],\n",
       "       [ 6,  8],\n",
       "       [ 5, 19],\n",
       "       [ 6, 18],\n",
       "       [ 6,  8],\n",
       "       [ 3,  3],\n",
       "       [ 0, 17],\n",
       "       [ 1,  1],\n",
       "       [ 5, 11],\n",
       "       [ 5, 19],\n",
       "       [ 0, 18],\n",
       "       [ 1, 12],\n",
       "       [ 5, 15],\n",
       "       [ 6,  3],\n",
       "       [ 0, 17],\n",
       "       [ 6,  1],\n",
       "       [ 4,  9],\n",
       "       [ 6,  8],\n",
       "       [ 6,  1],\n",
       "       [ 6, 19],\n",
       "       [ 0, 17],\n",
       "       [ 5, 15],\n",
       "       [ 5, 15],\n",
       "       [ 6,  8],\n",
       "       [ 0, 24],\n",
       "       [ 5, 15],\n",
       "       [ 0, 17],\n",
       "       [ 6,  8],\n",
       "       [ 6,  3],\n",
       "       [ 0, 21],\n",
       "       [ 6,  9],\n",
       "       [ 6,  1],\n",
       "       [ 0, 17],\n",
       "       [ 5, 19],\n",
       "       [ 3,  3],\n",
       "       [ 5, 15],\n",
       "       [ 0, 18],\n",
       "       [ 5, 19],\n",
       "       [ 5, 15],\n",
       "       [ 6,  9],\n",
       "       [ 1, 17],\n",
       "       [ 6, 18],\n",
       "       [ 6,  5],\n",
       "       [ 1, 12],\n",
       "       [ 1, 12],\n",
       "       [ 0, 18],\n",
       "       [ 3,  3],\n",
       "       [ 4, 19],\n",
       "       [ 4, 19],\n",
       "       [ 0, 17],\n",
       "       [ 6,  9],\n",
       "       [ 0, 21],\n",
       "       [ 6,  9],\n",
       "       [ 5, 19],\n",
       "       [ 1,  1],\n",
       "       [ 5, 11],\n",
       "       [ 5, 15],\n",
       "       [ 5, 11],\n",
       "       [ 0, 18],\n",
       "       [ 5, 19],\n",
       "       [ 0, 18],\n",
       "       [ 6,  8],\n",
       "       [ 5, 15],\n",
       "       [ 6,  8],\n",
       "       [ 6,  8],\n",
       "       [ 2,  9],\n",
       "       [ 2,  9],\n",
       "       [ 6,  9],\n",
       "       [ 0, 18],\n",
       "       [ 6,  9],\n",
       "       [ 1, 11],\n",
       "       [ 5, 19],\n",
       "       [ 0, 18],\n",
       "       [ 0, 20],\n",
       "       [ 0, 17],\n",
       "       [ 1,  1],\n",
       "       [ 0, 20],\n",
       "       [ 6,  1],\n",
       "       [ 3,  2],\n",
       "       [ 1,  1],\n",
       "       [ 0, 17],\n",
       "       [ 0, 17],\n",
       "       [ 1, 12],\n",
       "       [ 5, 15],\n",
       "       [ 6,  1],\n",
       "       [ 3,  0],\n",
       "       [ 6, 13],\n",
       "       [ 3,  8],\n",
       "       [ 6,  9],\n",
       "       [ 0, 21],\n",
       "       [ 0, 17],\n",
       "       [ 5, 12],\n",
       "       [ 6,  8],\n",
       "       [ 0, 24],\n",
       "       [ 3,  3],\n",
       "       [ 5, 15],\n",
       "       [ 5, 11],\n",
       "       [ 5, 19],\n",
       "       [ 1, 12],\n",
       "       [ 3,  0],\n",
       "       [ 6,  8],\n",
       "       [ 0, 17],\n",
       "       [ 1, 12],\n",
       "       [ 0, 20],\n",
       "       [ 1, 12],\n",
       "       [ 5, 15],\n",
       "       [ 6,  8],\n",
       "       [ 5, 19],\n",
       "       [ 6,  8],\n",
       "       [ 6, 19],\n",
       "       [ 1, 12],\n",
       "       [ 1,  1],\n",
       "       [ 6, 12],\n",
       "       [ 0, 21],\n",
       "       [ 6,  8],\n",
       "       [ 6,  1],\n",
       "       [ 0, 17],\n",
       "       [ 1, 12],\n",
       "       [ 0, 21],\n",
       "       [ 6,  8],\n",
       "       [ 6,  9],\n",
       "       [ 1, 12],\n",
       "       [ 6,  1],\n",
       "       [ 0, 21],\n",
       "       [ 5, 19],\n",
       "       [ 6,  8],\n",
       "       [ 6,  9],\n",
       "       [ 6,  8],\n",
       "       [ 5, 15],\n",
       "       [ 6,  9],\n",
       "       [ 6, 19],\n",
       "       [ 6, 19],\n",
       "       [ 5, 19],\n",
       "       [ 6,  9],\n",
       "       [ 5, 11],\n",
       "       [ 0, 18],\n",
       "       [ 0, 21],\n",
       "       [ 3, 10],\n",
       "       [ 0, 17],\n",
       "       [ 0, 21],\n",
       "       [ 5, 19],\n",
       "       [ 0, 19],\n",
       "       [ 1, 12],\n",
       "       [ 5, 15],\n",
       "       [ 5, 10],\n",
       "       [ 6,  8],\n",
       "       [ 1, 12],\n",
       "       [ 0, 18],\n",
       "       [ 6,  9],\n",
       "       [ 5, 11],\n",
       "       [ 6, 19],\n",
       "       [ 5, 19],\n",
       "       [ 5, 10],\n",
       "       [ 5, 19],\n",
       "       [ 6, 19],\n",
       "       [ 0, 20],\n",
       "       [ 1, 12],\n",
       "       [ 6, 17],\n",
       "       [ 6,  9],\n",
       "       [ 6, 19],\n",
       "       [ 3,  3],\n",
       "       [ 6,  9],\n",
       "       [ 2,  9],\n",
       "       [ 1, 12],\n",
       "       [ 3,  3],\n",
       "       [ 6, 19],\n",
       "       [ 5, 11],\n",
       "       [ 0, 20],\n",
       "       [ 5, 15],\n",
       "       [ 0, 19],\n",
       "       [ 5, 15],\n",
       "       [ 6,  9],\n",
       "       [ 5, 11],\n",
       "       [ 4,  9],\n",
       "       [ 3,  0],\n",
       "       [ 5, 15],\n",
       "       [ 4, 19],\n",
       "       [ 5, 15],\n",
       "       [ 0, 19],\n",
       "       [ 5, 21],\n",
       "       [ 0, 17],\n",
       "       [ 6,  9],\n",
       "       [ 0, 17],\n",
       "       [ 6, 19],\n",
       "       [ 1,  2],\n",
       "       [ 5, 19],\n",
       "       [ 6, 19],\n",
       "       [ 6,  9],\n",
       "       [ 6, 19],\n",
       "       [ 5, 11],\n",
       "       [ 0, 18],\n",
       "       [ 1,  1],\n",
       "       [ 4, 19],\n",
       "       [ 0, 21],\n",
       "       [ 0, 24],\n",
       "       [ 0, 17],\n",
       "       [ 0, 21],\n",
       "       [ 0, 21],\n",
       "       [ 6,  1],\n",
       "       [ 6,  8],\n",
       "       [ 6,  8],\n",
       "       [ 5, 11]])"
      ]
     },
     "execution_count": 67,
     "metadata": {},
     "output_type": "execute_result"
    }
   ],
   "source": [
    "pred"
   ]
  },
  {
   "cell_type": "code",
   "execution_count": 69,
   "metadata": {
    "collapsed": false
   },
   "outputs": [
    {
     "data": {
      "text/plain": [
       "array([ 0, 18])"
      ]
     },
     "execution_count": 69,
     "metadata": {},
     "output_type": "execute_result"
    }
   ],
   "source": [
    "pred[0,:]"
   ]
  },
  {
   "cell_type": "code",
   "execution_count": 71,
   "metadata": {
    "collapsed": false
   },
   "outputs": [
    {
     "ename": "ValueError",
     "evalue": "Target is multiclass but average='binary'. Please choose another average setting.",
     "output_type": "error",
     "traceback": [
      "\u001b[0;31m---------------------------------------------------------------------------\u001b[0m",
      "\u001b[0;31mValueError\u001b[0m                                Traceback (most recent call last)",
      "\u001b[0;32m<ipython-input-71-c9b6309f59bb>\u001b[0m in \u001b[0;36m<module>\u001b[0;34m()\u001b[0m\n\u001b[0;32m----> 1\u001b[0;31m \u001b[0msklearn\u001b[0m\u001b[0;34m.\u001b[0m\u001b[0mmetrics\u001b[0m\u001b[0;34m.\u001b[0m\u001b[0mprecision_score\u001b[0m\u001b[0;34m(\u001b[0m\u001b[0mdataset\u001b[0m\u001b[0;34m.\u001b[0m\u001b[0mgrid_labels_test\u001b[0m\u001b[0;34m[\u001b[0m\u001b[0;34m:\u001b[0m\u001b[0;34m,\u001b[0m\u001b[0;36m0\u001b[0m\u001b[0;34m]\u001b[0m\u001b[0;34m,\u001b[0m \u001b[0mpredx\u001b[0m\u001b[0;34m)\u001b[0m\u001b[0;34m\u001b[0m\u001b[0m\n\u001b[0m",
      "\u001b[0;32m/usr/local/lib/python2.7/dist-packages/sklearn/metrics/classification.pyc\u001b[0m in \u001b[0;36mprecision_score\u001b[0;34m(y_true, y_pred, labels, pos_label, average, sample_weight)\u001b[0m\n\u001b[1;32m   1237\u001b[0m                                                  \u001b[0maverage\u001b[0m\u001b[0;34m=\u001b[0m\u001b[0maverage\u001b[0m\u001b[0;34m,\u001b[0m\u001b[0;34m\u001b[0m\u001b[0m\n\u001b[1;32m   1238\u001b[0m                                                  \u001b[0mwarn_for\u001b[0m\u001b[0;34m=\u001b[0m\u001b[0;34m(\u001b[0m\u001b[0;34m'precision'\u001b[0m\u001b[0;34m,\u001b[0m\u001b[0;34m)\u001b[0m\u001b[0;34m,\u001b[0m\u001b[0;34m\u001b[0m\u001b[0m\n\u001b[0;32m-> 1239\u001b[0;31m                                                  sample_weight=sample_weight)\n\u001b[0m\u001b[1;32m   1240\u001b[0m     \u001b[0;32mreturn\u001b[0m \u001b[0mp\u001b[0m\u001b[0;34m\u001b[0m\u001b[0m\n\u001b[1;32m   1241\u001b[0m \u001b[0;34m\u001b[0m\u001b[0m\n",
      "\u001b[0;32m/usr/local/lib/python2.7/dist-packages/sklearn/metrics/classification.pyc\u001b[0m in \u001b[0;36mprecision_recall_fscore_support\u001b[0;34m(y_true, y_pred, beta, labels, pos_label, average, warn_for, sample_weight)\u001b[0m\n\u001b[1;32m   1016\u001b[0m         \u001b[0;32melse\u001b[0m\u001b[0;34m:\u001b[0m\u001b[0;34m\u001b[0m\u001b[0m\n\u001b[1;32m   1017\u001b[0m             raise ValueError(\"Target is %s but average='binary'. Please \"\n\u001b[0;32m-> 1018\u001b[0;31m                              \"choose another average setting.\" % y_type)\n\u001b[0m\u001b[1;32m   1019\u001b[0m     \u001b[0;32melif\u001b[0m \u001b[0mpos_label\u001b[0m \u001b[0;32mnot\u001b[0m \u001b[0;32min\u001b[0m \u001b[0;34m(\u001b[0m\u001b[0mNone\u001b[0m\u001b[0;34m,\u001b[0m \u001b[0;36m1\u001b[0m\u001b[0;34m)\u001b[0m\u001b[0;34m:\u001b[0m\u001b[0;34m\u001b[0m\u001b[0m\n\u001b[1;32m   1020\u001b[0m         warnings.warn(\"Note that pos_label (set to %r) is ignored when \"\n",
      "\u001b[0;31mValueError\u001b[0m: Target is multiclass but average='binary'. Please choose another average setting."
     ]
    }
   ],
   "source": [
    "sklearn.metrics.precision_score(dataset.grid_labels_test[:,0], predx)"
   ]
  },
  {
   "cell_type": "code",
   "execution_count": 72,
   "metadata": {
    "collapsed": false
   },
   "outputs": [
    {
     "data": {
      "text/plain": [
       "0.30612244897959184"
      ]
     },
     "execution_count": 72,
     "metadata": {},
     "output_type": "execute_result"
    }
   ],
   "source": [
    "accx"
   ]
  },
  {
   "cell_type": "code",
   "execution_count": 73,
   "metadata": {
    "collapsed": false
   },
   "outputs": [
    {
     "data": {
      "text/plain": [
       "0.087463556851311949"
      ]
     },
     "execution_count": 73,
     "metadata": {},
     "output_type": "execute_result"
    }
   ],
   "source": [
    "accy"
   ]
  },
  {
   "cell_type": "code",
   "execution_count": 74,
   "metadata": {
    "collapsed": false
   },
   "outputs": [
    {
     "data": {
      "text/plain": [
       "array([0, 6, 6, 6, 5, 0, 5, 5, 0, 6, 3, 0, 6, 5, 0, 1, 0, 6, 6, 6, 0, 5, 0,\n",
       "       1, 0, 0, 5, 1, 5, 4, 6, 4, 6, 0, 5, 5, 1, 5, 0, 1, 0, 6, 6, 6, 1, 6,\n",
       "       1, 1, 1, 0, 6, 6, 0, 6, 6, 0, 5, 0, 1, 6, 5, 6, 6, 1, 0, 6, 0, 5, 0,\n",
       "       5, 5, 0, 2, 3, 5, 5, 6, 6, 0, 3, 0, 5, 0, 1, 4, 6, 5, 0, 1, 6, 0, 1,\n",
       "       5, 6, 0, 5, 5, 0, 5, 0, 5, 0, 6, 1, 5, 6, 6, 0, 0, 0, 3, 6, 3, 6, 3,\n",
       "       0, 0, 0, 0, 1, 1, 5, 6, 5, 0, 0, 3, 4, 3, 5, 3, 1, 6, 0, 5, 0, 5, 6,\n",
       "       0, 5, 6, 5, 6, 5, 6, 6, 3, 0, 1, 5, 5, 0, 1, 5, 6, 0, 6, 4, 6, 6, 6,\n",
       "       0, 5, 5, 6, 0, 5, 0, 6, 6, 0, 6, 6, 0, 5, 3, 5, 0, 5, 5, 6, 1, 6, 6,\n",
       "       1, 1, 0, 3, 4, 4, 0, 6, 0, 6, 5, 1, 5, 5, 5, 0, 5, 0, 6, 5, 6, 6, 2,\n",
       "       2, 6, 0, 6, 1, 5, 0, 0, 0, 1, 0, 6, 3, 1, 0, 0, 1, 5, 6, 3, 6, 3, 6,\n",
       "       0, 0, 5, 6, 0, 3, 5, 5, 5, 1, 3, 6, 0, 1, 0, 1, 5, 6, 5, 6, 6, 1, 1,\n",
       "       6, 0, 6, 6, 0, 1, 0, 6, 6, 1, 6, 0, 5, 6, 6, 6, 5, 6, 6, 6, 5, 6, 5,\n",
       "       0, 0, 3, 0, 0, 5, 0, 1, 5, 5, 6, 1, 0, 6, 5, 6, 5, 5, 5, 6, 0, 1, 6,\n",
       "       6, 6, 3, 6, 2, 1, 3, 6, 5, 0, 5, 0, 5, 6, 5, 4, 3, 5, 4, 5, 0, 5, 0,\n",
       "       6, 0, 6, 1, 5, 6, 6, 6, 5, 0, 1, 4, 0, 0, 0, 0, 0, 6, 6, 6, 5])"
      ]
     },
     "execution_count": 74,
     "metadata": {},
     "output_type": "execute_result"
    }
   ],
   "source": [
    "predx"
   ]
  },
  {
   "cell_type": "code",
   "execution_count": 76,
   "metadata": {
    "collapsed": false
   },
   "outputs": [
    {
     "ename": "ValueError",
     "evalue": "Target is multiclass but average='binary'. Please choose another average setting.",
     "output_type": "error",
     "traceback": [
      "\u001b[0;31m---------------------------------------------------------------------------\u001b[0m",
      "\u001b[0;31mValueError\u001b[0m                                Traceback (most recent call last)",
      "\u001b[0;32m<ipython-input-76-c9b6309f59bb>\u001b[0m in \u001b[0;36m<module>\u001b[0;34m()\u001b[0m\n\u001b[0;32m----> 1\u001b[0;31m \u001b[0msklearn\u001b[0m\u001b[0;34m.\u001b[0m\u001b[0mmetrics\u001b[0m\u001b[0;34m.\u001b[0m\u001b[0mprecision_score\u001b[0m\u001b[0;34m(\u001b[0m\u001b[0mdataset\u001b[0m\u001b[0;34m.\u001b[0m\u001b[0mgrid_labels_test\u001b[0m\u001b[0;34m[\u001b[0m\u001b[0;34m:\u001b[0m\u001b[0;34m,\u001b[0m\u001b[0;36m0\u001b[0m\u001b[0;34m]\u001b[0m\u001b[0;34m,\u001b[0m \u001b[0mpredx\u001b[0m\u001b[0;34m)\u001b[0m\u001b[0;34m\u001b[0m\u001b[0m\n\u001b[0m",
      "\u001b[0;32m/usr/local/lib/python2.7/dist-packages/sklearn/metrics/classification.pyc\u001b[0m in \u001b[0;36mprecision_score\u001b[0;34m(y_true, y_pred, labels, pos_label, average, sample_weight)\u001b[0m\n\u001b[1;32m   1237\u001b[0m                                                  \u001b[0maverage\u001b[0m\u001b[0;34m=\u001b[0m\u001b[0maverage\u001b[0m\u001b[0;34m,\u001b[0m\u001b[0;34m\u001b[0m\u001b[0m\n\u001b[1;32m   1238\u001b[0m                                                  \u001b[0mwarn_for\u001b[0m\u001b[0;34m=\u001b[0m\u001b[0;34m(\u001b[0m\u001b[0;34m'precision'\u001b[0m\u001b[0;34m,\u001b[0m\u001b[0;34m)\u001b[0m\u001b[0;34m,\u001b[0m\u001b[0;34m\u001b[0m\u001b[0m\n\u001b[0;32m-> 1239\u001b[0;31m                                                  sample_weight=sample_weight)\n\u001b[0m\u001b[1;32m   1240\u001b[0m     \u001b[0;32mreturn\u001b[0m \u001b[0mp\u001b[0m\u001b[0;34m\u001b[0m\u001b[0m\n\u001b[1;32m   1241\u001b[0m \u001b[0;34m\u001b[0m\u001b[0m\n",
      "\u001b[0;32m/usr/local/lib/python2.7/dist-packages/sklearn/metrics/classification.pyc\u001b[0m in \u001b[0;36mprecision_recall_fscore_support\u001b[0;34m(y_true, y_pred, beta, labels, pos_label, average, warn_for, sample_weight)\u001b[0m\n\u001b[1;32m   1016\u001b[0m         \u001b[0;32melse\u001b[0m\u001b[0;34m:\u001b[0m\u001b[0;34m\u001b[0m\u001b[0m\n\u001b[1;32m   1017\u001b[0m             raise ValueError(\"Target is %s but average='binary'. Please \"\n\u001b[0;32m-> 1018\u001b[0;31m                              \"choose another average setting.\" % y_type)\n\u001b[0m\u001b[1;32m   1019\u001b[0m     \u001b[0;32melif\u001b[0m \u001b[0mpos_label\u001b[0m \u001b[0;32mnot\u001b[0m \u001b[0;32min\u001b[0m \u001b[0;34m(\u001b[0m\u001b[0mNone\u001b[0m\u001b[0;34m,\u001b[0m \u001b[0;36m1\u001b[0m\u001b[0;34m)\u001b[0m\u001b[0;34m:\u001b[0m\u001b[0;34m\u001b[0m\u001b[0m\n\u001b[1;32m   1020\u001b[0m         warnings.warn(\"Note that pos_label (set to %r) is ignored when \"\n",
      "\u001b[0;31mValueError\u001b[0m: Target is multiclass but average='binary'. Please choose another average setting."
     ]
    }
   ],
   "source": [
    "sklearn.metrics.precision_score(dataset.grid_labels_test[:,0], predx)"
   ]
  },
  {
   "cell_type": "raw",
   "metadata": {},
   "source": [
    "print predx"
   ]
  },
  {
   "cell_type": "raw",
   "metadata": {},
   "source": [
    "print predx"
   ]
  },
  {
   "cell_type": "code",
   "execution_count": 78,
   "metadata": {
    "collapsed": false
   },
   "outputs": [
    {
     "data": {
      "text/plain": [
       "(343,)"
      ]
     },
     "execution_count": 78,
     "metadata": {},
     "output_type": "execute_result"
    }
   ],
   "source": [
    "predx.shape"
   ]
  },
  {
   "cell_type": "code",
   "execution_count": 79,
   "metadata": {
    "collapsed": false
   },
   "outputs": [
    {
     "ename": "ValueError",
     "evalue": "Sample-based precision, recall, fscore is not meaningful outside multilabel classification. See the accuracy_score instead.",
     "output_type": "error",
     "traceback": [
      "\u001b[0;31m---------------------------------------------------------------------------\u001b[0m",
      "\u001b[0;31mValueError\u001b[0m                                Traceback (most recent call last)",
      "\u001b[0;32m<ipython-input-79-dc094a458aca>\u001b[0m in \u001b[0;36m<module>\u001b[0;34m()\u001b[0m\n\u001b[0;32m----> 1\u001b[0;31m \u001b[0msklearn\u001b[0m\u001b[0;34m.\u001b[0m\u001b[0mmetrics\u001b[0m\u001b[0;34m.\u001b[0m\u001b[0mprecision_score\u001b[0m\u001b[0;34m(\u001b[0m\u001b[0mdataset\u001b[0m\u001b[0;34m.\u001b[0m\u001b[0mgrid_labels_test\u001b[0m\u001b[0;34m[\u001b[0m\u001b[0;34m:\u001b[0m\u001b[0;34m,\u001b[0m\u001b[0;36m0\u001b[0m\u001b[0;34m]\u001b[0m\u001b[0;34m,\u001b[0m \u001b[0mpredx\u001b[0m\u001b[0;34m,\u001b[0m \u001b[0maverage\u001b[0m\u001b[0;34m=\u001b[0m\u001b[0;34m\"samples\"\u001b[0m\u001b[0;34m)\u001b[0m\u001b[0;34m\u001b[0m\u001b[0m\n\u001b[0m",
      "\u001b[0;32m/usr/local/lib/python2.7/dist-packages/sklearn/metrics/classification.pyc\u001b[0m in \u001b[0;36mprecision_score\u001b[0;34m(y_true, y_pred, labels, pos_label, average, sample_weight)\u001b[0m\n\u001b[1;32m   1237\u001b[0m                                                  \u001b[0maverage\u001b[0m\u001b[0;34m=\u001b[0m\u001b[0maverage\u001b[0m\u001b[0;34m,\u001b[0m\u001b[0;34m\u001b[0m\u001b[0m\n\u001b[1;32m   1238\u001b[0m                                                  \u001b[0mwarn_for\u001b[0m\u001b[0;34m=\u001b[0m\u001b[0;34m(\u001b[0m\u001b[0;34m'precision'\u001b[0m\u001b[0;34m,\u001b[0m\u001b[0;34m)\u001b[0m\u001b[0;34m,\u001b[0m\u001b[0;34m\u001b[0m\u001b[0m\n\u001b[0;32m-> 1239\u001b[0;31m                                                  sample_weight=sample_weight)\n\u001b[0m\u001b[1;32m   1240\u001b[0m     \u001b[0;32mreturn\u001b[0m \u001b[0mp\u001b[0m\u001b[0;34m\u001b[0m\u001b[0m\n\u001b[1;32m   1241\u001b[0m \u001b[0;34m\u001b[0m\u001b[0m\n",
      "\u001b[0;32m/usr/local/lib/python2.7/dist-packages/sklearn/metrics/classification.pyc\u001b[0m in \u001b[0;36mprecision_recall_fscore_support\u001b[0;34m(y_true, y_pred, beta, labels, pos_label, average, warn_for, sample_weight)\u001b[0m\n\u001b[1;32m   1060\u001b[0m \u001b[0;34m\u001b[0m\u001b[0m\n\u001b[1;32m   1061\u001b[0m     \u001b[0;32melif\u001b[0m \u001b[0maverage\u001b[0m \u001b[0;34m==\u001b[0m \u001b[0;34m'samples'\u001b[0m\u001b[0;34m:\u001b[0m\u001b[0;34m\u001b[0m\u001b[0m\n\u001b[0;32m-> 1062\u001b[0;31m         raise ValueError(\"Sample-based precision, recall, fscore is \"\n\u001b[0m\u001b[1;32m   1063\u001b[0m                          \u001b[0;34m\"not meaningful outside multilabel \"\u001b[0m\u001b[0;34m\u001b[0m\u001b[0m\n\u001b[1;32m   1064\u001b[0m                          \"classification. See the accuracy_score instead.\")\n",
      "\u001b[0;31mValueError\u001b[0m: Sample-based precision, recall, fscore is not meaningful outside multilabel classification. See the accuracy_score instead."
     ]
    }
   ],
   "source": [
    "sklearn.metrics.precision_score(dataset.grid_labels_test[:,0], predx, average=\"samples\")"
   ]
  },
  {
   "cell_type": "code",
   "execution_count": 80,
   "metadata": {
    "collapsed": false
   },
   "outputs": [
    {
     "data": {
      "text/plain": [
       "array([ 0.36666667,  0.43902439,  0.        ,  0.19047619,  0.4       ,\n",
       "        0.32051282,  0.21212121])"
      ]
     },
     "execution_count": 80,
     "metadata": {},
     "output_type": "execute_result"
    }
   ],
   "source": [
    "sklearn.metrics.precision_score(dataset.grid_labels_test[:,0], predx, average=None)"
   ]
  },
  {
   "cell_type": "code",
   "execution_count": 81,
   "metadata": {
    "collapsed": false
   },
   "outputs": [
    {
     "data": {
      "text/plain": [
       "0.27554304000297031"
      ]
     },
     "execution_count": 81,
     "metadata": {},
     "output_type": "execute_result"
    }
   ],
   "source": [
    "np.mean(sklearn.metrics.precision_score(dataset.grid_labels_test[:,0], predx, average=None))"
   ]
  },
  {
   "cell_type": "code",
   "execution_count": 82,
   "metadata": {
    "collapsed": false
   },
   "outputs": [
    {
     "name": "stderr",
     "output_type": "stream",
     "text": [
      "/usr/local/lib/python2.7/dist-packages/sklearn/metrics/classification.py:1113: UndefinedMetricWarning: Precision is ill-defined and being set to 0.0 in labels with no predicted samples.\n",
      "  'precision', 'predicted', average, warn_for)\n"
     ]
    },
    {
     "data": {
      "text/plain": [
       "array([ 0.14285714,  0.09375   ,  0.        ,  0.        ,  0.        ,\n",
       "        1.        ,  0.        ,  0.        ,  0.        ,  0.18518519,\n",
       "        0.25      ,  0.03703704,  0.06896552,  0.        ,  0.        ,\n",
       "        0.16666667,  0.        ,  0.03125   ,  0.        ,  0.05555556,\n",
       "        0.25      ,  0.22727273,  0.        ,  0.        ,  0.25      ])"
      ]
     },
     "execution_count": 82,
     "metadata": {},
     "output_type": "execute_result"
    }
   ],
   "source": [
    "sklearn.metrics.precision_score(dataset.grid_labels_test[:,1], predy, average=None)"
   ]
  },
  {
   "cell_type": "code",
   "execution_count": 83,
   "metadata": {
    "collapsed": false
   },
   "outputs": [
    {
     "data": {
      "text/plain": [
       "0.27554304000297031"
      ]
     },
     "execution_count": 83,
     "metadata": {},
     "output_type": "execute_result"
    }
   ],
   "source": [
    "np.mean(sklearn.metrics.precision_score(dataset.grid_labels_test[:,0], predx, average=None))"
   ]
  },
  {
   "cell_type": "code",
   "execution_count": 85,
   "metadata": {
    "collapsed": false
   },
   "outputs": [
    {
     "data": {
      "text/plain": [
       "0.11034159327262776"
      ]
     },
     "execution_count": 85,
     "metadata": {},
     "output_type": "execute_result"
    }
   ],
   "source": [
    "np.mean(sklearn.metrics.precision_score(dataset.grid_labels_test[:,1], predy, average=None))"
   ]
  },
  {
   "cell_type": "code",
   "execution_count": 86,
   "metadata": {
    "collapsed": false
   },
   "outputs": [
    {
     "data": {
      "text/plain": [
       "0.30612244897959184"
      ]
     },
     "execution_count": 86,
     "metadata": {},
     "output_type": "execute_result"
    }
   ],
   "source": [
    "accx"
   ]
  },
  {
   "cell_type": "code",
   "execution_count": 87,
   "metadata": {
    "collapsed": false
   },
   "outputs": [
    {
     "data": {
      "text/plain": [
       "0.087463556851311949"
      ]
     },
     "execution_count": 87,
     "metadata": {},
     "output_type": "execute_result"
    }
   ],
   "source": [
    "accy"
   ]
  },
  {
   "cell_type": "code",
   "execution_count": 88,
   "metadata": {
    "collapsed": false
   },
   "outputs": [
    {
     "data": {
      "text/plain": [
       "0.28895126117725672"
      ]
     },
     "execution_count": 88,
     "metadata": {},
     "output_type": "execute_result"
    }
   ],
   "source": [
    "np.mean(sklearn.metrics.recall_score(dataset.grid_labels_test[:,0], predx, average=None))"
   ]
  },
  {
   "cell_type": "code",
   "execution_count": 89,
   "metadata": {
    "collapsed": false
   },
   "outputs": [
    {
     "data": {
      "text/plain": [
       "0.11034159327262776"
      ]
     },
     "execution_count": 89,
     "metadata": {},
     "output_type": "execute_result"
    }
   ],
   "source": [
    "np.mean(sklearn.metrics.precision_score(dataset.grid_labels_test[:,1], predy, average=None))"
   ]
  },
  {
   "cell_type": "code",
   "execution_count": 90,
   "metadata": {
    "collapsed": false
   },
   "outputs": [
    {
     "data": {
      "text/plain": [
       "0.087074384679647829"
      ]
     },
     "execution_count": 90,
     "metadata": {},
     "output_type": "execute_result"
    }
   ],
   "source": [
    "np.mean(sklearn.metrics.recall_score(dataset.grid_labels_test[:,1], predy, average=None))"
   ]
  },
  {
   "cell_type": "code",
   "execution_count": 91,
   "metadata": {
    "collapsed": false
   },
   "outputs": [
    {
     "data": {
      "text/plain": [
       "8"
      ]
     },
     "execution_count": 91,
     "metadata": {},
     "output_type": "execute_result"
    }
   ],
   "source": [
    "s"
   ]
  },
  {
   "cell_type": "code",
   "execution_count": 92,
   "metadata": {
    "collapsed": false
   },
   "outputs": [
    {
     "name": "stdout",
     "output_type": "stream",
     "text": [
      "11.7881296226 0.897959183673\n"
     ]
    }
   ],
   "source": [
    "bins, counts, f = cdf(e, 100)\n",
    "bins = bins[1:]\n",
    "min_id = np.argmin(np.abs(f - 0.9))\n",
    "print bins[min_id], f[min_id]\n",
    "plt.plot(bins, f)\n",
    "plt.grid(b=True, which='minor', color='r', linestyle='-', alpha=0.2)\n",
    "plt.minorticks_on()\n",
    "plt.show()"
   ]
  },
  {
   "cell_type": "code",
   "execution_count": 93,
   "metadata": {
    "collapsed": false
   },
   "outputs": [
    {
     "ename": "SyntaxError",
     "evalue": "invalid syntax (<ipython-input-93-392288dd6f82>, line 1)",
     "output_type": "error",
     "traceback": [
      "\u001b[0;36m  File \u001b[0;32m\"<ipython-input-93-392288dd6f82>\"\u001b[0;36m, line \u001b[0;32m1\u001b[0m\n\u001b[0;31m    ldpl_joint = np.array((13.2510264318575\t14.9893681679488\t16.1700593400152\t12.9480748772734\t12.9964186853027\t11.6165561128130\t9.87258804675318\t10.0004276456578\t12.0394612489648\t10.6306923953156\t11.2714270288609\t10.7340632190587\t6.85591114097756\t10.0191172717885\t10.3405251059876\t10.8080480160988\t10.6083556108702\t7.47933356776918\t8.18031258896091\t9.64711466984599\t9.22761097835699\t9.25554368318021\t9.00937824826859\t11.1635786837236\t9.34395564239751\t10.6467836915683\t10.4073725585048\t8.23166005925242\t12.6604600565866\t9.09793765499117\t10.4828759110095\t8.15994200596270\t8.49035586387743\t7.77519329363293\t8.82833553003932\t10.7119046507239\t5.62399583330777\t7.40199912978779\t6.17294627533988\t7.35404215037471\t4.89478889220396\t7.68869613594711\t5.67128789729284\t4.50536291211913\tnp.nan\t5.69897021785755\t8.29849834815231\t4.90482875831842\t9.95068865005027\t4.34914970577455\t4.23738140140945\t6.17756373335149\t6.93414737687737\t5.52934571750844\t8.48513277641297\t4.86795202431925\t2.75631144167450\t7.12131442379981\t4.15631533754784\t9.08810719195538\t3.23639179564295\t3.03606159968154\t2.92846062165080\t4.32456957388232\t1.50537052759014\t2.44062095019210\t3.58907712039995\t6.16097120369510\t5.22983652109448\t3.54352146418285\t2.83230024604428\t5.24028171471484\t3.49326242760503\t3.30663905085163\t4.37529682174252\t2.07748798082329\t2.60213344659466\t5.95379650117632\t3.99552205883661\t1.04291165033661\t2.94104672619242\t0.318738375867059\t2.09092416516711\t2.78288289587020\t4.29245437856404\t2.47884301015422\t3.73543668609265\t1.18505721418386\t3.99363354243631\t2.88028592952713\t1.09773487744587\t9.00473329609362\t1.41974436054764\t1.25034656439547\t4.90234786107604\t6.90841642984103\t0.710663474357340\t4.65594119164751\t4.28531493279498\t2.49364844176046\t9.56336729741073\t3.24325186417288\t1.27060107097494\t3.59494914838388\t7.22478563578355\t5.86139192888617\t5.82757326962160\t3.33740896917291\t3.21647008812653\t1.55998079998170\t5.55153637988186\t4.64317176039482\t11.3056904798819\t8.93083609290333\tnp.nan\t4.43834515896954\t4.06636872321896\t1.91931005426642\t5.24666370048571\t5.55177747751193\t10.5299585830915\t4.11069400884111\t5.91995597368467\t4.39990197544386\t3.50117302120080\t7.45404757591254\t8.33294848287958\t5.34386122045249\t11.8964883079406\t7.15577882871285\t5.51956344249666\t7.99142890980480\t5.93080624425842\t8.45232365511315\t7.49541591341740\t5.16407686573824\t7.39975386802367\t4.87279816108130\t9.33864183809120\t4.75535097587758\t7.49089812502274\t8.69958680211042\t6.97551944338098\t8.08736150236295\t6.94207586250742\t7.00692446075230\t6.82670877775403\t8.67032258505448\t7.44830063169332\t6.68941502295000\t9.63282003405974\t8.19286369187143\t10.9052085983262\t5.30639233538977\t9.56313298140363\t10.3967819160835\tnp.nan\tnp.nan\tnp.nan\t11.7114645667025\t12.7248604831159\t11.0557967403117\t11.7383882459974\tnp.nan\tnp.nan\tnp.nan\t9.77383796390541\t12.0251602593006\t13.6092815217801\t12.6019787027883\tnp.nan\tnp.nan\tnp.nan\t7.93158273338898\t10.7360217778744))\u001b[0m\n\u001b[0m                                           \t               ^\u001b[0m\n\u001b[0;31mSyntaxError\u001b[0m\u001b[0;31m:\u001b[0m invalid syntax\n"
     ]
    }
   ],
   "source": []
  },
  {
   "cell_type": "code",
   "execution_count": 94,
   "metadata": {
    "collapsed": false
   },
   "outputs": [
    {
     "ename": "SyntaxError",
     "evalue": "invalid syntax (<ipython-input-94-98fc0d799f14>, line 1)",
     "output_type": "error",
     "traceback": [
      "\u001b[0;36m  File \u001b[0;32m\"<ipython-input-94-98fc0d799f14>\"\u001b[0;36m, line \u001b[0;32m1\u001b[0m\n\u001b[0;31m    e_joint = np.array([13.2510264318575\t14.9893681679488\t16.1700593400152\t12.9480748772734\t12.9964186853027\t11.6165561128130\t9.87258804675318\t10.0004276456578\t12.0394612489648\t10.6306923953156\t11.2714270288609\t10.7340632190587\t6.85591114097756\t10.0191172717885\t10.3405251059876\t10.8080480160988\t10.6083556108702\t7.47933356776918\t8.18031258896091\t9.64711466984599\t9.22761097835699\t9.25554368318021\t9.00937824826859\t11.1635786837236\t9.34395564239751\t10.6467836915683\t10.4073725585048\t8.23166005925242\t12.6604600565866\t9.09793765499117\t10.4828759110095\t8.15994200596270\t8.49035586387743\t7.77519329363293\t8.82833553003932\t10.7119046507239\t5.62399583330777\t7.40199912978779\t6.17294627533988\t7.35404215037471\t4.89478889220396\t7.68869613594711\t5.67128789729284\t4.50536291211913\tnp.nan\t5.69897021785755\t8.29849834815231\t4.90482875831842\t9.95068865005027\t4.34914970577455\t4.23738140140945\t6.17756373335149\t6.93414737687737\t5.52934571750844\t8.48513277641297\t4.86795202431925\t2.75631144167450\t7.12131442379981\t4.15631533754784\t9.08810719195538\t3.23639179564295\t3.03606159968154\t2.92846062165080\t4.32456957388232\t1.50537052759014\t2.44062095019210\t3.58907712039995\t6.16097120369510\t5.22983652109448\t3.54352146418285\t2.83230024604428\t5.24028171471484\t3.49326242760503\t3.30663905085163\t4.37529682174252\t2.07748798082329\t2.60213344659466\t5.95379650117632\t3.99552205883661\t1.04291165033661\t2.94104672619242\t0.318738375867059\t2.09092416516711\t2.78288289587020\t4.29245437856404\t2.47884301015422\t3.73543668609265\t1.18505721418386\t3.99363354243631\t2.88028592952713\t1.09773487744587\t9.00473329609362\t1.41974436054764\t1.25034656439547\t4.90234786107604\t6.90841642984103\t0.710663474357340\t4.65594119164751\t4.28531493279498\t2.49364844176046\t9.56336729741073\t3.24325186417288\t1.27060107097494\t3.59494914838388\t7.22478563578355\t5.86139192888617\t5.82757326962160\t3.33740896917291\t3.21647008812653\t1.55998079998170\t5.55153637988186\t4.64317176039482\t11.3056904798819\t8.93083609290333\tnp.nan\t4.43834515896954\t4.06636872321896\t1.91931005426642\t5.24666370048571\t5.55177747751193\t10.5299585830915\t4.11069400884111\t5.91995597368467\t4.39990197544386\t3.50117302120080\t7.45404757591254\t8.33294848287958\t5.34386122045249\t11.8964883079406\t7.15577882871285\t5.51956344249666\t7.99142890980480\t5.93080624425842\t8.45232365511315\t7.49541591341740\t5.16407686573824\t7.39975386802367\t4.87279816108130\t9.33864183809120\t4.75535097587758\t7.49089812502274\t8.69958680211042\t6.97551944338098\t8.08736150236295\t6.94207586250742\t7.00692446075230\t6.82670877775403\t8.67032258505448\t7.44830063169332\t6.68941502295000\t9.63282003405974\t8.19286369187143\t10.9052085983262\t5.30639233538977\t9.56313298140363\t10.3967819160835\tnp.nan\tnp.nan\tnp.nan\t11.7114645667025\t12.7248604831159\t11.0557967403117\t11.7383882459974\tnp.nan\tnp.nan\tnp.nan\t9.77383796390541\t12.0251602593006\t13.6092815217801\t12.6019787027883\tnp.nan\tnp.nan\tnp.nan\t7.93158273338898\t10.7360217778744])\u001b[0m\n\u001b[0m                                        \t               ^\u001b[0m\n\u001b[0;31mSyntaxError\u001b[0m\u001b[0;31m:\u001b[0m invalid syntax\n"
     ]
    }
   ],
   "source": [
    "e_joint = np.array([13.2510264318575\t14.9893681679488\t16.1700593400152\t12.9480748772734\t12.9964186853027\t11.6165561128130\t9.87258804675318\t10.0004276456578\t12.0394612489648\t10.6306923953156\t11.2714270288609\t10.7340632190587\t6.85591114097756\t10.0191172717885\t10.3405251059876\t10.8080480160988\t10.6083556108702\t7.47933356776918\t8.18031258896091\t9.64711466984599\t9.22761097835699\t9.25554368318021\t9.00937824826859\t11.1635786837236\t9.34395564239751\t10.6467836915683\t10.4073725585048\t8.23166005925242\t12.6604600565866\t9.09793765499117\t10.4828759110095\t8.15994200596270\t8.49035586387743\t7.77519329363293\t8.82833553003932\t10.7119046507239\t5.62399583330777\t7.40199912978779\t6.17294627533988\t7.35404215037471\t4.89478889220396\t7.68869613594711\t5.67128789729284\t4.50536291211913\tnp.nan\t5.69897021785755\t8.29849834815231\t4.90482875831842\t9.95068865005027\t4.34914970577455\t4.23738140140945\t6.17756373335149\t6.93414737687737\t5.52934571750844\t8.48513277641297\t4.86795202431925\t2.75631144167450\t7.12131442379981\t4.15631533754784\t9.08810719195538\t3.23639179564295\t3.03606159968154\t2.92846062165080\t4.32456957388232\t1.50537052759014\t2.44062095019210\t3.58907712039995\t6.16097120369510\t5.22983652109448\t3.54352146418285\t2.83230024604428\t5.24028171471484\t3.49326242760503\t3.30663905085163\t4.37529682174252\t2.07748798082329\t2.60213344659466\t5.95379650117632\t3.99552205883661\t1.04291165033661\t2.94104672619242\t0.318738375867059\t2.09092416516711\t2.78288289587020\t4.29245437856404\t2.47884301015422\t3.73543668609265\t1.18505721418386\t3.99363354243631\t2.88028592952713\t1.09773487744587\t9.00473329609362\t1.41974436054764\t1.25034656439547\t4.90234786107604\t6.90841642984103\t0.710663474357340\t4.65594119164751\t4.28531493279498\t2.49364844176046\t9.56336729741073\t3.24325186417288\t1.27060107097494\t3.59494914838388\t7.22478563578355\t5.86139192888617\t5.82757326962160\t3.33740896917291\t3.21647008812653\t1.55998079998170\t5.55153637988186\t4.64317176039482\t11.3056904798819\t8.93083609290333\tnp.nan\t4.43834515896954\t4.06636872321896\t1.91931005426642\t5.24666370048571\t5.55177747751193\t10.5299585830915\t4.11069400884111\t5.91995597368467\t4.39990197544386\t3.50117302120080\t7.45404757591254\t8.33294848287958\t5.34386122045249\t11.8964883079406\t7.15577882871285\t5.51956344249666\t7.99142890980480\t5.93080624425842\t8.45232365511315\t7.49541591341740\t5.16407686573824\t7.39975386802367\t4.87279816108130\t9.33864183809120\t4.75535097587758\t7.49089812502274\t8.69958680211042\t6.97551944338098\t8.08736150236295\t6.94207586250742\t7.00692446075230\t6.82670877775403\t8.67032258505448\t7.44830063169332\t6.68941502295000\t9.63282003405974\t8.19286369187143\t10.9052085983262\t5.30639233538977\t9.56313298140363\t10.3967819160835\tnp.nan\tnp.nan\tnp.nan\t11.7114645667025\t12.7248604831159\t11.0557967403117\t11.7383882459974\tnp.nan\tnp.nan\tnp.nan\t9.77383796390541\t12.0251602593006\t13.6092815217801\t12.6019787027883\tnp.nan\tnp.nan\tnp.nan\t7.93158273338898\t10.7360217778744])"
   ]
  },
  {
   "cell_type": "code",
   "execution_count": 95,
   "metadata": {
    "collapsed": true
   },
   "outputs": [],
   "source": [
    "e_joint = np.array([13.2510264318575, 14.9893681679488, 16.1700593400152, 12.9480748772734, 12.9964186853027, 11.6165561128130, 9.87258804675318, 10.0004276456578, 12.0394612489648, 10.6306923953156, 11.2714270288609, 10.7340632190587, 6.85591114097756, 10.0191172717885, 10.3405251059876, 10.8080480160988, 10.6083556108702, 7.47933356776918, 8.18031258896091, 9.64711466984599, 9.22761097835699, 9.25554368318021, 9.00937824826859, 11.1635786837236, 9.34395564239751, 10.6467836915683, 10.4073725585048, 8.23166005925242, 12.6604600565866, 9.09793765499117, 10.4828759110095, 8.15994200596270, 8.49035586387743, 7.77519329363293, 8.82833553003932, 10.7119046507239, 5.62399583330777, 7.40199912978779, 6.17294627533988, 7.35404215037471, 4.89478889220396, 7.68869613594711, 5.67128789729284, 4.50536291211913, np.nan, 5.69897021785755, 8.29849834815231, 4.90482875831842, 9.95068865005027, 4.34914970577455, 4.23738140140945, 6.17756373335149, 6.93414737687737, 5.52934571750844, 8.48513277641297, 4.86795202431925, 2.75631144167450, 7.12131442379981, 4.15631533754784, 9.08810719195538, 3.23639179564295, 3.03606159968154, 2.92846062165080, 4.32456957388232, 1.50537052759014, 2.44062095019210, 3.58907712039995, 6.16097120369510, 5.22983652109448, 3.54352146418285, 2.83230024604428, 5.24028171471484, 3.49326242760503, 3.30663905085163, 4.37529682174252, 2.07748798082329, 2.60213344659466, 5.95379650117632, 3.99552205883661, 1.04291165033661, 2.94104672619242, 0.318738375867059, 2.09092416516711, 2.78288289587020, 4.29245437856404, 2.47884301015422, 3.73543668609265, 1.18505721418386, 3.99363354243631, 2.88028592952713, 1.09773487744587, 9.00473329609362, 1.41974436054764, 1.25034656439547, 4.90234786107604, 6.90841642984103, 0.710663474357340, 4.65594119164751, 4.28531493279498, 2.49364844176046, 9.56336729741073, 3.24325186417288, 1.27060107097494, 3.59494914838388, 7.22478563578355, 5.86139192888617, 5.82757326962160, 3.33740896917291, 3.21647008812653, 1.55998079998170, 5.55153637988186, 4.64317176039482, 11.3056904798819, 8.93083609290333, np.nan, 4.43834515896954, 4.06636872321896, 1.91931005426642, 5.24666370048571, 5.55177747751193, 10.5299585830915, 4.11069400884111, 5.91995597368467, 4.39990197544386, 3.50117302120080, 7.45404757591254, 8.33294848287958, 5.34386122045249, 11.8964883079406, 7.15577882871285, 5.51956344249666, 7.99142890980480, 5.93080624425842, 8.45232365511315, 7.49541591341740, 5.16407686573824, 7.39975386802367, 4.87279816108130, 9.33864183809120, 4.75535097587758, 7.49089812502274, 8.69958680211042, 6.97551944338098, 8.08736150236295, 6.94207586250742, 7.00692446075230, 6.82670877775403, 8.67032258505448, 7.44830063169332, 6.68941502295000, 9.63282003405974, 8.19286369187143, 10.9052085983262, 5.30639233538977, 9.56313298140363, 10.3967819160835, np.nan, np.nan, np.nan, 11.7114645667025, 12.7248604831159, 11.0557967403117, 11.7383882459974, np.nan, np.nan, np.nan, 9.77383796390541, 12.0251602593006, 13.6092815217801, 12.6019787027883, np.nan, np.nan, np.nan, 7.93158273338898, 10.7360217778744])"
   ]
  },
  {
   "cell_type": "code",
   "execution_count": 96,
   "metadata": {
    "collapsed": false
   },
   "outputs": [
    {
     "data": {
      "text/plain": [
       "(175,)"
      ]
     },
     "execution_count": 96,
     "metadata": {},
     "output_type": "execute_result"
    }
   ],
   "source": [
    "e_joint.shape"
   ]
  },
  {
   "cell_type": "code",
   "execution_count": 98,
   "metadata": {
    "collapsed": false
   },
   "outputs": [
    {
     "data": {
      "text/plain": [
       "6.8586855924653172"
      ]
     },
     "execution_count": 98,
     "metadata": {},
     "output_type": "execute_result"
    }
   ],
   "source": [
    "np.nanmean(e_joint)"
   ]
  },
  {
   "cell_type": "code",
   "execution_count": 99,
   "metadata": {
    "collapsed": true
   },
   "outputs": [],
   "source": [
    "e_ind = np.array([12.3727617133558, 12.1710710605764, 12.4011973077025, 12.4347778026124, 11.3783622838354, 11.5384983868465, 11.3450626605196, 10.0976289691737, 12.8102434533037, 10.3746327362212, 9.71529532328172, 11.4940650910189, 8.08233119101387, 10.3812705244149, 14.5378028515914, 9.57829687981682, 9.44318274209461, 8.25465031865468, 9.15672331423657, 9.05871805165576, 9.94533504915979, 9.42251070236942, 7.62889882742005, 8.69285708719568, 10.0552558920969, 11.3539038136918, 12.0144278059953, 10.4786295105931, 10.3716433970594, 13.2836083767022, 9.90256088767992, 8.88238489251153, 9.40522931479187, 7.99170322327927, 8.37428664841259, 6.79606254486408, 7.77083276635543, 8.24625971987557, 6.20488002608978, 8.00707328041077, 4.91753439539160, 7.68712666534347, 4.95377079960326, 6.06295283028496, np.nan, 5.70944010301909, 4.27050035111508, 6.66622424828515, 7.93561811189016, 7.51091577476927, 4.51045358087360, 4.81015104833690, 5.80473321513260, 5.74908070202269, 4.36986602981687, 4.05743538190188, 3.67935692921131, 8.53341863643902, 4.77770581839723, 3.28815154920384, 2.88821597690459, 9.16352336972637, 2.64730287783439, 3.17598137520200, 4.79952339339642, 8.20765794604120, 3.89596630365999, 7.83358836448300, 4.39841442336072, 3.94814952369843, 2.96871727548811, 1.91932673594179, 1.19999555807042, 2.80173141530885, 4.00029098940447, 2.22463315578409, 2.46075602480804, 3.70345814590143, 2.71771973429521, 0.740490904287222, 1.98760366521700, 1.84394605407122, 1.94379931364180, 4.95695648460087, 6.22817956125622, 1.88537367354447, 1.60125084759578, 0.541183887414137, 3.00036723447178, 0.495657564464137, 2.23913168961711, 6.54341345711130, 1.84050546791375, 1.68234251784020, 2.64050726860666, 7.93490644632601, 1.81245142069700, 4.94881343225285, 7.73842085981395, 2.91172680328644, 2.41495113747021, 2.25657206079366, 1.99363736053425, 1.37095538866732, 4.25915998620609, 6.23676610455086, 6.43009095289363, 2.77982399770137, 3.75261439878457, 2.70613929435420, 4.32388842016973, 5.40488838432438, 6.62971250960876, 5.79176382746723, np.nan, 5.37069442428371, 4.61796022981518, 5.23479353862896, 2.83773038878489, 5.57517306573291, 5.85645669679685, 4.59109398110889, 4.28518046457428, 2.80432281072965, 4.00597343075254, 8.03403915824452, 8.56364356929840, 5.80721325499007, 6.06861766320159, 6.08976063343921, 8.11250071270014, 9.68993455627306, 6.18850438713723, 10.8624276838845, 7.02662657399424, 5.09548823659970, 7.40784616482525, 4.96010171496548, 9.13642370966284, 7.69393451486428, 7.80386926581822, 6.65554501920042, 6.93347862103469, 8.33286371231757, 4.64108165797026, 7.84112403141941, 6.16449467550636, 8.66982433158829, 7.60415664031039, 7.40830922484374, 7.08352417219826, 6.38612301891201, 7.01557795818938, 7.94154423764527, 9.41634259973889, 9.77883625136047, np.nan, np.nan, np.nan, 7.58741064013001, 12.2093100050579, 11.1054749488758, 10.9657686974282, np.nan, np.nan, np.nan, 11.3693262414981, 12.8206659554575, 13.5433655588394, 12.2066874899715, np.nan, np.nan, np.nan, 8.12455937842932, 11.8241673338695])"
   ]
  },
  {
   "cell_type": "code",
   "execution_count": 100,
   "metadata": {
    "collapsed": false
   },
   "outputs": [
    {
     "data": {
      "text/plain": [
       "(175,)"
      ]
     },
     "execution_count": 100,
     "metadata": {},
     "output_type": "execute_result"
    }
   ],
   "source": [
    "e_ind.shape"
   ]
  },
  {
   "cell_type": "code",
   "execution_count": 101,
   "metadata": {
    "collapsed": false
   },
   "outputs": [
    {
     "name": "stdout",
     "output_type": "stream",
     "text": [
      "11.7881296226 0.897959183673\n"
     ]
    }
   ],
   "source": [
    "b_bayes, c_bayes, f_bayes= cdf(e, 100)\n",
    "b_bayes = b_bayes[1:]\n",
    "min_id_bayes = np.argmin(np.abs(f_bayes - 0.9))\n",
    "print b_bayes[min_id_bayes], f_bayes[min_id_bayes]\n",
    "plt.plot(bins, f)\n",
    "plt.grid(b=True, which='minor', color='r', linestyle='-', alpha=0.2)\n",
    "plt.minorticks_on()\n",
    "plt.show()"
   ]
  },
  {
   "cell_type": "code",
   "execution_count": 102,
   "metadata": {
    "collapsed": false
   },
   "outputs": [
    {
     "ename": "ValueError",
     "evalue": "range parameter must be finite.",
     "output_type": "error",
     "traceback": [
      "\u001b[0;31m---------------------------------------------------------------------------\u001b[0m",
      "\u001b[0;31mValueError\u001b[0m                                Traceback (most recent call last)",
      "\u001b[0;32m<ipython-input-102-8c27a2270b64>\u001b[0m in \u001b[0;36m<module>\u001b[0;34m()\u001b[0m\n\u001b[1;32m      2\u001b[0m \u001b[0mb_bayes\u001b[0m \u001b[0;34m=\u001b[0m \u001b[0mb_bayes\u001b[0m\u001b[0;34m[\u001b[0m\u001b[0;36m1\u001b[0m\u001b[0;34m:\u001b[0m\u001b[0;34m]\u001b[0m\u001b[0;34m\u001b[0m\u001b[0m\n\u001b[1;32m      3\u001b[0m \u001b[0mmin_id_bayes\u001b[0m \u001b[0;34m=\u001b[0m \u001b[0mnp\u001b[0m\u001b[0;34m.\u001b[0m\u001b[0margmin\u001b[0m\u001b[0;34m(\u001b[0m\u001b[0mnp\u001b[0m\u001b[0;34m.\u001b[0m\u001b[0mabs\u001b[0m\u001b[0;34m(\u001b[0m\u001b[0mf_bayes\u001b[0m \u001b[0;34m-\u001b[0m \u001b[0;36m0.9\u001b[0m\u001b[0;34m)\u001b[0m\u001b[0;34m)\u001b[0m\u001b[0;34m\u001b[0m\u001b[0m\n\u001b[0;32m----> 4\u001b[0;31m \u001b[0mb_joint\u001b[0m\u001b[0;34m,\u001b[0m \u001b[0mc_joint\u001b[0m\u001b[0;34m,\u001b[0m \u001b[0mf_joint\u001b[0m\u001b[0;34m=\u001b[0m \u001b[0mcdf\u001b[0m\u001b[0;34m(\u001b[0m\u001b[0me_joint\u001b[0m\u001b[0;34m,\u001b[0m \u001b[0;36m100\u001b[0m\u001b[0;34m)\u001b[0m\u001b[0;34m\u001b[0m\u001b[0m\n\u001b[0m\u001b[1;32m      5\u001b[0m \u001b[0mb_joint\u001b[0m \u001b[0;34m=\u001b[0m \u001b[0mb_joint\u001b[0m\u001b[0;34m[\u001b[0m\u001b[0;36m1\u001b[0m\u001b[0;34m:\u001b[0m\u001b[0;34m]\u001b[0m\u001b[0;34m\u001b[0m\u001b[0m\n\u001b[1;32m      6\u001b[0m \u001b[0mmin_id_joint\u001b[0m \u001b[0;34m=\u001b[0m \u001b[0mnp\u001b[0m\u001b[0;34m.\u001b[0m\u001b[0margmin\u001b[0m\u001b[0;34m(\u001b[0m\u001b[0mnp\u001b[0m\u001b[0;34m.\u001b[0m\u001b[0mabs\u001b[0m\u001b[0;34m(\u001b[0m\u001b[0mf_joint\u001b[0m \u001b[0;34m-\u001b[0m \u001b[0;36m0.9\u001b[0m\u001b[0;34m)\u001b[0m\u001b[0;34m)\u001b[0m\u001b[0;34m\u001b[0m\u001b[0m\n",
      "\u001b[0;32m<ipython-input-6-0c314f078175>\u001b[0m in \u001b[0;36mcdf\u001b[0;34m(error, nBins)\u001b[0m\n\u001b[1;32m      3\u001b[0m \u001b[0;34m\u001b[0m\u001b[0m\n\u001b[1;32m      4\u001b[0m \u001b[0;32mdef\u001b[0m \u001b[0mcdf\u001b[0m\u001b[0;34m(\u001b[0m\u001b[0merror\u001b[0m\u001b[0;34m,\u001b[0m \u001b[0mnBins\u001b[0m\u001b[0;34m)\u001b[0m\u001b[0;34m:\u001b[0m\u001b[0;34m\u001b[0m\u001b[0m\n\u001b[0;32m----> 5\u001b[0;31m     \u001b[0mcountsError\u001b[0m\u001b[0;34m,\u001b[0m \u001b[0mbinsError\u001b[0m \u001b[0;34m=\u001b[0m \u001b[0mnp\u001b[0m\u001b[0;34m.\u001b[0m\u001b[0mhistogram\u001b[0m\u001b[0;34m(\u001b[0m\u001b[0merror\u001b[0m\u001b[0;34m,\u001b[0m \u001b[0mnBins\u001b[0m\u001b[0;34m)\u001b[0m\u001b[0;34m;\u001b[0m\u001b[0;34m\u001b[0m\u001b[0m\n\u001b[0m\u001b[1;32m      6\u001b[0m     \u001b[0mf\u001b[0m \u001b[0;34m=\u001b[0m \u001b[0mnp\u001b[0m\u001b[0;34m.\u001b[0m\u001b[0mcumsum\u001b[0m\u001b[0;34m(\u001b[0m\u001b[0mcountsError\u001b[0m\u001b[0;34m)\u001b[0m \u001b[0;34m/\u001b[0m \u001b[0mnp\u001b[0m\u001b[0;34m.\u001b[0m\u001b[0msum\u001b[0m\u001b[0;34m(\u001b[0m\u001b[0mcountsError\u001b[0m\u001b[0;34m)\u001b[0m\u001b[0;34m;\u001b[0m\u001b[0;34m\u001b[0m\u001b[0m\n\u001b[1;32m      7\u001b[0m     \u001b[0;32mreturn\u001b[0m \u001b[0mbinsError\u001b[0m\u001b[0;34m,\u001b[0m \u001b[0mcountsError\u001b[0m\u001b[0;34m,\u001b[0m \u001b[0mf\u001b[0m\u001b[0;34m\u001b[0m\u001b[0m\n",
      "\u001b[0;32m/usr/local/lib/python2.7/dist-packages/numpy/lib/function_base.pyc\u001b[0m in \u001b[0;36mhistogram\u001b[0;34m(a, bins, range, normed, weights, density)\u001b[0m\n\u001b[1;32m    667\u001b[0m     \u001b[0;32mif\u001b[0m \u001b[0;32mnot\u001b[0m \u001b[0mnp\u001b[0m\u001b[0;34m.\u001b[0m\u001b[0mall\u001b[0m\u001b[0;34m(\u001b[0m\u001b[0mnp\u001b[0m\u001b[0;34m.\u001b[0m\u001b[0misfinite\u001b[0m\u001b[0;34m(\u001b[0m\u001b[0;34m[\u001b[0m\u001b[0mmn\u001b[0m\u001b[0;34m,\u001b[0m \u001b[0mmx\u001b[0m\u001b[0;34m]\u001b[0m\u001b[0;34m)\u001b[0m\u001b[0;34m)\u001b[0m\u001b[0;34m:\u001b[0m\u001b[0;34m\u001b[0m\u001b[0m\n\u001b[1;32m    668\u001b[0m         raise ValueError(\n\u001b[0;32m--> 669\u001b[0;31m             'range parameter must be finite.')\n\u001b[0m\u001b[1;32m    670\u001b[0m     \u001b[0;32mif\u001b[0m \u001b[0mmn\u001b[0m \u001b[0;34m==\u001b[0m \u001b[0mmx\u001b[0m\u001b[0;34m:\u001b[0m\u001b[0;34m\u001b[0m\u001b[0m\n\u001b[1;32m    671\u001b[0m         \u001b[0mmn\u001b[0m \u001b[0;34m-=\u001b[0m \u001b[0;36m0.5\u001b[0m\u001b[0;34m\u001b[0m\u001b[0m\n",
      "\u001b[0;31mValueError\u001b[0m: range parameter must be finite."
     ]
    }
   ],
   "source": [
    "b_bayes, c_bayes, f_bayes= cdf(e, 100)\n",
    "b_bayes = b_bayes[1:]\n",
    "min_id_bayes = np.argmin(np.abs(f_bayes - 0.9))\n",
    "b_joint, c_joint, f_joint= cdf(e_joint, 100)\n",
    "b_joint = b_joint[1:]\n",
    "min_id_joint = np.argmin(np.abs(f_joint - 0.9))\n",
    "b_ind, c_ind, f_ind= cdf(e_ind, 100)\n",
    "b_ind = b_ind[1:]\n",
    "min_id_ind = np.argmin(np.abs(f_ind - 0.9))\n",
    "print b_bayes[min_id_bayes], f_bayes[min_id_bayes], b_joint[min_id_joint], f_joint[min_id_joint], b_ind[min_id_ind], f_ind[min_id_ind]\n",
    "plt.plot(b_bayes, f_bayes, 'r', b_joint, f_joint, 'k', b_ind, f_ind, 'b')\n",
    "plt.grid(b=True, which='minor', color='r', linestyle='-', alpha=0.2)\n",
    "plt.minorticks_on()\n",
    "plt.show()"
   ]
  },
  {
   "cell_type": "code",
   "execution_count": 103,
   "metadata": {
    "collapsed": true
   },
   "outputs": [],
   "source": [
    "e_joint = np.array([13.2510264318575, 14.9893681679488, 16.1700593400152, 12.9480748772734, 12.9964186853027, 11.6165561128130, 9.87258804675318, 10.0004276456578, 12.0394612489648, 10.6306923953156, 11.2714270288609, 10.7340632190587, 6.85591114097756, 10.0191172717885, 10.3405251059876, 10.8080480160988, 10.6083556108702, 7.47933356776918, 8.18031258896091, 9.64711466984599, 9.22761097835699, 9.25554368318021, 9.00937824826859, 11.1635786837236, 9.34395564239751, 10.6467836915683, 10.4073725585048, 8.23166005925242, 12.6604600565866, 9.09793765499117, 10.4828759110095, 8.15994200596270, 8.49035586387743, 7.77519329363293, 8.82833553003932, 10.7119046507239, 5.62399583330777, 7.40199912978779, 6.17294627533988, 7.35404215037471, 4.89478889220396, 7.68869613594711, 5.67128789729284, 4.50536291211913, 5.69897021785755, 8.29849834815231, 4.90482875831842, 9.95068865005027, 4.34914970577455, 4.23738140140945, 6.17756373335149, 6.93414737687737, 5.52934571750844, 8.48513277641297, 4.86795202431925, 2.75631144167450, 7.12131442379981, 4.15631533754784, 9.08810719195538, 3.23639179564295, 3.03606159968154, 2.92846062165080, 4.32456957388232, 1.50537052759014, 2.44062095019210, 3.58907712039995, 6.16097120369510, 5.22983652109448, 3.54352146418285, 2.83230024604428, 5.24028171471484, 3.49326242760503, 3.30663905085163, 4.37529682174252, 2.07748798082329, 2.60213344659466, 5.95379650117632, 3.99552205883661, 1.04291165033661, 2.94104672619242, 0.318738375867059, 2.09092416516711, 2.78288289587020, 4.29245437856404, 2.47884301015422, 3.73543668609265, 1.18505721418386, 3.99363354243631, 2.88028592952713, 1.09773487744587, 9.00473329609362, 1.41974436054764, 1.25034656439547, 4.90234786107604, 6.90841642984103, 0.710663474357340, 4.65594119164751, 4.28531493279498, 2.49364844176046, 9.56336729741073, 3.24325186417288, 1.27060107097494, 3.59494914838388, 7.22478563578355, 5.86139192888617, 5.82757326962160, 3.33740896917291, 3.21647008812653, 1.55998079998170, 5.55153637988186, 4.64317176039482, 11.3056904798819, 8.93083609290333, 4.43834515896954, 4.06636872321896, 1.91931005426642, 5.24666370048571, 5.55177747751193, 10.5299585830915, 4.11069400884111, 5.91995597368467, 4.39990197544386, 3.50117302120080, 7.45404757591254, 8.33294848287958, 5.34386122045249, 11.8964883079406, 7.15577882871285, 5.51956344249666, 7.99142890980480, 5.93080624425842, 8.45232365511315, 7.49541591341740, 5.16407686573824, 7.39975386802367, 4.87279816108130, 9.33864183809120, 4.75535097587758, 7.49089812502274, 8.69958680211042, 6.97551944338098, 8.08736150236295, 6.94207586250742, 7.00692446075230, 6.82670877775403, 8.67032258505448, 7.44830063169332, 6.68941502295000, 9.63282003405974, 8.19286369187143, 10.9052085983262, 5.30639233538977, 9.56313298140363, 10.3967819160835, 11.7114645667025, 12.7248604831159, 11.0557967403117, 11.7383882459974, 9.77383796390541, 12.0251602593006, 13.6092815217801, 12.6019787027883, 7.93158273338898, 10.7360217778744])"
   ]
  },
  {
   "cell_type": "code",
   "execution_count": 104,
   "metadata": {
    "collapsed": true
   },
   "outputs": [],
   "source": [
    "e_ind = np.array([12.3727617133558, 12.1710710605764, 12.4011973077025, 12.4347778026124, 11.3783622838354, 11.5384983868465, 11.3450626605196, 10.0976289691737, 12.8102434533037, 10.3746327362212, 9.71529532328172, 11.4940650910189, 8.08233119101387, 10.3812705244149, 14.5378028515914, 9.57829687981682, 9.44318274209461, 8.25465031865468, 9.15672331423657, 9.05871805165576, 9.94533504915979, 9.42251070236942, 7.62889882742005, 8.69285708719568, 10.0552558920969, 11.3539038136918, 12.0144278059953, 10.4786295105931, 10.3716433970594, 13.2836083767022, 9.90256088767992, 8.88238489251153, 9.40522931479187, 7.99170322327927, 8.37428664841259, 6.79606254486408, 7.77083276635543, 8.24625971987557, 6.20488002608978, 8.00707328041077, 4.91753439539160, 7.68712666534347, 4.95377079960326, 6.06295283028496, 5.70944010301909, 4.27050035111508, 6.66622424828515, 7.93561811189016, 7.51091577476927, 4.51045358087360, 4.81015104833690, 5.80473321513260, 5.74908070202269, 4.36986602981687, 4.05743538190188, 3.67935692921131, 8.53341863643902, 4.77770581839723, 3.28815154920384, 2.88821597690459, 9.16352336972637, 2.64730287783439, 3.17598137520200, 4.79952339339642, 8.20765794604120, 3.89596630365999, 7.83358836448300, 4.39841442336072, 3.94814952369843, 2.96871727548811, 1.91932673594179, 1.19999555807042, 2.80173141530885, 4.00029098940447, 2.22463315578409, 2.46075602480804, 3.70345814590143, 2.71771973429521, 0.740490904287222, 1.98760366521700, 1.84394605407122, 1.94379931364180, 4.95695648460087, 6.22817956125622, 1.88537367354447, 1.60125084759578, 0.541183887414137, 3.00036723447178, 0.495657564464137, 2.23913168961711, 6.54341345711130, 1.84050546791375, 1.68234251784020, 2.64050726860666, 7.93490644632601, 1.81245142069700, 4.94881343225285, 7.73842085981395, 2.91172680328644, 2.41495113747021, 2.25657206079366, 1.99363736053425, 1.37095538866732, 4.25915998620609, 6.23676610455086, 6.43009095289363, 2.77982399770137, 3.75261439878457, 2.70613929435420, 4.32388842016973, 5.40488838432438, 6.62971250960876, 5.79176382746723, 5.37069442428371, 4.61796022981518, 5.23479353862896, 2.83773038878489, 5.57517306573291, 5.85645669679685, 4.59109398110889, 4.28518046457428, 2.80432281072965, 4.00597343075254, 8.03403915824452, 8.56364356929840, 5.80721325499007, 6.06861766320159, 6.08976063343921, 8.11250071270014, 9.68993455627306, 6.18850438713723, 10.8624276838845, 7.02662657399424, 5.09548823659970, 7.40784616482525, 4.96010171496548, 9.13642370966284, 7.69393451486428, 7.80386926581822, 6.65554501920042, 6.93347862103469, 8.33286371231757, 4.64108165797026, 7.84112403141941, 6.16449467550636, 8.66982433158829, 7.60415664031039, 7.40830922484374, 7.08352417219826, 6.38612301891201, 7.01557795818938, 7.94154423764527, 9.41634259973889, 9.77883625136047, 7.58741064013001, 12.2093100050579, 11.1054749488758, 10.9657686974282, 11.3693262414981, 12.8206659554575, 13.5433655588394, 12.2066874899715, 8.12455937842932, 11.8241673338695])"
   ]
  },
  {
   "cell_type": "code",
   "execution_count": null,
   "metadata": {
    "collapsed": true
   },
   "outputs": [],
   "source": []
  },
  {
   "cell_type": "code",
   "execution_count": 105,
   "metadata": {
    "collapsed": false
   },
   "outputs": [
    {
     "name": "stdout",
     "output_type": "stream",
     "text": [
      "11.7881296226 0.897959183673 11.2561498411 0.896341463415 11.4485308884 0.908536585366\n"
     ]
    }
   ],
   "source": [
    "b_bayes, c_bayes, f_bayes= cdf(e, 100)\n",
    "b_bayes = b_bayes[1:]\n",
    "min_id_bayes = np.argmin(np.abs(f_bayes - 0.9))\n",
    "b_joint, c_joint, f_joint= cdf(e_joint, 100)\n",
    "b_joint = b_joint[1:]\n",
    "min_id_joint = np.argmin(np.abs(f_joint - 0.9))\n",
    "b_ind, c_ind, f_ind= cdf(e_ind, 100)\n",
    "b_ind = b_ind[1:]\n",
    "min_id_ind = np.argmin(np.abs(f_ind - 0.9))\n",
    "print b_bayes[min_id_bayes], f_bayes[min_id_bayes], b_joint[min_id_joint], f_joint[min_id_joint], b_ind[min_id_ind], f_ind[min_id_ind]\n",
    "plt.plot(b_bayes, f_bayes, 'r', b_joint, f_joint, 'k', b_ind, f_ind, 'b')\n",
    "plt.grid(b=True, which='minor', color='r', linestyle='-', alpha=0.2)\n",
    "plt.minorticks_on()\n",
    "plt.show()"
   ]
  },
  {
   "cell_type": "code",
   "execution_count": 106,
   "metadata": {
    "collapsed": false
   },
   "outputs": [
    {
     "name": "stdout",
     "output_type": "stream",
     "text": [
      "11.7881296226 0.897959183673 11.2561498411 0.896341463415 11.4485308884 0.908536585366\n"
     ]
    }
   ],
   "source": [
    "b_bayes, c_bayes, f_bayes= cdf(e, 100)\n",
    "b_bayes = b_bayes[1:]\n",
    "min_id_bayes = np.argmin(np.abs(f_bayes - 0.9))\n",
    "b_joint, c_joint, f_joint= cdf(e_joint, 100)\n",
    "b_joint = b_joint[1:]\n",
    "min_id_joint = np.argmin(np.abs(f_joint - 0.9))\n",
    "b_ind, c_ind, f_ind= cdf(e_ind, 100)\n",
    "b_ind = b_ind[1:]\n",
    "min_id_ind = np.argmin(np.abs(f_ind - 0.9))\n",
    "print b_bayes[min_id_bayes], f_bayes[min_id_bayes], b_joint[min_id_joint], f_joint[min_id_joint], b_ind[min_id_ind], f_ind[min_id_ind]\n",
    "plt.plot(b_bayes, f_bayes, 'r', b_joint, f_joint, 'k', b_ind, f_ind, 'b')\n",
    "plt.grid(b=True, which='minor', color='r', linestyle='-', alpha=0.2)\n",
    "plt.minorticks_on()\n",
    "plt.show()"
   ]
  },
  {
   "cell_type": "code",
   "execution_count": 107,
   "metadata": {
    "collapsed": false
   },
   "outputs": [
    {
     "ename": "SyntaxError",
     "evalue": "invalid syntax (<ipython-input-107-9eb798fb1b9b>, line 12)",
     "output_type": "error",
     "traceback": [
      "\u001b[0;36m  File \u001b[0;32m\"<ipython-input-107-9eb798fb1b9b>\"\u001b[0;36m, line \u001b[0;32m12\u001b[0m\n\u001b[0;31m    plt.plot(b_joint, f_joint, 'k', label=\"LDPL (Joint Estimation)\")b_ind, f_ind, 'b')\u001b[0m\n\u001b[0m                                                                        ^\u001b[0m\n\u001b[0;31mSyntaxError\u001b[0m\u001b[0;31m:\u001b[0m invalid syntax\n"
     ]
    }
   ],
   "source": [
    "b_bayes, c_bayes, f_bayes= cdf(e, 100)\n",
    "b_bayes = b_bayes[1:]\n",
    "min_id_bayes = np.argmin(np.abs(f_bayes - 0.9))\n",
    "b_joint, c_joint, f_joint= cdf(e_joint, 100)\n",
    "b_joint = b_joint[1:]\n",
    "min_id_joint = np.argmin(np.abs(f_joint - 0.9))\n",
    "b_ind, c_ind, f_ind= cdf(e_ind, 100)\n",
    "b_ind = b_ind[1:]\n",
    "min_id_ind = np.argmin(np.abs(f_ind - 0.9))\n",
    "print b_bayes[min_id_bayes], f_bayes[min_id_bayes], b_joint[min_id_joint], f_joint[min_id_joint], b_ind[min_id_ind], f_ind[min_id_ind]\n",
    "plt.plot(b_bayes, f_bayes, 'r', label=\"Naive Bayes\")\n",
    "plt.plot(b_joint, f_joint, 'k', label=\"LDPL (Joint Estimation)\")b_ind, f_ind, 'b')\n",
    "plt.grid(b=True, which='minor', color='r', linestyle='-', alpha=0.2)\n",
    "\n",
    "plt.minorticks_on()\n",
    "plt.show()"
   ]
  },
  {
   "cell_type": "code",
   "execution_count": 108,
   "metadata": {
    "collapsed": false
   },
   "outputs": [
    {
     "name": "stdout",
     "output_type": "stream",
     "text": [
      "11.7881296226 0.897959183673 11.2561498411 0.896341463415 11.4485308884 0.908536585366\n"
     ]
    }
   ],
   "source": [
    "b_bayes, c_bayes, f_bayes= cdf(e, 100)\n",
    "b_bayes = b_bayes[1:]\n",
    "min_id_bayes = np.argmin(np.abs(f_bayes - 0.9))\n",
    "b_joint, c_joint, f_joint= cdf(e_joint, 100)\n",
    "b_joint = b_joint[1:]\n",
    "min_id_joint = np.argmin(np.abs(f_joint - 0.9))\n",
    "b_ind, c_ind, f_ind= cdf(e_ind, 100)\n",
    "b_ind = b_ind[1:]\n",
    "min_id_ind = np.argmin(np.abs(f_ind - 0.9))\n",
    "print b_bayes[min_id_bayes], f_bayes[min_id_bayes], b_joint[min_id_joint], f_joint[min_id_joint], b_ind[min_id_ind], f_ind[min_id_ind]\n",
    "plt.plot(b_bayes, f_bayes, 'r', label=\"Naive Bayes\")\n",
    "plt.plot(b_joint, f_joint, 'k', label=\"LDPL (Joint Estimation)\")\n",
    "plt.plot(b_ind, f_ind, 'b', label=\"LDPL (Ind. Estimation)\")\n",
    "plt.grid(b=True, which='minor', color='r', linestyle='-', alpha=0.2)\n",
    "\n",
    "plt.minorticks_on()\n",
    "plt.show()"
   ]
  },
  {
   "cell_type": "code",
   "execution_count": null,
   "metadata": {
    "collapsed": true
   },
   "outputs": [],
   "source": []
  },
  {
   "cell_type": "code",
   "execution_count": 109,
   "metadata": {
    "collapsed": false
   },
   "outputs": [
    {
     "name": "stdout",
     "output_type": "stream",
     "text": [
      "11.7881296226 0.897959183673 11.2561498411 0.896341463415 11.4485308884 0.908536585366\n"
     ]
    }
   ],
   "source": [
    "b_bayes, c_bayes, f_bayes= cdf(e, 100)\n",
    "b_bayes = b_bayes[1:]\n",
    "min_id_bayes = np.argmin(np.abs(f_bayes - 0.9))\n",
    "b_joint, c_joint, f_joint= cdf(e_joint, 100)\n",
    "b_joint = b_joint[1:]\n",
    "min_id_joint = np.argmin(np.abs(f_joint - 0.9))\n",
    "b_ind, c_ind, f_ind= cdf(e_ind, 100)\n",
    "b_ind = b_ind[1:]\n",
    "min_id_ind = np.argmin(np.abs(f_ind - 0.9))\n",
    "print b_bayes[min_id_bayes], f_bayes[min_id_bayes], b_joint[min_id_joint], f_joint[min_id_joint], b_ind[min_id_ind], f_ind[min_id_ind]\n",
    "plt.plot(b_bayes, f_bayes, 'r', label=\"Naive Bayes\")\n",
    "plt.plot(b_joint, f_joint, 'k', label=\"LDPL (Joint Estimation)\")\n",
    "plt.plot(b_ind, f_ind, 'b', label=\"LDPL (Ind. Estimation)\")\n",
    "plt.grid(b=True, which='minor', color='r', linestyle='-', alpha=0.2)\n",
    "plt.legend()\n",
    "plt.minorticks_on()\n",
    "plt.show()"
   ]
  },
  {
   "cell_type": "code",
   "execution_count": 111,
   "metadata": {
    "collapsed": false
   },
   "outputs": [
    {
     "name": "stdout",
     "output_type": "stream",
     "text": [
      "11.7881296226 0.897959183673 11.2561498411 0.896341463415 11.4485308884 0.908536585366\n"
     ]
    }
   ],
   "source": [
    "b_bayes, c_bayes, f_bayes= cdf(e, 100)\n",
    "b_bayes = b_bayes[1:]\n",
    "min_id_bayes = np.argmin(np.abs(f_bayes - 0.9))\n",
    "b_joint, c_joint, f_joint= cdf(e_joint, 100)\n",
    "b_joint = b_joint[1:]\n",
    "min_id_joint = np.argmin(np.abs(f_joint - 0.9))\n",
    "b_ind, c_ind, f_ind= cdf(e_ind, 100)\n",
    "b_ind = b_ind[1:]\n",
    "min_id_ind = np.argmin(np.abs(f_ind - 0.9))\n",
    "print b_bayes[min_id_bayes], f_bayes[min_id_bayes], b_joint[min_id_joint], f_joint[min_id_joint], b_ind[min_id_ind], f_ind[min_id_ind]\n",
    "plt.plot(b_bayes, f_bayes, 'r', label=\"Naive Bayes\")\n",
    "plt.plot(b_joint, f_joint, 'k', label=\"LDPL (Joint Estimation)\")\n",
    "plt.plot(b_ind, f_ind, 'b', label=\"LDPL (Ind. Estimation)\")\n",
    "plt.grid(b=True, which='minor', color='r', linestyle='-', alpha=0.2)\n",
    "plt.legend(loc=4)\n",
    "plt.ylabel(\"CDF of Localization Error\")\n",
    "plt.minorticks_on()\n",
    "plt.show()"
   ]
  },
  {
   "cell_type": "code",
   "execution_count": 113,
   "metadata": {
    "collapsed": false
   },
   "outputs": [
    {
     "name": "stdout",
     "output_type": "stream",
     "text": [
      "11.7881296226 0.897959183673 11.2561498411 0.896341463415 11.4485308884 0.908536585366\n"
     ]
    }
   ],
   "source": [
    "b_bayes, c_bayes, f_bayes= cdf(e, 100)\n",
    "b_bayes = b_bayes[1:]\n",
    "min_id_bayes = np.argmin(np.abs(f_bayes - 0.9))\n",
    "b_joint, c_joint, f_joint= cdf(e_joint, 100)\n",
    "b_joint = b_joint[1:]\n",
    "min_id_joint = np.argmin(np.abs(f_joint - 0.9))\n",
    "b_ind, c_ind, f_ind= cdf(e_ind, 100)\n",
    "b_ind = b_ind[1:]\n",
    "min_id_ind = np.argmin(np.abs(f_ind - 0.9))\n",
    "print b_bayes[min_id_bayes], f_bayes[min_id_bayes], b_joint[min_id_joint], f_joint[min_id_joint], b_ind[min_id_ind], f_ind[min_id_ind]\n",
    "plt.plot(b_bayes, f_bayes, 'r', label=\"Naive Bayes\")\n",
    "plt.plot(b_joint, f_joint, 'k', label=\"LDPL (Joint Estimation)\")\n",
    "plt.plot(b_ind, f_ind, 'b', label=\"LDPL (Ind. Estimation)\")\n",
    "plt.grid(b=True, which='minor', color='r', linestyle='-', alpha=0.2)\n",
    "plt.legend(loc=4)\n",
    "plt.ylabel(\"CDF of Localization Error\")\n",
    "plt.xlabel(\"Error (Euclidian Distance)\")\n",
    "plt.minorticks_on()\n",
    "plt.show()"
   ]
  },
  {
   "cell_type": "code",
   "execution_count": 123,
   "metadata": {
    "collapsed": false
   },
   "outputs": [
    {
     "ename": "TypeError",
     "evalue": "ufunc 'add' did not contain a loop with signature matching types dtype('S32') dtype('S32') dtype('S32')",
     "output_type": "error",
     "traceback": [
      "\u001b[0;31m---------------------------------------------------------------------------\u001b[0m",
      "\u001b[0;31mTypeError\u001b[0m                                 Traceback (most recent call last)",
      "\u001b[0;32m<ipython-input-123-527bd13102d4>\u001b[0m in \u001b[0;36m<module>\u001b[0;34m()\u001b[0m\n\u001b[0;32m----> 1\u001b[0;31m \u001b[0mplt\u001b[0m\u001b[0;34m.\u001b[0m\u001b[0mbar\u001b[0m\u001b[0;34m(\u001b[0m\u001b[0mb_bayes\u001b[0m\u001b[0;34m,\u001b[0m \u001b[0mc_bayes\u001b[0m\u001b[0;34m,\u001b[0m \u001b[0;34m'r'\u001b[0m\u001b[0;34m)\u001b[0m\u001b[0;34m\u001b[0m\u001b[0m\n\u001b[0m\u001b[1;32m      2\u001b[0m \u001b[0mplt\u001b[0m\u001b[0;34m.\u001b[0m\u001b[0mbar\u001b[0m\u001b[0;34m(\u001b[0m\u001b[0mb_joint\u001b[0m\u001b[0;34m,\u001b[0m \u001b[0mc_joint\u001b[0m\u001b[0;34m,\u001b[0m \u001b[0;34m'k'\u001b[0m\u001b[0;34m)\u001b[0m\u001b[0;34m\u001b[0m\u001b[0m\n\u001b[1;32m      3\u001b[0m \u001b[0mplt\u001b[0m\u001b[0;34m.\u001b[0m\u001b[0mbar\u001b[0m\u001b[0;34m(\u001b[0m\u001b[0mb_ind\u001b[0m\u001b[0;34m,\u001b[0m \u001b[0mc_ind\u001b[0m\u001b[0;34m,\u001b[0m \u001b[0;34m'b'\u001b[0m\u001b[0;34m)\u001b[0m\u001b[0;34m\u001b[0m\u001b[0m\n\u001b[1;32m      4\u001b[0m \u001b[0mplt\u001b[0m\u001b[0;34m.\u001b[0m\u001b[0mgrid\u001b[0m\u001b[0;34m(\u001b[0m\u001b[0mb\u001b[0m\u001b[0;34m=\u001b[0m\u001b[0mTrue\u001b[0m\u001b[0;34m,\u001b[0m \u001b[0mwhich\u001b[0m\u001b[0;34m=\u001b[0m\u001b[0;34m'minor'\u001b[0m\u001b[0;34m,\u001b[0m \u001b[0mcolor\u001b[0m\u001b[0;34m=\u001b[0m\u001b[0;34m'r'\u001b[0m\u001b[0;34m,\u001b[0m \u001b[0mlinestyle\u001b[0m\u001b[0;34m=\u001b[0m\u001b[0;34m'-'\u001b[0m\u001b[0;34m,\u001b[0m \u001b[0malpha\u001b[0m\u001b[0;34m=\u001b[0m\u001b[0;36m0.2\u001b[0m\u001b[0;34m)\u001b[0m\u001b[0;34m\u001b[0m\u001b[0m\n\u001b[1;32m      5\u001b[0m \u001b[0mplt\u001b[0m\u001b[0;34m.\u001b[0m\u001b[0mlegend\u001b[0m\u001b[0;34m(\u001b[0m\u001b[0mloc\u001b[0m\u001b[0;34m=\u001b[0m\u001b[0;36m4\u001b[0m\u001b[0;34m)\u001b[0m\u001b[0;34m\u001b[0m\u001b[0m\n",
      "\u001b[0;32m/usr/lib/pymodules/python2.7/matplotlib/pyplot.pyc\u001b[0m in \u001b[0;36mbar\u001b[0;34m(left, height, width, bottom, hold, **kwargs)\u001b[0m\n\u001b[1;32m   2513\u001b[0m         \u001b[0max\u001b[0m\u001b[0;34m.\u001b[0m\u001b[0mhold\u001b[0m\u001b[0;34m(\u001b[0m\u001b[0mhold\u001b[0m\u001b[0;34m)\u001b[0m\u001b[0;34m\u001b[0m\u001b[0m\n\u001b[1;32m   2514\u001b[0m     \u001b[0;32mtry\u001b[0m\u001b[0;34m:\u001b[0m\u001b[0;34m\u001b[0m\u001b[0m\n\u001b[0;32m-> 2515\u001b[0;31m         \u001b[0mret\u001b[0m \u001b[0;34m=\u001b[0m \u001b[0max\u001b[0m\u001b[0;34m.\u001b[0m\u001b[0mbar\u001b[0m\u001b[0;34m(\u001b[0m\u001b[0mleft\u001b[0m\u001b[0;34m,\u001b[0m \u001b[0mheight\u001b[0m\u001b[0;34m,\u001b[0m \u001b[0mwidth\u001b[0m\u001b[0;34m=\u001b[0m\u001b[0mwidth\u001b[0m\u001b[0;34m,\u001b[0m \u001b[0mbottom\u001b[0m\u001b[0;34m=\u001b[0m\u001b[0mbottom\u001b[0m\u001b[0;34m,\u001b[0m \u001b[0;34m**\u001b[0m\u001b[0mkwargs\u001b[0m\u001b[0;34m)\u001b[0m\u001b[0;34m\u001b[0m\u001b[0m\n\u001b[0m\u001b[1;32m   2516\u001b[0m         \u001b[0mdraw_if_interactive\u001b[0m\u001b[0;34m(\u001b[0m\u001b[0;34m)\u001b[0m\u001b[0;34m\u001b[0m\u001b[0m\n\u001b[1;32m   2517\u001b[0m     \u001b[0;32mfinally\u001b[0m\u001b[0;34m:\u001b[0m\u001b[0;34m\u001b[0m\u001b[0m\n",
      "\u001b[0;32m/usr/lib/pymodules/python2.7/matplotlib/axes.pyc\u001b[0m in \u001b[0;36mbar\u001b[0;34m(self, left, height, width, bottom, **kwargs)\u001b[0m\n\u001b[1;32m   5051\u001b[0m             \u001b[0mr\u001b[0m\u001b[0;34m.\u001b[0m\u001b[0mget_path\u001b[0m\u001b[0;34m(\u001b[0m\u001b[0;34m)\u001b[0m\u001b[0;34m.\u001b[0m\u001b[0m_interpolation_steps\u001b[0m \u001b[0;34m=\u001b[0m \u001b[0;36m100\u001b[0m\u001b[0;34m\u001b[0m\u001b[0m\n\u001b[1;32m   5052\u001b[0m             \u001b[0;31m#print r.get_label(), label, 'label' in kwargs\u001b[0m\u001b[0;34m\u001b[0m\u001b[0;34m\u001b[0m\u001b[0m\n\u001b[0;32m-> 5053\u001b[0;31m             \u001b[0mself\u001b[0m\u001b[0;34m.\u001b[0m\u001b[0madd_patch\u001b[0m\u001b[0;34m(\u001b[0m\u001b[0mr\u001b[0m\u001b[0;34m)\u001b[0m\u001b[0;34m\u001b[0m\u001b[0m\n\u001b[0m\u001b[1;32m   5054\u001b[0m             \u001b[0mpatches\u001b[0m\u001b[0;34m.\u001b[0m\u001b[0mappend\u001b[0m\u001b[0;34m(\u001b[0m\u001b[0mr\u001b[0m\u001b[0;34m)\u001b[0m\u001b[0;34m\u001b[0m\u001b[0m\n\u001b[1;32m   5055\u001b[0m \u001b[0;34m\u001b[0m\u001b[0m\n",
      "\u001b[0;32m/usr/lib/pymodules/python2.7/matplotlib/axes.pyc\u001b[0m in \u001b[0;36madd_patch\u001b[0;34m(self, p)\u001b[0m\n\u001b[1;32m   1560\u001b[0m         \u001b[0;32mif\u001b[0m \u001b[0mp\u001b[0m\u001b[0;34m.\u001b[0m\u001b[0mget_clip_path\u001b[0m\u001b[0;34m(\u001b[0m\u001b[0;34m)\u001b[0m \u001b[0;32mis\u001b[0m \u001b[0mNone\u001b[0m\u001b[0;34m:\u001b[0m\u001b[0;34m\u001b[0m\u001b[0m\n\u001b[1;32m   1561\u001b[0m             \u001b[0mp\u001b[0m\u001b[0;34m.\u001b[0m\u001b[0mset_clip_path\u001b[0m\u001b[0;34m(\u001b[0m\u001b[0mself\u001b[0m\u001b[0;34m.\u001b[0m\u001b[0mpatch\u001b[0m\u001b[0;34m)\u001b[0m\u001b[0;34m\u001b[0m\u001b[0m\n\u001b[0;32m-> 1562\u001b[0;31m         \u001b[0mself\u001b[0m\u001b[0;34m.\u001b[0m\u001b[0m_update_patch_limits\u001b[0m\u001b[0;34m(\u001b[0m\u001b[0mp\u001b[0m\u001b[0;34m)\u001b[0m\u001b[0;34m\u001b[0m\u001b[0m\n\u001b[0m\u001b[1;32m   1563\u001b[0m         \u001b[0mself\u001b[0m\u001b[0;34m.\u001b[0m\u001b[0mpatches\u001b[0m\u001b[0;34m.\u001b[0m\u001b[0mappend\u001b[0m\u001b[0;34m(\u001b[0m\u001b[0mp\u001b[0m\u001b[0;34m)\u001b[0m\u001b[0;34m\u001b[0m\u001b[0m\n\u001b[1;32m   1564\u001b[0m         \u001b[0mp\u001b[0m\u001b[0;34m.\u001b[0m\u001b[0m_remove_method\u001b[0m \u001b[0;34m=\u001b[0m \u001b[0;32mlambda\u001b[0m \u001b[0mh\u001b[0m\u001b[0;34m:\u001b[0m \u001b[0mself\u001b[0m\u001b[0;34m.\u001b[0m\u001b[0mpatches\u001b[0m\u001b[0;34m.\u001b[0m\u001b[0mremove\u001b[0m\u001b[0;34m(\u001b[0m\u001b[0mh\u001b[0m\u001b[0;34m)\u001b[0m\u001b[0;34m\u001b[0m\u001b[0m\n",
      "\u001b[0;32m/usr/lib/pymodules/python2.7/matplotlib/axes.pyc\u001b[0m in \u001b[0;36m_update_patch_limits\u001b[0;34m(self, patch)\u001b[0m\n\u001b[1;32m   1578\u001b[0m         \u001b[0mvertices\u001b[0m \u001b[0;34m=\u001b[0m \u001b[0mpatch\u001b[0m\u001b[0;34m.\u001b[0m\u001b[0mget_path\u001b[0m\u001b[0;34m(\u001b[0m\u001b[0;34m)\u001b[0m\u001b[0;34m.\u001b[0m\u001b[0mvertices\u001b[0m\u001b[0;34m\u001b[0m\u001b[0m\n\u001b[1;32m   1579\u001b[0m         \u001b[0;32mif\u001b[0m \u001b[0mvertices\u001b[0m\u001b[0;34m.\u001b[0m\u001b[0msize\u001b[0m \u001b[0;34m>\u001b[0m \u001b[0;36m0\u001b[0m\u001b[0;34m:\u001b[0m\u001b[0;34m\u001b[0m\u001b[0m\n\u001b[0;32m-> 1580\u001b[0;31m             \u001b[0mxys\u001b[0m \u001b[0;34m=\u001b[0m \u001b[0mpatch\u001b[0m\u001b[0;34m.\u001b[0m\u001b[0mget_patch_transform\u001b[0m\u001b[0;34m(\u001b[0m\u001b[0;34m)\u001b[0m\u001b[0;34m.\u001b[0m\u001b[0mtransform\u001b[0m\u001b[0;34m(\u001b[0m\u001b[0mvertices\u001b[0m\u001b[0;34m)\u001b[0m\u001b[0;34m\u001b[0m\u001b[0m\n\u001b[0m\u001b[1;32m   1581\u001b[0m             \u001b[0;32mif\u001b[0m \u001b[0mpatch\u001b[0m\u001b[0;34m.\u001b[0m\u001b[0mget_data_transform\u001b[0m\u001b[0;34m(\u001b[0m\u001b[0;34m)\u001b[0m \u001b[0;34m!=\u001b[0m \u001b[0mself\u001b[0m\u001b[0;34m.\u001b[0m\u001b[0mtransData\u001b[0m\u001b[0;34m:\u001b[0m\u001b[0;34m\u001b[0m\u001b[0m\n\u001b[1;32m   1582\u001b[0m                 patch_to_data = (patch.get_data_transform() -\n",
      "\u001b[0;32m/usr/lib/pymodules/python2.7/matplotlib/patches.pyc\u001b[0m in \u001b[0;36mget_patch_transform\u001b[0;34m(self)\u001b[0m\n\u001b[1;32m    574\u001b[0m \u001b[0;34m\u001b[0m\u001b[0m\n\u001b[1;32m    575\u001b[0m     \u001b[0;32mdef\u001b[0m \u001b[0mget_patch_transform\u001b[0m\u001b[0;34m(\u001b[0m\u001b[0mself\u001b[0m\u001b[0;34m)\u001b[0m\u001b[0;34m:\u001b[0m\u001b[0;34m\u001b[0m\u001b[0m\n\u001b[0;32m--> 576\u001b[0;31m         \u001b[0mself\u001b[0m\u001b[0;34m.\u001b[0m\u001b[0m_update_patch_transform\u001b[0m\u001b[0;34m(\u001b[0m\u001b[0;34m)\u001b[0m\u001b[0;34m\u001b[0m\u001b[0m\n\u001b[0m\u001b[1;32m    577\u001b[0m         \u001b[0;32mreturn\u001b[0m \u001b[0mself\u001b[0m\u001b[0;34m.\u001b[0m\u001b[0m_rect_transform\u001b[0m\u001b[0;34m\u001b[0m\u001b[0m\n\u001b[1;32m    578\u001b[0m \u001b[0;34m\u001b[0m\u001b[0m\n",
      "\u001b[0;32m/usr/lib/pymodules/python2.7/matplotlib/patches.pyc\u001b[0m in \u001b[0;36m_update_patch_transform\u001b[0;34m(self)\u001b[0m\n\u001b[1;32m    567\u001b[0m         \u001b[0mwidth\u001b[0m \u001b[0;34m=\u001b[0m \u001b[0mself\u001b[0m\u001b[0;34m.\u001b[0m\u001b[0mconvert_xunits\u001b[0m\u001b[0;34m(\u001b[0m\u001b[0mself\u001b[0m\u001b[0;34m.\u001b[0m\u001b[0m_width\u001b[0m\u001b[0;34m)\u001b[0m\u001b[0;34m\u001b[0m\u001b[0m\n\u001b[1;32m    568\u001b[0m         \u001b[0mheight\u001b[0m \u001b[0;34m=\u001b[0m \u001b[0mself\u001b[0m\u001b[0;34m.\u001b[0m\u001b[0mconvert_yunits\u001b[0m\u001b[0;34m(\u001b[0m\u001b[0mself\u001b[0m\u001b[0;34m.\u001b[0m\u001b[0m_height\u001b[0m\u001b[0;34m)\u001b[0m\u001b[0;34m\u001b[0m\u001b[0m\n\u001b[0;32m--> 569\u001b[0;31m         \u001b[0mbbox\u001b[0m \u001b[0;34m=\u001b[0m \u001b[0mtransforms\u001b[0m\u001b[0;34m.\u001b[0m\u001b[0mBbox\u001b[0m\u001b[0;34m.\u001b[0m\u001b[0mfrom_bounds\u001b[0m\u001b[0;34m(\u001b[0m\u001b[0mx\u001b[0m\u001b[0;34m,\u001b[0m \u001b[0my\u001b[0m\u001b[0;34m,\u001b[0m \u001b[0mwidth\u001b[0m\u001b[0;34m,\u001b[0m \u001b[0mheight\u001b[0m\u001b[0;34m)\u001b[0m\u001b[0;34m\u001b[0m\u001b[0m\n\u001b[0m\u001b[1;32m    570\u001b[0m         \u001b[0mrot_trans\u001b[0m \u001b[0;34m=\u001b[0m \u001b[0mtransforms\u001b[0m\u001b[0;34m.\u001b[0m\u001b[0mAffine2D\u001b[0m\u001b[0;34m(\u001b[0m\u001b[0;34m)\u001b[0m\u001b[0;34m\u001b[0m\u001b[0m\n\u001b[1;32m    571\u001b[0m         \u001b[0mrot_trans\u001b[0m\u001b[0;34m.\u001b[0m\u001b[0mrotate_deg_around\u001b[0m\u001b[0;34m(\u001b[0m\u001b[0mx\u001b[0m\u001b[0;34m,\u001b[0m \u001b[0my\u001b[0m\u001b[0;34m,\u001b[0m \u001b[0mself\u001b[0m\u001b[0;34m.\u001b[0m\u001b[0m_angle\u001b[0m\u001b[0;34m)\u001b[0m\u001b[0;34m\u001b[0m\u001b[0m\n",
      "\u001b[0;32m/usr/lib/pymodules/python2.7/matplotlib/transforms.pyc\u001b[0m in \u001b[0;36mfrom_bounds\u001b[0;34m(x0, y0, width, height)\u001b[0m\n\u001b[1;32m    819\u001b[0m         \u001b[0;34m*\u001b[0m\u001b[0mwidth\u001b[0m\u001b[0;34m*\u001b[0m \u001b[0;32mand\u001b[0m \u001b[0;34m*\u001b[0m\u001b[0mheight\u001b[0m\u001b[0;34m*\u001b[0m \u001b[0mmay\u001b[0m \u001b[0mbe\u001b[0m \u001b[0mnegative\u001b[0m\u001b[0;34m.\u001b[0m\u001b[0;34m\u001b[0m\u001b[0m\n\u001b[1;32m    820\u001b[0m         \"\"\"\n\u001b[0;32m--> 821\u001b[0;31m         \u001b[0;32mreturn\u001b[0m \u001b[0mBbox\u001b[0m\u001b[0;34m.\u001b[0m\u001b[0mfrom_extents\u001b[0m\u001b[0;34m(\u001b[0m\u001b[0mx0\u001b[0m\u001b[0;34m,\u001b[0m \u001b[0my0\u001b[0m\u001b[0;34m,\u001b[0m \u001b[0mx0\u001b[0m \u001b[0;34m+\u001b[0m \u001b[0mwidth\u001b[0m\u001b[0;34m,\u001b[0m \u001b[0my0\u001b[0m \u001b[0;34m+\u001b[0m \u001b[0mheight\u001b[0m\u001b[0;34m)\u001b[0m\u001b[0;34m\u001b[0m\u001b[0m\n\u001b[0m\u001b[1;32m    822\u001b[0m \u001b[0;34m\u001b[0m\u001b[0m\n\u001b[1;32m    823\u001b[0m     \u001b[0;34m@\u001b[0m\u001b[0mstaticmethod\u001b[0m\u001b[0;34m\u001b[0m\u001b[0m\n",
      "\u001b[0;31mTypeError\u001b[0m: ufunc 'add' did not contain a loop with signature matching types dtype('S32') dtype('S32') dtype('S32')"
     ]
    }
   ],
   "source": [
    "plt.bar(b_bayes, c_bayes, 'r')\n",
    "plt.bar(b_joint, c_joint, 'k')\n",
    "plt.bar(b_ind, c_ind, 'b')\n",
    "plt.grid(b=True, which='minor', color='r', linestyle='-', alpha=0.2)\n",
    "plt.legend(loc=4)\n",
    "plt.ylabel(\"Histogram of Localization Error\")\n",
    "plt.xlabel(\"Error (Euclidian Distance)\")\n",
    "plt.minorticks_on()\n",
    "plt.show()"
   ]
  },
  {
   "cell_type": "code",
   "execution_count": 116,
   "metadata": {
    "collapsed": false
   },
   "outputs": [
    {
     "data": {
      "text/plain": [
       "numpy.ndarray"
      ]
     },
     "execution_count": 116,
     "metadata": {},
     "output_type": "execute_result"
    }
   ],
   "source": [
    "type(c_bayes)"
   ]
  },
  {
   "cell_type": "code",
   "execution_count": 118,
   "metadata": {
    "collapsed": false
   },
   "outputs": [
    {
     "ename": "AttributeError",
     "evalue": "'numpy.ndarray' object has no attribute 'type'",
     "output_type": "error",
     "traceback": [
      "\u001b[0;31m---------------------------------------------------------------------------\u001b[0m",
      "\u001b[0;31mAttributeError\u001b[0m                            Traceback (most recent call last)",
      "\u001b[0;32m<ipython-input-118-fa375b3511ed>\u001b[0m in \u001b[0;36m<module>\u001b[0;34m()\u001b[0m\n\u001b[0;32m----> 1\u001b[0;31m \u001b[0mc_bayes\u001b[0m\u001b[0;34m.\u001b[0m\u001b[0mtype\u001b[0m\u001b[0;34m(\u001b[0m\u001b[0;34m)\u001b[0m\u001b[0;34m\u001b[0m\u001b[0m\n\u001b[0m",
      "\u001b[0;31mAttributeError\u001b[0m: 'numpy.ndarray' object has no attribute 'type'"
     ]
    }
   ],
   "source": [
    "c_bayes.type()"
   ]
  },
  {
   "cell_type": "code",
   "execution_count": 119,
   "metadata": {
    "collapsed": false
   },
   "outputs": [
    {
     "ename": "TypeError",
     "evalue": "data type not understood",
     "output_type": "error",
     "traceback": [
      "\u001b[0;31m---------------------------------------------------------------------------\u001b[0m",
      "\u001b[0;31mTypeError\u001b[0m                                 Traceback (most recent call last)",
      "\u001b[0;32m<ipython-input-119-954583407140>\u001b[0m in \u001b[0;36m<module>\u001b[0;34m()\u001b[0m\n\u001b[0;32m----> 1\u001b[0;31m \u001b[0mnp\u001b[0m\u001b[0;34m.\u001b[0m\u001b[0mdtype\u001b[0m\u001b[0;34m(\u001b[0m\u001b[0mc_bayes\u001b[0m\u001b[0;34m)\u001b[0m\u001b[0;34m\u001b[0m\u001b[0m\n\u001b[0m",
      "\u001b[0;31mTypeError\u001b[0m: data type not understood"
     ]
    }
   ],
   "source": [
    "np.dtype(c_bayes)"
   ]
  },
  {
   "cell_type": "code",
   "execution_count": 121,
   "metadata": {
    "collapsed": false
   },
   "outputs": [
    {
     "data": {
      "text/plain": [
       "dtype('int64')"
      ]
     },
     "execution_count": 121,
     "metadata": {},
     "output_type": "execute_result"
    }
   ],
   "source": [
    "c_bayes.dtype"
   ]
  },
  {
   "cell_type": "code",
   "execution_count": 122,
   "metadata": {
    "collapsed": false
   },
   "outputs": [
    {
     "data": {
      "text/plain": [
       "dtype('float64')"
      ]
     },
     "execution_count": 122,
     "metadata": {},
     "output_type": "execute_result"
    }
   ],
   "source": [
    "b_bayes.dtype"
   ]
  },
  {
   "cell_type": "code",
   "execution_count": 133,
   "metadata": {
    "collapsed": false
   },
   "outputs": [],
   "source": [
    "plt.bar(b_bayes, c_bayes/343, label=\"Naive Bayes\", color='red')\n",
    "plt.bar(b_joint, c_joint/164, label=\"LDPL (Joint Estimation)\", color='black')\n",
    "plt.bar(b_ind, c_ind/164, label=\"LDPL (Joint Estimation)\", color='blue')\n",
    "plt.grid(b=True, which='minor', color='r', linestyle='-', alpha=0.2)\n",
    "plt.legend(loc=4)\n",
    "plt.ylabel(\"Histogram of Localization Error\")\n",
    "plt.xlabel(\"Error (Euclidian Distance)\")\n",
    "plt.minorticks_on()\n",
    "plt.show()"
   ]
  },
  {
   "cell_type": "code",
   "execution_count": 132,
   "metadata": {
    "collapsed": false
   },
   "outputs": [
    {
     "name": "stdout",
     "output_type": "stream",
     "text": [
      "1.0 1.0 1.0\n"
     ]
    }
   ],
   "source": [
    "print np.sum(c_bayes/343), np.sum(c_joint/164), np.sum(c_ind/164\n",
    "                                                      )"
   ]
  },
  {
   "cell_type": "code",
   "execution_count": 148,
   "metadata": {
    "collapsed": false
   },
   "outputs": [],
   "source": [
    "ax1 = plt.subplot(3, 1, 1)\n",
    "n, bins, patches = plt.hist(e, 50, normed=1, facecolor='red', alpha=0.75)\n",
    "plt.title(\"Error (Euclidian Distance)\")\n",
    "plt.minorticks_on()\n",
    "plt.xlabel(\"Naive Bayes\")\n",
    "plt.grid(b=True, which='minor', color='r', linestyle='-', alpha=0.2)\n",
    "ax2 = plt.subplot(3, 1, 2, sharex=ax1, sharey=ax1)\n",
    "n, bins, patches = plt.hist(e_joint, 50, normed=1, facecolor='black', alpha=0.75)\n",
    "plt.xlabel(\"LDPL (Joint Estimation)\")\n",
    "plt.grid(b=True, which='minor', color='r', linestyle='-', alpha=0.2)\n",
    "plt.minorticks_on()\n",
    "\n",
    "plt.ylabel(\"Histogram of Localization Error\")\n",
    "plt.subplot(3, 1, 3, sharex=ax1, sharey=ax1)\n",
    "plt.grid(b=True, which='minor', color='r', linestyle='-', alpha=0.2)\n",
    "n, bins, patches = plt.hist(e_ind, 50, normed=1, facecolor='blue', alpha=0.75)\n",
    "plt.xlabel(\"LDPL (Ind. Estimation)\")\n",
    "plt.minorticks_on()\n",
    "plt.show()\n"
   ]
  },
  {
   "cell_type": "code",
   "execution_count": 150,
   "metadata": {
    "collapsed": false
   },
   "outputs": [
    {
     "data": {
      "text/plain": [
       "6.8586855924653172"
      ]
     },
     "execution_count": 150,
     "metadata": {},
     "output_type": "execute_result"
    }
   ],
   "source": [
    "np.mean(e_joint)"
   ]
  },
  {
   "cell_type": "code",
   "execution_count": 151,
   "metadata": {
    "collapsed": false
   },
   "outputs": [
    {
     "data": {
      "text/plain": [
       "array([ 0.14285714,  0.09375   ,  0.        ,  0.        ,  0.        ,\n",
       "        1.        ,  0.        ,  0.        ,  0.        ,  0.18518519,\n",
       "        0.25      ,  0.03703704,  0.06896552,  0.        ,  0.        ,\n",
       "        0.16666667,  0.        ,  0.03125   ,  0.        ,  0.05555556,\n",
       "        0.25      ,  0.22727273,  0.        ,  0.        ,  0.25      ])"
      ]
     },
     "execution_count": 151,
     "metadata": {},
     "output_type": "execute_result"
    }
   ],
   "source": []
  },
  {
   "cell_type": "code",
   "execution_count": 152,
   "metadata": {
    "collapsed": false
   },
   "outputs": [
    {
     "data": {
      "text/plain": [
       "0.11034159327262776"
      ]
     },
     "execution_count": 152,
     "metadata": {},
     "output_type": "execute_result"
    }
   ],
   "source": [
    "np.mean(sklearn.metrics.precision_score(dataset.grid_labels_test[:,1], predy, average=None))"
   ]
  },
  {
   "cell_type": "code",
   "execution_count": 154,
   "metadata": {
    "collapsed": false
   },
   "outputs": [
    {
     "ename": "ValueError",
     "evalue": "multiclass format is not supported",
     "output_type": "error",
     "traceback": [
      "\u001b[0;31m---------------------------------------------------------------------------\u001b[0m",
      "\u001b[0;31mValueError\u001b[0m                                Traceback (most recent call last)",
      "\u001b[0;32m<ipython-input-154-a0510ed59616>\u001b[0m in \u001b[0;36m<module>\u001b[0;34m()\u001b[0m\n\u001b[0;32m----> 1\u001b[0;31m \u001b[0msklearn\u001b[0m\u001b[0;34m.\u001b[0m\u001b[0mmetrics\u001b[0m\u001b[0;34m.\u001b[0m\u001b[0maverage_precision_score\u001b[0m\u001b[0;34m(\u001b[0m\u001b[0mdataset\u001b[0m\u001b[0;34m.\u001b[0m\u001b[0mgrid_labels_test\u001b[0m\u001b[0;34m[\u001b[0m\u001b[0;34m:\u001b[0m\u001b[0;34m,\u001b[0m\u001b[0;36m1\u001b[0m\u001b[0;34m]\u001b[0m\u001b[0;34m,\u001b[0m \u001b[0mpredy\u001b[0m\u001b[0;34m)\u001b[0m\u001b[0;34m\u001b[0m\u001b[0m\n\u001b[0m",
      "\u001b[0;32m/usr/local/lib/python2.7/dist-packages/sklearn/metrics/ranking.pyc\u001b[0m in \u001b[0;36maverage_precision_score\u001b[0;34m(y_true, y_score, average, sample_weight)\u001b[0m\n\u001b[1;32m    182\u001b[0m \u001b[0;34m\u001b[0m\u001b[0m\n\u001b[1;32m    183\u001b[0m     return _average_binary_score(_binary_average_precision, y_true, y_score,\n\u001b[0;32m--> 184\u001b[0;31m                                  average, sample_weight=sample_weight)\n\u001b[0m\u001b[1;32m    185\u001b[0m \u001b[0;34m\u001b[0m\u001b[0m\n\u001b[1;32m    186\u001b[0m \u001b[0;34m\u001b[0m\u001b[0m\n",
      "\u001b[0;32m/usr/local/lib/python2.7/dist-packages/sklearn/metrics/base.pyc\u001b[0m in \u001b[0;36m_average_binary_score\u001b[0;34m(binary_metric, y_true, y_score, average, sample_weight)\u001b[0m\n\u001b[1;32m     79\u001b[0m     \u001b[0my_type\u001b[0m \u001b[0;34m=\u001b[0m \u001b[0mtype_of_target\u001b[0m\u001b[0;34m(\u001b[0m\u001b[0my_true\u001b[0m\u001b[0;34m)\u001b[0m\u001b[0;34m\u001b[0m\u001b[0m\n\u001b[1;32m     80\u001b[0m     \u001b[0;32mif\u001b[0m \u001b[0my_type\u001b[0m \u001b[0;32mnot\u001b[0m \u001b[0;32min\u001b[0m \u001b[0;34m(\u001b[0m\u001b[0;34m\"binary\"\u001b[0m\u001b[0;34m,\u001b[0m \u001b[0;34m\"multilabel-indicator\"\u001b[0m\u001b[0;34m)\u001b[0m\u001b[0;34m:\u001b[0m\u001b[0;34m\u001b[0m\u001b[0m\n\u001b[0;32m---> 81\u001b[0;31m         \u001b[0;32mraise\u001b[0m \u001b[0mValueError\u001b[0m\u001b[0;34m(\u001b[0m\u001b[0;34m\"{0} format is not supported\"\u001b[0m\u001b[0;34m.\u001b[0m\u001b[0mformat\u001b[0m\u001b[0;34m(\u001b[0m\u001b[0my_type\u001b[0m\u001b[0;34m)\u001b[0m\u001b[0;34m)\u001b[0m\u001b[0;34m\u001b[0m\u001b[0m\n\u001b[0m\u001b[1;32m     82\u001b[0m \u001b[0;34m\u001b[0m\u001b[0m\n\u001b[1;32m     83\u001b[0m     \u001b[0;32mif\u001b[0m \u001b[0my_type\u001b[0m \u001b[0;34m==\u001b[0m \u001b[0;34m\"binary\"\u001b[0m\u001b[0;34m:\u001b[0m\u001b[0;34m\u001b[0m\u001b[0m\n",
      "\u001b[0;31mValueError\u001b[0m: multiclass format is not supported"
     ]
    }
   ],
   "source": [
    "sklearn.metrics.average_precision_score(dataset.grid_labels_test[:,1], predy)"
   ]
  },
  {
   "cell_type": "code",
   "execution_count": 155,
   "metadata": {
    "collapsed": false
   },
   "outputs": [
    {
     "data": {
      "text/plain": [
       "array([[ 0.03830168],\n",
       "       [ 0.04666484],\n",
       "       [ 0.04310316],\n",
       "       [ 0.04446492],\n",
       "       [ 0.04035215],\n",
       "       [ 0.04340791],\n",
       "       [ 0.03844331],\n",
       "       [ 0.044554  ],\n",
       "       [ 0.04881487],\n",
       "       [ 0.05035322],\n",
       "       [ 0.05351018],\n",
       "       [ 0.05818844],\n",
       "       [ 0.04925768],\n",
       "       [ 0.04755846],\n",
       "       [ 0.04425744],\n",
       "       [ 0.04852   ],\n",
       "       [ 0.03276276],\n",
       "       [ 0.03932744],\n",
       "       [ 0.03108758],\n",
       "       [ 0.05033346],\n",
       "       [ 0.02321687],\n",
       "       [ 0.03007603],\n",
       "       [ 0.01797583],\n",
       "       [ 0.02108745],\n",
       "       [ 0.01438033]])"
      ]
     },
     "execution_count": 155,
     "metadata": {},
     "output_type": "execute_result"
    }
   ],
   "source": [
    "py"
   ]
  },
  {
   "cell_type": "code",
   "execution_count": 156,
   "metadata": {
    "collapsed": false
   },
   "outputs": [
    {
     "data": {
      "text/plain": [
       "array([18, 11, 19,  1, 11, 18, 19, 11, 20,  8,  3, 17,  1, 15, 17, 12, 21,\n",
       "        8,  9,  1, 18, 11, 20,  1, 21, 17,  3,  1, 10, 19,  1, 15,  1, 18,\n",
       "       19, 19, 12, 12, 17, 12, 24,  3,  8,  1, 12,  8, 12, 12, 12, 17,  8,\n",
       "        1, 21,  9,  9, 19, 11, 17, 12,  1, 11,  9, 19, 12, 17,  8, 17, 11,\n",
       "       17, 11, 15, 17,  4,  0, 19, 11,  8,  4, 18,  1, 20, 11, 21, 12, 19,\n",
       "       11, 11, 21,  1,  8, 18, 11, 21,  4, 19, 11, 19, 17, 19, 19, 19, 18,\n",
       "        1,  1, 15,  8,  3, 17, 18, 18,  2,  1,  0, 19,  1, 21, 18, 17, 19,\n",
       "       12, 12, 11, 19, 15, 21, 21,  0, 19,  3,  9,  0,  1,  1, 21, 15, 18,\n",
       "       19, 17, 19, 11, 19, 15,  8, 19, 18,  8,  3, 17,  1, 11, 19, 18, 12,\n",
       "       15,  3, 17,  1,  9,  8,  1, 19, 17, 15, 15,  8, 24, 15, 17,  8,  3,\n",
       "       21,  9,  1, 17, 19,  3, 15, 18, 19, 15,  9, 17, 18,  5, 12, 12, 18,\n",
       "        3, 19, 19, 17,  9, 21,  9, 19,  1, 11, 15, 11, 18, 19, 18,  8, 15,\n",
       "        8,  8,  9,  9,  9, 18,  9, 11, 19, 18, 20, 17,  1, 20,  1,  2,  1,\n",
       "       17, 17, 12, 15,  1,  0, 13,  8,  9, 21, 17, 12,  8, 24,  3, 15, 11,\n",
       "       19, 12,  0,  8, 17, 12, 20, 12, 15,  8, 19,  8, 19, 12,  1, 12, 21,\n",
       "        8,  1, 17, 12, 21,  8,  9, 12,  1, 21, 19,  8,  9,  8, 15,  9, 19,\n",
       "       19, 19,  9, 11, 18, 21, 10, 17, 21, 19, 19, 12, 15, 10,  8, 12, 18,\n",
       "        9, 11, 19, 19, 10, 19, 19, 20, 12, 17,  9, 19,  3,  9,  9, 12,  3,\n",
       "       19, 11, 20, 15, 19, 15,  9, 11,  9,  0, 15, 19, 15, 19, 21, 17,  9,\n",
       "       17, 19,  2, 19, 19,  9, 19, 11, 18,  1, 19, 21, 24, 17, 21, 21,  1,\n",
       "        8,  8, 11])"
      ]
     },
     "execution_count": 156,
     "metadata": {},
     "output_type": "execute_result"
    }
   ],
   "source": [
    "predy"
   ]
  },
  {
   "cell_type": "code",
   "execution_count": 157,
   "metadata": {
    "collapsed": false
   },
   "outputs": [
    {
     "ename": "ValueError",
     "evalue": "multiclass format is not supported",
     "output_type": "error",
     "traceback": [
      "\u001b[0;31m---------------------------------------------------------------------------\u001b[0m",
      "\u001b[0;31mValueError\u001b[0m                                Traceback (most recent call last)",
      "\u001b[0;32m<ipython-input-157-9c892c4f0839>\u001b[0m in \u001b[0;36m<module>\u001b[0;34m()\u001b[0m\n\u001b[0;32m----> 1\u001b[0;31m \u001b[0msklearn\u001b[0m\u001b[0;34m.\u001b[0m\u001b[0mmetrics\u001b[0m\u001b[0;34m.\u001b[0m\u001b[0maverage_precision_score\u001b[0m\u001b[0;34m(\u001b[0m\u001b[0mdataset\u001b[0m\u001b[0;34m.\u001b[0m\u001b[0mgrid_labels_test\u001b[0m\u001b[0;34m[\u001b[0m\u001b[0;34m:\u001b[0m\u001b[0;34m,\u001b[0m\u001b[0;36m1\u001b[0m\u001b[0;34m]\u001b[0m\u001b[0;34m,\u001b[0m \u001b[0mpy\u001b[0m\u001b[0;34m)\u001b[0m\u001b[0;34m\u001b[0m\u001b[0m\n\u001b[0m",
      "\u001b[0;32m/usr/local/lib/python2.7/dist-packages/sklearn/metrics/ranking.pyc\u001b[0m in \u001b[0;36maverage_precision_score\u001b[0;34m(y_true, y_score, average, sample_weight)\u001b[0m\n\u001b[1;32m    182\u001b[0m \u001b[0;34m\u001b[0m\u001b[0m\n\u001b[1;32m    183\u001b[0m     return _average_binary_score(_binary_average_precision, y_true, y_score,\n\u001b[0;32m--> 184\u001b[0;31m                                  average, sample_weight=sample_weight)\n\u001b[0m\u001b[1;32m    185\u001b[0m \u001b[0;34m\u001b[0m\u001b[0m\n\u001b[1;32m    186\u001b[0m \u001b[0;34m\u001b[0m\u001b[0m\n",
      "\u001b[0;32m/usr/local/lib/python2.7/dist-packages/sklearn/metrics/base.pyc\u001b[0m in \u001b[0;36m_average_binary_score\u001b[0;34m(binary_metric, y_true, y_score, average, sample_weight)\u001b[0m\n\u001b[1;32m     79\u001b[0m     \u001b[0my_type\u001b[0m \u001b[0;34m=\u001b[0m \u001b[0mtype_of_target\u001b[0m\u001b[0;34m(\u001b[0m\u001b[0my_true\u001b[0m\u001b[0;34m)\u001b[0m\u001b[0;34m\u001b[0m\u001b[0m\n\u001b[1;32m     80\u001b[0m     \u001b[0;32mif\u001b[0m \u001b[0my_type\u001b[0m \u001b[0;32mnot\u001b[0m \u001b[0;32min\u001b[0m \u001b[0;34m(\u001b[0m\u001b[0;34m\"binary\"\u001b[0m\u001b[0;34m,\u001b[0m \u001b[0;34m\"multilabel-indicator\"\u001b[0m\u001b[0;34m)\u001b[0m\u001b[0;34m:\u001b[0m\u001b[0;34m\u001b[0m\u001b[0m\n\u001b[0;32m---> 81\u001b[0;31m         \u001b[0;32mraise\u001b[0m \u001b[0mValueError\u001b[0m\u001b[0;34m(\u001b[0m\u001b[0;34m\"{0} format is not supported\"\u001b[0m\u001b[0;34m.\u001b[0m\u001b[0mformat\u001b[0m\u001b[0;34m(\u001b[0m\u001b[0my_type\u001b[0m\u001b[0;34m)\u001b[0m\u001b[0;34m)\u001b[0m\u001b[0;34m\u001b[0m\u001b[0m\n\u001b[0m\u001b[1;32m     82\u001b[0m \u001b[0;34m\u001b[0m\u001b[0m\n\u001b[1;32m     83\u001b[0m     \u001b[0;32mif\u001b[0m \u001b[0my_type\u001b[0m \u001b[0;34m==\u001b[0m \u001b[0;34m\"binary\"\u001b[0m\u001b[0;34m:\u001b[0m\u001b[0;34m\u001b[0m\u001b[0m\n",
      "\u001b[0;31mValueError\u001b[0m: multiclass format is not supported"
     ]
    }
   ],
   "source": [
    "sklearn.metrics.average_precision_score(dataset.grid_labels_test[:,1], py)"
   ]
  },
  {
   "cell_type": "code",
   "execution_count": null,
   "metadata": {
    "collapsed": true
   },
   "outputs": [],
   "source": []
  }
 ],
 "metadata": {
  "kernelspec": {
   "display_name": "Python 2",
   "language": "python",
   "name": "python2"
  },
  "language_info": {
   "codemirror_mode": {
    "name": "ipython",
    "version": 2
   },
   "file_extension": ".py",
   "mimetype": "text/x-python",
   "name": "python",
   "nbconvert_exporter": "python",
   "pygments_lexer": "ipython2",
   "version": "2.7.6"
  }
 },
 "nbformat": 4,
 "nbformat_minor": 2
}
