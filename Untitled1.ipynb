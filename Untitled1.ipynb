{
 "metadata": {
  "name": ""
 },
 "nbformat": 3,
 "nbformat_minor": 0,
 "worksheets": [
  {
   "cells": [
    {
     "cell_type": "code",
     "collapsed": false,
     "input": [
      "#!/usr/bin/python\n",
      "\n",
      "import numpy as np\n",
      "import wifi_data\n",
      "import os\n",
      "import nn"
     ],
     "language": "python",
     "metadata": {},
     "outputs": [
      {
       "output_type": "stream",
       "stream": "stderr",
       "text": [
        "Using TensorFlow backend.\n"
       ]
      }
     ],
     "prompt_number": 1
    },
    {
     "cell_type": "code",
     "collapsed": false,
     "input": [
      "fname_dataset = \"hancock_data.mat\"\n",
      "fname_model = \"grid_classifier.h5\"\n",
      "    "
     ],
     "language": "python",
     "metadata": {},
     "outputs": [],
     "prompt_number": 2
    },
    {
     "cell_type": "code",
     "collapsed": false,
     "input": [
      "folderLocation = os.path.dirname(\"/home/murat/rf-localization/deep-rf-regression/\")\n"
     ],
     "language": "python",
     "metadata": {},
     "outputs": [],
     "prompt_number": 7
    },
    {
     "cell_type": "code",
     "collapsed": false,
     "input": [
      "# Create the dataset\n",
      "dataset = wifi_data.wifi_data(folder_location=folderLocation, filename=fname_dataset, normalize=False, missingValues=0, nTraining=1200, nTesting=343, nValidation=0, verbose=False)\n",
      "    \n"
     ],
     "language": "python",
     "metadata": {},
     "outputs": [],
     "prompt_number": 8
    },
    {
     "cell_type": "code",
     "collapsed": false,
     "input": [
      "# Show the dataset properties\n",
      "print \"Training Shape: \", dataset.train_set.shape, dataset.pos_train.shape, dataset.pos_train_classifier.shape\n"
     ],
     "language": "python",
     "metadata": {},
     "outputs": [
      {
       "output_type": "stream",
       "stream": "stdout",
       "text": [
        "Training Shape:  (1200, 24) (1200, 2) (1200, 175)\n"
       ]
      }
     ],
     "prompt_number": 9
    },
    {
     "cell_type": "code",
     "collapsed": false,
     "input": [
      "print \"Test Shape: \", dataset.test_set.shape, dataset.pos_test.shape, dataset.pos_test_classifier.shape\n",
      "# Validation split can be omitted, because Keras can create a validation\n",
      "# split from the training set\n",
      "if dataset.valid_set != None:\n",
      "    print \"Validation Shape: \", dataset.valid_set.shape, dataset.pos_valid.shape"
     ],
     "language": "python",
     "metadata": {},
     "outputs": [
      {
       "output_type": "stream",
       "stream": "stdout",
       "text": [
        "Test Shape:  (343, 24) (343, 2) (343, 175)\n"
       ]
      }
     ],
     "prompt_number": 10
    },
    {
     "cell_type": "code",
     "collapsed": false,
     "input": [
      "# Initiate the Neural Network Object\n",
      "myNN = nn.nn(model_name=fname_model, location=folderLocation, valid_split = 0.15, epoch=3000)\n",
      "lora_only = dataset.train_set[:,-8:];\n",
      "myNN.fit_model(lora_only, dataset.pos_train_classifier)\n"
     ],
     "language": "python",
     "metadata": {},
     "outputs": [
      {
       "output_type": "stream",
       "stream": "stdout",
       "text": [
        "Train on 1020 samples, validate on 180 samples\n",
        "WARNING:tensorflow:From /usr/local/lib/python2.7/dist-packages/keras/callbacks.py:618 in set_model.: merge_all_summaries (from tensorflow.python.ops.logging_ops) is deprecated and will be removed after 2016-11-30.\n",
        "Instructions for updating:\n",
        "Please switch to tf.summary.merge_all.\n"
       ]
      },
      {
       "output_type": "stream",
       "stream": "stderr",
       "text": [
        "WARNING:tensorflow:From /usr/local/lib/python2.7/dist-packages/keras/callbacks.py:618 in set_model.: merge_all_summaries (from tensorflow.python.ops.logging_ops) is deprecated and will be removed after 2016-11-30.\n",
        "Instructions for updating:\n",
        "Please switch to tf.summary.merge_all.\n"
       ]
      },
      {
       "output_type": "stream",
       "stream": "stdout",
       "text": [
        "Epoch 1/3000\n",
        "0s - loss: 6.8555 - val_loss: 10.6670\n"
       ]
      },
      {
       "output_type": "stream",
       "stream": "stdout",
       "text": [
        "Epoch 2/3000\n",
        "0s - loss: 8.6559 - val_loss: 7.2545\n",
        "Epoch 3/3000\n",
        "0s - loss: 6.9866 - val_loss: 5.5052\n"
       ]
      },
      {
       "output_type": "stream",
       "stream": "stdout",
       "text": [
        "Epoch 4/3000\n",
        "0s - loss: 5.1638 - val_loss: 5.1777\n"
       ]
      },
      {
       "output_type": "stream",
       "stream": "stdout",
       "text": [
        "Epoch 5/3000\n",
        "0s - loss: 5.0473 - val_loss: 5.2464\n",
        "Epoch 6/3000\n",
        "0s - loss: 5.0335 - val_loss: 5.1637\n"
       ]
      },
      {
       "output_type": "stream",
       "stream": "stdout",
       "text": [
        "Epoch 7/3000\n",
        "0s - loss: 5.0008 - val_loss: 5.1721\n",
        "Epoch 8/3000\n",
        "0s - loss: 4.9990 - val_loss: 5.2198\n"
       ]
      },
      {
       "output_type": "stream",
       "stream": "stdout",
       "text": [
        "Epoch 9/3000\n",
        "0s - loss: 4.9686 - val_loss: 5.0729\n"
       ]
      },
      {
       "output_type": "stream",
       "stream": "stdout",
       "text": [
        "Epoch 10/3000\n",
        "0s - loss: 4.9411 - val_loss: 5.1592\n",
        "Epoch 11/3000\n",
        "0s - loss: 4.9770 - val_loss: 5.4510\n"
       ]
      },
      {
       "output_type": "stream",
       "stream": "stdout",
       "text": [
        "Epoch 12/3000\n",
        "0s - loss: 5.3100 - val_loss: 5.6149\n"
       ]
      },
      {
       "output_type": "stream",
       "stream": "stdout",
       "text": [
        "Epoch 13/3000\n",
        "0s - loss: 5.1372 - val_loss: 5.1624\n",
        "Epoch 14/3000\n",
        "0s - loss: 4.9978 - val_loss: 5.1912\n"
       ]
      },
      {
       "output_type": "stream",
       "stream": "stdout",
       "text": [
        "Epoch 15/3000\n",
        "0s - loss: 5.0287 - val_loss: 5.0121\n"
       ]
      },
      {
       "output_type": "stream",
       "stream": "stdout",
       "text": [
        "Epoch 16/3000\n",
        "0s - loss: 4.9599 - val_loss: 5.0638\n",
        "Epoch 17/3000\n",
        "0s - loss: 5.1452 - val_loss: 5.2179\n"
       ]
      },
      {
       "output_type": "stream",
       "stream": "stdout",
       "text": [
        "Epoch 18/3000\n",
        "0s - loss: 5.0269 - val_loss: 5.1811\n"
       ]
      },
      {
       "output_type": "stream",
       "stream": "stdout",
       "text": [
        "Epoch 19/3000\n",
        "0s - loss: 5.0002 - val_loss: 5.1375\n",
        "Epoch 20/3000\n",
        "0s - loss: 5.0198 - val_loss: 5.2560\n"
       ]
      },
      {
       "output_type": "stream",
       "stream": "stdout",
       "text": [
        "Epoch 21/3000\n",
        "0s - loss: 5.0943 - val_loss: 5.1932\n"
       ]
      },
      {
       "output_type": "stream",
       "stream": "stdout",
       "text": [
        "Epoch 22/3000\n",
        "0s - loss: 5.1648 - val_loss: 6.9719\n"
       ]
      },
      {
       "output_type": "stream",
       "stream": "stdout",
       "text": [
        "Epoch 23/3000\n",
        "0s - loss: 6.7466 - val_loss: 5.4159\n"
       ]
      },
      {
       "output_type": "stream",
       "stream": "stdout",
       "text": [
        "Epoch 24/3000\n",
        "0s - loss: 5.2943 - val_loss: 4.9875\n"
       ]
      },
      {
       "output_type": "stream",
       "stream": "stdout",
       "text": [
        "Epoch 25/3000\n",
        "0s - loss: 4.9211 - val_loss: 4.9723\n"
       ]
      },
      {
       "output_type": "stream",
       "stream": "stdout",
       "text": [
        "Epoch 26/3000\n",
        "0s - loss: 4.8200 - val_loss: 4.9415\n"
       ]
      },
      {
       "output_type": "stream",
       "stream": "stdout",
       "text": [
        "Epoch 27/3000\n",
        "0s - loss: 4.7798 - val_loss: 4.9694\n"
       ]
      },
      {
       "output_type": "stream",
       "stream": "stdout",
       "text": [
        "Epoch 28/3000\n",
        "0s - loss: 4.7614 - val_loss: 4.9352\n"
       ]
      },
      {
       "output_type": "stream",
       "stream": "stdout",
       "text": [
        "Epoch 29/3000\n",
        "0s - loss: 4.7534 - val_loss: 5.1720\n"
       ]
      },
      {
       "output_type": "stream",
       "stream": "stdout",
       "text": [
        "Epoch 30/3000\n",
        "0s - loss: 5.3574 - val_loss: 6.5248\n"
       ]
      },
      {
       "output_type": "stream",
       "stream": "stdout",
       "text": [
        "Epoch 31/3000\n",
        "0s - loss: 5.5443 - val_loss: 5.0222\n"
       ]
      },
      {
       "output_type": "stream",
       "stream": "stdout",
       "text": [
        "Epoch 32/3000\n",
        "0s - loss: 4.7692 - val_loss: 4.8956\n",
        "Epoch 33/3000\n",
        "0s - loss: 4.7078 - val_loss: 5.3531\n"
       ]
      },
      {
       "output_type": "stream",
       "stream": "stdout",
       "text": [
        "Epoch 34/3000\n",
        "0s - loss: 5.2698 - val_loss: 5.4589\n"
       ]
      },
      {
       "output_type": "stream",
       "stream": "stdout",
       "text": [
        "Epoch 35/3000\n",
        "0s - loss: 4.9899 - val_loss: 4.9083\n",
        "Epoch 36/3000\n",
        "0s - loss: 4.8218 - val_loss: 5.2907\n"
       ]
      },
      {
       "output_type": "stream",
       "stream": "stdout",
       "text": [
        "Epoch 37/3000\n",
        "0s - loss: 5.0253 - val_loss: 4.9181\n"
       ]
      },
      {
       "output_type": "stream",
       "stream": "stdout",
       "text": [
        "Epoch 38/3000\n",
        "0s - loss: 4.7757 - val_loss: 5.1590\n"
       ]
      },
      {
       "output_type": "stream",
       "stream": "stdout",
       "text": [
        "Epoch 39/3000\n",
        "0s - loss: 5.4538 - val_loss: 6.4686\n"
       ]
      },
      {
       "output_type": "stream",
       "stream": "stdout",
       "text": [
        "Epoch 40/3000\n",
        "0s - loss: 5.7494 - val_loss: 4.9343\n"
       ]
      },
      {
       "output_type": "stream",
       "stream": "stdout",
       "text": [
        "Epoch 41/3000\n",
        "0s - loss: 4.7548 - val_loss: 4.9354\n"
       ]
      },
      {
       "output_type": "stream",
       "stream": "stdout",
       "text": [
        "Epoch 42/3000\n",
        "0s - loss: 4.7105 - val_loss: 4.8601\n"
       ]
      },
      {
       "output_type": "stream",
       "stream": "stdout",
       "text": [
        "Epoch 43/3000\n",
        "0s - loss: 4.6797 - val_loss: 4.9824\n"
       ]
      },
      {
       "output_type": "stream",
       "stream": "stdout",
       "text": [
        "Epoch 44/3000\n",
        "0s - loss: 4.7471 - val_loss: 5.0370\n"
       ]
      },
      {
       "output_type": "stream",
       "stream": "stdout",
       "text": [
        "Epoch 45/3000\n",
        "0s - loss: 4.7266 - val_loss: 4.8176\n"
       ]
      },
      {
       "output_type": "stream",
       "stream": "stdout",
       "text": [
        "Epoch 46/3000\n",
        "0s - loss: 4.6178 - val_loss: 5.1675\n"
       ]
      },
      {
       "output_type": "stream",
       "stream": "stdout",
       "text": [
        "Epoch 47/3000\n",
        "0s - loss: 5.0399 - val_loss: 4.9503\n"
       ]
      },
      {
       "output_type": "stream",
       "stream": "stdout",
       "text": [
        "Epoch 48/3000\n",
        "0s - loss: 4.6982 - val_loss: 4.8596\n"
       ]
      },
      {
       "output_type": "stream",
       "stream": "stdout",
       "text": [
        "Epoch 49/3000\n",
        "0s - loss: 4.9314 - val_loss: 5.8605\n"
       ]
      },
      {
       "output_type": "stream",
       "stream": "stdout",
       "text": [
        "Epoch 50/3000\n",
        "0s - loss: 5.1668 - val_loss: 5.4323\n"
       ]
      },
      {
       "output_type": "stream",
       "stream": "stdout",
       "text": [
        "Epoch 51/3000\n",
        "0s - loss: 5.2303 - val_loss: 4.8858\n"
       ]
      },
      {
       "output_type": "stream",
       "stream": "stdout",
       "text": [
        "Epoch 52/3000\n",
        "0s - loss: 4.7900 - val_loss: 4.9130\n",
        "Epoch 53/3000\n",
        "0s - loss: 5.2803 - val_loss: 6.6591\n"
       ]
      },
      {
       "output_type": "stream",
       "stream": "stdout",
       "text": [
        "Epoch 54/3000\n",
        "0s - loss: 6.0485 - val_loss: 5.3426\n"
       ]
      },
      {
       "output_type": "stream",
       "stream": "stdout",
       "text": [
        "Epoch 55/3000\n",
        "0s - loss: 4.7826 - val_loss: 4.7296\n"
       ]
      },
      {
       "output_type": "stream",
       "stream": "stdout",
       "text": [
        "Epoch 56/3000\n",
        "0s - loss: 4.4384 - val_loss: 4.6919\n"
       ]
      },
      {
       "output_type": "stream",
       "stream": "stdout",
       "text": [
        "Epoch 57/3000\n",
        "0s - loss: 4.4565 - val_loss: 4.9955\n",
        "Epoch 58/3000\n",
        "0s - loss: 4.8053 - val_loss: 4.7655\n"
       ]
      },
      {
       "output_type": "stream",
       "stream": "stdout",
       "text": [
        "Epoch 59/3000\n",
        "0s - loss: 4.5691 - val_loss: 4.7655\n"
       ]
      },
      {
       "output_type": "stream",
       "stream": "stdout",
       "text": [
        "Epoch 60/3000\n",
        "0s - loss: 4.5898 - val_loss: 5.4393\n"
       ]
      },
      {
       "output_type": "stream",
       "stream": "stdout",
       "text": [
        "Epoch 61/3000\n",
        "0s - loss: 4.9142 - val_loss: 5.1204\n"
       ]
      },
      {
       "output_type": "stream",
       "stream": "stdout",
       "text": [
        "Epoch 62/3000\n",
        "0s - loss: 4.7241 - val_loss: 4.9417\n"
       ]
      },
      {
       "output_type": "stream",
       "stream": "stdout",
       "text": [
        "Epoch 63/3000\n",
        "0s - loss: 4.8283 - val_loss: 5.0383\n"
       ]
      },
      {
       "output_type": "stream",
       "stream": "stdout",
       "text": [
        "Epoch 64/3000\n",
        "0s - loss: 4.8126 - val_loss: 5.0225\n"
       ]
      },
      {
       "output_type": "stream",
       "stream": "stdout",
       "text": [
        "Epoch 65/3000\n",
        "0s - loss: 4.7900 - val_loss: 4.7768\n",
        "Epoch 66/3000\n",
        "0s - loss: 4.7692 - val_loss: 6.6852\n"
       ]
      },
      {
       "output_type": "stream",
       "stream": "stdout",
       "text": [
        "Epoch 67/3000\n",
        "0s - loss: 5.8101 - val_loss: 4.9925\n"
       ]
      },
      {
       "output_type": "stream",
       "stream": "stdout",
       "text": [
        "Epoch 68/3000\n",
        "0s - loss: 4.6022 - val_loss: 4.6025\n",
        "Epoch 69/3000\n",
        "0s - loss: 4.3426 - val_loss: 4.5308\n"
       ]
      },
      {
       "output_type": "stream",
       "stream": "stdout",
       "text": [
        "Epoch 70/3000\n",
        "0s - loss: 4.2844 - val_loss: 4.8623\n"
       ]
      },
      {
       "output_type": "stream",
       "stream": "stdout",
       "text": [
        "Epoch 71/3000\n",
        "0s - loss: 4.8141 - val_loss: 5.1529\n",
        "Epoch 72/3000\n",
        "0s - loss: 4.9450 - val_loss: 5.0346\n"
       ]
      },
      {
       "output_type": "stream",
       "stream": "stdout",
       "text": [
        "Epoch 73/3000\n",
        "0s - loss: 4.5909 - val_loss: 4.6545\n"
       ]
      },
      {
       "output_type": "stream",
       "stream": "stdout",
       "text": [
        "Epoch 74/3000\n",
        "0s - loss: 4.5309 - val_loss: 5.0600\n"
       ]
      },
      {
       "output_type": "stream",
       "stream": "stdout",
       "text": [
        "Epoch 75/3000\n",
        "0s - loss: 5.1794 - val_loss: 5.8247\n"
       ]
      },
      {
       "output_type": "stream",
       "stream": "stdout",
       "text": [
        "Epoch 76/3000\n",
        "0s - loss: 5.7305 - val_loss: 5.7317\n"
       ]
      },
      {
       "output_type": "stream",
       "stream": "stdout",
       "text": [
        "Epoch 77/3000\n",
        "0s - loss: 5.1103 - val_loss: 4.6869\n"
       ]
      },
      {
       "output_type": "stream",
       "stream": "stdout",
       "text": [
        "Epoch 78/3000\n",
        "0s - loss: 4.6237 - val_loss: 4.9533\n"
       ]
      },
      {
       "output_type": "stream",
       "stream": "stdout",
       "text": [
        "Epoch 79/3000\n",
        "0s - loss: 4.5650 - val_loss: 4.6216\n"
       ]
      },
      {
       "output_type": "stream",
       "stream": "stdout",
       "text": [
        "Epoch 80/3000\n",
        "0s - loss: 4.2562 - val_loss: 4.6313\n"
       ]
      },
      {
       "output_type": "stream",
       "stream": "stdout",
       "text": [
        "Epoch 81/3000\n",
        "0s - loss: 4.3955 - val_loss: 4.8514\n"
       ]
      },
      {
       "output_type": "stream",
       "stream": "stdout",
       "text": [
        "Epoch 82/3000\n",
        "0s - loss: 4.4953 - val_loss: 4.9205\n"
       ]
      },
      {
       "output_type": "stream",
       "stream": "stdout",
       "text": [
        "Epoch 83/3000\n",
        "0s - loss: 4.6414 - val_loss: 5.1645\n"
       ]
      },
      {
       "output_type": "stream",
       "stream": "stdout",
       "text": [
        "Epoch 84/3000\n",
        "0s - loss: 5.0674 - val_loss: 5.5002\n"
       ]
      },
      {
       "output_type": "stream",
       "stream": "stdout",
       "text": [
        "Epoch 85/3000\n",
        "0s - loss: 4.9638 - val_loss: 4.8293\n"
       ]
      },
      {
       "output_type": "stream",
       "stream": "stdout",
       "text": [
        "Epoch 86/3000\n",
        "0s - loss: 4.4169 - val_loss: 4.8198\n"
       ]
      },
      {
       "output_type": "stream",
       "stream": "stdout",
       "text": [
        "Epoch 87/3000\n",
        "0s - loss: 4.5997 - val_loss: 5.9451\n"
       ]
      },
      {
       "output_type": "stream",
       "stream": "stdout",
       "text": [
        "Epoch 88/3000\n",
        "0s - loss: 5.5670 - val_loss: 5.0160\n",
        "Epoch 89/3000\n",
        "0s - loss: 4.5826 - val_loss: 5.0923\n"
       ]
      },
      {
       "output_type": "stream",
       "stream": "stdout",
       "text": [
        "Epoch 90/3000\n",
        "0s - loss: 5.0400 - val_loss: 5.4594\n"
       ]
      },
      {
       "output_type": "stream",
       "stream": "stdout",
       "text": [
        "Epoch 91/3000\n",
        "0s - loss: 4.9270 - val_loss: 4.9788\n"
       ]
      },
      {
       "output_type": "stream",
       "stream": "stdout",
       "text": [
        "Epoch 92/3000\n",
        "0s - loss: 4.6142 - val_loss: 4.5868\n"
       ]
      },
      {
       "output_type": "stream",
       "stream": "stdout",
       "text": [
        "Epoch 93/3000\n",
        "0s - loss: 4.1875 - val_loss: 4.4443\n"
       ]
      },
      {
       "output_type": "stream",
       "stream": "stdout",
       "text": [
        "Epoch 94/3000\n",
        "0s - loss: 4.1276 - val_loss: 4.4541\n"
       ]
      },
      {
       "output_type": "stream",
       "stream": "stdout",
       "text": [
        "Epoch 95/3000\n",
        "0s - loss: 4.1341 - val_loss: 4.6037\n"
       ]
      },
      {
       "output_type": "stream",
       "stream": "stdout",
       "text": [
        "Epoch 96/3000\n",
        "0s - loss: 4.2888 - val_loss: 4.8209\n"
       ]
      },
      {
       "output_type": "stream",
       "stream": "stdout",
       "text": [
        "Epoch 97/3000\n",
        "0s - loss: 4.3911 - val_loss: 4.7292\n"
       ]
      },
      {
       "output_type": "stream",
       "stream": "stdout",
       "text": [
        "Epoch 98/3000\n",
        "0s - loss: 4.5471 - val_loss: 5.6047\n"
       ]
      },
      {
       "output_type": "stream",
       "stream": "stdout",
       "text": [
        "Epoch 99/3000\n",
        "0s - loss: 5.5394 - val_loss: 6.2293\n"
       ]
      },
      {
       "output_type": "stream",
       "stream": "stdout",
       "text": [
        "Epoch 100/3000\n",
        "0s - loss: 5.4603 - val_loss: 6.4828\n"
       ]
      },
      {
       "output_type": "stream",
       "stream": "stdout",
       "text": [
        "Epoch 101/3000\n",
        "0s - loss: 5.9911 - val_loss: 6.6044\n"
       ]
      },
      {
       "output_type": "stream",
       "stream": "stdout",
       "text": [
        "Epoch 102/3000\n",
        "0s - loss: 6.1323 - val_loss: 4.5984\n"
       ]
      },
      {
       "output_type": "stream",
       "stream": "stdout",
       "text": [
        "Epoch 103/3000\n",
        "0s - loss: 4.2745 - val_loss: 4.4272\n"
       ]
      },
      {
       "output_type": "stream",
       "stream": "stdout",
       "text": [
        "Epoch 104/3000\n",
        "0s - loss: 4.0638 - val_loss: 4.4063\n"
       ]
      },
      {
       "output_type": "stream",
       "stream": "stdout",
       "text": [
        "Epoch 105/3000\n",
        "0s - loss: 4.0369 - val_loss: 4.4363\n"
       ]
      },
      {
       "output_type": "stream",
       "stream": "stdout",
       "text": [
        "Epoch 106/3000\n",
        "0s - loss: 4.0432 - val_loss: 4.5417\n",
        "Epoch 107/3000\n",
        "0s - loss: 4.1802 - val_loss: 4.7205\n"
       ]
      },
      {
       "output_type": "stream",
       "stream": "stdout",
       "text": [
        "Epoch 108/3000\n",
        "0s - loss: 4.3823 - val_loss: 5.4543\n",
        "Epoch 109/3000\n",
        "0s - loss: 5.1437 - val_loss: 5.2632\n"
       ]
      },
      {
       "output_type": "stream",
       "stream": "stdout",
       "text": [
        "Epoch 110/3000\n",
        "0s - loss: 4.5748 - val_loss: 4.8760\n",
        "Epoch 111/3000\n",
        "0s - loss: 4.4472 - val_loss: 5.1836\n"
       ]
      },
      {
       "output_type": "stream",
       "stream": "stdout",
       "text": [
        "Epoch 112/3000\n",
        "0s - loss: 4.6978 - val_loss: 4.8156\n",
        "Epoch 113/3000\n",
        "0s - loss: 4.3289 - val_loss: 5.3871\n"
       ]
      },
      {
       "output_type": "stream",
       "stream": "stdout",
       "text": [
        "Epoch 114/3000\n",
        "0s - loss: 4.8266 - val_loss: 4.8229\n"
       ]
      },
      {
       "output_type": "stream",
       "stream": "stdout",
       "text": [
        "Epoch 115/3000\n",
        "0s - loss: 4.3483 - val_loss: 4.8448\n"
       ]
      },
      {
       "output_type": "stream",
       "stream": "stdout",
       "text": [
        "Epoch 116/3000\n",
        "0s - loss: 4.5074 - val_loss: 5.0044\n"
       ]
      },
      {
       "output_type": "stream",
       "stream": "stdout",
       "text": [
        "Epoch 117/3000\n",
        "0s - loss: 4.4767 - val_loss: 4.4316\n"
       ]
      },
      {
       "output_type": "stream",
       "stream": "stdout",
       "text": [
        "Epoch 118/3000\n",
        "0s - loss: 3.9982 - val_loss: 4.4197\n",
        "Epoch 119/3000\n",
        "0s - loss: 4.2746 - val_loss: 5.0648\n"
       ]
      },
      {
       "output_type": "stream",
       "stream": "stdout",
       "text": [
        "Epoch 120/3000\n",
        "0s - loss: 4.5804 - val_loss: 4.8227\n"
       ]
      },
      {
       "output_type": "stream",
       "stream": "stdout",
       "text": [
        "Epoch 121/3000\n",
        "0s - loss: 4.6122 - val_loss: 4.7886\n"
       ]
      },
      {
       "output_type": "stream",
       "stream": "stdout",
       "text": [
        "Epoch 122/3000\n",
        "0s - loss: 4.4704 - val_loss: 5.5726\n"
       ]
      },
      {
       "output_type": "stream",
       "stream": "stdout",
       "text": [
        "Epoch 123/3000\n",
        "0s - loss: 5.7322 - val_loss: 5.6257\n"
       ]
      },
      {
       "output_type": "stream",
       "stream": "stdout",
       "text": [
        "Epoch 124/3000\n",
        "0s - loss: 4.9480 - val_loss: 4.7280\n"
       ]
      },
      {
       "output_type": "stream",
       "stream": "stdout",
       "text": [
        "Epoch 125/3000\n",
        "0s - loss: 4.6669 - val_loss: 4.5984\n",
        "Epoch 126/3000\n",
        "0s - loss: 4.1851 - val_loss: 4.4927\n"
       ]
      },
      {
       "output_type": "stream",
       "stream": "stdout",
       "text": [
        "Epoch 127/3000\n",
        "0s - loss: 4.2275 - val_loss: 5.1918\n"
       ]
      },
      {
       "output_type": "stream",
       "stream": "stdout",
       "text": [
        "Epoch 128/3000\n",
        "0s - loss: 4.7053 - val_loss: 4.8745\n"
       ]
      },
      {
       "output_type": "stream",
       "stream": "stdout",
       "text": [
        "Epoch 129/3000\n",
        "0s - loss: 4.2683 - val_loss: 4.8110\n"
       ]
      },
      {
       "output_type": "stream",
       "stream": "stdout",
       "text": [
        "Epoch 130/3000\n",
        "0s - loss: 4.2699 - val_loss: 4.6167\n",
        "Epoch 131/3000\n",
        "0s - loss: 4.2421 - val_loss: 5.1202\n"
       ]
      },
      {
       "output_type": "stream",
       "stream": "stdout",
       "text": [
        "Epoch 132/3000\n",
        "0s - loss: 4.6002 - val_loss: 4.7250\n",
        "Epoch 133/3000\n",
        "0s - loss: 4.2174 - val_loss: 4.4248\n"
       ]
      },
      {
       "output_type": "stream",
       "stream": "stdout",
       "text": [
        "Epoch 134/3000\n",
        "0s - loss: 4.1067 - val_loss: 5.3158\n",
        "Epoch 135/3000\n",
        "0s - loss: 5.1725 - val_loss: 6.5922\n"
       ]
      },
      {
       "output_type": "stream",
       "stream": "stdout",
       "text": [
        "Epoch 136/3000\n",
        "0s - loss: 5.2402 - val_loss: 4.7109\n",
        "Epoch 137/3000\n",
        "0s - loss: 4.2447 - val_loss: 4.4653\n"
       ]
      },
      {
       "output_type": "stream",
       "stream": "stdout",
       "text": [
        "Epoch 138/3000\n",
        "0s - loss: 4.1012 - val_loss: 4.4850\n",
        "Epoch 139/3000\n",
        "0s - loss: 4.0552 - val_loss: 4.5033\n"
       ]
      },
      {
       "output_type": "stream",
       "stream": "stdout",
       "text": [
        "Epoch 140/3000\n",
        "0s - loss: 4.3877 - val_loss: 5.6227\n",
        "Epoch 141/3000\n",
        "0s - loss: 5.0780 - val_loss: 5.2996\n"
       ]
      },
      {
       "output_type": "stream",
       "stream": "stdout",
       "text": [
        "Epoch 142/3000\n",
        "0s - loss: 5.1894 - val_loss: 5.1022\n",
        "Epoch 143/3000\n",
        "0s - loss: 4.3884 - val_loss: 4.4330\n"
       ]
      },
      {
       "output_type": "stream",
       "stream": "stdout",
       "text": [
        "Epoch 144/3000\n",
        "0s - loss: 3.9317 - val_loss: 4.2892\n"
       ]
      },
      {
       "output_type": "stream",
       "stream": "stdout",
       "text": [
        "Epoch 145/3000\n",
        "0s - loss: 3.9723 - val_loss: 4.9645\n"
       ]
      },
      {
       "output_type": "stream",
       "stream": "stdout",
       "text": [
        "Epoch 146/3000\n",
        "0s - loss: 4.6610 - val_loss: 4.5800\n"
       ]
      },
      {
       "output_type": "stream",
       "stream": "stdout",
       "text": [
        "Epoch 147/3000\n",
        "0s - loss: 4.1838 - val_loss: 5.2658\n",
        "Epoch 148/3000\n",
        "0s - loss: 5.0363 - val_loss: 5.1137\n"
       ]
      },
      {
       "output_type": "stream",
       "stream": "stdout",
       "text": [
        "Epoch 149/3000\n",
        "0s - loss: 4.7861 - val_loss: 5.4824\n"
       ]
      },
      {
       "output_type": "stream",
       "stream": "stdout",
       "text": [
        "Epoch 150/3000\n",
        "0s - loss: 4.8177 - val_loss: 4.4051\n"
       ]
      },
      {
       "output_type": "stream",
       "stream": "stdout",
       "text": [
        "Epoch 151/3000\n",
        "0s - loss: 4.1920 - val_loss: 4.6698\n"
       ]
      },
      {
       "output_type": "stream",
       "stream": "stdout",
       "text": [
        "Epoch 152/3000\n",
        "0s - loss: 4.4426 - val_loss: 4.4691\n"
       ]
      },
      {
       "output_type": "stream",
       "stream": "stdout",
       "text": [
        "Epoch 153/3000\n",
        "0s - loss: 3.9915 - val_loss: 4.3507\n"
       ]
      },
      {
       "output_type": "stream",
       "stream": "stdout",
       "text": [
        "Epoch 154/3000\n",
        "0s - loss: 4.0458 - val_loss: 4.4967\n"
       ]
      },
      {
       "output_type": "stream",
       "stream": "stdout",
       "text": [
        "Epoch 155/3000\n",
        "0s - loss: 4.2486 - val_loss: 5.5246\n"
       ]
      },
      {
       "output_type": "stream",
       "stream": "stdout",
       "text": [
        "Epoch 156/3000\n",
        "0s - loss: 5.2796 - val_loss: 5.7116\n"
       ]
      },
      {
       "output_type": "stream",
       "stream": "stdout",
       "text": [
        "Epoch 157/3000\n",
        "0s - loss: 4.9231 - val_loss: 4.8671\n"
       ]
      },
      {
       "output_type": "stream",
       "stream": "stdout",
       "text": [
        "Epoch 158/3000\n",
        "0s - loss: 4.3112 - val_loss: 4.4549\n",
        "Epoch 159/3000\n",
        "0s - loss: 3.9015 - val_loss: 4.3645\n"
       ]
      },
      {
       "output_type": "stream",
       "stream": "stdout",
       "text": [
        "Epoch 160/3000\n",
        "0s - loss: 4.0069 - val_loss: 5.2876\n",
        "Epoch 161/3000\n",
        "0s - loss: 4.9899 - val_loss: 5.0771\n"
       ]
      },
      {
       "output_type": "stream",
       "stream": "stdout",
       "text": [
        "Epoch 162/3000\n",
        "0s - loss: 4.7489 - val_loss: 4.7487\n",
        "Epoch 163/3000\n",
        "0s - loss: 4.4627 - val_loss: 5.2648\n"
       ]
      },
      {
       "output_type": "stream",
       "stream": "stdout",
       "text": [
        "Epoch 164/3000\n",
        "0s - loss: 4.9766 - val_loss: 5.3407\n",
        "Epoch 165/3000\n",
        "0s - loss: 4.3670 - val_loss: 4.3540\n"
       ]
      },
      {
       "output_type": "stream",
       "stream": "stdout",
       "text": [
        "Epoch 166/3000\n",
        "0s - loss: 3.9319 - val_loss: 4.5264\n",
        "Epoch 167/3000\n",
        "0s - loss: 4.1357 - val_loss: 5.3176\n"
       ]
      },
      {
       "output_type": "stream",
       "stream": "stdout",
       "text": [
        "Epoch 168/3000\n",
        "0s - loss: 4.4866 - val_loss: 4.7846\n",
        "Epoch 169/3000\n",
        "0s - loss: 4.5917 - val_loss: 5.1408\n"
       ]
      },
      {
       "output_type": "stream",
       "stream": "stdout",
       "text": [
        "Epoch 170/3000\n",
        "0s - loss: 4.4233 - val_loss: 4.6148\n",
        "Epoch 171/3000\n",
        "0s - loss: 4.2626 - val_loss: 4.7033\n"
       ]
      },
      {
       "output_type": "stream",
       "stream": "stdout",
       "text": [
        "Epoch 172/3000\n",
        "0s - loss: 4.2579 - val_loss: 4.4544\n",
        "Epoch 173/3000\n",
        "0s - loss: 4.0787 - val_loss: 4.8046\n"
       ]
      },
      {
       "output_type": "stream",
       "stream": "stdout",
       "text": [
        "Epoch 174/3000\n",
        "0s - loss: 4.3152 - val_loss: 4.8517\n",
        "Epoch 175/3000\n",
        "0s - loss: 4.6631 - val_loss: 5.7072\n"
       ]
      },
      {
       "output_type": "stream",
       "stream": "stdout",
       "text": [
        "Epoch 176/3000\n",
        "0s - loss: 4.7725 - val_loss: 4.6636\n",
        "Epoch 177/3000\n",
        "0s - loss: 4.1249 - val_loss: 4.6066\n"
       ]
      },
      {
       "output_type": "stream",
       "stream": "stdout",
       "text": [
        "Epoch 178/3000\n",
        "0s - loss: 4.1392 - val_loss: 4.4330\n",
        "Epoch 179/3000\n",
        "0s - loss: 4.2125 - val_loss: 5.5069\n"
       ]
      },
      {
       "output_type": "stream",
       "stream": "stdout",
       "text": [
        "Epoch 180/3000\n",
        "0s - loss: 4.7346 - val_loss: 5.0709\n",
        "Epoch 181/3000\n",
        "0s - loss: 4.3819 - val_loss: 4.9387\n"
       ]
      },
      {
       "output_type": "stream",
       "stream": "stdout",
       "text": [
        "Epoch 182/3000\n",
        "0s - loss: 4.2413 - val_loss: 4.7285\n",
        "Epoch 183/3000\n",
        "0s - loss: 4.1805 - val_loss: 4.8403\n"
       ]
      },
      {
       "output_type": "stream",
       "stream": "stdout",
       "text": [
        "Epoch 184/3000\n",
        "0s - loss: 4.7092 - val_loss: 4.9320\n"
       ]
      },
      {
       "output_type": "stream",
       "stream": "stdout",
       "text": [
        "Epoch 185/3000\n",
        "0s - loss: 4.2706 - val_loss: 4.4479\n"
       ]
      },
      {
       "output_type": "stream",
       "stream": "stdout",
       "text": [
        "Epoch 186/3000\n",
        "0s - loss: 4.0097 - val_loss: 4.3168\n"
       ]
      },
      {
       "output_type": "stream",
       "stream": "stdout",
       "text": [
        "Epoch 187/3000\n",
        "0s - loss: 3.9206 - val_loss: 4.5211\n",
        "Epoch 188/3000\n",
        "0s - loss: 4.1836 - val_loss: 4.7711\n"
       ]
      },
      {
       "output_type": "stream",
       "stream": "stdout",
       "text": [
        "Epoch 189/3000\n",
        "0s - loss: 4.4019 - val_loss: 5.2782\n"
       ]
      },
      {
       "output_type": "stream",
       "stream": "stdout",
       "text": [
        "Epoch 190/3000\n",
        "0s - loss: 4.3864 - val_loss: 4.4454\n"
       ]
      },
      {
       "output_type": "stream",
       "stream": "stdout",
       "text": [
        "Epoch 191/3000\n",
        "0s - loss: 4.1293 - val_loss: 5.2249\n"
       ]
      },
      {
       "output_type": "stream",
       "stream": "stdout",
       "text": [
        "Epoch 192/3000\n",
        "0s - loss: 4.3368 - val_loss: 4.8339\n",
        "Epoch 193/3000\n",
        "0s - loss: 4.7636 - val_loss: 5.5436\n"
       ]
      },
      {
       "output_type": "stream",
       "stream": "stdout",
       "text": [
        "Epoch 194/3000\n",
        "0s - loss: 5.4188 - val_loss: 5.3558\n",
        "Epoch 195/3000\n",
        "0s - loss: 4.4657 - val_loss: 4.6544\n"
       ]
      },
      {
       "output_type": "stream",
       "stream": "stdout",
       "text": [
        "Epoch 196/3000\n",
        "0s - loss: 4.3263 - val_loss: 5.3489\n",
        "Epoch 197/3000\n",
        "0s - loss: 4.6965 - val_loss: 4.9159\n"
       ]
      },
      {
       "output_type": "stream",
       "stream": "stdout",
       "text": [
        "Epoch 198/3000\n",
        "0s - loss: 4.1798 - val_loss: 4.7053\n",
        "Epoch 199/3000\n",
        "0s - loss: 4.1703 - val_loss: 4.8300\n"
       ]
      },
      {
       "output_type": "stream",
       "stream": "stdout",
       "text": [
        "Epoch 200/3000\n",
        "0s - loss: 4.5978 - val_loss: 4.4515\n",
        "Epoch 201/3000\n",
        "0s - loss: 4.1352 - val_loss: 4.7887\n"
       ]
      },
      {
       "output_type": "stream",
       "stream": "stdout",
       "text": [
        "Epoch 202/3000\n",
        "0s - loss: 4.1393 - val_loss: 4.7216\n",
        "Epoch 203/3000\n",
        "0s - loss: 4.1350 - val_loss: 4.3608\n"
       ]
      },
      {
       "output_type": "stream",
       "stream": "stdout",
       "text": [
        "Epoch 204/3000\n",
        "0s - loss: 3.8588 - val_loss: 4.4469\n",
        "Epoch 205/3000\n",
        "0s - loss: 4.0345 - val_loss: 4.7479\n"
       ]
      },
      {
       "output_type": "stream",
       "stream": "stdout",
       "text": [
        "Epoch 206/3000\n",
        "0s - loss: 4.2664 - val_loss: 5.2016\n",
        "Epoch 207/3000\n",
        "0s - loss: 4.7886 - val_loss: 6.2052\n"
       ]
      },
      {
       "output_type": "stream",
       "stream": "stdout",
       "text": [
        "Epoch 208/3000\n",
        "0s - loss: 4.9645 - val_loss: 4.7037\n",
        "Epoch 209/3000\n",
        "0s - loss: 4.2588 - val_loss: 4.9194\n"
       ]
      },
      {
       "output_type": "stream",
       "stream": "stdout",
       "text": [
        "Epoch 210/3000\n",
        "0s - loss: 4.2978 - val_loss: 4.6842\n",
        "Epoch 211/3000\n",
        "0s - loss: 4.0626 - val_loss: 4.4309\n"
       ]
      },
      {
       "output_type": "stream",
       "stream": "stdout",
       "text": [
        "Epoch 212/3000\n",
        "0s - loss: 4.0186 - val_loss: 4.6976\n",
        "Epoch 213/3000\n",
        "0s - loss: 4.4570 - val_loss: 5.1181\n"
       ]
      },
      {
       "output_type": "stream",
       "stream": "stdout",
       "text": [
        "Epoch 214/3000\n",
        "0s - loss: 4.3414 - val_loss: 4.7574\n",
        "Epoch 215/3000\n",
        "0s - loss: 4.0515 - val_loss: 4.4940\n"
       ]
      },
      {
       "output_type": "stream",
       "stream": "stdout",
       "text": [
        "Epoch 216/3000\n",
        "0s - loss: 4.2166 - val_loss: 5.0895\n",
        "Epoch 217/3000\n",
        "0s - loss: 4.5696 - val_loss: 5.1664\n"
       ]
      },
      {
       "output_type": "stream",
       "stream": "stdout",
       "text": [
        "Epoch 218/3000\n",
        "0s - loss: 4.4710 - val_loss: 5.2975\n",
        "Epoch 219/3000\n",
        "0s - loss: 4.5291 - val_loss: 4.4171\n"
       ]
      },
      {
       "output_type": "stream",
       "stream": "stdout",
       "text": [
        "Epoch 220/3000\n",
        "0s - loss: 3.9950 - val_loss: 4.1853\n",
        "Epoch 221/3000\n",
        "0s - loss: 3.9723 - val_loss: 5.0947\n"
       ]
      },
      {
       "output_type": "stream",
       "stream": "stdout",
       "text": [
        "Epoch 222/3000\n",
        "0s - loss: 4.4937 - val_loss: 4.8308\n",
        "Epoch 223/3000\n",
        "0s - loss: 4.3295 - val_loss: 4.8162\n"
       ]
      },
      {
       "output_type": "stream",
       "stream": "stdout",
       "text": [
        "Epoch 224/3000\n",
        "0s - loss: 4.3865 - val_loss: 4.4527\n",
        "Epoch 225/3000\n",
        "0s - loss: 4.0817 - val_loss: 4.8731\n"
       ]
      },
      {
       "output_type": "stream",
       "stream": "stdout",
       "text": [
        "Epoch 226/3000\n",
        "0s - loss: 4.2139 - val_loss: 5.1798\n",
        "Epoch 227/3000\n",
        "0s - loss: 4.8663 - val_loss: 4.8033\n"
       ]
      },
      {
       "output_type": "stream",
       "stream": "stdout",
       "text": [
        "Epoch 228/3000\n",
        "0s - loss: 4.1212 - val_loss: 4.4333\n",
        "Epoch 229/3000\n",
        "0s - loss: 3.9689 - val_loss: 4.8681\n"
       ]
      },
      {
       "output_type": "stream",
       "stream": "stdout",
       "text": [
        "Epoch 230/3000\n",
        "0s - loss: 4.1774 - val_loss: 4.8663\n",
        "Epoch 231/3000\n",
        "0s - loss: 4.0356 - val_loss: 4.4534\n"
       ]
      },
      {
       "output_type": "stream",
       "stream": "stdout",
       "text": [
        "Epoch 232/3000\n",
        "0s - loss: 3.9782 - val_loss: 4.9176\n",
        "Epoch 233/3000\n",
        "0s - loss: 4.2236 - val_loss: 4.8397\n"
       ]
      },
      {
       "output_type": "stream",
       "stream": "stdout",
       "text": [
        "Epoch 234/3000\n",
        "0s - loss: 4.5054 - val_loss: 5.3509\n",
        "Epoch 235/3000\n",
        "0s - loss: 4.6555 - val_loss: 4.4797\n"
       ]
      },
      {
       "output_type": "stream",
       "stream": "stdout",
       "text": [
        "Epoch 236/3000\n",
        "0s - loss: 4.0730 - val_loss: 4.8329\n",
        "Epoch 237/3000\n",
        "0s - loss: 4.1009 - val_loss: 4.9450\n"
       ]
      },
      {
       "output_type": "stream",
       "stream": "stdout",
       "text": [
        "Epoch 238/3000\n",
        "0s - loss: 4.4370 - val_loss: 5.1350\n",
        "Epoch 239/3000\n",
        "0s - loss: 4.2924 - val_loss: 5.0254\n"
       ]
      },
      {
       "output_type": "stream",
       "stream": "stdout",
       "text": [
        "Epoch 240/3000\n",
        "0s - loss: 4.3881 - val_loss: 5.1362\n",
        "Epoch 241/3000\n",
        "0s - loss: 4.5007 - val_loss: 4.3537\n"
       ]
      },
      {
       "output_type": "stream",
       "stream": "stdout",
       "text": [
        "Epoch 242/3000\n",
        "0s - loss: 3.9600 - val_loss: 4.4993\n",
        "Epoch 243/3000\n",
        "0s - loss: 3.9476 - val_loss: 4.5268\n"
       ]
      },
      {
       "output_type": "stream",
       "stream": "stdout",
       "text": [
        "Epoch 244/3000\n",
        "0s - loss: 4.1234 - val_loss: 5.3948\n",
        "Epoch 245/3000\n",
        "0s - loss: 4.4772 - val_loss: 4.8325\n"
       ]
      },
      {
       "output_type": "stream",
       "stream": "stdout",
       "text": [
        "Epoch 246/3000\n",
        "0s - loss: 4.1346 - val_loss: 4.6562\n",
        "Epoch 247/3000\n",
        "0s - loss: 4.1205 - val_loss: 4.3525\n"
       ]
      },
      {
       "output_type": "stream",
       "stream": "stdout",
       "text": [
        "Epoch 248/3000\n",
        "0s - loss: 3.8118 - val_loss: 4.5145\n",
        "Epoch 249/3000\n",
        "0s - loss: 4.1529 - val_loss: 5.0161\n"
       ]
      },
      {
       "output_type": "stream",
       "stream": "stdout",
       "text": [
        "Epoch 250/3000\n",
        "0s - loss: 4.4867 - val_loss: 5.3352\n",
        "Epoch 251/3000\n",
        "0s - loss: 4.4834 - val_loss: 4.9941\n"
       ]
      },
      {
       "output_type": "stream",
       "stream": "stdout",
       "text": [
        "Epoch 252/3000\n",
        "0s - loss: 4.7469 - val_loss: 5.7280\n",
        "Epoch 253/3000\n",
        "0s - loss: 4.8450 - val_loss: 4.7587\n"
       ]
      },
      {
       "output_type": "stream",
       "stream": "stdout",
       "text": [
        "Epoch 254/3000\n",
        "0s - loss: 4.4208 - val_loss: 4.8947\n",
        "Epoch 255/3000\n",
        "0s - loss: 4.2067 - val_loss: 4.3642\n"
       ]
      },
      {
       "output_type": "stream",
       "stream": "stdout",
       "text": [
        "Epoch 256/3000\n",
        "0s - loss: 3.8738 - val_loss: 4.5191\n",
        "Epoch 257/3000\n",
        "0s - loss: 3.8668 - val_loss: 4.2924\n"
       ]
      },
      {
       "output_type": "stream",
       "stream": "stdout",
       "text": [
        "Epoch 258/3000\n",
        "0s - loss: 3.8461 - val_loss: 4.5643\n",
        "Epoch 259/3000\n",
        "0s - loss: 4.1125 - val_loss: 4.4678\n"
       ]
      },
      {
       "output_type": "stream",
       "stream": "stdout",
       "text": [
        "Epoch 260/3000\n",
        "0s - loss: 3.9081 - val_loss: 4.5242\n",
        "Epoch 261/3000\n",
        "0s - loss: 3.9757 - val_loss: 4.2978\n"
       ]
      },
      {
       "output_type": "stream",
       "stream": "stdout",
       "text": [
        "Epoch 262/3000\n",
        "0s - loss: 3.6828 - val_loss: 4.5103\n",
        "Epoch 263/3000\n",
        "0s - loss: 4.0149 - val_loss: 4.9882\n"
       ]
      },
      {
       "output_type": "stream",
       "stream": "stdout",
       "text": [
        "Epoch 264/3000\n",
        "0s - loss: 4.2430 - val_loss: 5.4450\n",
        "Epoch 265/3000\n",
        "0s - loss: 4.7993 - val_loss: 5.3684\n"
       ]
      },
      {
       "output_type": "stream",
       "stream": "stdout",
       "text": [
        "Epoch 266/3000\n",
        "0s - loss: 5.0020 - val_loss: 5.6920\n"
       ]
      },
      {
       "output_type": "stream",
       "stream": "stdout",
       "text": [
        "Epoch 267/3000\n",
        "0s - loss: 5.2863 - val_loss: 5.3763\n"
       ]
      },
      {
       "output_type": "stream",
       "stream": "stdout",
       "text": [
        "Epoch 268/3000\n",
        "0s - loss: 4.4923 - val_loss: 4.7792\n"
       ]
      },
      {
       "output_type": "stream",
       "stream": "stdout",
       "text": [
        "Epoch 269/3000\n",
        "0s - loss: 4.3903 - val_loss: 5.5734\n",
        "Epoch 270/3000\n",
        "0s - loss: 4.5252 - val_loss: 4.4483\n"
       ]
      },
      {
       "output_type": "stream",
       "stream": "stdout",
       "text": [
        "Epoch 271/3000\n",
        "0s - loss: 3.8095 - val_loss: 4.3303\n"
       ]
      },
      {
       "output_type": "stream",
       "stream": "stdout",
       "text": [
        "Epoch 272/3000\n",
        "0s - loss: 3.6646 - val_loss: 4.2486\n",
        "Epoch 273/3000\n",
        "0s - loss: 3.7370 - val_loss: 4.4521\n"
       ]
      },
      {
       "output_type": "stream",
       "stream": "stdout",
       "text": [
        "Epoch 274/3000\n",
        "0s - loss: 3.9311 - val_loss: 4.3774\n"
       ]
      },
      {
       "output_type": "stream",
       "stream": "stdout",
       "text": [
        "Epoch 275/3000\n",
        "0s - loss: 3.7049 - val_loss: 4.1472\n"
       ]
      },
      {
       "output_type": "stream",
       "stream": "stdout",
       "text": [
        "Epoch 276/3000\n",
        "0s - loss: 3.6470 - val_loss: 4.4115\n"
       ]
      },
      {
       "output_type": "stream",
       "stream": "stdout",
       "text": [
        "Epoch 277/3000\n",
        "0s - loss: 3.9765 - val_loss: 5.1767\n"
       ]
      },
      {
       "output_type": "stream",
       "stream": "stdout",
       "text": [
        "Epoch 278/3000\n",
        "0s - loss: 4.7474 - val_loss: 5.3695\n"
       ]
      },
      {
       "output_type": "stream",
       "stream": "stdout",
       "text": [
        "Epoch 279/3000\n",
        "0s - loss: 5.0045 - val_loss: 5.3680\n"
       ]
      },
      {
       "output_type": "stream",
       "stream": "stdout",
       "text": [
        "Epoch 280/3000\n",
        "0s - loss: 4.4573 - val_loss: 5.6758\n"
       ]
      },
      {
       "output_type": "stream",
       "stream": "stdout",
       "text": [
        "Epoch 281/3000\n",
        "0s - loss: 4.5063 - val_loss: 4.7170\n"
       ]
      },
      {
       "output_type": "stream",
       "stream": "stdout",
       "text": [
        "Epoch 282/3000\n",
        "0s - loss: 3.9896 - val_loss: 4.6107\n"
       ]
      },
      {
       "output_type": "stream",
       "stream": "stdout",
       "text": [
        "Epoch 283/3000\n",
        "0s - loss: 3.9820 - val_loss: 4.9963\n"
       ]
      },
      {
       "output_type": "stream",
       "stream": "stdout",
       "text": [
        "Epoch 284/3000\n",
        "0s - loss: 4.6389 - val_loss: 5.2487\n"
       ]
      },
      {
       "output_type": "stream",
       "stream": "stdout",
       "text": [
        "Epoch 285/3000\n",
        "0s - loss: 4.5390 - val_loss: 4.6927\n"
       ]
      },
      {
       "output_type": "stream",
       "stream": "stdout",
       "text": [
        "Epoch 286/3000\n",
        "0s - loss: 4.0551 - val_loss: 4.6245\n"
       ]
      },
      {
       "output_type": "stream",
       "stream": "stdout",
       "text": [
        "Epoch 287/3000\n",
        "0s - loss: 3.8604 - val_loss: 4.4788\n"
       ]
      },
      {
       "output_type": "stream",
       "stream": "stdout",
       "text": [
        "Epoch 288/3000\n",
        "0s - loss: 3.7586 - val_loss: 4.4315\n"
       ]
      },
      {
       "output_type": "stream",
       "stream": "stdout",
       "text": [
        "Epoch 289/3000\n",
        "0s - loss: 3.8644 - val_loss: 4.3722\n"
       ]
      },
      {
       "output_type": "stream",
       "stream": "stdout",
       "text": [
        "Epoch 290/3000\n",
        "0s - loss: 4.0125 - val_loss: 4.2482\n"
       ]
      },
      {
       "output_type": "stream",
       "stream": "stdout",
       "text": [
        "Epoch 291/3000\n",
        "0s - loss: 3.6770 - val_loss: 4.2764\n"
       ]
      },
      {
       "output_type": "stream",
       "stream": "stdout",
       "text": [
        "Epoch 292/3000\n",
        "0s - loss: 3.9112 - val_loss: 5.1149\n"
       ]
      },
      {
       "output_type": "stream",
       "stream": "stdout",
       "text": [
        "Epoch 293/3000\n",
        "0s - loss: 4.3876 - val_loss: 5.0559\n"
       ]
      },
      {
       "output_type": "stream",
       "stream": "stdout",
       "text": [
        "Epoch 294/3000\n",
        "0s - loss: 4.4432 - val_loss: 5.1147\n"
       ]
      },
      {
       "output_type": "stream",
       "stream": "stdout",
       "text": [
        "Epoch 295/3000\n",
        "0s - loss: 4.4880 - val_loss: 4.7698\n"
       ]
      },
      {
       "output_type": "stream",
       "stream": "stdout",
       "text": [
        "Epoch 296/3000\n",
        "0s - loss: 4.4226 - val_loss: 5.5791\n"
       ]
      },
      {
       "output_type": "stream",
       "stream": "stdout",
       "text": [
        "Epoch 297/3000\n",
        "0s - loss: 4.7163 - val_loss: 5.3436\n"
       ]
      },
      {
       "output_type": "stream",
       "stream": "stdout",
       "text": [
        "Epoch 298/3000\n",
        "0s - loss: 4.7176 - val_loss: 4.4231\n"
       ]
      },
      {
       "output_type": "stream",
       "stream": "stdout",
       "text": [
        "Epoch 299/3000\n",
        "0s - loss: 3.8857 - val_loss: 5.2875\n"
       ]
      },
      {
       "output_type": "stream",
       "stream": "stdout",
       "text": [
        "Epoch 300/3000\n",
        "0s - loss: 4.4375 - val_loss: 5.2112\n"
       ]
      },
      {
       "output_type": "stream",
       "stream": "stdout",
       "text": [
        "Epoch 301/3000\n",
        "0s - loss: 4.1990 - val_loss: 4.2380\n"
       ]
      },
      {
       "output_type": "stream",
       "stream": "stdout",
       "text": [
        "Epoch 302/3000\n",
        "0s - loss: 3.7181 - val_loss: 4.3322\n"
       ]
      },
      {
       "output_type": "stream",
       "stream": "stdout",
       "text": [
        "Epoch 303/3000\n",
        "0s - loss: 3.6886 - val_loss: 4.2474\n"
       ]
      },
      {
       "output_type": "stream",
       "stream": "stdout",
       "text": [
        "Epoch 304/3000\n",
        "0s - loss: 3.6205 - val_loss: 4.3540\n"
       ]
      },
      {
       "output_type": "stream",
       "stream": "stdout",
       "text": [
        "Epoch 305/3000\n",
        "0s - loss: 3.7755 - val_loss: 4.6532\n"
       ]
      },
      {
       "output_type": "stream",
       "stream": "stdout",
       "text": [
        "Epoch 306/3000\n",
        "0s - loss: 4.2348 - val_loss: 5.3324\n"
       ]
      },
      {
       "output_type": "stream",
       "stream": "stdout",
       "text": [
        "Epoch 307/3000\n",
        "0s - loss: 4.6500 - val_loss: 4.9561\n"
       ]
      },
      {
       "output_type": "stream",
       "stream": "stdout",
       "text": [
        "Epoch 308/3000\n",
        "0s - loss: 3.9296 - val_loss: 4.4522\n"
       ]
      },
      {
       "output_type": "stream",
       "stream": "stdout",
       "text": [
        "Epoch 309/3000\n",
        "0s - loss: 3.9527 - val_loss: 5.0092\n"
       ]
      },
      {
       "output_type": "stream",
       "stream": "stdout",
       "text": [
        "Epoch 310/3000\n",
        "0s - loss: 4.5088 - val_loss: 5.5064\n"
       ]
      },
      {
       "output_type": "stream",
       "stream": "stdout",
       "text": [
        "Epoch 311/3000\n",
        "0s - loss: 4.4367 - val_loss: 4.4868\n"
       ]
      },
      {
       "output_type": "stream",
       "stream": "stdout",
       "text": [
        "Epoch 312/3000\n",
        "0s - loss: 3.9875 - val_loss: 4.8067\n",
        "Epoch 313/3000\n",
        "0s - loss: 4.0941 - val_loss: 4.4891\n"
       ]
      },
      {
       "output_type": "stream",
       "stream": "stdout",
       "text": [
        "Epoch 314/3000\n",
        "0s - loss: 3.7527 - val_loss: 4.4803\n",
        "Epoch 315/3000\n",
        "0s - loss: 4.0528 - val_loss: 4.8153\n"
       ]
      },
      {
       "output_type": "stream",
       "stream": "stdout",
       "text": [
        "Epoch 316/3000\n",
        "0s - loss: 4.0762 - val_loss: 4.8979\n"
       ]
      },
      {
       "output_type": "stream",
       "stream": "stdout",
       "text": [
        "Epoch 317/3000\n",
        "0s - loss: 4.7510 - val_loss: 5.1074\n"
       ]
      },
      {
       "output_type": "stream",
       "stream": "stdout",
       "text": [
        "Epoch 318/3000\n",
        "0s - loss: 4.1953 - val_loss: 4.5898\n"
       ]
      },
      {
       "output_type": "stream",
       "stream": "stdout",
       "text": [
        "Epoch 319/3000\n",
        "0s - loss: 3.7190 - val_loss: 4.2599\n"
       ]
      },
      {
       "output_type": "stream",
       "stream": "stdout",
       "text": [
        "Epoch 320/3000\n",
        "0s - loss: 3.7751 - val_loss: 4.5077\n"
       ]
      },
      {
       "output_type": "stream",
       "stream": "stdout",
       "text": [
        "Epoch 321/3000\n",
        "0s - loss: 3.8570 - val_loss: 4.8403\n"
       ]
      },
      {
       "output_type": "stream",
       "stream": "stdout",
       "text": [
        "Epoch 322/3000\n",
        "0s - loss: 4.7883 - val_loss: 5.3822\n"
       ]
      },
      {
       "output_type": "stream",
       "stream": "stdout",
       "text": [
        "Epoch 323/3000\n",
        "0s - loss: 4.8622 - val_loss: 5.6519\n"
       ]
      },
      {
       "output_type": "stream",
       "stream": "stdout",
       "text": [
        "Epoch 324/3000\n",
        "0s - loss: 4.6011 - val_loss: 4.5006\n"
       ]
      },
      {
       "output_type": "stream",
       "stream": "stdout",
       "text": [
        "Epoch 325/3000\n",
        "0s - loss: 3.9708 - val_loss: 4.2228\n"
       ]
      },
      {
       "output_type": "stream",
       "stream": "stdout",
       "text": [
        "Epoch 326/3000\n",
        "0s - loss: 3.6788 - val_loss: 4.2341\n",
        "Epoch 327/3000\n",
        "0s - loss: 3.6599 - val_loss: 4.1565\n"
       ]
      },
      {
       "output_type": "stream",
       "stream": "stdout",
       "text": [
        "Epoch 328/3000\n",
        "0s - loss: 3.6215 - val_loss: 4.3449\n",
        "Epoch 329/3000\n",
        "0s - loss: 3.9392 - val_loss: 5.0980\n"
       ]
      },
      {
       "output_type": "stream",
       "stream": "stdout",
       "text": [
        "Epoch 330/3000\n",
        "0s - loss: 4.4650 - val_loss: 5.5260\n",
        "Epoch 331/3000\n",
        "0s - loss: 4.8273 - val_loss: 4.5830\n"
       ]
      },
      {
       "output_type": "stream",
       "stream": "stdout",
       "text": [
        "Epoch 332/3000\n",
        "0s - loss: 3.9816 - val_loss: 5.2836\n",
        "Epoch 333/3000\n",
        "0s - loss: 4.3375 - val_loss: 4.4119\n"
       ]
      },
      {
       "output_type": "stream",
       "stream": "stdout",
       "text": [
        "Epoch 334/3000\n",
        "0s - loss: 3.8874 - val_loss: 4.6274\n",
        "Epoch 335/3000\n",
        "0s - loss: 4.0794 - val_loss: 6.6654\n"
       ]
      },
      {
       "output_type": "stream",
       "stream": "stdout",
       "text": [
        "Epoch 336/3000\n",
        "0s - loss: 5.0445 - val_loss: 4.6753\n",
        "Epoch 337/3000\n",
        "0s - loss: 4.0071 - val_loss: 4.6721\n"
       ]
      },
      {
       "output_type": "stream",
       "stream": "stdout",
       "text": [
        "Epoch 338/3000\n",
        "0s - loss: 4.0692 - val_loss: 4.4779\n",
        "Epoch 339/3000\n",
        "0s - loss: 3.8663 - val_loss: 4.5433\n"
       ]
      },
      {
       "output_type": "stream",
       "stream": "stdout",
       "text": [
        "Epoch 340/3000\n",
        "0s - loss: 3.7038 - val_loss: 4.1598\n",
        "Epoch 341/3000\n",
        "0s - loss: 3.5916 - val_loss: 4.2963\n"
       ]
      },
      {
       "output_type": "stream",
       "stream": "stdout",
       "text": [
        "Epoch 342/3000\n",
        "0s - loss: 3.8371 - val_loss: 4.7439\n",
        "Epoch 343/3000\n",
        "0s - loss: 4.2173 - val_loss: 5.2425\n"
       ]
      },
      {
       "output_type": "stream",
       "stream": "stdout",
       "text": [
        "Epoch 344/3000\n",
        "0s - loss: 4.3342 - val_loss: 5.1997\n"
       ]
      },
      {
       "output_type": "stream",
       "stream": "stdout",
       "text": [
        "Epoch 345/3000\n",
        "0s - loss: 4.2501 - val_loss: 4.7730\n"
       ]
      },
      {
       "output_type": "stream",
       "stream": "stdout",
       "text": [
        "Epoch 346/3000\n",
        "0s - loss: 4.0895 - val_loss: 4.9073\n"
       ]
      },
      {
       "output_type": "stream",
       "stream": "stdout",
       "text": [
        "Epoch 347/3000\n",
        "0s - loss: 4.1886 - val_loss: 4.6861\n"
       ]
      },
      {
       "output_type": "stream",
       "stream": "stdout",
       "text": [
        "Epoch 348/3000\n",
        "0s - loss: 3.9909 - val_loss: 4.3195\n"
       ]
      },
      {
       "output_type": "stream",
       "stream": "stdout",
       "text": [
        "Epoch 349/3000\n",
        "0s - loss: 4.0772 - val_loss: 5.6643\n",
        "Epoch 350/3000\n",
        "0s - loss: 4.8771 - val_loss: 4.5703\n"
       ]
      },
      {
       "output_type": "stream",
       "stream": "stdout",
       "text": [
        "Epoch 351/3000\n",
        "0s - loss: 4.1791 - val_loss: 5.4110\n",
        "Epoch 352/3000\n",
        "0s - loss: 4.3283 - val_loss: 4.7190\n"
       ]
      },
      {
       "output_type": "stream",
       "stream": "stdout",
       "text": [
        "Epoch 353/3000\n",
        "0s - loss: 4.1128 - val_loss: 4.5007\n",
        "Epoch 354/3000\n",
        "0s - loss: 3.8056 - val_loss: 4.3982\n"
       ]
      },
      {
       "output_type": "stream",
       "stream": "stdout",
       "text": [
        "Epoch 355/3000\n",
        "0s - loss: 3.7161 - val_loss: 4.3619\n",
        "Epoch 356/3000\n",
        "0s - loss: 3.6328 - val_loss: 4.4237\n"
       ]
      },
      {
       "output_type": "stream",
       "stream": "stdout",
       "text": [
        "Epoch 357/3000\n",
        "0s - loss: 3.8768 - val_loss: 4.8959\n",
        "Epoch 358/3000\n",
        "0s - loss: 4.0451 - val_loss: 4.1635\n"
       ]
      },
      {
       "output_type": "stream",
       "stream": "stdout",
       "text": [
        "Epoch 359/3000\n",
        "0s - loss: 3.6179 - val_loss: 4.9277\n",
        "Epoch 360/3000\n",
        "0s - loss: 4.2710 - val_loss: 4.7350\n"
       ]
      },
      {
       "output_type": "stream",
       "stream": "stdout",
       "text": [
        "Epoch 361/3000\n",
        "0s - loss: 4.0164 - val_loss: 5.0545\n",
        "Epoch 362/3000\n",
        "0s - loss: 4.3225 - val_loss: 5.4510\n"
       ]
      },
      {
       "output_type": "stream",
       "stream": "stdout",
       "text": [
        "Epoch 363/3000\n",
        "0s - loss: 4.5223 - val_loss: 5.6506\n",
        "Epoch 364/3000\n",
        "0s - loss: 4.7741 - val_loss: 5.4626\n"
       ]
      },
      {
       "output_type": "stream",
       "stream": "stdout",
       "text": [
        "Epoch 365/3000\n",
        "0s - loss: 4.5404 - val_loss: 4.6734\n",
        "Epoch 366/3000\n",
        "0s - loss: 4.0122 - val_loss: 4.6582\n"
       ]
      },
      {
       "output_type": "stream",
       "stream": "stdout",
       "text": [
        "Epoch 367/3000\n",
        "0s - loss: 3.9611 - val_loss: 4.3996\n",
        "Epoch 368/3000\n",
        "0s - loss: 3.6622 - val_loss: 4.2200\n"
       ]
      },
      {
       "output_type": "stream",
       "stream": "stdout",
       "text": [
        "Epoch 369/3000\n",
        "0s - loss: 3.6194 - val_loss: 4.7248\n"
       ]
      },
      {
       "output_type": "stream",
       "stream": "stdout",
       "text": [
        "Epoch 370/3000\n",
        "0s - loss: 4.2527 - val_loss: 4.4858\n",
        "Epoch 371/3000\n",
        "0s - loss: 3.7999 - val_loss: 4.5679\n"
       ]
      },
      {
       "output_type": "stream",
       "stream": "stdout",
       "text": [
        "Epoch 372/3000\n",
        "0s - loss: 3.9417 - val_loss: 4.6523\n",
        "Epoch 373/3000\n",
        "0s - loss: 4.2359 - val_loss: 4.6592\n"
       ]
      },
      {
       "output_type": "stream",
       "stream": "stdout",
       "text": [
        "Epoch 374/3000\n",
        "0s - loss: 4.0903 - val_loss: 4.6416\n",
        "Epoch 375/3000\n",
        "0s - loss: 3.9282 - val_loss: 5.0516\n"
       ]
      },
      {
       "output_type": "stream",
       "stream": "stdout",
       "text": [
        "Epoch 376/3000\n",
        "0s - loss: 4.3490 - val_loss: 4.5361\n",
        "Epoch 377/3000\n",
        "0s - loss: 3.9335 - val_loss: 4.8149\n"
       ]
      },
      {
       "output_type": "stream",
       "stream": "stdout",
       "text": [
        "Epoch 378/3000\n",
        "0s - loss: 4.0271 - val_loss: 4.3565\n",
        "Epoch 379/3000\n",
        "0s - loss: 3.7106 - val_loss: 4.2296\n"
       ]
      },
      {
       "output_type": "stream",
       "stream": "stdout",
       "text": [
        "Epoch 380/3000\n",
        "0s - loss: 3.8822 - val_loss: 5.0375\n",
        "Epoch 381/3000\n",
        "0s - loss: 4.3534 - val_loss: 5.0455\n"
       ]
      },
      {
       "output_type": "stream",
       "stream": "stdout",
       "text": [
        "Epoch 382/3000\n",
        "0s - loss: 4.0675 - val_loss: 4.4724\n",
        "Epoch 383/3000\n",
        "0s - loss: 3.7146 - val_loss: 4.7492\n"
       ]
      },
      {
       "output_type": "stream",
       "stream": "stdout",
       "text": [
        "Epoch 384/3000\n",
        "0s - loss: 4.0788 - val_loss: 4.7003\n",
        "Epoch 385/3000\n",
        "0s - loss: 4.1082 - val_loss: 4.6046\n"
       ]
      },
      {
       "output_type": "stream",
       "stream": "stdout",
       "text": [
        "Epoch 386/3000\n",
        "0s - loss: 4.0469 - val_loss: 4.4847\n",
        "Epoch 387/3000\n",
        "0s - loss: 3.9959 - val_loss: 4.7512\n"
       ]
      },
      {
       "output_type": "stream",
       "stream": "stdout",
       "text": [
        "Epoch 388/3000\n",
        "0s - loss: 4.1857 - val_loss: 4.7017\n"
       ]
      },
      {
       "output_type": "stream",
       "stream": "stdout",
       "text": [
        "Epoch 389/3000\n",
        "0s - loss: 4.2045 - val_loss: 4.8230\n",
        "Epoch 390/3000\n",
        "0s - loss: 4.3070 - val_loss: 5.6000\n"
       ]
      },
      {
       "output_type": "stream",
       "stream": "stdout",
       "text": [
        "Epoch 391/3000\n",
        "0s - loss: 4.3399 - val_loss: 4.3823\n",
        "Epoch 392/3000\n",
        "0s - loss: 3.6772 - val_loss: 4.4301\n"
       ]
      },
      {
       "output_type": "stream",
       "stream": "stdout",
       "text": [
        "Epoch 393/3000\n",
        "0s - loss: 3.8779 - val_loss: 4.7703\n"
       ]
      },
      {
       "output_type": "stream",
       "stream": "stdout",
       "text": [
        "Epoch 394/3000\n",
        "0s - loss: 4.1403 - val_loss: 4.7110\n"
       ]
      },
      {
       "output_type": "stream",
       "stream": "stdout",
       "text": [
        "Epoch 395/3000\n",
        "0s - loss: 3.8487 - val_loss: 5.0782\n",
        "Epoch 396/3000\n",
        "0s - loss: 4.1849 - val_loss: 4.4345\n"
       ]
      },
      {
       "output_type": "stream",
       "stream": "stdout",
       "text": [
        "Epoch 397/3000\n",
        "0s - loss: 4.0657 - val_loss: 5.3946\n",
        "Epoch 398/3000\n",
        "0s - loss: 4.6241 - val_loss: 4.5448\n"
       ]
      },
      {
       "output_type": "stream",
       "stream": "stdout",
       "text": [
        "Epoch 399/3000\n",
        "0s - loss: 3.7304 - val_loss: 4.1808\n",
        "Epoch 400/3000\n",
        "0s - loss: 3.5560 - val_loss: 4.5546\n"
       ]
      },
      {
       "output_type": "stream",
       "stream": "stdout",
       "text": [
        "Epoch 401/3000\n",
        "0s - loss: 3.8276 - val_loss: 4.4913\n",
        "Epoch 402/3000\n",
        "0s - loss: 4.1444 - val_loss: 5.3411\n"
       ]
      },
      {
       "output_type": "stream",
       "stream": "stdout",
       "text": [
        "Epoch 403/3000\n",
        "0s - loss: 4.8232 - val_loss: 4.8667\n",
        "Epoch 404/3000\n",
        "0s - loss: 4.0319 - val_loss: 4.8137\n"
       ]
      },
      {
       "output_type": "stream",
       "stream": "stdout",
       "text": [
        "Epoch 405/3000\n",
        "0s - loss: 3.9922 - val_loss: 4.6131\n",
        "Epoch 406/3000\n",
        "0s - loss: 3.8432 - val_loss: 4.7333\n"
       ]
      },
      {
       "output_type": "stream",
       "stream": "stdout",
       "text": [
        "Epoch 407/3000\n",
        "0s - loss: 4.3831 - val_loss: 4.8427\n",
        "Epoch 408/3000\n",
        "0s - loss: 4.1327 - val_loss: 4.4535\n"
       ]
      },
      {
       "output_type": "stream",
       "stream": "stdout",
       "text": [
        "Epoch 409/3000\n",
        "0s - loss: 3.8337 - val_loss: 4.5842\n",
        "Epoch 410/3000\n",
        "0s - loss: 3.7847 - val_loss: 4.0948\n"
       ]
      },
      {
       "output_type": "stream",
       "stream": "stdout",
       "text": [
        "Epoch 411/3000\n",
        "0s - loss: 3.4933 - val_loss: 4.0988\n",
        "Epoch 412/3000\n",
        "0s - loss: 3.4613 - val_loss: 4.1185\n"
       ]
      },
      {
       "output_type": "stream",
       "stream": "stdout",
       "text": [
        "Epoch 413/3000\n",
        "0s - loss: 3.5505 - val_loss: 4.4262\n",
        "Epoch 414/3000\n",
        "0s - loss: 3.9866 - val_loss: 5.1898\n"
       ]
      },
      {
       "output_type": "stream",
       "stream": "stdout",
       "text": [
        "Epoch 415/3000\n",
        "0s - loss: 4.3683 - val_loss: 4.8770\n",
        "Epoch 416/3000\n",
        "0s - loss: 4.5544 - val_loss: 4.8544\n"
       ]
      },
      {
       "output_type": "stream",
       "stream": "stdout",
       "text": [
        "Epoch 417/3000\n",
        "0s - loss: 4.0918 - val_loss: 4.2354\n",
        "Epoch 418/3000\n",
        "0s - loss: 3.6886 - val_loss: 4.5677\n"
       ]
      },
      {
       "output_type": "stream",
       "stream": "stdout",
       "text": [
        "Epoch 419/3000\n",
        "0s - loss: 4.1825 - val_loss: 4.8921\n",
        "Epoch 420/3000\n",
        "0s - loss: 4.3459 - val_loss: 4.8032\n"
       ]
      },
      {
       "output_type": "stream",
       "stream": "stdout",
       "text": [
        "Epoch 421/3000\n",
        "0s - loss: 4.0996 - val_loss: 4.4195\n",
        "Epoch 422/3000\n",
        "0s - loss: 3.7569 - val_loss: 4.7660\n"
       ]
      },
      {
       "output_type": "stream",
       "stream": "stdout",
       "text": [
        "Epoch 423/3000\n",
        "0s - loss: 4.5673 - val_loss: 5.7496\n",
        "Epoch 424/3000\n",
        "0s - loss: 4.9655 - val_loss: 4.8598\n"
       ]
      },
      {
       "output_type": "stream",
       "stream": "stdout",
       "text": [
        "Epoch 425/3000\n",
        "0s - loss: 3.8415 - val_loss: 4.1904\n",
        "Epoch 426/3000\n",
        "0s - loss: 3.5277 - val_loss: 4.3213\n"
       ]
      },
      {
       "output_type": "stream",
       "stream": "stdout",
       "text": [
        "Epoch 427/3000\n",
        "0s - loss: 3.6564 - val_loss: 4.4438\n"
       ]
      },
      {
       "output_type": "stream",
       "stream": "stdout",
       "text": [
        "Epoch 428/3000\n",
        "0s - loss: 3.8448 - val_loss: 4.3129\n"
       ]
      },
      {
       "output_type": "stream",
       "stream": "stdout",
       "text": [
        "Epoch 429/3000\n",
        "0s - loss: 3.6254 - val_loss: 4.2626\n"
       ]
      },
      {
       "output_type": "stream",
       "stream": "stdout",
       "text": [
        "Epoch 430/3000\n",
        "0s - loss: 3.5733 - val_loss: 4.7143\n",
        "Epoch 431/3000\n",
        "0s - loss: 3.8703 - val_loss: 4.7259\n"
       ]
      },
      {
       "output_type": "stream",
       "stream": "stdout",
       "text": [
        "Epoch 432/3000\n",
        "0s - loss: 3.9440 - val_loss: 4.5807\n",
        "Epoch 433/3000\n",
        "0s - loss: 4.0708 - val_loss: 4.5344\n"
       ]
      },
      {
       "output_type": "stream",
       "stream": "stdout",
       "text": [
        "Epoch 434/3000\n",
        "0s - loss: 4.1394 - val_loss: 5.6133\n",
        "Epoch 435/3000\n",
        "0s - loss: 5.0260 - val_loss: 4.9587\n"
       ]
      },
      {
       "output_type": "stream",
       "stream": "stdout",
       "text": [
        "Epoch 436/3000\n",
        "0s - loss: 4.3899 - val_loss: 5.9923\n",
        "Epoch 437/3000\n",
        "0s - loss: 4.9670 - val_loss: 4.3458\n"
       ]
      },
      {
       "output_type": "stream",
       "stream": "stdout",
       "text": [
        "Epoch 438/3000\n",
        "0s - loss: 3.7120 - val_loss: 4.5027\n",
        "Epoch 439/3000\n",
        "0s - loss: 3.8686 - val_loss: 4.2417\n"
       ]
      },
      {
       "output_type": "stream",
       "stream": "stdout",
       "text": [
        "Epoch 440/3000\n",
        "0s - loss: 3.7178 - val_loss: 4.3066\n",
        "Epoch 441/3000\n",
        "0s - loss: 3.7074 - val_loss: 4.1354\n"
       ]
      },
      {
       "output_type": "stream",
       "stream": "stdout",
       "text": [
        "Epoch 442/3000\n",
        "0s - loss: 3.4880 - val_loss: 4.2946\n",
        "Epoch 443/3000\n",
        "0s - loss: 3.6292 - val_loss: 4.3674\n"
       ]
      },
      {
       "output_type": "stream",
       "stream": "stdout",
       "text": [
        "Epoch 444/3000\n",
        "0s - loss: 3.7139 - val_loss: 4.5741\n",
        "Epoch 445/3000\n",
        "0s - loss: 4.0140 - val_loss: 5.4678\n"
       ]
      },
      {
       "output_type": "stream",
       "stream": "stdout",
       "text": [
        "Epoch 446/3000\n",
        "0s - loss: 5.0047 - val_loss: 5.5453\n",
        "Epoch 447/3000\n",
        "0s - loss: 4.5915 - val_loss: 4.6688\n"
       ]
      },
      {
       "output_type": "stream",
       "stream": "stdout",
       "text": [
        "Epoch 448/3000\n",
        "0s - loss: 3.9985 - val_loss: 4.7281\n",
        "Epoch 449/3000\n",
        "0s - loss: 3.7719 - val_loss: 4.4138\n"
       ]
      },
      {
       "output_type": "stream",
       "stream": "stdout",
       "text": [
        "Epoch 450/3000\n",
        "0s - loss: 3.8443 - val_loss: 4.3204\n",
        "Epoch 451/3000\n",
        "0s - loss: 3.6677 - val_loss: 4.4967\n"
       ]
      },
      {
       "output_type": "stream",
       "stream": "stdout",
       "text": [
        "Epoch 452/3000\n",
        "0s - loss: 4.0015 - val_loss: 4.8405\n",
        "Epoch 453/3000\n",
        "0s - loss: 4.1599 - val_loss: 4.5192\n"
       ]
      },
      {
       "output_type": "stream",
       "stream": "stdout",
       "text": [
        "Epoch 454/3000\n",
        "0s - loss: 3.7737 - val_loss: 4.3093\n",
        "Epoch 455/3000\n",
        "0s - loss: 3.7663 - val_loss: 4.1643\n"
       ]
      },
      {
       "output_type": "stream",
       "stream": "stdout",
       "text": [
        "Epoch 456/3000\n",
        "0s - loss: 3.4644 - val_loss: 4.0706\n",
        "Epoch 457/3000\n",
        "0s - loss: 3.6161 - val_loss: 5.4520\n"
       ]
      },
      {
       "output_type": "stream",
       "stream": "stdout",
       "text": [
        "Epoch 458/3000\n",
        "0s - loss: 4.9859 - val_loss: 5.4314\n",
        "Epoch 459/3000\n",
        "0s - loss: 5.1124 - val_loss: 5.0241\n"
       ]
      },
      {
       "output_type": "stream",
       "stream": "stdout",
       "text": [
        "Epoch 460/3000\n",
        "0s - loss: 4.1753 - val_loss: 4.6743\n",
        "Epoch 461/3000\n",
        "0s - loss: 3.7959 - val_loss: 4.3942\n"
       ]
      },
      {
       "output_type": "stream",
       "stream": "stdout",
       "text": [
        "Epoch 462/3000\n",
        "0s - loss: 3.8635 - val_loss: 4.4064\n",
        "Epoch 463/3000\n",
        "0s - loss: 3.8221 - val_loss: 4.2838\n"
       ]
      },
      {
       "output_type": "stream",
       "stream": "stdout",
       "text": [
        "Epoch 464/3000\n",
        "0s - loss: 3.7058 - val_loss: 4.3651\n",
        "Epoch 465/3000\n",
        "0s - loss: 3.7291 - val_loss: 4.2384\n"
       ]
      },
      {
       "output_type": "stream",
       "stream": "stdout",
       "text": [
        "Epoch 466/3000\n",
        "0s - loss: 3.6544 - val_loss: 4.6587\n",
        "Epoch 467/3000\n",
        "0s - loss: 3.9357 - val_loss: 4.4251\n"
       ]
      },
      {
       "output_type": "stream",
       "stream": "stdout",
       "text": [
        "Epoch 468/3000\n",
        "0s - loss: 3.9162 - val_loss: 4.9964\n",
        "Epoch 469/3000\n",
        "0s - loss: 4.0048 - val_loss: 4.4936\n"
       ]
      },
      {
       "output_type": "stream",
       "stream": "stdout",
       "text": [
        "Epoch 470/3000\n",
        "0s - loss: 3.8405 - val_loss: 4.8811\n",
        "Epoch 471/3000\n",
        "0s - loss: 4.1105 - val_loss: 5.3008\n"
       ]
      },
      {
       "output_type": "stream",
       "stream": "stdout",
       "text": [
        "Epoch 472/3000\n",
        "0s - loss: 4.4770 - val_loss: 4.3283\n",
        "Epoch 473/3000\n",
        "0s - loss: 3.8721 - val_loss: 4.6365\n"
       ]
      },
      {
       "output_type": "stream",
       "stream": "stdout",
       "text": [
        "Epoch 474/3000\n",
        "0s - loss: 4.1068 - val_loss: 4.6446\n",
        "Epoch 475/3000\n",
        "0s - loss: 3.7972 - val_loss: 4.2180\n"
       ]
      },
      {
       "output_type": "stream",
       "stream": "stdout",
       "text": [
        "Epoch 476/3000\n",
        "0s - loss: 3.7165 - val_loss: 4.7711\n",
        "Epoch 477/3000\n",
        "0s - loss: 4.0563 - val_loss: 4.5340\n"
       ]
      },
      {
       "output_type": "stream",
       "stream": "stdout",
       "text": [
        "Epoch 478/3000\n",
        "0s - loss: 3.9136 - val_loss: 4.7478\n",
        "Epoch 479/3000\n",
        "0s - loss: 4.1446 - val_loss: 4.4214\n"
       ]
      },
      {
       "output_type": "stream",
       "stream": "stdout",
       "text": [
        "Epoch 480/3000\n",
        "0s - loss: 3.6821 - val_loss: 4.5408\n",
        "Epoch 481/3000\n",
        "0s - loss: 3.8424 - val_loss: 4.7106\n"
       ]
      },
      {
       "output_type": "stream",
       "stream": "stdout",
       "text": [
        "Epoch 482/3000\n",
        "0s - loss: 4.2565 - val_loss: 5.4818\n",
        "Epoch 483/3000\n",
        "0s - loss: 4.6910 - val_loss: 4.5978\n"
       ]
      },
      {
       "output_type": "stream",
       "stream": "stdout",
       "text": [
        "Epoch 484/3000\n",
        "0s - loss: 3.7583 - val_loss: 4.6684\n",
        "Epoch 485/3000\n",
        "0s - loss: 3.9341 - val_loss: 4.6983\n"
       ]
      },
      {
       "output_type": "stream",
       "stream": "stdout",
       "text": [
        "Epoch 486/3000\n",
        "0s - loss: 3.9026 - val_loss: 4.5948\n",
        "Epoch 487/3000\n",
        "0s - loss: 4.0480 - val_loss: 4.6866\n"
       ]
      },
      {
       "output_type": "stream",
       "stream": "stdout",
       "text": [
        "Epoch 488/3000\n",
        "0s - loss: 3.8022 - val_loss: 4.2049\n",
        "Epoch 489/3000\n",
        "0s - loss: 3.5610 - val_loss: 4.3692\n"
       ]
      },
      {
       "output_type": "stream",
       "stream": "stdout",
       "text": [
        "Epoch 490/3000\n",
        "0s - loss: 3.7608 - val_loss: 4.5032\n",
        "Epoch 491/3000\n",
        "0s - loss: 3.6779 - val_loss: 4.2123\n"
       ]
      },
      {
       "output_type": "stream",
       "stream": "stdout",
       "text": [
        "Epoch 492/3000\n",
        "0s - loss: 3.7929 - val_loss: 4.7722\n",
        "Epoch 493/3000\n",
        "0s - loss: 4.1107 - val_loss: 4.6724\n"
       ]
      },
      {
       "output_type": "stream",
       "stream": "stdout",
       "text": [
        "Epoch 494/3000\n",
        "0s - loss: 4.2314 - val_loss: 5.0217\n"
       ]
      },
      {
       "output_type": "stream",
       "stream": "stdout",
       "text": [
        "Epoch 495/3000\n",
        "0s - loss: 4.2446 - val_loss: 5.0417\n"
       ]
      },
      {
       "output_type": "stream",
       "stream": "stdout",
       "text": [
        "Epoch 496/3000\n",
        "0s - loss: 4.0926 - val_loss: 4.9418\n"
       ]
      },
      {
       "output_type": "stream",
       "stream": "stdout",
       "text": [
        "Epoch 497/3000\n",
        "0s - loss: 4.0093 - val_loss: 4.2659\n",
        "Epoch 498/3000\n",
        "0s - loss: 3.5272 - val_loss: 4.4248\n"
       ]
      },
      {
       "output_type": "stream",
       "stream": "stdout",
       "text": [
        "Epoch 499/3000\n",
        "0s - loss: 3.5718 - val_loss: 4.4513\n",
        "Epoch 500/3000\n",
        "0s - loss: 3.9008 - val_loss: 4.3118\n"
       ]
      },
      {
       "output_type": "stream",
       "stream": "stdout",
       "text": [
        "Epoch 501/3000\n",
        "0s - loss: 3.8276 - val_loss: 4.9835\n",
        "Epoch 502/3000\n",
        "0s - loss: 4.0629 - val_loss: 4.8586\n"
       ]
      },
      {
       "output_type": "stream",
       "stream": "stdout",
       "text": [
        "Epoch 503/3000\n",
        "0s - loss: 4.4088 - val_loss: 5.6570\n",
        "Epoch 504/3000\n",
        "0s - loss: 4.3834 - val_loss: 4.7249\n"
       ]
      },
      {
       "output_type": "stream",
       "stream": "stdout",
       "text": [
        "Epoch 505/3000\n",
        "0s - loss: 3.9236 - val_loss: 4.5960\n",
        "Epoch 506/3000\n",
        "0s - loss: 3.8402 - val_loss: 4.3758\n"
       ]
      },
      {
       "output_type": "stream",
       "stream": "stdout",
       "text": [
        "Epoch 507/3000\n",
        "0s - loss: 3.8263 - val_loss: 4.6471\n",
        "Epoch 508/3000\n",
        "0s - loss: 3.8193 - val_loss: 4.1032\n"
       ]
      },
      {
       "output_type": "stream",
       "stream": "stdout",
       "text": [
        "Epoch 509/3000\n",
        "0s - loss: 3.6290 - val_loss: 4.7196\n",
        "Epoch 510/3000\n",
        "0s - loss: 4.0701 - val_loss: 4.5399\n"
       ]
      },
      {
       "output_type": "stream",
       "stream": "stdout",
       "text": [
        "Epoch 511/3000\n",
        "0s - loss: 3.8383 - val_loss: 4.1877\n",
        "Epoch 512/3000\n",
        "0s - loss: 3.4365 - val_loss: 4.1585\n"
       ]
      },
      {
       "output_type": "stream",
       "stream": "stdout",
       "text": [
        "Epoch 513/3000\n",
        "0s - loss: 3.3630 - val_loss: 4.2782\n",
        "Epoch 514/3000\n",
        "0s - loss: 3.6975 - val_loss: 4.9722\n"
       ]
      },
      {
       "output_type": "stream",
       "stream": "stdout",
       "text": [
        "Epoch 515/3000\n",
        "0s - loss: 4.5680 - val_loss: 5.6587\n",
        "Epoch 516/3000\n",
        "0s - loss: 4.7828 - val_loss: 5.8252\n"
       ]
      },
      {
       "output_type": "stream",
       "stream": "stdout",
       "text": [
        "Epoch 517/3000\n",
        "0s - loss: 4.5962 - val_loss: 4.5904\n",
        "Epoch 518/3000\n",
        "0s - loss: 3.9803 - val_loss: 4.3591\n"
       ]
      },
      {
       "output_type": "stream",
       "stream": "stdout",
       "text": [
        "Epoch 519/3000\n",
        "0s - loss: 3.7720 - val_loss: 4.3932\n",
        "Epoch 520/3000\n",
        "0s - loss: 3.6640 - val_loss: 4.2164\n"
       ]
      },
      {
       "output_type": "stream",
       "stream": "stdout",
       "text": [
        "Epoch 521/3000\n",
        "0s - loss: 3.5412 - val_loss: 4.4527\n",
        "Epoch 522/3000\n",
        "0s - loss: 3.7577 - val_loss: 4.3867\n"
       ]
      },
      {
       "output_type": "stream",
       "stream": "stdout",
       "text": [
        "Epoch 523/3000\n",
        "0s - loss: 3.6302 - val_loss: 4.4538\n",
        "Epoch 524/3000\n",
        "0s - loss: 3.7616 - val_loss: 5.1470\n"
       ]
      },
      {
       "output_type": "stream",
       "stream": "stdout",
       "text": [
        "Epoch 525/3000\n",
        "0s - loss: 4.5283 - val_loss: 5.5921\n",
        "Epoch 526/3000\n",
        "0s - loss: 4.4688 - val_loss: 4.6274\n"
       ]
      },
      {
       "output_type": "stream",
       "stream": "stdout",
       "text": [
        "Epoch 527/3000\n",
        "0s - loss: 3.7834 - val_loss: 4.3755\n",
        "Epoch 528/3000\n",
        "0s - loss: 3.6731 - val_loss: 4.2525\n"
       ]
      },
      {
       "output_type": "stream",
       "stream": "stdout",
       "text": [
        "Epoch 529/3000\n",
        "0s - loss: 3.6468 - val_loss: 4.4835\n",
        "Epoch 530/3000\n",
        "0s - loss: 3.9508 - val_loss: 5.0801\n"
       ]
      },
      {
       "output_type": "stream",
       "stream": "stdout",
       "text": [
        "Epoch 531/3000\n",
        "0s - loss: 4.0918 - val_loss: 4.5937\n",
        "Epoch 532/3000\n",
        "0s - loss: 3.7590 - val_loss: 4.2508\n"
       ]
      },
      {
       "output_type": "stream",
       "stream": "stdout",
       "text": [
        "Epoch 533/3000\n",
        "0s - loss: 3.6572 - val_loss: 4.3608\n",
        "Epoch 534/3000\n",
        "0s - loss: 3.8190 - val_loss: 4.7009\n"
       ]
      },
      {
       "output_type": "stream",
       "stream": "stdout",
       "text": [
        "Epoch 535/3000\n",
        "0s - loss: 4.2115 - val_loss: 4.9284\n",
        "Epoch 536/3000\n",
        "0s - loss: 4.0365 - val_loss: 4.4438\n"
       ]
      },
      {
       "output_type": "stream",
       "stream": "stdout",
       "text": [
        "Epoch 537/3000\n",
        "0s - loss: 3.8123 - val_loss: 4.5003\n",
        "Epoch 538/3000\n",
        "0s - loss: 3.7132 - val_loss: 4.6866\n"
       ]
      },
      {
       "output_type": "stream",
       "stream": "stdout",
       "text": [
        "Epoch 539/3000\n",
        "0s - loss: 4.0264 - val_loss: 5.1927\n",
        "Epoch 540/3000\n",
        "0s - loss: 4.0584 - val_loss: 4.6242\n"
       ]
      },
      {
       "output_type": "stream",
       "stream": "stdout",
       "text": [
        "Epoch 541/3000\n",
        "0s - loss: 3.7641 - val_loss: 4.2146\n",
        "Epoch 542/3000\n",
        "0s - loss: 3.7103 - val_loss: 4.4044\n"
       ]
      },
      {
       "output_type": "stream",
       "stream": "stdout",
       "text": [
        "Epoch 543/3000\n",
        "0s - loss: 3.7047 - val_loss: 4.1862\n",
        "Epoch 544/3000\n",
        "0s - loss: 3.6096 - val_loss: 4.6076\n"
       ]
      },
      {
       "output_type": "stream",
       "stream": "stdout",
       "text": [
        "Epoch 545/3000\n",
        "0s - loss: 4.0053 - val_loss: 5.2720\n",
        "Epoch 546/3000\n",
        "0s - loss: 4.4917 - val_loss: 5.3778\n"
       ]
      },
      {
       "output_type": "stream",
       "stream": "stdout",
       "text": [
        "Epoch 547/3000\n",
        "0s - loss: 4.4896 - val_loss: 5.0511\n",
        "Epoch 548/3000\n",
        "0s - loss: 4.2318 - val_loss: 4.9886\n"
       ]
      },
      {
       "output_type": "stream",
       "stream": "stdout",
       "text": [
        "Epoch 549/3000\n",
        "0s - loss: 3.9664 - val_loss: 4.2813\n",
        "Epoch 550/3000\n",
        "0s - loss: 3.4703 - val_loss: 4.1493\n"
       ]
      },
      {
       "output_type": "stream",
       "stream": "stdout",
       "text": [
        "Epoch 551/3000\n",
        "0s - loss: 3.4264 - val_loss: 4.2410\n",
        "Epoch 552/3000\n",
        "0s - loss: 3.5728 - val_loss: 4.6080\n"
       ]
      },
      {
       "output_type": "stream",
       "stream": "stdout",
       "text": [
        "Epoch 553/3000\n",
        "0s - loss: 3.8091 - val_loss: 4.6030\n",
        "Epoch 554/3000\n",
        "0s - loss: 3.8150 - val_loss: 4.4436\n"
       ]
      },
      {
       "output_type": "stream",
       "stream": "stdout",
       "text": [
        "Epoch 555/3000\n",
        "0s - loss: 3.7518 - val_loss: 4.9726\n",
        "Epoch 556/3000\n",
        "0s - loss: 4.4878 - val_loss: 4.7249\n"
       ]
      },
      {
       "output_type": "stream",
       "stream": "stdout",
       "text": [
        "Epoch 557/3000\n",
        "0s - loss: 4.2571 - val_loss: 4.8533\n",
        "Epoch 558/3000\n",
        "0s - loss: 3.9829 - val_loss: 4.2266\n"
       ]
      },
      {
       "output_type": "stream",
       "stream": "stdout",
       "text": [
        "Epoch 559/3000\n",
        "0s - loss: 3.5495 - val_loss: 4.4234\n",
        "Epoch 560/3000\n",
        "0s - loss: 3.6371 - val_loss: 4.6074\n"
       ]
      },
      {
       "output_type": "stream",
       "stream": "stdout",
       "text": [
        "Epoch 561/3000\n",
        "0s - loss: 4.0995 - val_loss: 6.0325\n",
        "Epoch 562/3000\n",
        "0s - loss: 4.5386 - val_loss: 4.7552\n"
       ]
      },
      {
       "output_type": "stream",
       "stream": "stdout",
       "text": [
        "Epoch 563/3000\n",
        "0s - loss: 3.6221 - val_loss: 4.1828\n",
        "Epoch 564/3000\n",
        "0s - loss: 3.4956 - val_loss: 4.4930\n"
       ]
      },
      {
       "output_type": "stream",
       "stream": "stdout",
       "text": [
        "Epoch 565/3000\n",
        "0s - loss: 3.6783 - val_loss: 4.2546\n",
        "Epoch 566/3000\n",
        "0s - loss: 3.6157 - val_loss: 4.8906\n"
       ]
      },
      {
       "output_type": "stream",
       "stream": "stdout",
       "text": [
        "Epoch 567/3000\n",
        "0s - loss: 4.4672 - val_loss: 4.7425\n",
        "Epoch 568/3000\n",
        "0s - loss: 4.0793 - val_loss: 4.8050\n"
       ]
      },
      {
       "output_type": "stream",
       "stream": "stdout",
       "text": [
        "Epoch 569/3000\n",
        "0s - loss: 3.7682 - val_loss: 4.4148\n",
        "Epoch 570/3000\n",
        "0s - loss: 3.5889 - val_loss: 4.5030\n"
       ]
      },
      {
       "output_type": "stream",
       "stream": "stdout",
       "text": [
        "Epoch 571/3000\n",
        "0s - loss: 3.8438 - val_loss: 4.9534\n",
        "Epoch 572/3000\n",
        "0s - loss: 4.4654 - val_loss: 5.8288\n"
       ]
      },
      {
       "output_type": "stream",
       "stream": "stdout",
       "text": [
        "Epoch 573/3000\n",
        "0s - loss: 4.6290 - val_loss: 4.5671\n",
        "Epoch 574/3000\n",
        "0s - loss: 3.8716 - val_loss: 4.4945\n"
       ]
      },
      {
       "output_type": "stream",
       "stream": "stdout",
       "text": [
        "Epoch 575/3000\n",
        "0s - loss: 3.6295 - val_loss: 4.2018\n",
        "Epoch 576/3000\n",
        "0s - loss: 3.5541 - val_loss: 4.4773\n"
       ]
      },
      {
       "output_type": "stream",
       "stream": "stdout",
       "text": [
        "Epoch 577/3000\n",
        "0s - loss: 3.8443 - val_loss: 5.1397\n",
        "Epoch 578/3000\n",
        "0s - loss: 3.8732 - val_loss: 4.5279\n"
       ]
      },
      {
       "output_type": "stream",
       "stream": "stdout",
       "text": [
        "Epoch 579/3000\n",
        "0s - loss: 3.7253 - val_loss: 4.4198\n",
        "Epoch 580/3000\n",
        "0s - loss: 3.4979 - val_loss: 4.1676\n"
       ]
      },
      {
       "output_type": "stream",
       "stream": "stdout",
       "text": [
        "Epoch 581/3000\n",
        "0s - loss: 3.7986 - val_loss: 4.6129\n",
        "Epoch 582/3000\n",
        "0s - loss: 3.8870 - val_loss: 4.9848\n"
       ]
      },
      {
       "output_type": "stream",
       "stream": "stdout",
       "text": [
        "Epoch 583/3000\n",
        "0s - loss: 4.0247 - val_loss: 4.5789\n",
        "Epoch 584/3000\n",
        "0s - loss: 3.6486 - val_loss: 4.7222\n"
       ]
      },
      {
       "output_type": "stream",
       "stream": "stdout",
       "text": [
        "Epoch 585/3000\n",
        "0s - loss: 3.9642 - val_loss: 4.6580\n",
        "Epoch 586/3000\n",
        "0s - loss: 3.9198 - val_loss: 4.9701\n"
       ]
      },
      {
       "output_type": "stream",
       "stream": "stdout",
       "text": [
        "Epoch 587/3000\n",
        "0s - loss: 4.7328 - val_loss: 4.6082\n",
        "Epoch 588/3000\n",
        "0s - loss: 3.7862 - val_loss: 4.6444\n"
       ]
      },
      {
       "output_type": "stream",
       "stream": "stdout",
       "text": [
        "Epoch 589/3000\n",
        "0s - loss: 3.7408 - val_loss: 4.4312\n",
        "Epoch 590/3000\n",
        "0s - loss: 3.5756 - val_loss: 4.3498\n"
       ]
      },
      {
       "output_type": "stream",
       "stream": "stdout",
       "text": [
        "Epoch 591/3000\n",
        "0s - loss: 3.5204 - val_loss: 4.6751\n",
        "Epoch 592/3000\n",
        "0s - loss: 3.8825 - val_loss: 5.5117\n"
       ]
      },
      {
       "output_type": "stream",
       "stream": "stdout",
       "text": [
        "Epoch 593/3000\n",
        "0s - loss: 4.4484 - val_loss: 4.6515\n",
        "Epoch 594/3000\n",
        "0s - loss: 3.9398 - val_loss: 4.4769\n"
       ]
      },
      {
       "output_type": "stream",
       "stream": "stdout",
       "text": [
        "Epoch 595/3000\n",
        "0s - loss: 3.7592 - val_loss: 4.2432\n",
        "Epoch 596/3000\n",
        "0s - loss: 3.6666 - val_loss: 4.4146\n"
       ]
      },
      {
       "output_type": "stream",
       "stream": "stdout",
       "text": [
        "Epoch 597/3000\n",
        "0s - loss: 3.9896 - val_loss: 4.8811\n",
        "Epoch 598/3000\n",
        "0s - loss: 3.9433 - val_loss: 4.5983\n"
       ]
      },
      {
       "output_type": "stream",
       "stream": "stdout",
       "text": [
        "Epoch 599/3000\n",
        "0s - loss: 3.9752 - val_loss: 5.4376\n",
        "Epoch 600/3000\n",
        "0s - loss: 4.3128 - val_loss: 5.1296\n"
       ]
      },
      {
       "output_type": "stream",
       "stream": "stdout",
       "text": [
        "Epoch 601/3000\n",
        "0s - loss: 3.9054 - val_loss: 4.2724\n",
        "Epoch 602/3000\n",
        "0s - loss: 3.5000 - val_loss: 4.3006\n"
       ]
      },
      {
       "output_type": "stream",
       "stream": "stdout",
       "text": [
        "Epoch 603/3000\n",
        "0s - loss: 3.4942 - val_loss: 4.4013\n",
        "Epoch 604/3000\n",
        "0s - loss: 3.7822 - val_loss: 4.6015\n"
       ]
      },
      {
       "output_type": "stream",
       "stream": "stdout",
       "text": [
        "Epoch 605/3000\n",
        "0s - loss: 3.7459 - val_loss: 4.4257\n",
        "Epoch 606/3000\n",
        "0s - loss: 3.7029 - val_loss: 4.7122\n"
       ]
      },
      {
       "output_type": "stream",
       "stream": "stdout",
       "text": [
        "Epoch 607/3000\n",
        "0s - loss: 4.0648 - val_loss: 5.4338\n",
        "Epoch 608/3000\n",
        "0s - loss: 4.1139 - val_loss: 4.3941\n"
       ]
      },
      {
       "output_type": "stream",
       "stream": "stdout",
       "text": [
        "Epoch 609/3000\n",
        "0s - loss: 3.5074 - val_loss: 4.1070\n",
        "Epoch 610/3000\n",
        "0s - loss: 3.3868 - val_loss: 4.2135\n"
       ]
      },
      {
       "output_type": "stream",
       "stream": "stdout",
       "text": [
        "Epoch 611/3000\n",
        "0s - loss: 3.5988 - val_loss: 4.4410\n",
        "Epoch 612/3000\n",
        "0s - loss: 3.8246 - val_loss: 4.6047\n"
       ]
      },
      {
       "output_type": "stream",
       "stream": "stdout",
       "text": [
        "Epoch 613/3000\n",
        "0s - loss: 3.9560 - val_loss: 4.6515\n",
        "Epoch 614/3000\n",
        "0s - loss: 4.2498 - val_loss: 5.5584\n"
       ]
      },
      {
       "output_type": "stream",
       "stream": "stdout",
       "text": [
        "Epoch 615/3000\n",
        "0s - loss: 4.6400 - val_loss: 4.6314\n",
        "Epoch 616/3000\n",
        "0s - loss: 4.1109 - val_loss: 4.6953\n"
       ]
      },
      {
       "output_type": "stream",
       "stream": "stdout",
       "text": [
        "Epoch 617/3000\n",
        "0s - loss: 3.9247 - val_loss: 4.4381\n",
        "Epoch 618/3000\n",
        "0s - loss: 3.6610 - val_loss: 4.6446\n"
       ]
      },
      {
       "output_type": "stream",
       "stream": "stdout",
       "text": [
        "Epoch 619/3000\n",
        "0s - loss: 3.7445 - val_loss: 4.4226\n",
        "Epoch 620/3000\n",
        "0s - loss: 3.6551 - val_loss: 4.3973\n"
       ]
      },
      {
       "output_type": "stream",
       "stream": "stdout",
       "text": [
        "Epoch 621/3000\n",
        "0s - loss: 3.5962 - val_loss: 4.3207\n",
        "Epoch 622/3000\n",
        "0s - loss: 3.4942 - val_loss: 4.2656\n"
       ]
      },
      {
       "output_type": "stream",
       "stream": "stdout",
       "text": [
        "Epoch 623/3000\n",
        "0s - loss: 3.4901 - val_loss: 4.5307\n",
        "Epoch 624/3000\n",
        "0s - loss: 3.6304 - val_loss: 4.7086\n"
       ]
      },
      {
       "output_type": "stream",
       "stream": "stdout",
       "text": [
        "Epoch 625/3000\n",
        "0s - loss: 3.8381 - val_loss: 4.6048\n",
        "Epoch 626/3000\n",
        "0s - loss: 4.0903 - val_loss: 5.0982\n"
       ]
      },
      {
       "output_type": "stream",
       "stream": "stdout",
       "text": [
        "Epoch 627/3000\n",
        "0s - loss: 4.2758 - val_loss: 4.5530\n",
        "Epoch 628/3000\n",
        "0s - loss: 3.9742 - val_loss: 4.5309\n"
       ]
      },
      {
       "output_type": "stream",
       "stream": "stdout",
       "text": [
        "Epoch 629/3000\n",
        "0s - loss: 3.9073 - val_loss: 4.6540\n",
        "Epoch 630/3000\n",
        "0s - loss: 3.7269 - val_loss: 4.6986\n"
       ]
      },
      {
       "output_type": "stream",
       "stream": "stdout",
       "text": [
        "Epoch 631/3000\n",
        "0s - loss: 3.8487 - val_loss: 4.9334\n"
       ]
      },
      {
       "output_type": "stream",
       "stream": "stdout",
       "text": [
        "Epoch 632/3000\n",
        "0s - loss: 3.9379 - val_loss: 4.2477\n"
       ]
      },
      {
       "output_type": "stream",
       "stream": "stdout",
       "text": [
        "Epoch 633/3000\n",
        "0s - loss: 3.5677 - val_loss: 4.2475\n",
        "Epoch 634/3000\n",
        "0s - loss: 3.7570 - val_loss: 5.1335\n"
       ]
      },
      {
       "output_type": "stream",
       "stream": "stdout",
       "text": [
        "Epoch 635/3000\n",
        "0s - loss: 4.1929 - val_loss: 4.7403\n",
        "Epoch 636/3000\n",
        "0s - loss: 3.7988 - val_loss: 4.8291\n"
       ]
      },
      {
       "output_type": "stream",
       "stream": "stdout",
       "text": [
        "Epoch 637/3000\n",
        "0s - loss: 3.9670 - val_loss: 4.4213\n",
        "Epoch 638/3000\n",
        "0s - loss: 3.7231 - val_loss: 4.5918\n"
       ]
      },
      {
       "output_type": "stream",
       "stream": "stdout",
       "text": [
        "Epoch 639/3000\n",
        "0s - loss: 3.7582 - val_loss: 4.6651\n",
        "Epoch 640/3000\n",
        "0s - loss: 3.8568 - val_loss: 4.4159\n"
       ]
      },
      {
       "output_type": "stream",
       "stream": "stdout",
       "text": [
        "Epoch 641/3000\n",
        "0s - loss: 3.6921 - val_loss: 4.7188\n",
        "Epoch 642/3000\n",
        "0s - loss: 3.7581 - val_loss: 4.2093\n"
       ]
      },
      {
       "output_type": "stream",
       "stream": "stdout",
       "text": [
        "Epoch 643/3000\n",
        "0s - loss: 3.4187 - val_loss: 4.3849\n",
        "Epoch 644/3000\n",
        "0s - loss: 3.8698 - val_loss: 4.8112\n"
       ]
      },
      {
       "output_type": "stream",
       "stream": "stdout",
       "text": [
        "Epoch 645/3000\n",
        "0s - loss: 3.8700 - val_loss: 4.5662\n",
        "Epoch 646/3000\n",
        "0s - loss: 3.6592 - val_loss: 4.9972\n"
       ]
      },
      {
       "output_type": "stream",
       "stream": "stdout",
       "text": [
        "Epoch 647/3000\n",
        "0s - loss: 4.3840 - val_loss: 5.5395\n",
        "Epoch 648/3000\n",
        "0s - loss: 4.4980 - val_loss: 4.3817\n"
       ]
      },
      {
       "output_type": "stream",
       "stream": "stdout",
       "text": [
        "Epoch 649/3000\n",
        "0s - loss: 3.7388 - val_loss: 4.3797\n",
        "Epoch 650/3000\n",
        "0s - loss: 3.5458 - val_loss: 4.1814\n"
       ]
      },
      {
       "output_type": "stream",
       "stream": "stdout",
       "text": [
        "Epoch 651/3000\n",
        "0s - loss: 3.4539 - val_loss: 4.5445\n",
        "Epoch 652/3000\n",
        "0s - loss: 3.9701 - val_loss: 4.5566\n"
       ]
      },
      {
       "output_type": "stream",
       "stream": "stdout",
       "text": [
        "Epoch 653/3000\n",
        "0s - loss: 3.8566 - val_loss: 4.7190\n"
       ]
      },
      {
       "output_type": "stream",
       "stream": "stdout",
       "text": [
        "Epoch 654/3000\n",
        "0s - loss: 4.0182 - val_loss: 4.9111\n"
       ]
      },
      {
       "output_type": "stream",
       "stream": "stdout",
       "text": [
        "Epoch 655/3000\n",
        "0s - loss: 3.9847 - val_loss: 4.7213\n"
       ]
      },
      {
       "output_type": "stream",
       "stream": "stdout",
       "text": [
        "Epoch 656/3000\n",
        "0s - loss: 3.8348 - val_loss: 4.7200\n"
       ]
      },
      {
       "output_type": "stream",
       "stream": "stdout",
       "text": [
        "Epoch 657/3000\n",
        "0s - loss: 3.6356 - val_loss: 4.4178\n",
        "Epoch 658/3000\n",
        "0s - loss: 3.8035 - val_loss: 4.6603\n"
       ]
      },
      {
       "output_type": "stream",
       "stream": "stdout",
       "text": [
        "Epoch 659/3000\n",
        "0s - loss: 3.9170 - val_loss: 4.2969\n",
        "Epoch 660/3000\n",
        "0s - loss: 3.5973 - val_loss: 4.2245\n"
       ]
      },
      {
       "output_type": "stream",
       "stream": "stdout",
       "text": [
        "Epoch 661/3000\n",
        "0s - loss: 3.5200 - val_loss: 4.4362\n",
        "Epoch 662/3000\n",
        "0s - loss: 3.6659 - val_loss: 4.6848\n"
       ]
      },
      {
       "output_type": "stream",
       "stream": "stdout",
       "text": [
        "Epoch 663/3000\n",
        "0s - loss: 3.6996 - val_loss: 4.4697\n",
        "Epoch 664/3000\n",
        "0s - loss: 3.6367 - val_loss: 4.6409\n"
       ]
      },
      {
       "output_type": "stream",
       "stream": "stdout",
       "text": [
        "Epoch 665/3000\n",
        "0s - loss: 4.0624 - val_loss: 4.5368\n",
        "Epoch 666/3000\n",
        "0s - loss: 3.9007 - val_loss: 4.9903\n"
       ]
      },
      {
       "output_type": "stream",
       "stream": "stdout",
       "text": [
        "Epoch 667/3000\n",
        "0s - loss: 4.3886 - val_loss: 4.9753\n",
        "Epoch 668/3000\n",
        "0s - loss: 4.2501 - val_loss: 4.4191\n"
       ]
      },
      {
       "output_type": "stream",
       "stream": "stdout",
       "text": [
        "Epoch 669/3000\n",
        "0s - loss: 3.7001 - val_loss: 4.5901\n",
        "Epoch 670/3000\n",
        "0s - loss: 3.7858 - val_loss: 4.2694\n"
       ]
      },
      {
       "output_type": "stream",
       "stream": "stdout",
       "text": [
        "Epoch 671/3000\n",
        "0s - loss: 3.5766 - val_loss: 4.4936\n",
        "Epoch 672/3000\n",
        "0s - loss: 3.7494 - val_loss: 4.2203\n"
       ]
      },
      {
       "output_type": "stream",
       "stream": "stdout",
       "text": [
        "Epoch 673/3000\n",
        "0s - loss: 3.5545 - val_loss: 4.4208\n",
        "Epoch 674/3000\n",
        "0s - loss: 3.8437 - val_loss: 4.9305\n"
       ]
      },
      {
       "output_type": "stream",
       "stream": "stdout",
       "text": [
        "Epoch 675/3000\n",
        "0s - loss: 3.9170 - val_loss: 4.5312\n",
        "Epoch 676/3000\n",
        "0s - loss: 3.8655 - val_loss: 5.0020\n"
       ]
      },
      {
       "output_type": "stream",
       "stream": "stdout",
       "text": [
        "Epoch 677/3000\n",
        "0s - loss: 4.0529 - val_loss: 4.1798\n",
        "Epoch 678/3000\n",
        "0s - loss: 3.3627 - val_loss: 4.2085\n"
       ]
      },
      {
       "output_type": "stream",
       "stream": "stdout",
       "text": [
        "Epoch 679/3000\n",
        "0s - loss: 3.4504 - val_loss: 4.8932\n",
        "Epoch 680/3000\n",
        "0s - loss: 3.6669 - val_loss: 4.6829\n"
       ]
      },
      {
       "output_type": "stream",
       "stream": "stdout",
       "text": [
        "Epoch 681/3000\n",
        "0s - loss: 3.8461 - val_loss: 4.8551\n",
        "Epoch 682/3000\n",
        "0s - loss: 4.0099 - val_loss: 5.2875\n"
       ]
      },
      {
       "output_type": "stream",
       "stream": "stdout",
       "text": [
        "Epoch 683/3000\n",
        "0s - loss: 4.3837 - val_loss: 4.3922\n",
        "Epoch 684/3000\n",
        "0s - loss: 3.6963 - val_loss: 4.6447\n"
       ]
      },
      {
       "output_type": "stream",
       "stream": "stdout",
       "text": [
        "Epoch 685/3000\n",
        "0s - loss: 3.9149 - val_loss: 4.5491\n",
        "Epoch 686/3000\n",
        "0s - loss: 3.7830 - val_loss: 4.4050\n"
       ]
      },
      {
       "output_type": "stream",
       "stream": "stdout",
       "text": [
        "Epoch 687/3000\n",
        "0s - loss: 3.5958 - val_loss: 4.5985\n",
        "Epoch 688/3000\n",
        "0s - loss: 3.7243 - val_loss: 4.3533\n"
       ]
      },
      {
       "output_type": "stream",
       "stream": "stdout",
       "text": [
        "Epoch 689/3000\n",
        "0s - loss: 3.6406 - val_loss: 4.7650\n",
        "Epoch 690/3000\n",
        "0s - loss: 4.3280 - val_loss: 4.8006\n"
       ]
      },
      {
       "output_type": "stream",
       "stream": "stdout",
       "text": [
        "Epoch 691/3000\n",
        "0s - loss: 3.7870 - val_loss: 4.5490\n",
        "Epoch 692/3000\n",
        "0s - loss: 3.5953 - val_loss: 4.2499\n"
       ]
      },
      {
       "output_type": "stream",
       "stream": "stdout",
       "text": [
        "Epoch 693/3000\n",
        "0s - loss: 3.4690 - val_loss: 4.5900\n",
        "Epoch 694/3000\n",
        "0s - loss: 3.9070 - val_loss: 4.9988\n"
       ]
      },
      {
       "output_type": "stream",
       "stream": "stdout",
       "text": [
        "Epoch 695/3000\n",
        "0s - loss: 4.1483 - val_loss: 5.3899\n",
        "Epoch 696/3000\n",
        "0s - loss: 4.3364 - val_loss: 4.7332\n"
       ]
      },
      {
       "output_type": "stream",
       "stream": "stdout",
       "text": [
        "Epoch 697/3000\n",
        "0s - loss: 4.0444 - val_loss: 4.6497\n",
        "Epoch 698/3000\n",
        "0s - loss: 3.6262 - val_loss: 4.2571\n"
       ]
      },
      {
       "output_type": "stream",
       "stream": "stdout",
       "text": [
        "Epoch 699/3000\n",
        "0s - loss: 3.4011 - val_loss: 4.3100\n",
        "Epoch 700/3000\n",
        "0s - loss: 3.4969 - val_loss: 4.5175\n"
       ]
      },
      {
       "output_type": "stream",
       "stream": "stdout",
       "text": [
        "Epoch 701/3000\n",
        "0s - loss: 3.7175 - val_loss: 4.5294\n",
        "Epoch 702/3000\n",
        "0s - loss: 3.7141 - val_loss: 4.4569\n"
       ]
      },
      {
       "output_type": "stream",
       "stream": "stdout",
       "text": [
        "Epoch 703/3000\n",
        "0s - loss: 3.7949 - val_loss: 4.4773\n",
        "Epoch 704/3000\n",
        "0s - loss: 3.6296 - val_loss: 4.7170\n"
       ]
      },
      {
       "output_type": "stream",
       "stream": "stdout",
       "text": [
        "Epoch 705/3000\n",
        "0s - loss: 3.8857 - val_loss: 4.9252\n",
        "Epoch 706/3000\n",
        "0s - loss: 4.0131 - val_loss: 4.8144\n"
       ]
      },
      {
       "output_type": "stream",
       "stream": "stdout",
       "text": [
        "Epoch 707/3000\n",
        "0s - loss: 3.9428 - val_loss: 4.2274\n",
        "Epoch 708/3000\n",
        "0s - loss: 3.5075 - val_loss: 4.3665\n"
       ]
      },
      {
       "output_type": "stream",
       "stream": "stdout",
       "text": [
        "Epoch 709/3000\n",
        "0s - loss: 3.6641 - val_loss: 4.8862\n",
        "Epoch 710/3000\n",
        "0s - loss: 4.1107 - val_loss: 4.8274\n"
       ]
      },
      {
       "output_type": "stream",
       "stream": "stdout",
       "text": [
        "Epoch 711/3000\n",
        "0s - loss: 3.8492 - val_loss: 4.7378\n",
        "Epoch 712/3000\n",
        "0s - loss: 3.9953 - val_loss: 4.5201\n"
       ]
      },
      {
       "output_type": "stream",
       "stream": "stdout",
       "text": [
        "Epoch 713/3000\n",
        "0s - loss: 3.6244 - val_loss: 4.2217\n",
        "Epoch 714/3000\n",
        "0s - loss: 3.4368 - val_loss: 4.4483\n"
       ]
      },
      {
       "output_type": "stream",
       "stream": "stdout",
       "text": [
        "Epoch 715/3000\n",
        "0s - loss: 3.8489 - val_loss: 4.8395\n",
        "Epoch 716/3000\n",
        "0s - loss: 4.2385 - val_loss: 4.8093\n"
       ]
      },
      {
       "output_type": "stream",
       "stream": "stdout",
       "text": [
        "Epoch 717/3000\n",
        "0s - loss: 3.7458 - val_loss: 4.2569\n",
        "Epoch 718/3000\n",
        "0s - loss: 3.4872 - val_loss: 4.2336\n"
       ]
      },
      {
       "output_type": "stream",
       "stream": "stdout",
       "text": [
        "Epoch 719/3000\n",
        "0s - loss: 3.6366 - val_loss: 4.3914\n",
        "Epoch 720/3000\n",
        "0s - loss: 3.6287 - val_loss: 4.4005\n"
       ]
      },
      {
       "output_type": "stream",
       "stream": "stdout",
       "text": [
        "Epoch 721/3000\n",
        "0s - loss: 3.8942 - val_loss: 4.7251\n",
        "Epoch 722/3000\n",
        "0s - loss: 4.0369 - val_loss: 4.5507\n"
       ]
      },
      {
       "output_type": "stream",
       "stream": "stdout",
       "text": [
        "Epoch 723/3000\n",
        "0s - loss: 3.7596 - val_loss: 4.7760\n",
        "Epoch 724/3000\n",
        "0s - loss: 4.2755 - val_loss: 5.1394\n"
       ]
      },
      {
       "output_type": "stream",
       "stream": "stdout",
       "text": [
        "Epoch 725/3000\n",
        "0s - loss: 4.0521 - val_loss: 4.2873\n",
        "Epoch 726/3000\n",
        "0s - loss: 3.4743 - val_loss: 4.3129\n"
       ]
      },
      {
       "output_type": "stream",
       "stream": "stdout",
       "text": [
        "Epoch 727/3000\n",
        "0s - loss: 3.6192 - val_loss: 4.3061\n",
        "Epoch 728/3000\n",
        "0s - loss: 3.5300 - val_loss: 4.1261\n"
       ]
      },
      {
       "output_type": "stream",
       "stream": "stdout",
       "text": [
        "Epoch 729/3000\n",
        "0s - loss: 3.4359 - val_loss: 4.4567\n",
        "Epoch 730/3000\n",
        "0s - loss: 3.7572 - val_loss: 4.3380\n"
       ]
      },
      {
       "output_type": "stream",
       "stream": "stdout",
       "text": [
        "Epoch 731/3000\n",
        "0s - loss: 3.7496 - val_loss: 4.7284\n",
        "Epoch 732/3000\n",
        "0s - loss: 4.2574 - val_loss: 4.5642\n"
       ]
      },
      {
       "output_type": "stream",
       "stream": "stdout",
       "text": [
        "Epoch 733/3000\n",
        "0s - loss: 3.5792 - val_loss: 4.3107\n",
        "Epoch 734/3000\n",
        "0s - loss: 3.5140 - val_loss: 5.0635\n"
       ]
      },
      {
       "output_type": "stream",
       "stream": "stdout",
       "text": [
        "Epoch 735/3000\n",
        "0s - loss: 4.0685 - val_loss: 4.5807\n",
        "Epoch 736/3000\n",
        "0s - loss: 3.6178 - val_loss: 4.6807\n"
       ]
      },
      {
       "output_type": "stream",
       "stream": "stdout",
       "text": [
        "Epoch 737/3000\n",
        "0s - loss: 3.7410 - val_loss: 4.2956\n",
        "Epoch 738/3000\n",
        "0s - loss: 3.4687 - val_loss: 4.4798\n"
       ]
      },
      {
       "output_type": "stream",
       "stream": "stdout",
       "text": [
        "Epoch 739/3000\n",
        "0s - loss: 3.7977 - val_loss: 4.9453\n",
        "Epoch 740/3000\n",
        "0s - loss: 3.8550 - val_loss: 4.1551\n"
       ]
      },
      {
       "output_type": "stream",
       "stream": "stdout",
       "text": [
        "Epoch 741/3000\n",
        "0s - loss: 3.4067 - val_loss: 4.5744\n",
        "Epoch 742/3000\n",
        "0s - loss: 3.9219 - val_loss: 5.5204\n"
       ]
      },
      {
       "output_type": "stream",
       "stream": "stdout",
       "text": [
        "Epoch 743/3000\n",
        "0s - loss: 4.6486 - val_loss: 4.5728\n",
        "Epoch 744/3000\n",
        "0s - loss: 3.7809 - val_loss: 4.5325\n"
       ]
      },
      {
       "output_type": "stream",
       "stream": "stdout",
       "text": [
        "Epoch 745/3000\n",
        "0s - loss: 3.7777 - val_loss: 4.3450\n",
        "Epoch 746/3000\n",
        "0s - loss: 3.5388 - val_loss: 4.2936\n"
       ]
      },
      {
       "output_type": "stream",
       "stream": "stdout",
       "text": [
        "Epoch 747/3000\n",
        "0s - loss: 3.6081 - val_loss: 4.5725\n",
        "Epoch 748/3000\n",
        "0s - loss: 3.9810 - val_loss: 4.7396\n"
       ]
      },
      {
       "output_type": "stream",
       "stream": "stdout",
       "text": [
        "Epoch 749/3000\n",
        "0s - loss: 3.7593 - val_loss: 4.4079\n",
        "Epoch 750/3000\n",
        "0s - loss: 3.7160 - val_loss: 4.2007\n"
       ]
      },
      {
       "output_type": "stream",
       "stream": "stdout",
       "text": [
        "Epoch 751/3000\n",
        "0s - loss: 3.3699 - val_loss: 4.0934\n",
        "Epoch 752/3000\n",
        "0s - loss: 3.4580 - val_loss: 4.6020\n"
       ]
      },
      {
       "output_type": "stream",
       "stream": "stdout",
       "text": [
        "Epoch 753/3000\n",
        "0s - loss: 3.5971 - val_loss: 4.2984\n"
       ]
      },
      {
       "output_type": "stream",
       "stream": "stdout",
       "text": [
        "Epoch 754/3000\n",
        "0s - loss: 3.6263 - val_loss: 4.8934\n"
       ]
      },
      {
       "output_type": "stream",
       "stream": "stdout",
       "text": [
        "Epoch 755/3000\n",
        "0s - loss: 4.3094 - val_loss: 5.8406\n"
       ]
      },
      {
       "output_type": "stream",
       "stream": "stdout",
       "text": [
        "Epoch 756/3000\n",
        "0s - loss: 4.5593 - val_loss: 4.8449\n"
       ]
      },
      {
       "output_type": "stream",
       "stream": "stdout",
       "text": [
        "Epoch 757/3000\n",
        "0s - loss: 3.9844 - val_loss: 4.6042\n"
       ]
      },
      {
       "output_type": "stream",
       "stream": "stdout",
       "text": [
        "Epoch 758/3000\n",
        "0s - loss: 3.9736 - val_loss: 4.2414\n"
       ]
      },
      {
       "output_type": "stream",
       "stream": "stdout",
       "text": [
        "Epoch 759/3000\n",
        "0s - loss: 3.5217 - val_loss: 4.5277\n"
       ]
      },
      {
       "output_type": "stream",
       "stream": "stdout",
       "text": [
        "Epoch 760/3000\n",
        "0s - loss: 3.6639 - val_loss: 4.6364\n"
       ]
      },
      {
       "output_type": "stream",
       "stream": "stdout",
       "text": [
        "Epoch 761/3000\n",
        "0s - loss: 3.7549 - val_loss: 4.3401\n"
       ]
      },
      {
       "output_type": "stream",
       "stream": "stdout",
       "text": [
        "Epoch 762/3000\n",
        "0s - loss: 3.4672 - val_loss: 4.1294\n"
       ]
      },
      {
       "output_type": "stream",
       "stream": "stdout",
       "text": [
        "Epoch 763/3000\n",
        "0s - loss: 3.3580 - val_loss: 4.2761\n",
        "Epoch 764/3000\n",
        "0s - loss: 3.5174 - val_loss: 4.6121\n"
       ]
      },
      {
       "output_type": "stream",
       "stream": "stdout",
       "text": [
        "Epoch 765/3000\n",
        "0s - loss: 3.9318 - val_loss: 4.7878\n"
       ]
      },
      {
       "output_type": "stream",
       "stream": "stdout",
       "text": [
        "Epoch 766/3000\n",
        "0s - loss: 3.7881 - val_loss: 4.3470\n"
       ]
      },
      {
       "output_type": "stream",
       "stream": "stdout",
       "text": [
        "Epoch 767/3000\n",
        "0s - loss: 3.5473 - val_loss: 4.3968\n"
       ]
      },
      {
       "output_type": "stream",
       "stream": "stdout",
       "text": [
        "Epoch 768/3000\n",
        "0s - loss: 4.0261 - val_loss: 4.3762\n"
       ]
      },
      {
       "output_type": "stream",
       "stream": "stdout",
       "text": [
        "Epoch 769/3000\n",
        "0s - loss: 3.9554 - val_loss: 4.6773\n"
       ]
      },
      {
       "output_type": "stream",
       "stream": "stdout",
       "text": [
        "Epoch 770/3000\n",
        "0s - loss: 3.8486 - val_loss: 4.4744\n",
        "Epoch 771/3000\n",
        "0s - loss: 3.8098 - val_loss: 4.7188\n"
       ]
      },
      {
       "output_type": "stream",
       "stream": "stdout",
       "text": [
        "Epoch 772/3000\n",
        "0s - loss: 3.6946 - val_loss: 4.8170\n",
        "Epoch 773/3000\n",
        "0s - loss: 3.6829 - val_loss: 4.2765\n"
       ]
      },
      {
       "output_type": "stream",
       "stream": "stdout",
       "text": [
        "Epoch 774/3000\n",
        "0s - loss: 3.3917 - val_loss: 4.2449\n",
        "Epoch 775/3000\n",
        "0s - loss: 3.6667 - val_loss: 4.9514\n"
       ]
      },
      {
       "output_type": "stream",
       "stream": "stdout",
       "text": [
        "Epoch 776/3000\n",
        "0s - loss: 4.0783 - val_loss: 4.9621\n",
        "Epoch 777/3000\n",
        "0s - loss: 3.8367 - val_loss: 4.4252\n"
       ]
      },
      {
       "output_type": "stream",
       "stream": "stdout",
       "text": [
        "Epoch 778/3000\n",
        "0s - loss: 3.8514 - val_loss: 4.9194\n",
        "Epoch 779/3000\n",
        "0s - loss: 3.7145 - val_loss: 4.2862\n"
       ]
      },
      {
       "output_type": "stream",
       "stream": "stdout",
       "text": [
        "Epoch 780/3000\n",
        "0s - loss: 3.3261 - val_loss: 4.2656\n",
        "Epoch 781/3000\n",
        "0s - loss: 3.3376 - val_loss: 4.4560\n"
       ]
      },
      {
       "output_type": "stream",
       "stream": "stdout",
       "text": [
        "Epoch 782/3000\n",
        "0s - loss: 3.9582 - val_loss: 5.6485\n",
        "Epoch 783/3000\n",
        "0s - loss: 4.6023 - val_loss: 4.6773\n"
       ]
      },
      {
       "output_type": "stream",
       "stream": "stdout",
       "text": [
        "Epoch 784/3000\n",
        "0s - loss: 3.7660 - val_loss: 4.5097\n",
        "Epoch 785/3000\n",
        "0s - loss: 3.5515 - val_loss: 4.5581\n"
       ]
      },
      {
       "output_type": "stream",
       "stream": "stdout",
       "text": [
        "Epoch 786/3000\n",
        "0s - loss: 3.5275 - val_loss: 4.3495\n",
        "Epoch 787/3000\n",
        "0s - loss: 3.4886 - val_loss: 4.4556\n"
       ]
      },
      {
       "output_type": "stream",
       "stream": "stdout",
       "text": [
        "Epoch 788/3000\n",
        "0s - loss: 3.9572 - val_loss: 4.6663\n",
        "Epoch 789/3000\n",
        "0s - loss: 3.7072 - val_loss: 4.3354\n"
       ]
      },
      {
       "output_type": "stream",
       "stream": "stdout",
       "text": [
        "Epoch 790/3000\n",
        "0s - loss: 3.5667 - val_loss: 4.6554\n"
       ]
      },
      {
       "output_type": "stream",
       "stream": "stdout",
       "text": [
        "Epoch 791/3000\n",
        "0s - loss: 3.8466 - val_loss: 4.2559\n"
       ]
      },
      {
       "output_type": "stream",
       "stream": "stdout",
       "text": [
        "Epoch 792/3000\n",
        "0s - loss: 3.4767 - val_loss: 4.4357\n"
       ]
      },
      {
       "output_type": "stream",
       "stream": "stdout",
       "text": [
        "Epoch 793/3000\n",
        "0s - loss: 3.6085 - val_loss: 5.0057\n"
       ]
      },
      {
       "output_type": "stream",
       "stream": "stdout",
       "text": [
        "Epoch 794/3000\n",
        "0s - loss: 3.9999 - val_loss: 4.5904\n"
       ]
      },
      {
       "output_type": "stream",
       "stream": "stdout",
       "text": [
        "Epoch 795/3000\n",
        "0s - loss: 3.7423 - val_loss: 4.5932\n"
       ]
      },
      {
       "output_type": "stream",
       "stream": "stdout",
       "text": [
        "Epoch 796/3000\n",
        "0s - loss: 3.7842 - val_loss: 4.6404\n"
       ]
      },
      {
       "output_type": "stream",
       "stream": "stdout",
       "text": [
        "Epoch 797/3000\n",
        "0s - loss: 4.0906 - val_loss: 5.0553\n"
       ]
      },
      {
       "output_type": "stream",
       "stream": "stdout",
       "text": [
        "Epoch 798/3000\n",
        "0s - loss: 3.9129 - val_loss: 4.3795\n"
       ]
      },
      {
       "output_type": "stream",
       "stream": "stdout",
       "text": [
        "Epoch 799/3000\n",
        "0s - loss: 3.7828 - val_loss: 4.5573\n"
       ]
      },
      {
       "output_type": "stream",
       "stream": "stdout",
       "text": [
        "Epoch 800/3000\n",
        "0s - loss: 3.6420 - val_loss: 4.2457\n"
       ]
      },
      {
       "output_type": "stream",
       "stream": "stdout",
       "text": [
        "Epoch 801/3000\n",
        "0s - loss: 3.5832 - val_loss: 4.6407\n"
       ]
      },
      {
       "output_type": "stream",
       "stream": "stdout",
       "text": [
        "Epoch 802/3000\n",
        "0s - loss: 3.6929 - val_loss: 4.4460\n"
       ]
      },
      {
       "output_type": "stream",
       "stream": "stdout",
       "text": [
        "Epoch 803/3000\n",
        "0s - loss: 3.6079 - val_loss: 4.5129\n"
       ]
      },
      {
       "output_type": "stream",
       "stream": "stdout",
       "text": [
        "Epoch 804/3000\n",
        "0s - loss: 3.5533 - val_loss: 4.3501\n"
       ]
      },
      {
       "output_type": "stream",
       "stream": "stdout",
       "text": [
        "Epoch 805/3000\n",
        "0s - loss: 3.6428 - val_loss: 4.3124\n"
       ]
      },
      {
       "output_type": "stream",
       "stream": "stdout",
       "text": [
        "Epoch 806/3000\n",
        "0s - loss: 3.5475 - val_loss: 4.5940\n"
       ]
      },
      {
       "output_type": "stream",
       "stream": "stdout",
       "text": [
        "Epoch 807/3000\n",
        "0s - loss: 4.1016 - val_loss: 4.8276\n"
       ]
      },
      {
       "output_type": "stream",
       "stream": "stdout",
       "text": [
        "Epoch 808/3000\n",
        "0s - loss: 3.9365 - val_loss: 4.7402\n"
       ]
      },
      {
       "output_type": "stream",
       "stream": "stdout",
       "text": [
        "Epoch 809/3000\n",
        "0s - loss: 3.8687 - val_loss: 4.2430\n"
       ]
      },
      {
       "output_type": "stream",
       "stream": "stdout",
       "text": [
        "Epoch 810/3000\n",
        "0s - loss: 3.4729 - val_loss: 4.3425\n"
       ]
      },
      {
       "output_type": "stream",
       "stream": "stdout",
       "text": [
        "Epoch 811/3000\n",
        "0s - loss: 3.7312 - val_loss: 4.4598\n"
       ]
      },
      {
       "output_type": "stream",
       "stream": "stdout",
       "text": [
        "Epoch 812/3000\n",
        "0s - loss: 3.7546 - val_loss: 4.5251\n"
       ]
      },
      {
       "output_type": "stream",
       "stream": "stdout",
       "text": [
        "Epoch 813/3000\n",
        "0s - loss: 3.7246 - val_loss: 4.3464\n"
       ]
      },
      {
       "output_type": "stream",
       "stream": "stdout",
       "text": [
        "Epoch 814/3000\n",
        "0s - loss: 3.6050 - val_loss: 4.4100\n",
        "Epoch 815/3000\n",
        "0s - loss: 3.6815 - val_loss: 4.2948\n"
       ]
      },
      {
       "output_type": "stream",
       "stream": "stdout",
       "text": [
        "Epoch 816/3000\n",
        "0s - loss: 3.5876 - val_loss: 5.0129\n"
       ]
      },
      {
       "output_type": "stream",
       "stream": "stdout",
       "text": [
        "Epoch 817/3000\n",
        "0s - loss: 4.1122 - val_loss: 4.7867\n",
        "Epoch 818/3000\n",
        "0s - loss: 3.9528 - val_loss: 4.9583\n"
       ]
      },
      {
       "output_type": "stream",
       "stream": "stdout",
       "text": [
        "Epoch 819/3000\n",
        "0s - loss: 4.1333 - val_loss: 4.5678\n",
        "Epoch 820/3000\n",
        "0s - loss: 3.7102 - val_loss: 4.4288\n"
       ]
      },
      {
       "output_type": "stream",
       "stream": "stdout",
       "text": [
        "Epoch 821/3000\n",
        "0s - loss: 3.9001 - val_loss: 4.4169\n",
        "Epoch 822/3000\n",
        "0s - loss: 3.5563 - val_loss: 4.2964\n"
       ]
      },
      {
       "output_type": "stream",
       "stream": "stdout",
       "text": [
        "Epoch 823/3000\n",
        "0s - loss: 3.5184 - val_loss: 4.6859\n",
        "Epoch 824/3000\n",
        "0s - loss: 3.7736 - val_loss: 4.8493\n"
       ]
      },
      {
       "output_type": "stream",
       "stream": "stdout",
       "text": [
        "Epoch 825/3000\n",
        "0s - loss: 4.0523 - val_loss: 4.6545\n",
        "Epoch 826/3000\n",
        "0s - loss: 3.9164 - val_loss: 4.4914\n"
       ]
      },
      {
       "output_type": "stream",
       "stream": "stdout",
       "text": [
        "Epoch 827/3000\n",
        "0s - loss: 3.5586 - val_loss: 4.1491\n",
        "Epoch 828/3000\n",
        "0s - loss: 3.4489 - val_loss: 4.3388\n"
       ]
      },
      {
       "output_type": "stream",
       "stream": "stdout",
       "text": [
        "Epoch 829/3000\n",
        "0s - loss: 3.6100 - val_loss: 4.2699\n"
       ]
      },
      {
       "output_type": "stream",
       "stream": "stdout",
       "text": [
        "Epoch 830/3000\n",
        "0s - loss: 3.4336 - val_loss: 4.6472\n"
       ]
      },
      {
       "output_type": "stream",
       "stream": "stdout",
       "text": [
        "Epoch 831/3000\n",
        "0s - loss: 3.6425 - val_loss: 4.6045\n"
       ]
      },
      {
       "output_type": "stream",
       "stream": "stdout",
       "text": [
        "Epoch 832/3000\n",
        "0s - loss: 3.6302 - val_loss: 4.5852\n"
       ]
      },
      {
       "output_type": "stream",
       "stream": "stdout",
       "text": [
        "Epoch 833/3000\n",
        "0s - loss: 3.6275 - val_loss: 4.5568\n"
       ]
      },
      {
       "output_type": "stream",
       "stream": "stdout",
       "text": [
        "Epoch 834/3000\n",
        "0s - loss: 3.7442 - val_loss: 4.7582\n"
       ]
      },
      {
       "output_type": "stream",
       "stream": "stdout",
       "text": [
        "Epoch 835/3000\n",
        "0s - loss: 3.9763 - val_loss: 4.9325\n"
       ]
      },
      {
       "output_type": "stream",
       "stream": "stdout",
       "text": [
        "Epoch 836/3000\n",
        "0s - loss: 3.7596 - val_loss: 4.1560\n"
       ]
      },
      {
       "output_type": "stream",
       "stream": "stdout",
       "text": [
        "Epoch 837/3000\n",
        "0s - loss: 3.3146 - val_loss: 4.1281\n"
       ]
      },
      {
       "output_type": "stream",
       "stream": "stdout",
       "text": [
        "Epoch 838/3000\n",
        "0s - loss: 3.3707 - val_loss: 4.8225\n",
        "Epoch 839/3000\n",
        "0s - loss: 4.0623 - val_loss: 5.0028\n"
       ]
      },
      {
       "output_type": "stream",
       "stream": "stdout",
       "text": [
        "Epoch 840/3000\n",
        "0s - loss: 4.1187 - val_loss: 4.6155\n",
        "Epoch 841/3000\n",
        "0s - loss: 3.6534 - val_loss: 4.1367\n"
       ]
      },
      {
       "output_type": "stream",
       "stream": "stdout",
       "text": [
        "Epoch 842/3000\n",
        "0s - loss: 3.6019 - val_loss: 4.5371\n"
       ]
      },
      {
       "output_type": "stream",
       "stream": "stdout",
       "text": [
        "Epoch 843/3000\n",
        "0s - loss: 3.9263 - val_loss: 4.7793\n"
       ]
      },
      {
       "output_type": "stream",
       "stream": "stdout",
       "text": [
        "Epoch 844/3000\n",
        "0s - loss: 4.0933 - val_loss: 4.7139\n"
       ]
      },
      {
       "output_type": "stream",
       "stream": "stdout",
       "text": [
        "Epoch 845/3000\n",
        "0s - loss: 3.9511 - val_loss: 4.7518\n"
       ]
      },
      {
       "output_type": "stream",
       "stream": "stdout",
       "text": [
        "Epoch 846/3000\n",
        "0s - loss: 3.6476 - val_loss: 4.2403\n"
       ]
      },
      {
       "output_type": "stream",
       "stream": "stdout",
       "text": [
        "Epoch 847/3000\n",
        "0s - loss: 3.3392 - val_loss: 4.2211\n"
       ]
      },
      {
       "output_type": "stream",
       "stream": "stdout",
       "text": [
        "Epoch 848/3000\n",
        "0s - loss: 3.2896 - val_loss: 4.0794\n",
        "Epoch 849/3000\n",
        "0s - loss: 3.2885 - val_loss: 4.1079\n"
       ]
      },
      {
       "output_type": "stream",
       "stream": "stdout",
       "text": [
        "Epoch 850/3000\n",
        "0s - loss: 3.3492 - val_loss: 4.2776\n",
        "Epoch 851/3000\n",
        "0s - loss: 3.9180 - val_loss: 4.3418\n"
       ]
      },
      {
       "output_type": "stream",
       "stream": "stdout",
       "text": [
        "Epoch 852/3000\n",
        "0s - loss: 3.6698 - val_loss: 5.5120\n",
        "Epoch 853/3000\n",
        "0s - loss: 4.4030 - val_loss: 4.8106\n"
       ]
      },
      {
       "output_type": "stream",
       "stream": "stdout",
       "text": [
        "Epoch 854/3000\n",
        "0s - loss: 3.8343 - val_loss: 4.3097\n",
        "Epoch 855/3000\n",
        "0s - loss: 3.5696 - val_loss: 4.6097\n"
       ]
      },
      {
       "output_type": "stream",
       "stream": "stdout",
       "text": [
        "Epoch 856/3000\n",
        "0s - loss: 3.7431 - val_loss: 4.6945\n",
        "Epoch 857/3000\n",
        "0s - loss: 3.8141 - val_loss: 4.7507\n"
       ]
      },
      {
       "output_type": "stream",
       "stream": "stdout",
       "text": [
        "Epoch 858/3000\n",
        "0s - loss: 3.9114 - val_loss: 5.3470\n",
        "Epoch 859/3000\n",
        "0s - loss: 4.1238 - val_loss: 4.2417\n"
       ]
      },
      {
       "output_type": "stream",
       "stream": "stdout",
       "text": [
        "Epoch 860/3000\n",
        "0s - loss: 3.3738 - val_loss: 4.2184\n",
        "Epoch 861/3000\n",
        "0s - loss: 3.4511 - val_loss: 4.4374\n"
       ]
      },
      {
       "output_type": "stream",
       "stream": "stdout",
       "text": [
        "Epoch 862/3000\n",
        "0s - loss: 3.5403 - val_loss: 4.6992\n",
        "Epoch 863/3000\n",
        "0s - loss: 3.8710 - val_loss: 4.9882\n"
       ]
      },
      {
       "output_type": "stream",
       "stream": "stdout",
       "text": [
        "Epoch 864/3000\n",
        "0s - loss: 3.7642 - val_loss: 4.5245\n",
        "Epoch 865/3000\n",
        "0s - loss: 3.8738 - val_loss: 4.6497\n"
       ]
      },
      {
       "output_type": "stream",
       "stream": "stdout",
       "text": [
        "Epoch 866/3000\n",
        "0s - loss: 3.6803 - val_loss: 4.7395\n",
        "Epoch 867/3000\n",
        "0s - loss: 3.7567 - val_loss: 4.3315\n"
       ]
      },
      {
       "output_type": "stream",
       "stream": "stdout",
       "text": [
        "Epoch 868/3000\n",
        "0s - loss: 3.4861 - val_loss: 4.3584\n",
        "Epoch 869/3000\n",
        "0s - loss: 3.5395 - val_loss: 4.6669\n"
       ]
      },
      {
       "output_type": "stream",
       "stream": "stdout",
       "text": [
        "Epoch 870/3000\n",
        "0s - loss: 3.6743 - val_loss: 4.6259\n",
        "Epoch 871/3000\n",
        "0s - loss: 3.5859 - val_loss: 4.5470\n"
       ]
      },
      {
       "output_type": "stream",
       "stream": "stdout",
       "text": [
        "Epoch 872/3000\n",
        "0s - loss: 3.7832 - val_loss: 4.3710\n",
        "Epoch 873/3000\n",
        "0s - loss: 3.4469 - val_loss: 4.5483\n"
       ]
      },
      {
       "output_type": "stream",
       "stream": "stdout",
       "text": [
        "Epoch 874/3000\n",
        "0s - loss: 3.6230 - val_loss: 4.4093\n",
        "Epoch 875/3000\n",
        "0s - loss: 3.5873 - val_loss: 4.6715\n"
       ]
      },
      {
       "output_type": "stream",
       "stream": "stdout",
       "text": [
        "Epoch 876/3000\n",
        "0s - loss: 4.0587 - val_loss: 5.0447\n",
        "Epoch 877/3000\n",
        "0s - loss: 3.9780 - val_loss: 5.1175\n"
       ]
      },
      {
       "output_type": "stream",
       "stream": "stdout",
       "text": [
        "Epoch 878/3000\n",
        "0s - loss: 4.2573 - val_loss: 4.8715\n",
        "Epoch 879/3000\n",
        "0s - loss: 3.8017 - val_loss: 4.4464\n"
       ]
      },
      {
       "output_type": "stream",
       "stream": "stdout",
       "text": [
        "Epoch 880/3000\n",
        "0s - loss: 3.4857 - val_loss: 4.2544\n",
        "Epoch 881/3000\n",
        "0s - loss: 3.3645 - val_loss: 4.2374\n"
       ]
      },
      {
       "output_type": "stream",
       "stream": "stdout",
       "text": [
        "Epoch 882/3000\n",
        "0s - loss: 3.4173 - val_loss: 4.1512\n",
        "Epoch 883/3000\n",
        "0s - loss: 3.3493 - val_loss: 4.1862\n"
       ]
      },
      {
       "output_type": "stream",
       "stream": "stdout",
       "text": [
        "Epoch 884/3000\n",
        "0s - loss: 3.4226 - val_loss: 4.4442\n",
        "Epoch 885/3000\n",
        "0s - loss: 3.6919 - val_loss: 5.0215\n"
       ]
      },
      {
       "output_type": "stream",
       "stream": "stdout",
       "text": [
        "Epoch 886/3000\n",
        "0s - loss: 3.8511 - val_loss: 5.1270\n",
        "Epoch 887/3000\n",
        "0s - loss: 3.9610 - val_loss: 4.4482\n"
       ]
      },
      {
       "output_type": "stream",
       "stream": "stdout",
       "text": [
        "Epoch 888/3000\n",
        "0s - loss: 3.7637 - val_loss: 4.7345\n"
       ]
      },
      {
       "output_type": "stream",
       "stream": "stdout",
       "text": [
        "Epoch 889/3000\n",
        "0s - loss: 3.9665 - val_loss: 4.9444\n",
        "Epoch 890/3000\n",
        "0s - loss: 4.1026 - val_loss: 4.6756\n"
       ]
      },
      {
       "output_type": "stream",
       "stream": "stdout",
       "text": [
        "Epoch 891/3000\n",
        "0s - loss: 3.8140 - val_loss: 4.2356\n",
        "Epoch 892/3000\n",
        "0s - loss: 3.3554 - val_loss: 4.1318\n"
       ]
      },
      {
       "output_type": "stream",
       "stream": "stdout",
       "text": [
        "Epoch 893/3000\n",
        "0s - loss: 3.3687 - val_loss: 4.3706\n",
        "Epoch 894/3000\n",
        "0s - loss: 3.5444 - val_loss: 4.2076\n"
       ]
      },
      {
       "output_type": "stream",
       "stream": "stdout",
       "text": [
        "Epoch 895/3000\n",
        "0s - loss: 3.4830 - val_loss: 4.4264\n",
        "Epoch 896/3000\n",
        "0s - loss: 3.9609 - val_loss: 4.8516\n"
       ]
      },
      {
       "output_type": "stream",
       "stream": "stdout",
       "text": [
        "Epoch 897/3000\n",
        "0s - loss: 4.0370 - val_loss: 4.6698\n",
        "Epoch 898/3000\n",
        "0s - loss: 3.8024 - val_loss: 4.3134\n"
       ]
      },
      {
       "output_type": "stream",
       "stream": "stdout",
       "text": [
        "Epoch 899/3000\n",
        "0s - loss: 3.5798 - val_loss: 4.6664\n",
        "Epoch 900/3000\n",
        "0s - loss: 3.6527 - val_loss: 4.6636\n"
       ]
      },
      {
       "output_type": "stream",
       "stream": "stdout",
       "text": [
        "Epoch 901/3000\n",
        "0s - loss: 3.6231 - val_loss: 4.3208\n",
        "Epoch 902/3000\n",
        "0s - loss: 3.5726 - val_loss: 4.2645\n"
       ]
      },
      {
       "output_type": "stream",
       "stream": "stdout",
       "text": [
        "Epoch 903/3000\n",
        "0s - loss: 3.4576 - val_loss: 4.2776\n",
        "Epoch 904/3000\n",
        "0s - loss: 3.5027 - val_loss: 4.6901\n"
       ]
      },
      {
       "output_type": "stream",
       "stream": "stdout",
       "text": [
        "Epoch 905/3000\n",
        "0s - loss: 4.0881 - val_loss: 4.9409\n",
        "Epoch 906/3000\n",
        "0s - loss: 3.7636 - val_loss: 4.5626\n"
       ]
      },
      {
       "output_type": "stream",
       "stream": "stdout",
       "text": [
        "Epoch 907/3000\n",
        "0s - loss: 3.8204 - val_loss: 4.6375\n",
        "Epoch 908/3000\n",
        "0s - loss: 3.6416 - val_loss: 4.5461\n"
       ]
      },
      {
       "output_type": "stream",
       "stream": "stdout",
       "text": [
        "Epoch 909/3000\n",
        "0s - loss: 3.5841 - val_loss: 4.3743\n",
        "Epoch 910/3000\n",
        "0s - loss: 3.5724 - val_loss: 4.5780\n"
       ]
      },
      {
       "output_type": "stream",
       "stream": "stdout",
       "text": [
        "Epoch 911/3000\n",
        "0s - loss: 3.7860 - val_loss: 4.1691\n",
        "Epoch 912/3000\n",
        "0s - loss: 3.3929 - val_loss: 4.3894\n"
       ]
      },
      {
       "output_type": "stream",
       "stream": "stdout",
       "text": [
        "Epoch 913/3000\n",
        "0s - loss: 3.5529 - val_loss: 4.3509\n",
        "Epoch 914/3000\n",
        "0s - loss: 3.5628 - val_loss: 4.9331\n"
       ]
      },
      {
       "output_type": "stream",
       "stream": "stdout",
       "text": [
        "Epoch 915/3000\n",
        "0s - loss: 3.9791 - val_loss: 5.2430\n",
        "Epoch 916/3000\n",
        "0s - loss: 4.2180 - val_loss: 4.8418\n"
       ]
      },
      {
       "output_type": "stream",
       "stream": "stdout",
       "text": [
        "Epoch 917/3000\n",
        "0s - loss: 3.6862 - val_loss: 4.1187\n",
        "Epoch 918/3000\n",
        "0s - loss: 3.3570 - val_loss: 4.1051\n"
       ]
      },
      {
       "output_type": "stream",
       "stream": "stdout",
       "text": [
        "Epoch 919/3000\n",
        "0s - loss: 3.3502 - val_loss: 4.2234\n",
        "Epoch 920/3000\n",
        "0s - loss: 3.4159 - val_loss: 4.7239\n"
       ]
      },
      {
       "output_type": "stream",
       "stream": "stdout",
       "text": [
        "Epoch 921/3000\n",
        "0s - loss: 3.7057 - val_loss: 4.5399\n",
        "Epoch 922/3000\n",
        "0s - loss: 3.6888 - val_loss: 4.3557\n"
       ]
      },
      {
       "output_type": "stream",
       "stream": "stdout",
       "text": [
        "Epoch 923/3000\n",
        "0s - loss: 3.5114 - val_loss: 4.2603\n",
        "Epoch 924/3000\n",
        "0s - loss: 3.6479 - val_loss: 4.4108\n"
       ]
      },
      {
       "output_type": "stream",
       "stream": "stdout",
       "text": [
        "Epoch 925/3000\n",
        "0s - loss: 3.7162 - val_loss: 4.4284\n",
        "Epoch 926/3000\n",
        "0s - loss: 3.6957 - val_loss: 4.6305\n"
       ]
      },
      {
       "output_type": "stream",
       "stream": "stdout",
       "text": [
        "Epoch 927/3000\n",
        "0s - loss: 4.0464 - val_loss: 5.2323\n"
       ]
      },
      {
       "output_type": "stream",
       "stream": "stdout",
       "text": [
        "Epoch 928/3000\n",
        "0s - loss: 4.0755 - val_loss: 4.2713\n"
       ]
      },
      {
       "output_type": "stream",
       "stream": "stdout",
       "text": [
        "Epoch 929/3000\n",
        "0s - loss: 3.5946 - val_loss: 4.3827\n"
       ]
      },
      {
       "output_type": "stream",
       "stream": "stdout",
       "text": [
        "Epoch 930/3000\n",
        "0s - loss: 3.6115 - val_loss: 4.2431\n"
       ]
      },
      {
       "output_type": "stream",
       "stream": "stdout",
       "text": [
        "Epoch 931/3000\n",
        "0s - loss: 3.4270 - val_loss: 4.8867\n",
        "Epoch 932/3000\n",
        "0s - loss: 3.8351 - val_loss: 4.7596\n"
       ]
      },
      {
       "output_type": "stream",
       "stream": "stdout",
       "text": [
        "Epoch 933/3000\n",
        "0s - loss: 3.8839 - val_loss: 4.8797\n",
        "Epoch 934/3000\n",
        "0s - loss: 3.8339 - val_loss: 4.5105\n"
       ]
      },
      {
       "output_type": "stream",
       "stream": "stdout",
       "text": [
        "Epoch 935/3000\n",
        "0s - loss: 3.4567 - val_loss: 4.4058\n",
        "Epoch 936/3000\n",
        "0s - loss: 3.4208 - val_loss: 4.3318\n"
       ]
      },
      {
       "output_type": "stream",
       "stream": "stdout",
       "text": [
        "Epoch 937/3000\n",
        "0s - loss: 3.4517 - val_loss: 4.2949\n",
        "Epoch 938/3000\n",
        "0s - loss: 3.6845 - val_loss: 4.8052\n"
       ]
      },
      {
       "output_type": "stream",
       "stream": "stdout",
       "text": [
        "Epoch 939/3000\n",
        "0s - loss: 3.8415 - val_loss: 4.2605\n",
        "Epoch 940/3000\n",
        "0s - loss: 3.5779 - val_loss: 4.8592\n"
       ]
      },
      {
       "output_type": "stream",
       "stream": "stdout",
       "text": [
        "Epoch 941/3000\n",
        "0s - loss: 3.8010 - val_loss: 4.9850\n",
        "Epoch 942/3000\n",
        "0s - loss: 3.8899 - val_loss: 4.7816\n"
       ]
      },
      {
       "output_type": "stream",
       "stream": "stdout",
       "text": [
        "Epoch 943/3000\n",
        "0s - loss: 3.7877 - val_loss: 4.1912\n",
        "Epoch 944/3000\n",
        "0s - loss: 3.4445 - val_loss: 4.3234\n"
       ]
      },
      {
       "output_type": "stream",
       "stream": "stdout",
       "text": [
        "Epoch 945/3000\n",
        "0s - loss: 3.6127 - val_loss: 4.3439\n",
        "Epoch 946/3000\n",
        "0s - loss: 3.3805 - val_loss: 4.1540\n"
       ]
      },
      {
       "output_type": "stream",
       "stream": "stdout",
       "text": [
        "Epoch 947/3000\n",
        "0s - loss: 3.4136 - val_loss: 4.7136\n",
        "Epoch 948/3000\n",
        "0s - loss: 3.9167 - val_loss: 4.3808\n"
       ]
      },
      {
       "output_type": "stream",
       "stream": "stdout",
       "text": [
        "Epoch 949/3000\n",
        "0s - loss: 3.7719 - val_loss: 5.2828\n",
        "Epoch 950/3000\n",
        "0s - loss: 4.3590 - val_loss: 4.5665\n"
       ]
      },
      {
       "output_type": "stream",
       "stream": "stdout",
       "text": [
        "Epoch 951/3000\n",
        "0s - loss: 3.7357 - val_loss: 4.2316\n",
        "Epoch 952/3000\n",
        "0s - loss: 3.4875 - val_loss: 4.1364\n"
       ]
      },
      {
       "output_type": "stream",
       "stream": "stdout",
       "text": [
        "Epoch 953/3000\n",
        "0s - loss: 3.3455 - val_loss: 4.0328\n",
        "Epoch 954/3000\n",
        "0s - loss: 3.4377 - val_loss: 4.9655\n"
       ]
      },
      {
       "output_type": "stream",
       "stream": "stdout",
       "text": [
        "Epoch 955/3000\n",
        "0s - loss: 3.8319 - val_loss: 4.2855\n",
        "Epoch 956/3000\n",
        "0s - loss: 3.6434 - val_loss: 4.5340\n"
       ]
      },
      {
       "output_type": "stream",
       "stream": "stdout",
       "text": [
        "Epoch 957/3000\n",
        "0s - loss: 3.6066 - val_loss: 4.4398\n",
        "Epoch 958/3000\n",
        "0s - loss: 3.4171 - val_loss: 4.4919\n"
       ]
      },
      {
       "output_type": "stream",
       "stream": "stdout",
       "text": [
        "Epoch 959/3000\n",
        "0s - loss: 3.3773 - val_loss: 4.2418\n",
        "Epoch 960/3000\n",
        "0s - loss: 3.3946 - val_loss: 4.7583\n"
       ]
      },
      {
       "output_type": "stream",
       "stream": "stdout",
       "text": [
        "Epoch 961/3000\n",
        "0s - loss: 3.7266 - val_loss: 4.6729\n"
       ]
      },
      {
       "output_type": "stream",
       "stream": "stdout",
       "text": [
        "Epoch 962/3000\n",
        "0s - loss: 3.8704 - val_loss: 4.4409\n"
       ]
      },
      {
       "output_type": "stream",
       "stream": "stdout",
       "text": [
        "Epoch 963/3000\n",
        "0s - loss: 3.7072 - val_loss: 4.5103\n",
        "Epoch 964/3000\n",
        "0s - loss: 3.7117 - val_loss: 4.5851\n"
       ]
      },
      {
       "output_type": "stream",
       "stream": "stdout",
       "text": [
        "Epoch 965/3000\n",
        "0s - loss: 3.7590 - val_loss: 4.5884\n",
        "Epoch 966/3000\n",
        "0s - loss: 3.6929 - val_loss: 4.5399\n"
       ]
      },
      {
       "output_type": "stream",
       "stream": "stdout",
       "text": [
        "Epoch 967/3000\n",
        "0s - loss: 3.5315 - val_loss: 4.4716\n",
        "Epoch 968/3000\n",
        "0s - loss: 3.6611 - val_loss: 5.1856\n"
       ]
      },
      {
       "output_type": "stream",
       "stream": "stdout",
       "text": [
        "Epoch 969/3000\n",
        "0s - loss: 4.3211 - val_loss: 5.0171\n",
        "Epoch 970/3000\n",
        "0s - loss: 4.1126 - val_loss: 4.7570\n"
       ]
      },
      {
       "output_type": "stream",
       "stream": "stdout",
       "text": [
        "Epoch 971/3000\n",
        "0s - loss: 3.6306 - val_loss: 4.2001\n",
        "Epoch 972/3000\n",
        "0s - loss: 3.3206 - val_loss: 4.3531\n"
       ]
      },
      {
       "output_type": "stream",
       "stream": "stdout",
       "text": [
        "Epoch 973/3000\n",
        "0s - loss: 3.3671 - val_loss: 4.2768\n",
        "Epoch 974/3000\n",
        "0s - loss: 3.4001 - val_loss: 4.3177\n"
       ]
      },
      {
       "output_type": "stream",
       "stream": "stdout",
       "text": [
        "Epoch 975/3000\n",
        "0s - loss: 3.3761 - val_loss: 4.1527\n",
        "Epoch 976/3000\n",
        "0s - loss: 3.6824 - val_loss: 4.8022\n"
       ]
      },
      {
       "output_type": "stream",
       "stream": "stdout",
       "text": [
        "Epoch 977/3000\n",
        "0s - loss: 4.0003 - val_loss: 4.4717\n",
        "Epoch 978/3000\n",
        "0s - loss: 3.6580 - val_loss: 4.5347\n"
       ]
      },
      {
       "output_type": "stream",
       "stream": "stdout",
       "text": [
        "Epoch 979/3000\n",
        "0s - loss: 3.6741 - val_loss: 4.5275\n",
        "Epoch 980/3000\n",
        "0s - loss: 3.6362 - val_loss: 4.2956\n"
       ]
      },
      {
       "output_type": "stream",
       "stream": "stdout",
       "text": [
        "Epoch 981/3000\n",
        "0s - loss: 3.3714 - val_loss: 4.2996\n",
        "Epoch 982/3000\n",
        "0s - loss: 3.3987 - val_loss: 4.7472\n"
       ]
      },
      {
       "output_type": "stream",
       "stream": "stdout",
       "text": [
        "Epoch 983/3000\n",
        "0s - loss: 4.1223 - val_loss: 5.1666\n",
        "Epoch 984/3000\n",
        "0s - loss: 4.1265 - val_loss: 4.5670\n"
       ]
      },
      {
       "output_type": "stream",
       "stream": "stdout",
       "text": [
        "Epoch 985/3000\n",
        "0s - loss: 3.6106 - val_loss: 4.2162\n",
        "Epoch 986/3000\n",
        "0s - loss: 3.3957 - val_loss: 4.8968\n"
       ]
      },
      {
       "output_type": "stream",
       "stream": "stdout",
       "text": [
        "Epoch 987/3000\n",
        "0s - loss: 3.9243 - val_loss: 4.6930\n",
        "Epoch 988/3000\n",
        "0s - loss: 3.7849 - val_loss: 4.6646\n"
       ]
      },
      {
       "output_type": "stream",
       "stream": "stdout",
       "text": [
        "Epoch 989/3000\n",
        "0s - loss: 3.7669 - val_loss: 4.5436\n",
        "Epoch 990/3000\n",
        "0s - loss: 3.4260 - val_loss: 4.2713\n"
       ]
      },
      {
       "output_type": "stream",
       "stream": "stdout",
       "text": [
        "Epoch 991/3000\n",
        "0s - loss: 3.3953 - val_loss: 4.3774\n",
        "Epoch 992/3000\n",
        "0s - loss: 3.5604 - val_loss: 4.3978\n"
       ]
      },
      {
       "output_type": "stream",
       "stream": "stdout",
       "text": [
        "Epoch 993/3000\n",
        "0s - loss: 3.6890 - val_loss: 4.4865\n",
        "Epoch 994/3000\n",
        "0s - loss: 3.5833 - val_loss: 4.1743\n"
       ]
      },
      {
       "output_type": "stream",
       "stream": "stdout",
       "text": [
        "Epoch 995/3000\n",
        "0s - loss: 3.3459 - val_loss: 4.1997\n",
        "Epoch 996/3000\n",
        "0s - loss: 3.5319 - val_loss: 4.8928\n"
       ]
      },
      {
       "output_type": "stream",
       "stream": "stdout",
       "text": [
        "Epoch 997/3000\n",
        "0s - loss: 3.9744 - val_loss: 5.0720\n",
        "Epoch 998/3000\n",
        "0s - loss: 4.2446 - val_loss: 4.7405\n"
       ]
      },
      {
       "output_type": "stream",
       "stream": "stdout",
       "text": [
        "Epoch 999/3000\n",
        "0s - loss: 3.6452 - val_loss: 4.2592\n",
        "Epoch 1000/3000\n",
        "0s - loss: 3.3595 - val_loss: 4.2696\n"
       ]
      },
      {
       "output_type": "stream",
       "stream": "stdout",
       "text": [
        "Epoch 1001/3000\n",
        "0s - loss: 3.4619 - val_loss: 4.4278\n",
        "Epoch 1002/3000\n",
        "0s - loss: 3.6102 - val_loss: 4.2473\n"
       ]
      },
      {
       "output_type": "stream",
       "stream": "stdout",
       "text": [
        "Epoch 1003/3000\n",
        "0s - loss: 3.4903 - val_loss: 4.2391\n",
        "Epoch 1004/3000\n",
        "0s - loss: 3.5238 - val_loss: 4.9958\n"
       ]
      },
      {
       "output_type": "stream",
       "stream": "stdout",
       "text": [
        "Epoch 1005/3000\n",
        "0s - loss: 3.8145 - val_loss: 4.9416\n",
        "Epoch 1006/3000\n",
        "0s - loss: 3.7625 - val_loss: 4.3872\n"
       ]
      },
      {
       "output_type": "stream",
       "stream": "stdout",
       "text": [
        "Epoch 1007/3000\n",
        "0s - loss: 3.6009 - val_loss: 4.7920\n",
        "Epoch 1008/3000\n",
        "0s - loss: 3.7659 - val_loss: 4.4577\n"
       ]
      },
      {
       "output_type": "stream",
       "stream": "stdout",
       "text": [
        "Epoch 1009/3000\n",
        "0s - loss: 3.6666 - val_loss: 4.4669\n",
        "Epoch 1010/3000\n",
        "0s - loss: 3.5477 - val_loss: 4.4724\n"
       ]
      },
      {
       "output_type": "stream",
       "stream": "stdout",
       "text": [
        "Epoch 1011/3000\n",
        "0s - loss: 3.7159 - val_loss: 4.6546\n",
        "Epoch 1012/3000\n",
        "0s - loss: 3.6612 - val_loss: 4.8313\n"
       ]
      },
      {
       "output_type": "stream",
       "stream": "stdout",
       "text": [
        "Epoch 1013/3000\n",
        "0s - loss: 3.7566 - val_loss: 4.7079\n",
        "Epoch 1014/3000\n",
        "0s - loss: 3.7822 - val_loss: 4.6194\n"
       ]
      },
      {
       "output_type": "stream",
       "stream": "stdout",
       "text": [
        "Epoch 1015/3000\n",
        "0s - loss: 3.6658 - val_loss: 4.2042\n"
       ]
      },
      {
       "output_type": "stream",
       "stream": "stdout",
       "text": [
        "Epoch 1016/3000\n",
        "0s - loss: 3.3552 - val_loss: 4.3355\n",
        "Epoch 1017/3000\n",
        "0s - loss: 3.5369 - val_loss: 4.4163\n"
       ]
      },
      {
       "output_type": "stream",
       "stream": "stdout",
       "text": [
        "Epoch 1018/3000\n",
        "0s - loss: 3.5633 - val_loss: 4.2400\n",
        "Epoch 1019/3000\n",
        "0s - loss: 3.4401 - val_loss: 4.4689\n"
       ]
      },
      {
       "output_type": "stream",
       "stream": "stdout",
       "text": [
        "Epoch 1020/3000\n",
        "0s - loss: 3.8191 - val_loss: 4.5980\n",
        "Epoch 1021/3000\n",
        "0s - loss: 4.1960 - val_loss: 4.6998\n"
       ]
      },
      {
       "output_type": "stream",
       "stream": "stdout",
       "text": [
        "Epoch 1022/3000\n",
        "0s - loss: 3.9107 - val_loss: 4.1987\n",
        "Epoch 1023/3000\n",
        "0s - loss: 3.3093 - val_loss: 4.2947\n"
       ]
      },
      {
       "output_type": "stream",
       "stream": "stdout",
       "text": [
        "Epoch 1024/3000\n",
        "0s - loss: 3.5180 - val_loss: 4.4825\n",
        "Epoch 1025/3000\n",
        "0s - loss: 3.5880 - val_loss: 4.3393\n"
       ]
      },
      {
       "output_type": "stream",
       "stream": "stdout",
       "text": [
        "Epoch 1026/3000\n",
        "0s - loss: 3.4086 - val_loss: 4.4364\n"
       ]
      },
      {
       "output_type": "stream",
       "stream": "stdout",
       "text": [
        "Epoch 1027/3000\n",
        "0s - loss: 3.6592 - val_loss: 4.7322\n"
       ]
      },
      {
       "output_type": "stream",
       "stream": "stdout",
       "text": [
        "Epoch 1028/3000\n",
        "0s - loss: 3.6466 - val_loss: 4.3765\n"
       ]
      },
      {
       "output_type": "stream",
       "stream": "stdout",
       "text": [
        "Epoch 1029/3000\n",
        "0s - loss: 3.8158 - val_loss: 4.8533\n"
       ]
      },
      {
       "output_type": "stream",
       "stream": "stdout",
       "text": [
        "Epoch 1030/3000\n",
        "0s - loss: 3.8038 - val_loss: 4.6808\n"
       ]
      },
      {
       "output_type": "stream",
       "stream": "stdout",
       "text": [
        "Epoch 1031/3000\n",
        "0s - loss: 3.7228 - val_loss: 4.3163\n",
        "Epoch 1032/3000\n",
        "0s - loss: 3.4579 - val_loss: 4.2321\n"
       ]
      },
      {
       "output_type": "stream",
       "stream": "stdout",
       "text": [
        "Epoch 1033/3000\n",
        "0s - loss: 3.4347 - val_loss: 4.6461\n",
        "Epoch 1034/3000\n",
        "0s - loss: 3.7287 - val_loss: 4.8242\n"
       ]
      },
      {
       "output_type": "stream",
       "stream": "stdout",
       "text": [
        "Epoch 1035/3000\n",
        "0s - loss: 3.6508 - val_loss: 4.3489\n"
       ]
      },
      {
       "output_type": "stream",
       "stream": "stdout",
       "text": [
        "Epoch 1036/3000\n",
        "0s - loss: 3.5159 - val_loss: 4.2460\n",
        "Epoch 1037/3000\n",
        "0s - loss: 3.5441 - val_loss: 4.1363\n"
       ]
      },
      {
       "output_type": "stream",
       "stream": "stdout",
       "text": [
        "Epoch 1038/3000\n",
        "0s - loss: 3.3271 - val_loss: 4.1805\n",
        "Epoch 1039/3000\n",
        "0s - loss: 3.4316 - val_loss: 4.2047\n"
       ]
      },
      {
       "output_type": "stream",
       "stream": "stdout",
       "text": [
        "Epoch 1040/3000\n",
        "0s - loss: 3.4869 - val_loss: 4.8804\n"
       ]
      },
      {
       "output_type": "stream",
       "stream": "stdout",
       "text": [
        "Epoch 1041/3000\n",
        "0s - loss: 4.1210 - val_loss: 5.2673\n",
        "Epoch 1042/3000\n",
        "0s - loss: 4.1281 - val_loss: 4.4333\n"
       ]
      },
      {
       "output_type": "stream",
       "stream": "stdout",
       "text": [
        "Epoch 1043/3000\n",
        "0s - loss: 4.0168 - val_loss: 4.6136\n"
       ]
      },
      {
       "output_type": "stream",
       "stream": "stdout",
       "text": [
        "Epoch 1044/3000\n",
        "0s - loss: 3.5841 - val_loss: 4.1532\n"
       ]
      },
      {
       "output_type": "stream",
       "stream": "stdout",
       "text": [
        "Epoch 1045/3000\n",
        "0s - loss: 3.3491 - val_loss: 4.4088\n"
       ]
      },
      {
       "output_type": "stream",
       "stream": "stdout",
       "text": [
        "Epoch 1046/3000\n",
        "0s - loss: 3.5991 - val_loss: 4.1717\n"
       ]
      },
      {
       "output_type": "stream",
       "stream": "stdout",
       "text": [
        "Epoch 1047/3000\n",
        "0s - loss: 3.3306 - val_loss: 4.1786\n",
        "Epoch 1048/3000\n",
        "0s - loss: 3.4223 - val_loss: 4.3747\n"
       ]
      },
      {
       "output_type": "stream",
       "stream": "stdout",
       "text": [
        "Epoch 1049/3000\n",
        "0s - loss: 3.5121 - val_loss: 4.5669\n",
        "Epoch 1050/3000\n",
        "0s - loss: 3.6443 - val_loss: 4.6880\n"
       ]
      },
      {
       "output_type": "stream",
       "stream": "stdout",
       "text": [
        "Epoch 1051/3000\n",
        "0s - loss: 3.5165 - val_loss: 4.3195\n"
       ]
      },
      {
       "output_type": "stream",
       "stream": "stdout",
       "text": [
        "Epoch 1052/3000\n",
        "0s - loss: 3.6729 - val_loss: 4.7223\n"
       ]
      },
      {
       "output_type": "stream",
       "stream": "stdout",
       "text": [
        "Epoch 1053/3000\n",
        "0s - loss: 4.0905 - val_loss: 4.7903\n"
       ]
      },
      {
       "output_type": "stream",
       "stream": "stdout",
       "text": [
        "Epoch 1054/3000\n",
        "0s - loss: 3.9221 - val_loss: 4.6755\n",
        "Epoch 1055/3000\n",
        "0s - loss: 3.7313 - val_loss: 4.4672\n"
       ]
      },
      {
       "output_type": "stream",
       "stream": "stdout",
       "text": [
        "Epoch 1056/3000\n",
        "0s - loss: 3.5319 - val_loss: 4.1660\n"
       ]
      },
      {
       "output_type": "stream",
       "stream": "stdout",
       "text": [
        "Epoch 1057/3000\n",
        "0s - loss: 3.3659 - val_loss: 4.2877\n"
       ]
      },
      {
       "output_type": "stream",
       "stream": "stdout",
       "text": [
        "Epoch 1058/3000\n",
        "0s - loss: 3.4946 - val_loss: 4.3621\n"
       ]
      },
      {
       "output_type": "stream",
       "stream": "stdout",
       "text": [
        "Epoch 1059/3000\n",
        "0s - loss: 3.4231 - val_loss: 4.1616\n",
        "Epoch 1060/3000\n",
        "0s - loss: 3.2990 - val_loss: 4.3185\n"
       ]
      },
      {
       "output_type": "stream",
       "stream": "stdout",
       "text": [
        "Epoch 1061/3000\n",
        "0s - loss: 3.4208 - val_loss: 4.5465\n",
        "Epoch 1062/3000\n",
        "0s - loss: 3.8286 - val_loss: 4.6089\n"
       ]
      },
      {
       "output_type": "stream",
       "stream": "stdout",
       "text": [
        "Epoch 1063/3000\n",
        "0s - loss: 3.7961 - val_loss: 4.4474\n",
        "Epoch 1064/3000\n",
        "0s - loss: 3.6213 - val_loss: 4.4413\n"
       ]
      },
      {
       "output_type": "stream",
       "stream": "stdout",
       "text": [
        "Epoch 1065/3000\n",
        "0s - loss: 3.7810 - val_loss: 4.6568\n",
        "Epoch 1066/3000\n",
        "0s - loss: 3.9807 - val_loss: 4.9188\n"
       ]
      },
      {
       "output_type": "stream",
       "stream": "stdout",
       "text": [
        "Epoch 1067/3000\n",
        "0s - loss: 3.8680 - val_loss: 4.4637\n",
        "Epoch 1068/3000\n",
        "0s - loss: 3.4143 - val_loss: 4.2430\n"
       ]
      },
      {
       "output_type": "stream",
       "stream": "stdout",
       "text": [
        "Epoch 1069/3000\n",
        "0s - loss: 3.4776 - val_loss: 4.2982\n",
        "Epoch 1070/3000\n",
        "0s - loss: 3.5872 - val_loss: 4.3180\n"
       ]
      },
      {
       "output_type": "stream",
       "stream": "stdout",
       "text": [
        "Epoch 1071/3000\n",
        "0s - loss: 3.4432 - val_loss: 4.6909\n",
        "Epoch 1072/3000\n",
        "0s - loss: 3.9594 - val_loss: 4.8789\n"
       ]
      },
      {
       "output_type": "stream",
       "stream": "stdout",
       "text": [
        "Epoch 1073/3000\n",
        "0s - loss: 3.6917 - val_loss: 4.2864\n",
        "Epoch 1074/3000\n",
        "0s - loss: 3.5454 - val_loss: 4.2540\n"
       ]
      },
      {
       "output_type": "stream",
       "stream": "stdout",
       "text": [
        "Epoch 1075/3000\n",
        "0s - loss: 3.5222 - val_loss: 4.1931\n",
        "Epoch 1076/3000\n",
        "0s - loss: 3.4402 - val_loss: 4.1260\n"
       ]
      },
      {
       "output_type": "stream",
       "stream": "stdout",
       "text": [
        "Epoch 1077/3000\n",
        "0s - loss: 3.3629 - val_loss: 4.2465\n",
        "Epoch 1078/3000\n",
        "0s - loss: 3.5442 - val_loss: 4.6665\n"
       ]
      },
      {
       "output_type": "stream",
       "stream": "stdout",
       "text": [
        "Epoch 1079/3000\n",
        "0s - loss: 3.9099 - val_loss: 5.0142\n",
        "Epoch 1080/3000\n",
        "0s - loss: 3.9275 - val_loss: 4.1511\n"
       ]
      },
      {
       "output_type": "stream",
       "stream": "stdout",
       "text": [
        "Epoch 1081/3000\n",
        "0s - loss: 3.4729 - val_loss: 4.3599\n",
        "Epoch 1082/3000\n",
        "0s - loss: 3.5797 - val_loss: 4.3234\n"
       ]
      },
      {
       "output_type": "stream",
       "stream": "stdout",
       "text": [
        "Epoch 1083/3000\n",
        "0s - loss: 3.4935 - val_loss: 4.6802\n",
        "Epoch 1084/3000\n",
        "0s - loss: 3.7096 - val_loss: 4.4483\n"
       ]
      },
      {
       "output_type": "stream",
       "stream": "stdout",
       "text": [
        "Epoch 1085/3000\n",
        "0s - loss: 3.6552 - val_loss: 4.8498\n",
        "Epoch 1086/3000\n",
        "0s - loss: 3.7390 - val_loss: 4.5797\n"
       ]
      },
      {
       "output_type": "stream",
       "stream": "stdout",
       "text": [
        "Epoch 1087/3000\n",
        "0s - loss: 3.6157 - val_loss: 4.3600\n",
        "Epoch 1088/3000\n",
        "0s - loss: 3.4665 - val_loss: 4.6907\n"
       ]
      },
      {
       "output_type": "stream",
       "stream": "stdout",
       "text": [
        "Epoch 1089/3000\n",
        "0s - loss: 3.6225 - val_loss: 4.4202\n",
        "Epoch 1090/3000\n",
        "0s - loss: 3.5217 - val_loss: 4.7807\n"
       ]
      },
      {
       "output_type": "stream",
       "stream": "stdout",
       "text": [
        "Epoch 1091/3000\n",
        "0s - loss: 3.5588 - val_loss: 4.3430\n",
        "Epoch 1092/3000\n",
        "0s - loss: 3.5148 - val_loss: 4.4133\n"
       ]
      },
      {
       "output_type": "stream",
       "stream": "stdout",
       "text": [
        "Epoch 1093/3000\n",
        "0s - loss: 3.6175 - val_loss: 4.3406\n",
        "Epoch 1094/3000\n",
        "0s - loss: 3.4621 - val_loss: 4.4854\n"
       ]
      },
      {
       "output_type": "stream",
       "stream": "stdout",
       "text": [
        "Epoch 1095/3000\n",
        "0s - loss: 3.6320 - val_loss: 4.4340\n",
        "Epoch 1096/3000\n",
        "0s - loss: 3.5377 - val_loss: 4.1623\n"
       ]
      },
      {
       "output_type": "stream",
       "stream": "stdout",
       "text": [
        "Epoch 1097/3000\n",
        "0s - loss: 3.5714 - val_loss: 4.8472\n",
        "Epoch 1098/3000\n",
        "0s - loss: 4.1043 - val_loss: 4.7014\n"
       ]
      },
      {
       "output_type": "stream",
       "stream": "stdout",
       "text": [
        "Epoch 1099/3000\n",
        "0s - loss: 3.7150 - val_loss: 4.4032\n",
        "Epoch 1100/3000\n",
        "0s - loss: 3.4093 - val_loss: 4.1670\n"
       ]
      },
      {
       "output_type": "stream",
       "stream": "stdout",
       "text": [
        "Epoch 1101/3000\n",
        "0s - loss: 3.5112 - val_loss: 5.1632\n"
       ]
      },
      {
       "output_type": "stream",
       "stream": "stdout",
       "text": [
        "Epoch 1102/3000\n",
        "0s - loss: 4.0372 - val_loss: 4.2447\n",
        "Epoch 1103/3000\n",
        "0s - loss: 3.2695 - val_loss: 4.0540\n"
       ]
      },
      {
       "output_type": "stream",
       "stream": "stdout",
       "text": [
        "Epoch 1104/3000\n",
        "0s - loss: 3.3354 - val_loss: 4.5587\n",
        "Epoch 1105/3000\n",
        "0s - loss: 3.6917 - val_loss: 4.3114\n"
       ]
      },
      {
       "output_type": "stream",
       "stream": "stdout",
       "text": [
        "Epoch 1106/3000\n",
        "0s - loss: 3.5234 - val_loss: 4.6422\n",
        "Epoch 1107/3000\n",
        "0s - loss: 3.6562 - val_loss: 4.6631\n"
       ]
      },
      {
       "output_type": "stream",
       "stream": "stdout",
       "text": [
        "Epoch 1108/3000\n",
        "0s - loss: 3.6958 - val_loss: 4.6919\n",
        "Epoch 1109/3000\n",
        "0s - loss: 3.6251 - val_loss: 4.4029\n"
       ]
      },
      {
       "output_type": "stream",
       "stream": "stdout",
       "text": [
        "Epoch 1110/3000\n",
        "0s - loss: 3.4907 - val_loss: 4.3443\n",
        "Epoch 1111/3000\n",
        "0s - loss: 3.5734 - val_loss: 4.7010\n"
       ]
      },
      {
       "output_type": "stream",
       "stream": "stdout",
       "text": [
        "Epoch 1112/3000\n",
        "0s - loss: 3.8373 - val_loss: 4.5655\n",
        "Epoch 1113/3000\n",
        "0s - loss: 3.7488 - val_loss: 4.4520\n"
       ]
      },
      {
       "output_type": "stream",
       "stream": "stdout",
       "text": [
        "Epoch 1114/3000\n",
        "0s - loss: 3.4764 - val_loss: 4.1808\n",
        "Epoch 1115/3000\n",
        "0s - loss: 3.4340 - val_loss: 4.1670\n"
       ]
      },
      {
       "output_type": "stream",
       "stream": "stdout",
       "text": [
        "Epoch 1116/3000\n",
        "0s - loss: 3.2993 - val_loss: 3.9915\n",
        "Epoch 1117/3000\n",
        "0s - loss: 3.1975 - val_loss: 4.5423\n"
       ]
      },
      {
       "output_type": "stream",
       "stream": "stdout",
       "text": [
        "Epoch 1118/3000\n",
        "0s - loss: 3.9428 - val_loss: 4.9899\n",
        "Epoch 1119/3000\n",
        "0s - loss: 3.7096 - val_loss: 4.7219\n"
       ]
      },
      {
       "output_type": "stream",
       "stream": "stdout",
       "text": [
        "Epoch 1120/3000\n",
        "0s - loss: 3.8275 - val_loss: 4.2976\n",
        "Epoch 1121/3000\n",
        "0s - loss: 3.4892 - val_loss: 4.2311\n"
       ]
      },
      {
       "output_type": "stream",
       "stream": "stdout",
       "text": [
        "Epoch 1122/3000\n",
        "0s - loss: 3.5651 - val_loss: 4.5185\n",
        "Epoch 1123/3000\n",
        "0s - loss: 3.7852 - val_loss: 5.0964\n"
       ]
      },
      {
       "output_type": "stream",
       "stream": "stdout",
       "text": [
        "Epoch 1124/3000\n",
        "0s - loss: 3.8957 - val_loss: 4.3482\n",
        "Epoch 1125/3000\n",
        "0s - loss: 3.4451 - val_loss: 4.2717\n"
       ]
      },
      {
       "output_type": "stream",
       "stream": "stdout",
       "text": [
        "Epoch 1126/3000\n",
        "0s - loss: 3.4460 - val_loss: 4.3439\n",
        "Epoch 1127/3000\n",
        "0s - loss: 3.4253 - val_loss: 4.6241\n"
       ]
      },
      {
       "output_type": "stream",
       "stream": "stdout",
       "text": [
        "Epoch 1128/3000\n",
        "0s - loss: 3.6857 - val_loss: 4.5852\n",
        "Epoch 1129/3000\n",
        "0s - loss: 3.6525 - val_loss: 4.5376\n"
       ]
      },
      {
       "output_type": "stream",
       "stream": "stdout",
       "text": [
        "Epoch 1130/3000\n",
        "0s - loss: 3.7362 - val_loss: 4.7235\n",
        "Epoch 1131/3000\n",
        "0s - loss: 3.7731 - val_loss: 4.6967\n"
       ]
      },
      {
       "output_type": "stream",
       "stream": "stdout",
       "text": [
        "Epoch 1132/3000\n",
        "0s - loss: 3.5601 - val_loss: 4.4329\n",
        "Epoch 1133/3000\n",
        "0s - loss: 3.5302 - val_loss: 4.1611\n"
       ]
      },
      {
       "output_type": "stream",
       "stream": "stdout",
       "text": [
        "Epoch 1134/3000\n",
        "0s - loss: 3.3868 - val_loss: 4.3266\n",
        "Epoch 1135/3000\n",
        "0s - loss: 3.4608 - val_loss: 4.3382\n"
       ]
      },
      {
       "output_type": "stream",
       "stream": "stdout",
       "text": [
        "Epoch 1136/3000\n",
        "0s - loss: 3.5224 - val_loss: 4.5798\n",
        "Epoch 1137/3000\n",
        "0s - loss: 3.6616 - val_loss: 4.8133\n"
       ]
      },
      {
       "output_type": "stream",
       "stream": "stdout",
       "text": [
        "Epoch 1138/3000\n",
        "0s - loss: 3.8335 - val_loss: 4.4689\n",
        "Epoch 1139/3000\n",
        "0s - loss: 3.5048 - val_loss: 4.1794\n"
       ]
      },
      {
       "output_type": "stream",
       "stream": "stdout",
       "text": [
        "Epoch 1140/3000\n",
        "0s - loss: 3.4701 - val_loss: 4.3308\n",
        "Epoch 1141/3000\n",
        "0s - loss: 3.4913 - val_loss: 4.7522\n"
       ]
      },
      {
       "output_type": "stream",
       "stream": "stdout",
       "text": [
        "Epoch 1142/3000\n",
        "0s - loss: 3.6719 - val_loss: 4.6343\n",
        "Epoch 1143/3000\n",
        "0s - loss: 3.5803 - val_loss: 4.4541\n"
       ]
      },
      {
       "output_type": "stream",
       "stream": "stdout",
       "text": [
        "Epoch 1144/3000\n",
        "0s - loss: 3.6500 - val_loss: 4.7800\n",
        "Epoch 1145/3000\n",
        "0s - loss: 4.0295 - val_loss: 4.3910\n"
       ]
      },
      {
       "output_type": "stream",
       "stream": "stdout",
       "text": [
        "Epoch 1146/3000\n",
        "0s - loss: 3.7179 - val_loss: 4.4603\n",
        "Epoch 1147/3000\n",
        "0s - loss: 3.5836 - val_loss: 4.2448\n"
       ]
      },
      {
       "output_type": "stream",
       "stream": "stdout",
       "text": [
        "Epoch 1148/3000\n",
        "0s - loss: 3.2505 - val_loss: 4.1696\n",
        "Epoch 1149/3000\n",
        "0s - loss: 3.3118 - val_loss: 4.4132\n"
       ]
      },
      {
       "output_type": "stream",
       "stream": "stdout",
       "text": [
        "Epoch 1150/3000\n",
        "0s - loss: 3.6467 - val_loss: 4.5178\n",
        "Epoch 1151/3000\n",
        "0s - loss: 3.7124 - val_loss: 4.9243\n"
       ]
      },
      {
       "output_type": "stream",
       "stream": "stdout",
       "text": [
        "Epoch 1152/3000\n",
        "0s - loss: 3.7636 - val_loss: 4.2695\n",
        "Epoch 1153/3000\n",
        "0s - loss: 3.3081 - val_loss: 4.3076\n"
       ]
      },
      {
       "output_type": "stream",
       "stream": "stdout",
       "text": [
        "Epoch 1154/3000\n",
        "0s - loss: 3.4779 - val_loss: 4.4820\n",
        "Epoch 1155/3000\n",
        "0s - loss: 3.6062 - val_loss: 4.2558\n"
       ]
      },
      {
       "output_type": "stream",
       "stream": "stdout",
       "text": [
        "Epoch 1156/3000\n",
        "0s - loss: 3.3500 - val_loss: 4.3309\n",
        "Epoch 1157/3000\n",
        "0s - loss: 3.6242 - val_loss: 5.3010\n"
       ]
      },
      {
       "output_type": "stream",
       "stream": "stdout",
       "text": [
        "Epoch 1158/3000\n",
        "0s - loss: 4.0730 - val_loss: 4.3766\n"
       ]
      },
      {
       "output_type": "stream",
       "stream": "stdout",
       "text": [
        "Epoch 1159/3000\n",
        "0s - loss: 3.8197 - val_loss: 4.7535\n"
       ]
      },
      {
       "output_type": "stream",
       "stream": "stdout",
       "text": [
        "Epoch 1160/3000\n",
        "0s - loss: 3.8118 - val_loss: 4.2576\n"
       ]
      },
      {
       "output_type": "stream",
       "stream": "stdout",
       "text": [
        "Epoch 1161/3000\n",
        "0s - loss: 3.5116 - val_loss: 4.4140\n"
       ]
      },
      {
       "output_type": "stream",
       "stream": "stdout",
       "text": [
        "Epoch 1162/3000\n",
        "0s - loss: 3.5318 - val_loss: 4.1732\n"
       ]
      },
      {
       "output_type": "stream",
       "stream": "stdout",
       "text": [
        "Epoch 1163/3000\n",
        "0s - loss: 3.3655 - val_loss: 3.9986\n",
        "Epoch 1164/3000\n",
        "0s - loss: 3.1885 - val_loss: 4.0603\n"
       ]
      },
      {
       "output_type": "stream",
       "stream": "stdout",
       "text": [
        "Epoch 1165/3000\n",
        "0s - loss: 3.2211 - val_loss: 4.1267\n"
       ]
      },
      {
       "output_type": "stream",
       "stream": "stdout",
       "text": [
        "Epoch 1166/3000\n",
        "0s - loss: 3.2728 - val_loss: 4.6721\n"
       ]
      },
      {
       "output_type": "stream",
       "stream": "stdout",
       "text": [
        "Epoch 1167/3000\n",
        "0s - loss: 3.6422 - val_loss: 5.0328\n"
       ]
      },
      {
       "output_type": "stream",
       "stream": "stdout",
       "text": [
        "Epoch 1168/3000\n",
        "0s - loss: 4.1369 - val_loss: 4.8238\n"
       ]
      },
      {
       "output_type": "stream",
       "stream": "stdout",
       "text": [
        "Epoch 1169/3000\n",
        "0s - loss: 3.8705 - val_loss: 4.5469\n"
       ]
      },
      {
       "output_type": "stream",
       "stream": "stdout",
       "text": [
        "Epoch 1170/3000\n",
        "0s - loss: 3.5802 - val_loss: 4.4375\n"
       ]
      },
      {
       "output_type": "stream",
       "stream": "stdout",
       "text": [
        "Epoch 1171/3000\n",
        "0s - loss: 3.3756 - val_loss: 4.2788\n"
       ]
      },
      {
       "output_type": "stream",
       "stream": "stdout",
       "text": [
        "Epoch 1172/3000\n",
        "0s - loss: 3.2771 - val_loss: 4.2809\n"
       ]
      },
      {
       "output_type": "stream",
       "stream": "stdout",
       "text": [
        "Epoch 1173/3000\n",
        "0s - loss: 3.4670 - val_loss: 4.9563\n"
       ]
      },
      {
       "output_type": "stream",
       "stream": "stdout",
       "text": [
        "Epoch 1174/3000\n",
        "0s - loss: 4.3852 - val_loss: 5.0294\n"
       ]
      },
      {
       "output_type": "stream",
       "stream": "stdout",
       "text": [
        "Epoch 1175/3000\n",
        "0s - loss: 3.9181 - val_loss: 4.1193\n"
       ]
      },
      {
       "output_type": "stream",
       "stream": "stdout",
       "text": [
        "Epoch 1176/3000\n",
        "0s - loss: 3.3165 - val_loss: 4.2540\n"
       ]
      },
      {
       "output_type": "stream",
       "stream": "stdout",
       "text": [
        "Epoch 1177/3000\n",
        "0s - loss: 3.3731 - val_loss: 4.2038\n",
        "Epoch 1178/3000\n",
        "0s - loss: 3.2824 - val_loss: 4.3138\n"
       ]
      },
      {
       "output_type": "stream",
       "stream": "stdout",
       "text": [
        "Epoch 1179/3000\n",
        "0s - loss: 3.2994 - val_loss: 4.3880\n",
        "Epoch 1180/3000\n",
        "0s - loss: 3.4288 - val_loss: 4.4377\n"
       ]
      },
      {
       "output_type": "stream",
       "stream": "stdout",
       "text": [
        "Epoch 1181/3000\n",
        "0s - loss: 3.8342 - val_loss: 4.6086\n",
        "Epoch 1182/3000\n",
        "0s - loss: 3.7872 - val_loss: 4.5970\n"
       ]
      },
      {
       "output_type": "stream",
       "stream": "stdout",
       "text": [
        "Epoch 1183/3000\n",
        "0s - loss: 3.7629 - val_loss: 4.4578\n",
        "Epoch 1184/3000\n",
        "0s - loss: 3.6269 - val_loss: 4.8459\n"
       ]
      },
      {
       "output_type": "stream",
       "stream": "stdout",
       "text": [
        "Epoch 1185/3000\n",
        "0s - loss: 3.9714 - val_loss: 4.3084\n",
        "Epoch 1186/3000\n",
        "0s - loss: 3.5244 - val_loss: 4.4079\n"
       ]
      },
      {
       "output_type": "stream",
       "stream": "stdout",
       "text": [
        "Epoch 1187/3000\n",
        "0s - loss: 3.4838 - val_loss: 4.1366\n",
        "Epoch 1188/3000\n",
        "0s - loss: 3.3454 - val_loss: 4.1324\n"
       ]
      },
      {
       "output_type": "stream",
       "stream": "stdout",
       "text": [
        "Epoch 1189/3000\n",
        "0s - loss: 3.4494 - val_loss: 4.4215\n",
        "Epoch 1190/3000\n",
        "0s - loss: 3.5210 - val_loss: 4.3469\n"
       ]
      },
      {
       "output_type": "stream",
       "stream": "stdout",
       "text": [
        "Epoch 1191/3000\n",
        "0s - loss: 3.5289 - val_loss: 4.6328\n",
        "Epoch 1192/3000\n",
        "0s - loss: 3.9370 - val_loss: 4.7666\n"
       ]
      },
      {
       "output_type": "stream",
       "stream": "stdout",
       "text": [
        "Epoch 1193/3000\n",
        "0s - loss: 3.9715 - val_loss: 4.2362\n"
       ]
      },
      {
       "output_type": "stream",
       "stream": "stdout",
       "text": [
        "Epoch 1194/3000\n",
        "0s - loss: 3.5375 - val_loss: 4.3692\n"
       ]
      },
      {
       "output_type": "stream",
       "stream": "stdout",
       "text": [
        "Epoch 1195/3000\n",
        "0s - loss: 3.4124 - val_loss: 4.2223\n"
       ]
      },
      {
       "output_type": "stream",
       "stream": "stdout",
       "text": [
        "Epoch 1196/3000\n",
        "0s - loss: 3.4477 - val_loss: 4.3660\n"
       ]
      },
      {
       "output_type": "stream",
       "stream": "stdout",
       "text": [
        "Epoch 1197/3000\n",
        "0s - loss: 3.4876 - val_loss: 4.2992\n"
       ]
      },
      {
       "output_type": "stream",
       "stream": "stdout",
       "text": [
        "Epoch 1198/3000\n",
        "0s - loss: 3.3176 - val_loss: 4.0493\n",
        "Epoch 1199/3000\n",
        "0s - loss: 3.2210 - val_loss: 4.2658\n"
       ]
      },
      {
       "output_type": "stream",
       "stream": "stdout",
       "text": [
        "Epoch 1200/3000\n",
        "0s - loss: 3.6996 - val_loss: 4.5246\n",
        "Epoch 1201/3000\n",
        "0s - loss: 3.7754 - val_loss: 4.4680\n"
       ]
      },
      {
       "output_type": "stream",
       "stream": "stdout",
       "text": [
        "Epoch 1202/3000\n",
        "0s - loss: 3.7189 - val_loss: 4.6210\n",
        "Epoch 1203/3000\n",
        "0s - loss: 3.7915 - val_loss: 4.4116\n"
       ]
      },
      {
       "output_type": "stream",
       "stream": "stdout",
       "text": [
        "Epoch 1204/3000\n",
        "0s - loss: 3.5013 - val_loss: 4.1293\n",
        "Epoch 1205/3000\n",
        "0s - loss: 3.5673 - val_loss: 4.5278\n"
       ]
      },
      {
       "output_type": "stream",
       "stream": "stdout",
       "text": [
        "Epoch 1206/3000\n",
        "0s - loss: 3.6880 - val_loss: 4.3762\n",
        "Epoch 1207/3000\n",
        "0s - loss: 3.5279 - val_loss: 4.3903\n"
       ]
      },
      {
       "output_type": "stream",
       "stream": "stdout",
       "text": [
        "Epoch 1208/3000\n",
        "0s - loss: 3.5693 - val_loss: 4.3336\n",
        "Epoch 1209/3000\n",
        "0s - loss: 3.5923 - val_loss: 4.2913\n"
       ]
      },
      {
       "output_type": "stream",
       "stream": "stdout",
       "text": [
        "Epoch 1210/3000\n",
        "0s - loss: 3.4820 - val_loss: 4.2761\n",
        "Epoch 1211/3000\n",
        "0s - loss: 3.3985 - val_loss: 4.1593\n"
       ]
      },
      {
       "output_type": "stream",
       "stream": "stdout",
       "text": [
        "Epoch 1212/3000\n",
        "0s - loss: 3.3980 - val_loss: 4.5561\n",
        "Epoch 1213/3000\n",
        "0s - loss: 3.8002 - val_loss: 4.3293\n"
       ]
      },
      {
       "output_type": "stream",
       "stream": "stdout",
       "text": [
        "Epoch 1214/3000\n",
        "0s - loss: 3.3895 - val_loss: 4.5554\n"
       ]
      },
      {
       "output_type": "stream",
       "stream": "stdout",
       "text": [
        "Epoch 1215/3000\n",
        "0s - loss: 3.5369 - val_loss: 4.3829\n",
        "Epoch 1216/3000\n",
        "0s - loss: 3.4715 - val_loss: 4.4846\n"
       ]
      },
      {
       "output_type": "stream",
       "stream": "stdout",
       "text": [
        "Epoch 1217/3000\n",
        "0s - loss: 3.5229 - val_loss: 4.3860\n",
        "Epoch 1218/3000\n",
        "0s - loss: 3.5526 - val_loss: 4.4571\n"
       ]
      },
      {
       "output_type": "stream",
       "stream": "stdout",
       "text": [
        "Epoch 1219/3000\n",
        "0s - loss: 3.6315 - val_loss: 5.0483\n",
        "Epoch 1220/3000\n",
        "0s - loss: 3.7745 - val_loss: 4.5194\n"
       ]
      },
      {
       "output_type": "stream",
       "stream": "stdout",
       "text": [
        "Epoch 1221/3000\n",
        "0s - loss: 3.7317 - val_loss: 4.5213\n",
        "Epoch 1222/3000\n",
        "0s - loss: 3.6485 - val_loss: 4.3050\n"
       ]
      },
      {
       "output_type": "stream",
       "stream": "stdout",
       "text": [
        "Epoch 1223/3000\n",
        "0s - loss: 3.5047 - val_loss: 4.3224\n",
        "Epoch 1224/3000\n",
        "0s - loss: 3.4051 - val_loss: 4.2290\n"
       ]
      },
      {
       "output_type": "stream",
       "stream": "stdout",
       "text": [
        "Epoch 1225/3000\n",
        "0s - loss: 3.3064 - val_loss: 4.2012\n",
        "Epoch 1226/3000\n",
        "0s - loss: 3.3128 - val_loss: 4.3346\n"
       ]
      },
      {
       "output_type": "stream",
       "stream": "stdout",
       "text": [
        "Epoch 1227/3000\n",
        "0s - loss: 3.3795 - val_loss: 4.3894\n",
        "Epoch 1228/3000\n",
        "0s - loss: 3.4951 - val_loss: 4.9101\n"
       ]
      },
      {
       "output_type": "stream",
       "stream": "stdout",
       "text": [
        "Epoch 1229/3000\n",
        "0s - loss: 3.8766 - val_loss: 4.4451\n",
        "Epoch 1230/3000\n",
        "0s - loss: 3.5152 - val_loss: 4.6464\n"
       ]
      },
      {
       "output_type": "stream",
       "stream": "stdout",
       "text": [
        "Epoch 1231/3000\n",
        "0s - loss: 3.7660 - val_loss: 4.5174\n",
        "Epoch 1232/3000\n",
        "0s - loss: 3.7095 - val_loss: 4.3533\n"
       ]
      },
      {
       "output_type": "stream",
       "stream": "stdout",
       "text": [
        "Epoch 1233/3000\n",
        "0s - loss: 3.6037 - val_loss: 4.3924\n",
        "Epoch 1234/3000\n",
        "0s - loss: 3.5171 - val_loss: 4.2494\n"
       ]
      },
      {
       "output_type": "stream",
       "stream": "stdout",
       "text": [
        "Epoch 1235/3000\n",
        "0s - loss: 3.3935 - val_loss: 4.3532\n",
        "Epoch 1236/3000\n",
        "0s - loss: 3.5501 - val_loss: 4.2549\n"
       ]
      },
      {
       "output_type": "stream",
       "stream": "stdout",
       "text": [
        "Epoch 1237/3000\n",
        "0s - loss: 3.3633 - val_loss: 4.0704\n",
        "Epoch 1238/3000\n",
        "0s - loss: 3.2456 - val_loss: 4.2065\n"
       ]
      },
      {
       "output_type": "stream",
       "stream": "stdout",
       "text": [
        "Epoch 1239/3000\n",
        "0s - loss: 3.5621 - val_loss: 4.7520\n",
        "Epoch 1240/3000\n",
        "0s - loss: 3.9387 - val_loss: 4.7351\n"
       ]
      },
      {
       "output_type": "stream",
       "stream": "stdout",
       "text": [
        "Epoch 1241/3000\n",
        "0s - loss: 3.5445 - val_loss: 4.2104\n",
        "Epoch 1242/3000\n",
        "0s - loss: 3.2953 - val_loss: 4.4155\n"
       ]
      },
      {
       "output_type": "stream",
       "stream": "stdout",
       "text": [
        "Epoch 1243/3000\n",
        "0s - loss: 3.5921 - val_loss: 4.5181\n",
        "Epoch 1244/3000\n",
        "0s - loss: 3.8184 - val_loss: 4.8053\n"
       ]
      },
      {
       "output_type": "stream",
       "stream": "stdout",
       "text": [
        "Epoch 1245/3000\n",
        "0s - loss: 3.9384 - val_loss: 4.4683\n",
        "Epoch 1246/3000\n",
        "0s - loss: 3.6492 - val_loss: 4.3813\n"
       ]
      },
      {
       "output_type": "stream",
       "stream": "stdout",
       "text": [
        "Epoch 1247/3000\n",
        "0s - loss: 3.3963 - val_loss: 4.3244\n",
        "Epoch 1248/3000\n",
        "0s - loss: 3.4329 - val_loss: 4.4205\n"
       ]
      },
      {
       "output_type": "stream",
       "stream": "stdout",
       "text": [
        "Epoch 1249/3000\n",
        "0s - loss: 3.3578 - val_loss: 4.2337\n",
        "Epoch 1250/3000\n",
        "0s - loss: 3.4391 - val_loss: 4.3554\n"
       ]
      },
      {
       "output_type": "stream",
       "stream": "stdout",
       "text": [
        "Epoch 1251/3000\n",
        "0s - loss: 3.5809 - val_loss: 4.5581\n",
        "Epoch 1252/3000\n",
        "0s - loss: 3.9103 - val_loss: 4.4849\n"
       ]
      },
      {
       "output_type": "stream",
       "stream": "stdout",
       "text": [
        "Epoch 1253/3000\n",
        "0s - loss: 3.6193 - val_loss: 4.3439\n",
        "Epoch 1254/3000\n",
        "0s - loss: 3.3652 - val_loss: 4.1212\n"
       ]
      },
      {
       "output_type": "stream",
       "stream": "stdout",
       "text": [
        "Epoch 1255/3000\n",
        "0s - loss: 3.1580 - val_loss: 4.0943\n",
        "Epoch 1256/3000\n",
        "0s - loss: 3.2408 - val_loss: 4.3721\n"
       ]
      },
      {
       "output_type": "stream",
       "stream": "stdout",
       "text": [
        "Epoch 1257/3000\n",
        "0s - loss: 3.4390 - val_loss: 4.3678\n"
       ]
      },
      {
       "output_type": "stream",
       "stream": "stdout",
       "text": [
        "Epoch 1258/3000\n",
        "0s - loss: 3.9982 - val_loss: 5.2539\n",
        "Epoch 1259/3000\n",
        "0s - loss: 4.1474 - val_loss: 4.1386\n"
       ]
      },
      {
       "output_type": "stream",
       "stream": "stdout",
       "text": [
        "Epoch 1260/3000\n",
        "0s - loss: 3.3168 - val_loss: 4.2091\n"
       ]
      },
      {
       "output_type": "stream",
       "stream": "stdout",
       "text": [
        "Epoch 1261/3000\n",
        "0s - loss: 3.3197 - val_loss: 4.4138\n"
       ]
      },
      {
       "output_type": "stream",
       "stream": "stdout",
       "text": [
        "Epoch 1262/3000\n",
        "0s - loss: 3.6434 - val_loss: 4.5695\n",
        "Epoch 1263/3000\n",
        "0s - loss: 3.8709 - val_loss: 4.5224\n"
       ]
      },
      {
       "output_type": "stream",
       "stream": "stdout",
       "text": [
        "Epoch 1264/3000\n",
        "0s - loss: 3.5560 - val_loss: 4.3424\n",
        "Epoch 1265/3000\n",
        "0s - loss: 3.3279 - val_loss: 4.4078\n"
       ]
      },
      {
       "output_type": "stream",
       "stream": "stdout",
       "text": [
        "Epoch 1266/3000\n",
        "0s - loss: 3.5882 - val_loss: 4.1823\n",
        "Epoch 1267/3000\n",
        "0s - loss: 3.3488 - val_loss: 4.1301\n"
       ]
      },
      {
       "output_type": "stream",
       "stream": "stdout",
       "text": [
        "Epoch 1268/3000\n",
        "0s - loss: 3.1726 - val_loss: 4.2334\n",
        "Epoch 1269/3000\n",
        "0s - loss: 3.5144 - val_loss: 5.0381\n"
       ]
      },
      {
       "output_type": "stream",
       "stream": "stdout",
       "text": [
        "Epoch 1270/3000\n",
        "0s - loss: 3.7310 - val_loss: 4.2511\n",
        "Epoch 1271/3000\n",
        "0s - loss: 3.3273 - val_loss: 4.3433\n"
       ]
      },
      {
       "output_type": "stream",
       "stream": "stdout",
       "text": [
        "Epoch 1272/3000\n",
        "0s - loss: 3.5376 - val_loss: 4.3789\n",
        "Epoch 1273/3000\n",
        "0s - loss: 3.5427 - val_loss: 4.7198\n"
       ]
      },
      {
       "output_type": "stream",
       "stream": "stdout",
       "text": [
        "Epoch 1274/3000\n",
        "0s - loss: 3.7398 - val_loss: 4.5694\n",
        "Epoch 1275/3000\n",
        "0s - loss: 3.7339 - val_loss: 5.0701\n"
       ]
      },
      {
       "output_type": "stream",
       "stream": "stdout",
       "text": [
        "Epoch 1276/3000\n",
        "0s - loss: 3.7146 - val_loss: 4.2410\n",
        "Epoch 1277/3000\n",
        "0s - loss: 3.3409 - val_loss: 4.4869\n"
       ]
      },
      {
       "output_type": "stream",
       "stream": "stdout",
       "text": [
        "Epoch 1278/3000\n",
        "0s - loss: 3.4210 - val_loss: 4.1793\n",
        "Epoch 1279/3000\n",
        "0s - loss: 3.3422 - val_loss: 4.4335\n"
       ]
      },
      {
       "output_type": "stream",
       "stream": "stdout",
       "text": [
        "Epoch 1280/3000\n",
        "0s - loss: 3.7958 - val_loss: 4.5394\n",
        "Epoch 1281/3000\n",
        "0s - loss: 3.7534 - val_loss: 4.5262\n"
       ]
      },
      {
       "output_type": "stream",
       "stream": "stdout",
       "text": [
        "Epoch 1282/3000\n",
        "0s - loss: 3.5001 - val_loss: 4.3759\n",
        "Epoch 1283/3000\n",
        "0s - loss: 3.5179 - val_loss: 4.4236\n"
       ]
      },
      {
       "output_type": "stream",
       "stream": "stdout",
       "text": [
        "Epoch 1284/3000\n",
        "0s - loss: 3.3781 - val_loss: 4.1921\n",
        "Epoch 1285/3000\n",
        "0s - loss: 3.3908 - val_loss: 4.2182\n"
       ]
      },
      {
       "output_type": "stream",
       "stream": "stdout",
       "text": [
        "Epoch 1286/3000\n",
        "0s - loss: 3.3452 - val_loss: 4.0640\n",
        "Epoch 1287/3000\n",
        "0s - loss: 3.3031 - val_loss: 4.6738\n"
       ]
      },
      {
       "output_type": "stream",
       "stream": "stdout",
       "text": [
        "Epoch 1288/3000\n",
        "0s - loss: 3.9816 - val_loss: 4.5368\n",
        "Epoch 1289/3000\n",
        "0s - loss: 3.5949 - val_loss: 4.4768\n"
       ]
      },
      {
       "output_type": "stream",
       "stream": "stdout",
       "text": [
        "Epoch 1290/3000\n",
        "0s - loss: 3.4996 - val_loss: 4.5866\n"
       ]
      },
      {
       "output_type": "stream",
       "stream": "stdout",
       "text": [
        "Epoch 1291/3000\n",
        "0s - loss: 3.5276 - val_loss: 4.6235\n",
        "Epoch 1292/3000\n",
        "0s - loss: 3.5397 - val_loss: 4.5201\n"
       ]
      },
      {
       "output_type": "stream",
       "stream": "stdout",
       "text": [
        "Epoch 1293/3000\n",
        "0s - loss: 3.4538 - val_loss: 4.2825\n"
       ]
      },
      {
       "output_type": "stream",
       "stream": "stdout",
       "text": [
        "Epoch 1294/3000\n",
        "0s - loss: 3.2721 - val_loss: 4.3991\n",
        "Epoch 1295/3000\n",
        "0s - loss: 3.5478 - val_loss: 4.7311\n"
       ]
      },
      {
       "output_type": "stream",
       "stream": "stdout",
       "text": [
        "Epoch 1296/3000\n",
        "0s - loss: 3.6987 - val_loss: 4.1663\n",
        "Epoch 1297/3000\n",
        "0s - loss: 3.3643 - val_loss: 4.5513\n"
       ]
      },
      {
       "output_type": "stream",
       "stream": "stdout",
       "text": [
        "Epoch 1298/3000\n",
        "0s - loss: 3.4808 - val_loss: 4.3178\n",
        "Epoch 1299/3000\n",
        "0s - loss: 3.4581 - val_loss: 4.6754\n"
       ]
      },
      {
       "output_type": "stream",
       "stream": "stdout",
       "text": [
        "Epoch 1300/3000\n",
        "0s - loss: 3.5967 - val_loss: 4.6887\n",
        "Epoch 1301/3000\n",
        "0s - loss: 4.0002 - val_loss: 4.7329\n"
       ]
      },
      {
       "output_type": "stream",
       "stream": "stdout",
       "text": [
        "Epoch 1302/3000\n",
        "0s - loss: 3.8490 - val_loss: 4.3545\n",
        "Epoch 1303/3000\n",
        "0s - loss: 3.6255 - val_loss: 4.3389\n"
       ]
      },
      {
       "output_type": "stream",
       "stream": "stdout",
       "text": [
        "Epoch 1304/3000\n",
        "0s - loss: 3.5209 - val_loss: 4.3179\n"
       ]
      },
      {
       "output_type": "stream",
       "stream": "stdout",
       "text": [
        "Epoch 1305/3000\n",
        "0s - loss: 3.3395 - val_loss: 4.0734\n"
       ]
      },
      {
       "output_type": "stream",
       "stream": "stdout",
       "text": [
        "Epoch 1306/3000\n",
        "0s - loss: 3.2417 - val_loss: 4.3197\n"
       ]
      },
      {
       "output_type": "stream",
       "stream": "stdout",
       "text": [
        "Epoch 1307/3000\n",
        "0s - loss: 3.4309 - val_loss: 4.3036\n"
       ]
      },
      {
       "output_type": "stream",
       "stream": "stdout",
       "text": [
        "Epoch 1308/3000\n",
        "0s - loss: 3.4627 - val_loss: 4.5040\n",
        "Epoch 1309/3000\n",
        "0s - loss: 3.5392 - val_loss: 4.3664\n"
       ]
      },
      {
       "output_type": "stream",
       "stream": "stdout",
       "text": [
        "Epoch 1310/3000\n",
        "0s - loss: 3.4068 - val_loss: 4.7251\n"
       ]
      },
      {
       "output_type": "stream",
       "stream": "stdout",
       "text": [
        "Epoch 1311/3000\n",
        "0s - loss: 3.8931 - val_loss: 4.5001\n"
       ]
      },
      {
       "output_type": "stream",
       "stream": "stdout",
       "text": [
        "Epoch 1312/3000\n",
        "0s - loss: 3.5261 - val_loss: 4.1900\n"
       ]
      },
      {
       "output_type": "stream",
       "stream": "stdout",
       "text": [
        "Epoch 1313/3000\n",
        "0s - loss: 3.4294 - val_loss: 4.4952\n"
       ]
      },
      {
       "output_type": "stream",
       "stream": "stdout",
       "text": [
        "Epoch 1314/3000\n",
        "0s - loss: 3.4721 - val_loss: 4.3454\n"
       ]
      },
      {
       "output_type": "stream",
       "stream": "stdout",
       "text": [
        "Epoch 1315/3000\n",
        "0s - loss: 3.3649 - val_loss: 4.2902\n",
        "Epoch 1316/3000\n",
        "0s - loss: 3.3362 - val_loss: 4.4015\n"
       ]
      },
      {
       "output_type": "stream",
       "stream": "stdout",
       "text": [
        "Epoch 1317/3000\n",
        "0s - loss: 3.7585 - val_loss: 4.6770\n"
       ]
      },
      {
       "output_type": "stream",
       "stream": "stdout",
       "text": [
        "Epoch 1318/3000\n",
        "0s - loss: 3.5833 - val_loss: 4.4428\n"
       ]
      },
      {
       "output_type": "stream",
       "stream": "stdout",
       "text": [
        "Epoch 1319/3000\n",
        "0s - loss: 3.5890 - val_loss: 4.5172\n"
       ]
      },
      {
       "output_type": "stream",
       "stream": "stdout",
       "text": [
        "Epoch 1320/3000\n",
        "0s - loss: 3.4447 - val_loss: 4.2447\n"
       ]
      },
      {
       "output_type": "stream",
       "stream": "stdout",
       "text": [
        "Epoch 1321/3000\n",
        "0s - loss: 3.3532 - val_loss: 4.6815\n",
        "Epoch 1322/3000\n",
        "0s - loss: 3.7365 - val_loss: 4.6091\n"
       ]
      },
      {
       "output_type": "stream",
       "stream": "stdout",
       "text": [
        "Epoch 1323/3000\n",
        "0s - loss: 3.6733 - val_loss: 4.6435\n"
       ]
      },
      {
       "output_type": "stream",
       "stream": "stdout",
       "text": [
        "Epoch 1324/3000\n",
        "0s - loss: 3.6402 - val_loss: 4.3337\n"
       ]
      },
      {
       "output_type": "stream",
       "stream": "stdout",
       "text": [
        "Epoch 1325/3000\n",
        "0s - loss: 3.3474 - val_loss: 4.3139\n"
       ]
      },
      {
       "output_type": "stream",
       "stream": "stdout",
       "text": [
        "Epoch 1326/3000\n",
        "0s - loss: 3.5713 - val_loss: 4.6150\n"
       ]
      },
      {
       "output_type": "stream",
       "stream": "stdout",
       "text": [
        "Epoch 1327/3000\n",
        "0s - loss: 3.5067 - val_loss: 4.5584\n",
        "Epoch 1328/3000\n",
        "0s - loss: 3.4369 - val_loss: 4.5141\n"
       ]
      },
      {
       "output_type": "stream",
       "stream": "stdout",
       "text": [
        "Epoch 1329/3000\n",
        "0s - loss: 3.3596 - val_loss: 4.3108\n",
        "Epoch 1330/3000\n",
        "0s - loss: 3.4920 - val_loss: 4.5579\n"
       ]
      },
      {
       "output_type": "stream",
       "stream": "stdout",
       "text": [
        "Epoch 1331/3000\n",
        "0s - loss: 3.6862 - val_loss: 4.6335\n",
        "Epoch 1332/3000\n",
        "0s - loss: 3.6346 - val_loss: 4.6327\n"
       ]
      },
      {
       "output_type": "stream",
       "stream": "stdout",
       "text": [
        "Epoch 1333/3000\n",
        "0s - loss: 3.6307 - val_loss: 4.5713\n"
       ]
      },
      {
       "output_type": "stream",
       "stream": "stdout",
       "text": [
        "Epoch 1334/3000\n",
        "0s - loss: 3.5200 - val_loss: 4.2284\n"
       ]
      },
      {
       "output_type": "stream",
       "stream": "stdout",
       "text": [
        "Epoch 1335/3000\n",
        "0s - loss: 3.2944 - val_loss: 4.3256\n"
       ]
      },
      {
       "output_type": "stream",
       "stream": "stdout",
       "text": [
        "Epoch 1336/3000\n",
        "0s - loss: 3.5562 - val_loss: 5.0139\n"
       ]
      },
      {
       "output_type": "stream",
       "stream": "stdout",
       "text": [
        "Epoch 1337/3000\n",
        "0s - loss: 3.7582 - val_loss: 4.2523\n"
       ]
      },
      {
       "output_type": "stream",
       "stream": "stdout",
       "text": [
        "Epoch 1338/3000\n",
        "0s - loss: 3.4515 - val_loss: 4.5325\n"
       ]
      },
      {
       "output_type": "stream",
       "stream": "stdout",
       "text": [
        "Epoch 1339/3000\n",
        "0s - loss: 3.6093 - val_loss: 4.3904\n"
       ]
      },
      {
       "output_type": "stream",
       "stream": "stdout",
       "text": [
        "Epoch 1340/3000\n",
        "0s - loss: 3.6298 - val_loss: 4.4071\n"
       ]
      },
      {
       "output_type": "stream",
       "stream": "stdout",
       "text": [
        "Epoch 1341/3000\n",
        "0s - loss: 3.4647 - val_loss: 4.3286\n"
       ]
      },
      {
       "output_type": "stream",
       "stream": "stdout",
       "text": [
        "Epoch 1342/3000\n",
        "0s - loss: 3.3897 - val_loss: 4.4558\n"
       ]
      },
      {
       "output_type": "stream",
       "stream": "stdout",
       "text": [
        "Epoch 1343/3000\n",
        "0s - loss: 3.4592 - val_loss: 4.4592\n"
       ]
      },
      {
       "output_type": "stream",
       "stream": "stdout",
       "text": [
        "Epoch 1344/3000\n",
        "0s - loss: 3.3833 - val_loss: 4.2464\n"
       ]
      },
      {
       "output_type": "stream",
       "stream": "stdout",
       "text": [
        "Epoch 1345/3000\n",
        "0s - loss: 3.2872 - val_loss: 4.1690\n"
       ]
      },
      {
       "output_type": "stream",
       "stream": "stdout",
       "text": [
        "Epoch 1346/3000\n",
        "0s - loss: 3.3218 - val_loss: 4.3355\n"
       ]
      },
      {
       "output_type": "stream",
       "stream": "stdout",
       "text": [
        "Epoch 1347/3000\n",
        "0s - loss: 3.3899 - val_loss: 4.5719\n"
       ]
      },
      {
       "output_type": "stream",
       "stream": "stdout",
       "text": [
        "Epoch 1348/3000\n",
        "0s - loss: 3.9408 - val_loss: 4.8837\n"
       ]
      },
      {
       "output_type": "stream",
       "stream": "stdout",
       "text": [
        "Epoch 1349/3000\n",
        "0s - loss: 3.7161 - val_loss: 4.5306\n"
       ]
      },
      {
       "output_type": "stream",
       "stream": "stdout",
       "text": [
        "Epoch 1350/3000\n",
        "0s - loss: 3.5234 - val_loss: 4.4254\n"
       ]
      },
      {
       "output_type": "stream",
       "stream": "stdout",
       "text": [
        "Epoch 1351/3000\n",
        "0s - loss: 3.4606 - val_loss: 4.2568\n"
       ]
      },
      {
       "output_type": "stream",
       "stream": "stdout",
       "text": [
        "Epoch 1352/3000\n",
        "0s - loss: 3.4181 - val_loss: 4.3528\n"
       ]
      },
      {
       "output_type": "stream",
       "stream": "stdout",
       "text": [
        "Epoch 1353/3000\n",
        "0s - loss: 3.6388 - val_loss: 4.4509\n"
       ]
      },
      {
       "output_type": "stream",
       "stream": "stdout",
       "text": [
        "Epoch 1354/3000\n",
        "0s - loss: 3.4717 - val_loss: 4.2116\n"
       ]
      },
      {
       "output_type": "stream",
       "stream": "stdout",
       "text": [
        "Epoch 1355/3000\n",
        "0s - loss: 3.3299 - val_loss: 4.6951\n"
       ]
      },
      {
       "output_type": "stream",
       "stream": "stdout",
       "text": [
        "Epoch 1356/3000\n",
        "0s - loss: 3.6122 - val_loss: 4.5265\n"
       ]
      },
      {
       "output_type": "stream",
       "stream": "stdout",
       "text": [
        "Epoch 1357/3000\n",
        "0s - loss: 3.5461 - val_loss: 4.2600\n"
       ]
      },
      {
       "output_type": "stream",
       "stream": "stdout",
       "text": [
        "Epoch 1358/3000\n",
        "0s - loss: 3.4068 - val_loss: 4.4317\n"
       ]
      },
      {
       "output_type": "stream",
       "stream": "stdout",
       "text": [
        "Epoch 1359/3000\n",
        "0s - loss: 3.4592 - val_loss: 4.5278\n"
       ]
      },
      {
       "output_type": "stream",
       "stream": "stdout",
       "text": [
        "Epoch 1360/3000\n",
        "0s - loss: 3.4670 - val_loss: 4.6846\n"
       ]
      },
      {
       "output_type": "stream",
       "stream": "stdout",
       "text": [
        "Epoch 1361/3000\n",
        "0s - loss: 3.6793 - val_loss: 4.7676\n"
       ]
      },
      {
       "output_type": "stream",
       "stream": "stdout",
       "text": [
        "Epoch 1362/3000\n",
        "0s - loss: 3.7911 - val_loss: 4.2702\n"
       ]
      },
      {
       "output_type": "stream",
       "stream": "stdout",
       "text": [
        "Epoch 1363/3000\n",
        "0s - loss: 3.3925 - val_loss: 4.0834\n"
       ]
      },
      {
       "output_type": "stream",
       "stream": "stdout",
       "text": [
        "Epoch 1364/3000\n",
        "0s - loss: 3.2171 - val_loss: 4.1752\n"
       ]
      },
      {
       "output_type": "stream",
       "stream": "stdout",
       "text": [
        "Epoch 1365/3000\n",
        "0s - loss: 3.3588 - val_loss: 4.2031\n"
       ]
      },
      {
       "output_type": "stream",
       "stream": "stdout",
       "text": [
        "Epoch 1366/3000\n",
        "0s - loss: 3.2773 - val_loss: 4.1395\n"
       ]
      },
      {
       "output_type": "stream",
       "stream": "stdout",
       "text": [
        "Epoch 1367/3000\n",
        "0s - loss: 3.2298 - val_loss: 4.4296\n"
       ]
      },
      {
       "output_type": "stream",
       "stream": "stdout",
       "text": [
        "Epoch 1368/3000\n",
        "0s - loss: 3.6703 - val_loss: 5.2334\n"
       ]
      },
      {
       "output_type": "stream",
       "stream": "stdout",
       "text": [
        "Epoch 1369/3000\n",
        "0s - loss: 3.9157 - val_loss: 4.4387\n"
       ]
      },
      {
       "output_type": "stream",
       "stream": "stdout",
       "text": [
        "Epoch 1370/3000\n",
        "0s - loss: 3.5988 - val_loss: 4.6501\n"
       ]
      },
      {
       "output_type": "stream",
       "stream": "stdout",
       "text": [
        "Epoch 1371/3000\n",
        "0s - loss: 3.6784 - val_loss: 4.5013\n"
       ]
      },
      {
       "output_type": "stream",
       "stream": "stdout",
       "text": [
        "Epoch 1372/3000\n",
        "0s - loss: 3.4416 - val_loss: 4.2379\n"
       ]
      },
      {
       "output_type": "stream",
       "stream": "stdout",
       "text": [
        "Epoch 1373/3000\n",
        "0s - loss: 3.2675 - val_loss: 4.3187\n"
       ]
      },
      {
       "output_type": "stream",
       "stream": "stdout",
       "text": [
        "Epoch 1374/3000\n",
        "0s - loss: 3.3268 - val_loss: 4.3476\n"
       ]
      },
      {
       "output_type": "stream",
       "stream": "stdout",
       "text": [
        "Epoch 1375/3000\n",
        "0s - loss: 3.4730 - val_loss: 4.6365\n"
       ]
      },
      {
       "output_type": "stream",
       "stream": "stdout",
       "text": [
        "Epoch 1376/3000\n",
        "0s - loss: 3.8054 - val_loss: 4.2915\n"
       ]
      },
      {
       "output_type": "stream",
       "stream": "stdout",
       "text": [
        "Epoch 1377/3000\n",
        "0s - loss: 3.5332 - val_loss: 4.6595\n"
       ]
      },
      {
       "output_type": "stream",
       "stream": "stdout",
       "text": [
        "Epoch 1378/3000\n",
        "0s - loss: 3.6117 - val_loss: 4.3842\n"
       ]
      },
      {
       "output_type": "stream",
       "stream": "stdout",
       "text": [
        "Epoch 1379/3000\n",
        "0s - loss: 3.3892 - val_loss: 4.3634\n"
       ]
      },
      {
       "output_type": "stream",
       "stream": "stdout",
       "text": [
        "Epoch 1380/3000\n",
        "0s - loss: 3.5252 - val_loss: 4.4204\n"
       ]
      },
      {
       "output_type": "stream",
       "stream": "stdout",
       "text": [
        "Epoch 1381/3000\n",
        "0s - loss: 3.3877 - val_loss: 4.2645\n"
       ]
      },
      {
       "output_type": "stream",
       "stream": "stdout",
       "text": [
        "Epoch 1382/3000\n",
        "0s - loss: 3.3407 - val_loss: 4.5900\n"
       ]
      },
      {
       "output_type": "stream",
       "stream": "stdout",
       "text": [
        "Epoch 1383/3000\n",
        "0s - loss: 3.5008 - val_loss: 4.5638\n"
       ]
      },
      {
       "output_type": "stream",
       "stream": "stdout",
       "text": [
        "Epoch 1384/3000\n",
        "0s - loss: 3.5586 - val_loss: 4.5696\n"
       ]
      },
      {
       "output_type": "stream",
       "stream": "stdout",
       "text": [
        "Epoch 1385/3000\n",
        "0s - loss: 3.6787 - val_loss: 4.5119\n"
       ]
      },
      {
       "output_type": "stream",
       "stream": "stdout",
       "text": [
        "Epoch 1386/3000\n",
        "0s - loss: 3.6815 - val_loss: 4.3152\n"
       ]
      },
      {
       "output_type": "stream",
       "stream": "stdout",
       "text": [
        "Epoch 1387/3000\n",
        "0s - loss: 3.3606 - val_loss: 4.2424\n"
       ]
      },
      {
       "output_type": "stream",
       "stream": "stdout",
       "text": [
        "Epoch 1388/3000\n",
        "0s - loss: 3.3042 - val_loss: 4.3449\n"
       ]
      },
      {
       "output_type": "stream",
       "stream": "stdout",
       "text": [
        "Epoch 1389/3000\n",
        "0s - loss: 3.4066 - val_loss: 4.2987\n"
       ]
      },
      {
       "output_type": "stream",
       "stream": "stdout",
       "text": [
        "Epoch 1390/3000\n",
        "0s - loss: 3.3713 - val_loss: 4.1799\n"
       ]
      },
      {
       "output_type": "stream",
       "stream": "stdout",
       "text": [
        "Epoch 1391/3000\n",
        "0s - loss: 3.3439 - val_loss: 4.2830\n"
       ]
      },
      {
       "output_type": "stream",
       "stream": "stdout",
       "text": [
        "Epoch 1392/3000\n",
        "0s - loss: 3.3330 - val_loss: 4.5945\n"
       ]
      },
      {
       "output_type": "stream",
       "stream": "stdout",
       "text": [
        "Epoch 1393/3000\n",
        "0s - loss: 3.6421 - val_loss: 4.7880\n"
       ]
      },
      {
       "output_type": "stream",
       "stream": "stdout",
       "text": [
        "Epoch 1394/3000\n",
        "0s - loss: 3.5907 - val_loss: 4.4613\n"
       ]
      },
      {
       "output_type": "stream",
       "stream": "stdout",
       "text": [
        "Epoch 1395/3000\n",
        "0s - loss: 3.5298 - val_loss: 4.7140\n"
       ]
      },
      {
       "output_type": "stream",
       "stream": "stdout",
       "text": [
        "Epoch 1396/3000\n",
        "0s - loss: 4.0351 - val_loss: 5.0006\n"
       ]
      },
      {
       "output_type": "stream",
       "stream": "stdout",
       "text": [
        "Epoch 1397/3000\n",
        "0s - loss: 4.0299 - val_loss: 4.5475\n"
       ]
      },
      {
       "output_type": "stream",
       "stream": "stdout",
       "text": [
        "Epoch 1398/3000\n",
        "0s - loss: 3.4291 - val_loss: 4.3754\n"
       ]
      },
      {
       "output_type": "stream",
       "stream": "stdout",
       "text": [
        "Epoch 1399/3000\n",
        "0s - loss: 3.3821 - val_loss: 4.2322\n"
       ]
      },
      {
       "output_type": "stream",
       "stream": "stdout",
       "text": [
        "Epoch 1400/3000\n",
        "0s - loss: 3.3717 - val_loss: 4.3992\n"
       ]
      },
      {
       "output_type": "stream",
       "stream": "stdout",
       "text": [
        "Epoch 1401/3000\n",
        "0s - loss: 3.4174 - val_loss: 4.5215\n"
       ]
      },
      {
       "output_type": "stream",
       "stream": "stdout",
       "text": [
        "Epoch 1402/3000\n",
        "0s - loss: 3.5335 - val_loss: 4.1898\n"
       ]
      },
      {
       "output_type": "stream",
       "stream": "stdout",
       "text": [
        "Epoch 1403/3000\n",
        "0s - loss: 3.2865 - val_loss: 4.1697\n"
       ]
      },
      {
       "output_type": "stream",
       "stream": "stdout",
       "text": [
        "Epoch 1404/3000\n",
        "0s - loss: 3.4376 - val_loss: 4.7405\n"
       ]
      },
      {
       "output_type": "stream",
       "stream": "stdout",
       "text": [
        "Epoch 1405/3000\n",
        "0s - loss: 3.6605 - val_loss: 4.2322\n"
       ]
      },
      {
       "output_type": "stream",
       "stream": "stdout",
       "text": [
        "Epoch 1406/3000\n",
        "0s - loss: 3.5300 - val_loss: 4.3566\n"
       ]
      },
      {
       "output_type": "stream",
       "stream": "stdout",
       "text": [
        "Epoch 1407/3000\n",
        "0s - loss: 3.5787 - val_loss: 4.4729\n"
       ]
      },
      {
       "output_type": "stream",
       "stream": "stdout",
       "text": [
        "Epoch 1408/3000\n",
        "0s - loss: 3.5863 - val_loss: 4.5691\n"
       ]
      },
      {
       "output_type": "stream",
       "stream": "stdout",
       "text": [
        "Epoch 1409/3000\n",
        "0s - loss: 3.6006 - val_loss: 4.1918\n",
        "Epoch 1410/3000\n",
        "0s - loss: 3.2915 - val_loss: 4.2729\n"
       ]
      },
      {
       "output_type": "stream",
       "stream": "stdout",
       "text": [
        "Epoch 1411/3000\n",
        "0s - loss: 3.3835 - val_loss: 4.6214\n",
        "Epoch 1412/3000\n",
        "0s - loss: 3.5455 - val_loss: 4.2845\n"
       ]
      },
      {
       "output_type": "stream",
       "stream": "stdout",
       "text": [
        "Epoch 1413/3000\n",
        "0s - loss: 3.4764 - val_loss: 4.3282\n",
        "Epoch 1414/3000\n",
        "0s - loss: 3.4030 - val_loss: 4.2959\n"
       ]
      },
      {
       "output_type": "stream",
       "stream": "stdout",
       "text": [
        "Epoch 1415/3000\n",
        "0s - loss: 3.3037 - val_loss: 4.4045\n",
        "Epoch 1416/3000\n",
        "0s - loss: 3.5471 - val_loss: 4.6632\n"
       ]
      },
      {
       "output_type": "stream",
       "stream": "stdout",
       "text": [
        "Epoch 1417/3000\n",
        "0s - loss: 3.5383 - val_loss: 5.1128\n"
       ]
      },
      {
       "output_type": "stream",
       "stream": "stdout",
       "text": [
        "Epoch 1418/3000\n",
        "0s - loss: 3.8738 - val_loss: 4.5922\n"
       ]
      },
      {
       "output_type": "stream",
       "stream": "stdout",
       "text": [
        "Epoch 1419/3000\n",
        "0s - loss: 3.6559 - val_loss: 4.4617\n"
       ]
      },
      {
       "output_type": "stream",
       "stream": "stdout",
       "text": [
        "Epoch 1420/3000\n",
        "0s - loss: 3.4976 - val_loss: 4.2518\n"
       ]
      },
      {
       "output_type": "stream",
       "stream": "stdout",
       "text": [
        "Epoch 1421/3000\n",
        "0s - loss: 3.2435 - val_loss: 4.0978\n"
       ]
      },
      {
       "output_type": "stream",
       "stream": "stdout",
       "text": [
        "Epoch 1422/3000\n",
        "0s - loss: 3.2193 - val_loss: 4.4300\n"
       ]
      },
      {
       "output_type": "stream",
       "stream": "stdout",
       "text": [
        "Epoch 1423/3000\n",
        "0s - loss: 3.7052 - val_loss: 4.6786\n"
       ]
      },
      {
       "output_type": "stream",
       "stream": "stdout",
       "text": [
        "Epoch 1424/3000\n",
        "0s - loss: 3.5300 - val_loss: 4.3485\n",
        "Epoch 1425/3000\n",
        "0s - loss: 3.4496 - val_loss: 4.4527\n"
       ]
      },
      {
       "output_type": "stream",
       "stream": "stdout",
       "text": [
        "Epoch 1426/3000\n",
        "0s - loss: 3.5557 - val_loss: 4.3055\n",
        "Epoch 1427/3000\n",
        "0s - loss: 3.4767 - val_loss: 4.3116\n"
       ]
      },
      {
       "output_type": "stream",
       "stream": "stdout",
       "text": [
        "Epoch 1428/3000\n",
        "0s - loss: 3.4248 - val_loss: 4.3038\n",
        "Epoch 1429/3000\n",
        "0s - loss: 3.5657 - val_loss: 4.3930\n"
       ]
      },
      {
       "output_type": "stream",
       "stream": "stdout",
       "text": [
        "Epoch 1430/3000\n",
        "0s - loss: 3.3403 - val_loss: 4.0506\n",
        "Epoch 1431/3000\n",
        "0s - loss: 3.2345 - val_loss: 4.2810\n"
       ]
      },
      {
       "output_type": "stream",
       "stream": "stdout",
       "text": [
        "Epoch 1432/3000\n",
        "0s - loss: 3.4109 - val_loss: 4.5549\n",
        "Epoch 1433/3000\n",
        "0s - loss: 3.6389 - val_loss: 4.7499\n"
       ]
      },
      {
       "output_type": "stream",
       "stream": "stdout",
       "text": [
        "Epoch 1434/3000\n",
        "0s - loss: 3.4520 - val_loss: 4.1959\n",
        "Epoch 1435/3000\n",
        "0s - loss: 3.3230 - val_loss: 4.9209\n"
       ]
      },
      {
       "output_type": "stream",
       "stream": "stdout",
       "text": [
        "Epoch 1436/3000\n",
        "0s - loss: 3.8029 - val_loss: 4.3643\n"
       ]
      },
      {
       "output_type": "stream",
       "stream": "stdout",
       "text": [
        "Epoch 1437/3000\n",
        "0s - loss: 3.5832 - val_loss: 4.4745\n",
        "Epoch 1438/3000\n",
        "0s - loss: 3.4181 - val_loss: 4.3101\n"
       ]
      },
      {
       "output_type": "stream",
       "stream": "stdout",
       "text": [
        "Epoch 1439/3000\n",
        "0s - loss: 3.4271 - val_loss: 4.6195\n"
       ]
      },
      {
       "output_type": "stream",
       "stream": "stdout",
       "text": [
        "Epoch 1440/3000\n",
        "0s - loss: 3.7652 - val_loss: 4.2501\n",
        "Epoch 1441/3000\n",
        "0s - loss: 3.4293 - val_loss: 4.4352\n"
       ]
      },
      {
       "output_type": "stream",
       "stream": "stdout",
       "text": [
        "Epoch 1442/3000\n",
        "0s - loss: 3.5972 - val_loss: 4.4666\n"
       ]
      },
      {
       "output_type": "stream",
       "stream": "stdout",
       "text": [
        "Epoch 1443/3000\n",
        "0s - loss: 3.4442 - val_loss: 4.2376\n"
       ]
      },
      {
       "output_type": "stream",
       "stream": "stdout",
       "text": [
        "Epoch 1444/3000\n",
        "0s - loss: 3.3199 - val_loss: 4.3299\n",
        "Epoch 1445/3000\n",
        "0s - loss: 3.4173 - val_loss: 4.8139\n"
       ]
      },
      {
       "output_type": "stream",
       "stream": "stdout",
       "text": [
        "Epoch 1446/3000\n",
        "0s - loss: 3.7854 - val_loss: 4.5926\n",
        "Epoch 1447/3000\n",
        "0s - loss: 3.6944 - val_loss: 4.2902\n"
       ]
      },
      {
       "output_type": "stream",
       "stream": "stdout",
       "text": [
        "Epoch 1448/3000\n",
        "0s - loss: 3.4829 - val_loss: 4.2966\n"
       ]
      },
      {
       "output_type": "stream",
       "stream": "stdout",
       "text": [
        "Epoch 1449/3000\n",
        "0s - loss: 3.3804 - val_loss: 4.1388\n",
        "Epoch 1450/3000\n",
        "0s - loss: 3.1858 - val_loss: 4.1186\n"
       ]
      },
      {
       "output_type": "stream",
       "stream": "stdout",
       "text": [
        "Epoch 1451/3000\n",
        "0s - loss: 3.2755 - val_loss: 4.3308\n",
        "Epoch 1452/3000\n",
        "0s - loss: 3.4030 - val_loss: 4.3641\n"
       ]
      },
      {
       "output_type": "stream",
       "stream": "stdout",
       "text": [
        "Epoch 1453/3000\n",
        "0s - loss: 3.4220 - val_loss: 4.3033\n",
        "Epoch 1454/3000\n",
        "0s - loss: 3.4233 - val_loss: 4.2719\n"
       ]
      },
      {
       "output_type": "stream",
       "stream": "stdout",
       "text": [
        "Epoch 1455/3000\n",
        "0s - loss: 3.5174 - val_loss: 4.7648\n",
        "Epoch 1456/3000\n",
        "0s - loss: 3.8329 - val_loss: 4.5360\n"
       ]
      },
      {
       "output_type": "stream",
       "stream": "stdout",
       "text": [
        "Epoch 1457/3000\n",
        "0s - loss: 3.5623 - val_loss: 4.5393\n",
        "Epoch 1458/3000\n",
        "0s - loss: 3.3997 - val_loss: 4.2273\n"
       ]
      },
      {
       "output_type": "stream",
       "stream": "stdout",
       "text": [
        "Epoch 1459/3000\n",
        "0s - loss: 3.4714 - val_loss: 4.9439\n",
        "Epoch 1460/3000\n",
        "0s - loss: 3.7926 - val_loss: 4.3651\n"
       ]
      },
      {
       "output_type": "stream",
       "stream": "stdout",
       "text": [
        "Epoch 1461/3000\n",
        "0s - loss: 3.3535 - val_loss: 4.2925\n",
        "Epoch 1462/3000\n",
        "0s - loss: 3.3498 - val_loss: 4.3936\n"
       ]
      },
      {
       "output_type": "stream",
       "stream": "stdout",
       "text": [
        "Epoch 1463/3000\n",
        "0s - loss: 3.4920 - val_loss: 4.3545\n"
       ]
      },
      {
       "output_type": "stream",
       "stream": "stdout",
       "text": [
        "Epoch 1464/3000\n",
        "0s - loss: 3.5631 - val_loss: 4.3235\n",
        "Epoch 1465/3000\n",
        "0s - loss: 3.4380 - val_loss: 4.5442\n"
       ]
      },
      {
       "output_type": "stream",
       "stream": "stdout",
       "text": [
        "Epoch 1466/3000\n",
        "0s - loss: 3.5370 - val_loss: 4.2844\n",
        "Epoch 1467/3000\n",
        "0s - loss: 3.2250 - val_loss: 4.4824\n"
       ]
      },
      {
       "output_type": "stream",
       "stream": "stdout",
       "text": [
        "Epoch 1468/3000\n",
        "0s - loss: 3.5568 - val_loss: 5.0463\n",
        "Epoch 1469/3000\n",
        "0s - loss: 4.0027 - val_loss: 4.8763\n"
       ]
      },
      {
       "output_type": "stream",
       "stream": "stdout",
       "text": [
        "Epoch 1470/3000\n",
        "0s - loss: 3.9253 - val_loss: 4.3186\n",
        "Epoch 1471/3000\n",
        "0s - loss: 3.3115 - val_loss: 4.1603\n"
       ]
      },
      {
       "output_type": "stream",
       "stream": "stdout",
       "text": [
        "Epoch 1472/3000\n",
        "0s - loss: 3.2231 - val_loss: 4.3452\n",
        "Epoch 1473/3000\n",
        "0s - loss: 3.4297 - val_loss: 4.2738\n"
       ]
      },
      {
       "output_type": "stream",
       "stream": "stdout",
       "text": [
        "Epoch 1474/3000\n",
        "0s - loss: 3.3029 - val_loss: 4.3280\n",
        "Epoch 1475/3000\n",
        "0s - loss: 3.2381 - val_loss: 4.2639\n"
       ]
      },
      {
       "output_type": "stream",
       "stream": "stdout",
       "text": [
        "Epoch 1476/3000\n",
        "0s - loss: 3.3563 - val_loss: 5.0775\n",
        "Epoch 1477/3000\n",
        "0s - loss: 3.8091 - val_loss: 4.8363\n"
       ]
      },
      {
       "output_type": "stream",
       "stream": "stdout",
       "text": [
        "Epoch 1478/3000\n",
        "0s - loss: 3.6982 - val_loss: 4.4991\n"
       ]
      },
      {
       "output_type": "stream",
       "stream": "stdout",
       "text": [
        "Epoch 1479/3000\n",
        "0s - loss: 3.4112 - val_loss: 4.3670\n"
       ]
      },
      {
       "output_type": "stream",
       "stream": "stdout",
       "text": [
        "Epoch 1480/3000\n",
        "0s - loss: 3.3146 - val_loss: 4.4605\n"
       ]
      },
      {
       "output_type": "stream",
       "stream": "stdout",
       "text": [
        "Epoch 1481/3000\n",
        "0s - loss: 3.3478 - val_loss: 4.3639\n"
       ]
      },
      {
       "output_type": "stream",
       "stream": "stdout",
       "text": [
        "Epoch 1482/3000\n",
        "0s - loss: 3.4887 - val_loss: 4.4774\n"
       ]
      },
      {
       "output_type": "stream",
       "stream": "stdout",
       "text": [
        "Epoch 1483/3000\n",
        "0s - loss: 3.4404 - val_loss: 4.3178\n"
       ]
      },
      {
       "output_type": "stream",
       "stream": "stdout",
       "text": [
        "Epoch 1484/3000\n",
        "0s - loss: 3.5634 - val_loss: 4.5684\n"
       ]
      },
      {
       "output_type": "stream",
       "stream": "stdout",
       "text": [
        "Epoch 1485/3000\n",
        "0s - loss: 3.4502 - val_loss: 4.3334\n"
       ]
      },
      {
       "output_type": "stream",
       "stream": "stdout",
       "text": [
        "Epoch 1486/3000\n",
        "0s - loss: 3.5051 - val_loss: 4.3358\n"
       ]
      },
      {
       "output_type": "stream",
       "stream": "stdout",
       "text": [
        "Epoch 1487/3000\n",
        "0s - loss: 3.3187 - val_loss: 4.3173\n"
       ]
      },
      {
       "output_type": "stream",
       "stream": "stdout",
       "text": [
        "Epoch 1488/3000\n",
        "0s - loss: 3.4250 - val_loss: 4.3834\n"
       ]
      },
      {
       "output_type": "stream",
       "stream": "stdout",
       "text": [
        "Epoch 1489/3000\n",
        "0s - loss: 3.4577 - val_loss: 4.3368\n"
       ]
      },
      {
       "output_type": "stream",
       "stream": "stdout",
       "text": [
        "Epoch 1490/3000\n",
        "0s - loss: 3.6118 - val_loss: 4.5604\n"
       ]
      },
      {
       "output_type": "stream",
       "stream": "stdout",
       "text": [
        "Epoch 1491/3000\n",
        "0s - loss: 3.5950 - val_loss: 4.2769\n"
       ]
      },
      {
       "output_type": "stream",
       "stream": "stdout",
       "text": [
        "Epoch 1492/3000\n",
        "0s - loss: 3.4185 - val_loss: 4.5794\n"
       ]
      },
      {
       "output_type": "stream",
       "stream": "stdout",
       "text": [
        "Epoch 1493/3000\n",
        "0s - loss: 3.4465 - val_loss: 4.5987\n"
       ]
      },
      {
       "output_type": "stream",
       "stream": "stdout",
       "text": [
        "Epoch 1494/3000\n",
        "0s - loss: 3.7430 - val_loss: 4.5678\n"
       ]
      },
      {
       "output_type": "stream",
       "stream": "stdout",
       "text": [
        "Epoch 1495/3000\n",
        "0s - loss: 3.7403 - val_loss: 4.5561\n"
       ]
      },
      {
       "output_type": "stream",
       "stream": "stdout",
       "text": [
        "Epoch 1496/3000\n",
        "0s - loss: 3.5913 - val_loss: 4.4876\n"
       ]
      },
      {
       "output_type": "stream",
       "stream": "stdout",
       "text": [
        "Epoch 1497/3000\n",
        "0s - loss: 3.4238 - val_loss: 4.3646\n",
        "Epoch 1498/3000\n",
        "0s - loss: 3.2699 - val_loss: 4.2356\n"
       ]
      },
      {
       "output_type": "stream",
       "stream": "stdout",
       "text": [
        "Epoch 1499/3000\n",
        "0s - loss: 3.2200 - val_loss: 4.3250\n",
        "Epoch 1500/3000\n",
        "0s - loss: 3.3009 - val_loss: 4.3701\n"
       ]
      },
      {
       "output_type": "stream",
       "stream": "stdout",
       "text": [
        "Epoch 1501/3000\n",
        "0s - loss: 3.3834 - val_loss: 4.3808\n",
        "Epoch 1502/3000\n",
        "0s - loss: 3.5305 - val_loss: 4.5587\n"
       ]
      },
      {
       "output_type": "stream",
       "stream": "stdout",
       "text": [
        "Epoch 1503/3000\n",
        "0s - loss: 3.4891 - val_loss: 4.3371\n",
        "Epoch 1504/3000\n",
        "0s - loss: 3.4733 - val_loss: 4.5660\n"
       ]
      },
      {
       "output_type": "stream",
       "stream": "stdout",
       "text": [
        "Epoch 1505/3000\n",
        "0s - loss: 3.5523 - val_loss: 4.2320\n",
        "Epoch 1506/3000\n",
        "0s - loss: 3.3228 - val_loss: 4.2992\n"
       ]
      },
      {
       "output_type": "stream",
       "stream": "stdout",
       "text": [
        "Epoch 1507/3000\n",
        "0s - loss: 3.4998 - val_loss: 4.5241\n"
       ]
      },
      {
       "output_type": "stream",
       "stream": "stdout",
       "text": [
        "Epoch 1508/3000\n",
        "0s - loss: 3.6193 - val_loss: 4.3323\n",
        "Epoch 1509/3000\n",
        "0s - loss: 3.5400 - val_loss: 4.2801\n"
       ]
      },
      {
       "output_type": "stream",
       "stream": "stdout",
       "text": [
        "Epoch 1510/3000\n",
        "0s - loss: 3.3724 - val_loss: 4.1976\n",
        "Epoch 1511/3000\n",
        "0s - loss: 3.4188 - val_loss: 4.4236\n"
       ]
      },
      {
       "output_type": "stream",
       "stream": "stdout",
       "text": [
        "Epoch 1512/3000\n",
        "0s - loss: 3.5075 - val_loss: 4.2341\n"
       ]
      },
      {
       "output_type": "stream",
       "stream": "stdout",
       "text": [
        "Epoch 1513/3000\n",
        "0s - loss: 3.3303 - val_loss: 4.5231\n"
       ]
      },
      {
       "output_type": "stream",
       "stream": "stdout",
       "text": [
        "Epoch 1514/3000\n",
        "0s - loss: 3.5736 - val_loss: 4.6258\n"
       ]
      },
      {
       "output_type": "stream",
       "stream": "stdout",
       "text": [
        "Epoch 1515/3000\n",
        "0s - loss: 3.6241 - val_loss: 4.6001\n",
        "Epoch 1516/3000\n",
        "0s - loss: 3.4984 - val_loss: 4.6451\n"
       ]
      },
      {
       "output_type": "stream",
       "stream": "stdout",
       "text": [
        "Epoch 1517/3000\n",
        "0s - loss: 3.3733 - val_loss: 4.2504\n"
       ]
      },
      {
       "output_type": "stream",
       "stream": "stdout",
       "text": [
        "Epoch 1518/3000\n",
        "0s - loss: 3.2944 - val_loss: 4.1728\n"
       ]
      },
      {
       "output_type": "stream",
       "stream": "stdout",
       "text": [
        "Epoch 1519/3000\n",
        "0s - loss: 3.3988 - val_loss: 4.6995\n"
       ]
      },
      {
       "output_type": "stream",
       "stream": "stdout",
       "text": [
        "Epoch 1520/3000\n",
        "0s - loss: 3.9339 - val_loss: 4.5779\n"
       ]
      },
      {
       "output_type": "stream",
       "stream": "stdout",
       "text": [
        "Epoch 1521/3000\n",
        "0s - loss: 3.5368 - val_loss: 4.2064\n",
        "Epoch 1522/3000\n",
        "0s - loss: 3.2470 - val_loss: 4.0589\n"
       ]
      },
      {
       "output_type": "stream",
       "stream": "stdout",
       "text": [
        "Epoch 1523/3000\n",
        "0s - loss: 3.2137 - val_loss: 4.2466\n",
        "Epoch 1524/3000\n",
        "0s - loss: 3.4870 - val_loss: 4.3984\n"
       ]
      },
      {
       "output_type": "stream",
       "stream": "stdout",
       "text": [
        "Epoch 1525/3000\n",
        "0s - loss: 3.5190 - val_loss: 4.3602\n",
        "Epoch 1526/3000\n",
        "0s - loss: 3.5254 - val_loss: 4.3727\n"
       ]
      },
      {
       "output_type": "stream",
       "stream": "stdout",
       "text": [
        "Epoch 1527/3000\n",
        "0s - loss: 3.4307 - val_loss: 4.2757\n",
        "Epoch 1528/3000\n",
        "0s - loss: 3.4111 - val_loss: 4.3289\n"
       ]
      },
      {
       "output_type": "stream",
       "stream": "stdout",
       "text": [
        "Epoch 1529/3000\n",
        "0s - loss: 3.4667 - val_loss: 4.3188\n",
        "Epoch 1530/3000\n",
        "0s - loss: 3.4306 - val_loss: 4.2294\n"
       ]
      },
      {
       "output_type": "stream",
       "stream": "stdout",
       "text": [
        "Epoch 1531/3000\n",
        "0s - loss: 3.2629 - val_loss: 4.2951\n"
       ]
      },
      {
       "output_type": "stream",
       "stream": "stdout",
       "text": [
        "Epoch 1532/3000\n",
        "0s - loss: 3.3058 - val_loss: 4.1866\n",
        "Epoch 1533/3000\n",
        "0s - loss: 3.2553 - val_loss: 4.4869\n"
       ]
      },
      {
       "output_type": "stream",
       "stream": "stdout",
       "text": [
        "Epoch 1534/3000\n",
        "0s - loss: 3.8964 - val_loss: 4.6015\n",
        "Epoch 1535/3000\n",
        "0s - loss: 3.9039 - val_loss: 4.7078\n"
       ]
      },
      {
       "output_type": "stream",
       "stream": "stdout",
       "text": [
        "Epoch 1536/3000\n",
        "0s - loss: 3.6875 - val_loss: 4.1566\n",
        "Epoch 1537/3000\n",
        "0s - loss: 3.2444 - val_loss: 4.1489\n"
       ]
      },
      {
       "output_type": "stream",
       "stream": "stdout",
       "text": [
        "Epoch 1538/3000\n",
        "0s - loss: 3.2055 - val_loss: 4.2291\n"
       ]
      },
      {
       "output_type": "stream",
       "stream": "stdout",
       "text": [
        "Epoch 1539/3000\n",
        "0s - loss: 3.3434 - val_loss: 4.4387\n",
        "Epoch 1540/3000\n",
        "0s - loss: 3.4176 - val_loss: 4.2960\n"
       ]
      },
      {
       "output_type": "stream",
       "stream": "stdout",
       "text": [
        "Epoch 1541/3000\n",
        "0s - loss: 3.3885 - val_loss: 4.2070\n",
        "Epoch 1542/3000\n",
        "0s - loss: 3.3536 - val_loss: 4.7441\n"
       ]
      },
      {
       "output_type": "stream",
       "stream": "stdout",
       "text": [
        "Epoch 1543/3000\n",
        "0s - loss: 3.5705 - val_loss: 4.7441\n",
        "Epoch 1544/3000\n",
        "0s - loss: 3.6052 - val_loss: 4.7054\n"
       ]
      },
      {
       "output_type": "stream",
       "stream": "stdout",
       "text": [
        "Epoch 1545/3000\n",
        "0s - loss: 3.5556 - val_loss: 4.3169\n",
        "Epoch 1546/3000\n",
        "0s - loss: 3.3241 - val_loss: 4.2478\n"
       ]
      },
      {
       "output_type": "stream",
       "stream": "stdout",
       "text": [
        "Epoch 1547/3000\n",
        "0s - loss: 3.4140 - val_loss: 4.4540\n",
        "Epoch 1548/3000\n",
        "0s - loss: 3.3774 - val_loss: 4.2551\n"
       ]
      },
      {
       "output_type": "stream",
       "stream": "stdout",
       "text": [
        "Epoch 1549/3000\n",
        "0s - loss: 3.3526 - val_loss: 4.4243\n",
        "Epoch 1550/3000\n",
        "0s - loss: 3.4649 - val_loss: 4.3425\n"
       ]
      },
      {
       "output_type": "stream",
       "stream": "stdout",
       "text": [
        "Epoch 1551/3000\n",
        "0s - loss: 3.5934 - val_loss: 4.5339\n"
       ]
      },
      {
       "output_type": "stream",
       "stream": "stdout",
       "text": [
        "Epoch 1552/3000\n",
        "0s - loss: 3.6143 - val_loss: 4.4206\n"
       ]
      },
      {
       "output_type": "stream",
       "stream": "stdout",
       "text": [
        "Epoch 1553/3000\n",
        "0s - loss: 3.4286 - val_loss: 4.4295\n",
        "Epoch 1554/3000\n",
        "0s - loss: 3.5056 - val_loss: 4.3348\n"
       ]
      },
      {
       "output_type": "stream",
       "stream": "stdout",
       "text": [
        "Epoch 1555/3000\n",
        "0s - loss: 3.4985 - val_loss: 4.2154\n",
        "Epoch 1556/3000\n",
        "0s - loss: 3.3844 - val_loss: 4.1658\n"
       ]
      },
      {
       "output_type": "stream",
       "stream": "stdout",
       "text": [
        "Epoch 1557/3000\n",
        "0s - loss: 3.3368 - val_loss: 4.3301\n"
       ]
      },
      {
       "output_type": "stream",
       "stream": "stdout",
       "text": [
        "Epoch 1558/3000\n",
        "0s - loss: 3.4381 - val_loss: 4.3582\n",
        "Epoch 1559/3000\n",
        "0s - loss: 3.2586 - val_loss: 4.2010\n"
       ]
      },
      {
       "output_type": "stream",
       "stream": "stdout",
       "text": [
        "Epoch 1560/3000\n",
        "0s - loss: 3.2250 - val_loss: 4.6825\n"
       ]
      },
      {
       "output_type": "stream",
       "stream": "stdout",
       "text": [
        "Epoch 1561/3000\n",
        "0s - loss: 3.6819 - val_loss: 4.3018\n",
        "Epoch 1562/3000\n",
        "0s - loss: 3.4151 - val_loss: 4.1502\n"
       ]
      },
      {
       "output_type": "stream",
       "stream": "stdout",
       "text": [
        "Epoch 1563/3000\n",
        "0s - loss: 3.2897 - val_loss: 4.2602\n",
        "Epoch 1564/3000\n",
        "0s - loss: 3.5546 - val_loss: 4.7100\n"
       ]
      },
      {
       "output_type": "stream",
       "stream": "stdout",
       "text": [
        "Epoch 1565/3000\n",
        "0s - loss: 3.6776 - val_loss: 4.4245\n"
       ]
      },
      {
       "output_type": "stream",
       "stream": "stdout",
       "text": [
        "Epoch 1566/3000\n",
        "0s - loss: 3.5283 - val_loss: 4.4837\n",
        "Epoch 1567/3000\n",
        "0s - loss: 3.4519 - val_loss: 4.3389\n"
       ]
      },
      {
       "output_type": "stream",
       "stream": "stdout",
       "text": [
        "Epoch 1568/3000\n",
        "0s - loss: 3.3994 - val_loss: 4.3673\n",
        "Epoch 1569/3000\n",
        "0s - loss: 3.5024 - val_loss: 4.2526\n"
       ]
      },
      {
       "output_type": "stream",
       "stream": "stdout",
       "text": [
        "Epoch 1570/3000\n",
        "0s - loss: 3.4170 - val_loss: 4.4523\n",
        "Epoch 1571/3000\n",
        "0s - loss: 3.4271 - val_loss: 4.3378\n"
       ]
      },
      {
       "output_type": "stream",
       "stream": "stdout",
       "text": [
        "Epoch 1572/3000\n",
        "0s - loss: 3.4189 - val_loss: 4.3913\n"
       ]
      },
      {
       "output_type": "stream",
       "stream": "stdout",
       "text": [
        "Epoch 1573/3000\n",
        "0s - loss: 3.4782 - val_loss: 4.5264\n"
       ]
      },
      {
       "output_type": "stream",
       "stream": "stdout",
       "text": [
        "Epoch 1574/3000\n",
        "0s - loss: 3.3466 - val_loss: 4.7048\n"
       ]
      },
      {
       "output_type": "stream",
       "stream": "stdout",
       "text": [
        "Epoch 1575/3000\n",
        "0s - loss: 3.4811 - val_loss: 4.4309\n"
       ]
      },
      {
       "output_type": "stream",
       "stream": "stdout",
       "text": [
        "Epoch 1576/3000\n",
        "0s - loss: 3.4087 - val_loss: 4.3864\n",
        "Epoch 1577/3000\n",
        "0s - loss: 3.5099 - val_loss: 4.2077\n"
       ]
      },
      {
       "output_type": "stream",
       "stream": "stdout",
       "text": [
        "Epoch 1578/3000\n",
        "0s - loss: 3.2814 - val_loss: 4.2242\n"
       ]
      },
      {
       "output_type": "stream",
       "stream": "stdout",
       "text": [
        "Epoch 1579/3000\n",
        "0s - loss: 3.2966 - val_loss: 4.3753\n",
        "Epoch 1580/3000\n",
        "0s - loss: 3.5056 - val_loss: 4.8948\n"
       ]
      },
      {
       "output_type": "stream",
       "stream": "stdout",
       "text": [
        "Epoch 1581/3000\n",
        "0s - loss: 3.8309 - val_loss: 4.4552\n"
       ]
      },
      {
       "output_type": "stream",
       "stream": "stdout",
       "text": [
        "Epoch 1582/3000\n",
        "0s - loss: 3.3234 - val_loss: 3.9982\n",
        "Epoch 1583/3000\n",
        "0s - loss: 3.1389 - val_loss: 4.2524\n"
       ]
      },
      {
       "output_type": "stream",
       "stream": "stdout",
       "text": [
        "Epoch 1584/3000\n",
        "0s - loss: 3.6040 - val_loss: 5.2939\n",
        "Epoch 1585/3000\n",
        "0s - loss: 3.8657 - val_loss: 4.2440\n"
       ]
      },
      {
       "output_type": "stream",
       "stream": "stdout",
       "text": [
        "Epoch 1586/3000\n",
        "0s - loss: 3.2570 - val_loss: 4.2138\n"
       ]
      },
      {
       "output_type": "stream",
       "stream": "stdout",
       "text": [
        "Epoch 1587/3000\n",
        "0s - loss: 3.4173 - val_loss: 4.8765\n"
       ]
      },
      {
       "output_type": "stream",
       "stream": "stdout",
       "text": [
        "Epoch 1588/3000\n",
        "0s - loss: 3.6621 - val_loss: 4.4976\n",
        "Epoch 1589/3000\n",
        "0s - loss: 3.3385 - val_loss: 4.1623\n"
       ]
      },
      {
       "output_type": "stream",
       "stream": "stdout",
       "text": [
        "Epoch 1590/3000\n",
        "0s - loss: 3.3340 - val_loss: 4.2560\n"
       ]
      },
      {
       "output_type": "stream",
       "stream": "stdout",
       "text": [
        "Epoch 1591/3000\n",
        "0s - loss: 3.4282 - val_loss: 4.3006\n"
       ]
      },
      {
       "output_type": "stream",
       "stream": "stdout",
       "text": [
        "Epoch 1592/3000\n",
        "0s - loss: 3.3228 - val_loss: 4.2388\n"
       ]
      },
      {
       "output_type": "stream",
       "stream": "stdout",
       "text": [
        "Epoch 1593/3000\n",
        "0s - loss: 3.2596 - val_loss: 4.2269\n"
       ]
      },
      {
       "output_type": "stream",
       "stream": "stdout",
       "text": [
        "Epoch 1594/3000\n",
        "0s - loss: 3.3043 - val_loss: 4.5570\n"
       ]
      },
      {
       "output_type": "stream",
       "stream": "stdout",
       "text": [
        "Epoch 1595/3000\n",
        "0s - loss: 3.7365 - val_loss: 4.8459\n",
        "Epoch 1596/3000\n",
        "0s - loss: 3.7927 - val_loss: 4.6626\n"
       ]
      },
      {
       "output_type": "stream",
       "stream": "stdout",
       "text": [
        "Epoch 1597/3000\n",
        "0s - loss: 3.8686 - val_loss: 4.6163\n",
        "Epoch 1598/3000\n",
        "0s - loss: 3.5015 - val_loss: 4.2748\n"
       ]
      },
      {
       "output_type": "stream",
       "stream": "stdout",
       "text": [
        "Epoch 1599/3000\n",
        "0s - loss: 3.3404 - val_loss: 4.2811\n"
       ]
      },
      {
       "output_type": "stream",
       "stream": "stdout",
       "text": [
        "Epoch 1600/3000\n",
        "0s - loss: 3.2804 - val_loss: 4.1399\n",
        "Epoch 1601/3000\n",
        "0s - loss: 3.2401 - val_loss: 4.1977\n"
       ]
      },
      {
       "output_type": "stream",
       "stream": "stdout",
       "text": [
        "Epoch 1602/3000\n",
        "0s - loss: 3.3059 - val_loss: 4.1501\n",
        "Epoch 1603/3000\n",
        "0s - loss: 3.3125 - val_loss: 4.3037\n"
       ]
      },
      {
       "output_type": "stream",
       "stream": "stdout",
       "text": [
        "Epoch 1604/3000\n",
        "0s - loss: 3.4003 - val_loss: 4.5909\n",
        "Epoch 1605/3000\n",
        "0s - loss: 3.4462 - val_loss: 4.3688\n"
       ]
      },
      {
       "output_type": "stream",
       "stream": "stdout",
       "text": [
        "Epoch 1606/3000\n",
        "0s - loss: 3.3275 - val_loss: 5.2056\n"
       ]
      },
      {
       "output_type": "stream",
       "stream": "stdout",
       "text": [
        "Epoch 1607/3000\n",
        "0s - loss: 4.0429 - val_loss: 4.6145\n",
        "Epoch 1608/3000\n",
        "0s - loss: 3.4554 - val_loss: 4.2197\n"
       ]
      },
      {
       "output_type": "stream",
       "stream": "stdout",
       "text": [
        "Epoch 1609/3000\n",
        "0s - loss: 3.3528 - val_loss: 4.5227\n",
        "Epoch 1610/3000\n",
        "0s - loss: 3.4154 - val_loss: 4.4298\n"
       ]
      },
      {
       "output_type": "stream",
       "stream": "stdout",
       "text": [
        "Epoch 1611/3000\n",
        "0s - loss: 3.3342 - val_loss: 4.6168\n",
        "Epoch 1612/3000\n",
        "0s - loss: 3.3849 - val_loss: 4.2694\n"
       ]
      },
      {
       "output_type": "stream",
       "stream": "stdout",
       "text": [
        "Epoch 1613/3000\n",
        "0s - loss: 3.2680 - val_loss: 4.2610\n",
        "Epoch 1614/3000\n",
        "0s - loss: 3.4656 - val_loss: 4.5675\n"
       ]
      },
      {
       "output_type": "stream",
       "stream": "stdout",
       "text": [
        "Epoch 1615/3000\n",
        "0s - loss: 3.5638 - val_loss: 4.3843\n",
        "Epoch 1616/3000\n",
        "0s - loss: 3.3839 - val_loss: 4.5264\n"
       ]
      },
      {
       "output_type": "stream",
       "stream": "stdout",
       "text": [
        "Epoch 1617/3000\n",
        "0s - loss: 3.4824 - val_loss: 4.5652\n"
       ]
      },
      {
       "output_type": "stream",
       "stream": "stdout",
       "text": [
        "Epoch 1618/3000\n",
        "0s - loss: 3.5961 - val_loss: 4.2949\n",
        "Epoch 1619/3000\n",
        "0s - loss: 3.3164 - val_loss: 4.1214\n"
       ]
      },
      {
       "output_type": "stream",
       "stream": "stdout",
       "text": [
        "Epoch 1620/3000\n",
        "0s - loss: 3.1496 - val_loss: 4.3744\n"
       ]
      },
      {
       "output_type": "stream",
       "stream": "stdout",
       "text": [
        "Epoch 1621/3000\n",
        "0s - loss: 3.3846 - val_loss: 4.7094\n"
       ]
      },
      {
       "output_type": "stream",
       "stream": "stdout",
       "text": [
        "Epoch 1622/3000\n",
        "0s - loss: 3.4837 - val_loss: 4.4330\n",
        "Epoch 1623/3000\n",
        "0s - loss: 3.4940 - val_loss: 4.3902\n"
       ]
      },
      {
       "output_type": "stream",
       "stream": "stdout",
       "text": [
        "Epoch 1624/3000\n",
        "0s - loss: 3.3308 - val_loss: 4.2291\n",
        "Epoch 1625/3000\n",
        "0s - loss: 3.2362 - val_loss: 4.3809\n"
       ]
      },
      {
       "output_type": "stream",
       "stream": "stdout",
       "text": [
        "Epoch 1626/3000\n",
        "0s - loss: 3.4988 - val_loss: 4.9977\n"
       ]
      },
      {
       "output_type": "stream",
       "stream": "stdout",
       "text": [
        "Epoch 1627/3000\n",
        "0s - loss: 3.9113 - val_loss: 4.8519\n"
       ]
      },
      {
       "output_type": "stream",
       "stream": "stdout",
       "text": [
        "Epoch 1628/3000\n",
        "0s - loss: 3.6399 - val_loss: 4.5904\n"
       ]
      },
      {
       "output_type": "stream",
       "stream": "stdout",
       "text": [
        "Epoch 1629/3000\n",
        "0s - loss: 3.5419 - val_loss: 4.2582\n"
       ]
      },
      {
       "output_type": "stream",
       "stream": "stdout",
       "text": [
        "Epoch 1630/3000\n",
        "0s - loss: 3.2385 - val_loss: 4.3778\n"
       ]
      },
      {
       "output_type": "stream",
       "stream": "stdout",
       "text": [
        "Epoch 1631/3000\n",
        "0s - loss: 3.3178 - val_loss: 4.5130\n"
       ]
      },
      {
       "output_type": "stream",
       "stream": "stdout",
       "text": [
        "Epoch 1632/3000\n",
        "0s - loss: 3.4552 - val_loss: 4.5751\n"
       ]
      },
      {
       "output_type": "stream",
       "stream": "stdout",
       "text": [
        "Epoch 1633/3000\n",
        "0s - loss: 3.5680 - val_loss: 4.2214\n"
       ]
      },
      {
       "output_type": "stream",
       "stream": "stdout",
       "text": [
        "Epoch 1634/3000\n",
        "0s - loss: 3.1661 - val_loss: 4.0666\n"
       ]
      },
      {
       "output_type": "stream",
       "stream": "stdout",
       "text": [
        "Epoch 1635/3000\n",
        "0s - loss: 3.1906 - val_loss: 4.4034\n"
       ]
      },
      {
       "output_type": "stream",
       "stream": "stdout",
       "text": [
        "Epoch 1636/3000\n",
        "0s - loss: 3.5351 - val_loss: 4.4976\n"
       ]
      },
      {
       "output_type": "stream",
       "stream": "stdout",
       "text": [
        "Epoch 1637/3000\n",
        "0s - loss: 3.4990 - val_loss: 4.5526\n"
       ]
      },
      {
       "output_type": "stream",
       "stream": "stdout",
       "text": [
        "Epoch 1638/3000\n",
        "0s - loss: 3.4542 - val_loss: 4.4640\n",
        "Epoch 1639/3000\n",
        "0s - loss: 3.5944 - val_loss: 4.6442\n"
       ]
      },
      {
       "output_type": "stream",
       "stream": "stdout",
       "text": [
        "Epoch 1640/3000\n",
        "0s - loss: 3.5802 - val_loss: 4.2073\n"
       ]
      },
      {
       "output_type": "stream",
       "stream": "stdout",
       "text": [
        "Epoch 1641/3000\n",
        "0s - loss: 3.2825 - val_loss: 4.5648\n"
       ]
      },
      {
       "output_type": "stream",
       "stream": "stdout",
       "text": [
        "Epoch 1642/3000\n",
        "0s - loss: 3.5312 - val_loss: 4.5704\n"
       ]
      },
      {
       "output_type": "stream",
       "stream": "stdout",
       "text": [
        "Epoch 1643/3000\n",
        "0s - loss: 3.4774 - val_loss: 4.2710\n",
        "Epoch 1644/3000\n",
        "0s - loss: 3.2673 - val_loss: 4.2159\n"
       ]
      },
      {
       "output_type": "stream",
       "stream": "stdout",
       "text": [
        "Epoch 1645/3000\n",
        "0s - loss: 3.3554 - val_loss: 4.2748\n"
       ]
      },
      {
       "output_type": "stream",
       "stream": "stdout",
       "text": [
        "Epoch 1646/3000\n",
        "0s - loss: 3.2863 - val_loss: 4.3699\n"
       ]
      },
      {
       "output_type": "stream",
       "stream": "stdout",
       "text": [
        "Epoch 1647/3000\n",
        "0s - loss: 3.4633 - val_loss: 4.6971\n",
        "Epoch 1648/3000\n",
        "0s - loss: 3.5352 - val_loss: 4.2535\n"
       ]
      },
      {
       "output_type": "stream",
       "stream": "stdout",
       "text": [
        "Epoch 1649/3000\n",
        "0s - loss: 3.3729 - val_loss: 4.4158\n"
       ]
      },
      {
       "output_type": "stream",
       "stream": "stdout",
       "text": [
        "Epoch 1650/3000\n",
        "0s - loss: 3.4287 - val_loss: 4.0789\n",
        "Epoch 1651/3000\n",
        "0s - loss: 3.3651 - val_loss: 4.5870\n"
       ]
      },
      {
       "output_type": "stream",
       "stream": "stdout",
       "text": [
        "Epoch 1652/3000\n",
        "0s - loss: 3.6603 - val_loss: 4.4828\n",
        "Epoch 1653/3000\n",
        "0s - loss: 3.4537 - val_loss: 4.2782\n"
       ]
      },
      {
       "output_type": "stream",
       "stream": "stdout",
       "text": [
        "Epoch 1654/3000\n",
        "0s - loss: 3.3057 - val_loss: 4.3325\n"
       ]
      },
      {
       "output_type": "stream",
       "stream": "stdout",
       "text": [
        "Epoch 1655/3000\n",
        "0s - loss: 3.3362 - val_loss: 4.2465\n"
       ]
      },
      {
       "output_type": "stream",
       "stream": "stdout",
       "text": [
        "Epoch 1656/3000\n",
        "0s - loss: 3.3887 - val_loss: 4.1810\n"
       ]
      },
      {
       "output_type": "stream",
       "stream": "stdout",
       "text": [
        "Epoch 1657/3000\n",
        "0s - loss: 3.3759 - val_loss: 4.3419\n"
       ]
      },
      {
       "output_type": "stream",
       "stream": "stdout",
       "text": [
        "Epoch 1658/3000\n",
        "0s - loss: 3.4724 - val_loss: 4.4778\n"
       ]
      },
      {
       "output_type": "stream",
       "stream": "stdout",
       "text": [
        "Epoch 1659/3000\n",
        "0s - loss: 3.5623 - val_loss: 4.2625\n",
        "Epoch 1660/3000\n",
        "0s - loss: 3.2322 - val_loss: 4.1985\n"
       ]
      },
      {
       "output_type": "stream",
       "stream": "stdout",
       "text": [
        "Epoch 1661/3000\n",
        "0s - loss: 3.3115 - val_loss: 4.7282\n",
        "Epoch 1662/3000\n",
        "0s - loss: 3.7395 - val_loss: 4.9323\n"
       ]
      },
      {
       "output_type": "stream",
       "stream": "stdout",
       "text": [
        "Epoch 1663/3000\n",
        "0s - loss: 3.7402 - val_loss: 4.2115\n"
       ]
      },
      {
       "output_type": "stream",
       "stream": "stdout",
       "text": [
        "Epoch 1664/3000\n",
        "0s - loss: 3.2697 - val_loss: 4.0696\n"
       ]
      },
      {
       "output_type": "stream",
       "stream": "stdout",
       "text": [
        "Epoch 1665/3000\n",
        "0s - loss: 3.1458 - val_loss: 4.1234\n"
       ]
      },
      {
       "output_type": "stream",
       "stream": "stdout",
       "text": [
        "Epoch 1666/3000\n",
        "0s - loss: 3.2487 - val_loss: 4.4193\n"
       ]
      },
      {
       "output_type": "stream",
       "stream": "stdout",
       "text": [
        "Epoch 1667/3000\n",
        "0s - loss: 3.5455 - val_loss: 4.4900\n"
       ]
      },
      {
       "output_type": "stream",
       "stream": "stdout",
       "text": [
        "Epoch 1668/3000\n",
        "0s - loss: 3.5762 - val_loss: 4.5105\n"
       ]
      },
      {
       "output_type": "stream",
       "stream": "stdout",
       "text": [
        "Epoch 1669/3000\n",
        "0s - loss: 3.6383 - val_loss: 4.3070\n"
       ]
      },
      {
       "output_type": "stream",
       "stream": "stdout",
       "text": [
        "Epoch 1670/3000\n",
        "0s - loss: 3.2832 - val_loss: 4.2314\n"
       ]
      },
      {
       "output_type": "stream",
       "stream": "stdout",
       "text": [
        "Epoch 1671/3000\n",
        "0s - loss: 3.2689 - val_loss: 4.3205\n"
       ]
      },
      {
       "output_type": "stream",
       "stream": "stdout",
       "text": [
        "Epoch 1672/3000\n",
        "0s - loss: 3.2593 - val_loss: 4.3451\n"
       ]
      },
      {
       "output_type": "stream",
       "stream": "stdout",
       "text": [
        "Epoch 1673/3000\n",
        "0s - loss: 3.4347 - val_loss: 4.4759\n"
       ]
      },
      {
       "output_type": "stream",
       "stream": "stdout",
       "text": [
        "Epoch 1674/3000\n",
        "0s - loss: 3.5284 - val_loss: 4.4059\n"
       ]
      },
      {
       "output_type": "stream",
       "stream": "stdout",
       "text": [
        "Epoch 1675/3000\n",
        "0s - loss: 3.4478 - val_loss: 4.3151\n"
       ]
      },
      {
       "output_type": "stream",
       "stream": "stdout",
       "text": [
        "Epoch 1676/3000\n",
        "0s - loss: 3.4220 - val_loss: 4.2694\n"
       ]
      },
      {
       "output_type": "stream",
       "stream": "stdout",
       "text": [
        "Epoch 1677/3000\n",
        "0s - loss: 3.2882 - val_loss: 4.3993\n"
       ]
      },
      {
       "output_type": "stream",
       "stream": "stdout",
       "text": [
        "Epoch 1678/3000\n",
        "0s - loss: 3.4210 - val_loss: 4.6125\n"
       ]
      },
      {
       "output_type": "stream",
       "stream": "stdout",
       "text": [
        "Epoch 1679/3000\n",
        "0s - loss: 3.3746 - val_loss: 4.4360\n"
       ]
      },
      {
       "output_type": "stream",
       "stream": "stdout",
       "text": [
        "Epoch 1680/3000\n",
        "0s - loss: 3.6055 - val_loss: 4.5653\n"
       ]
      },
      {
       "output_type": "stream",
       "stream": "stdout",
       "text": [
        "Epoch 1681/3000\n",
        "0s - loss: 3.5141 - val_loss: 4.4319\n"
       ]
      },
      {
       "output_type": "stream",
       "stream": "stdout",
       "text": [
        "Epoch 1682/3000\n",
        "0s - loss: 3.5941 - val_loss: 4.3617\n"
       ]
      },
      {
       "output_type": "stream",
       "stream": "stdout",
       "text": [
        "Epoch 1683/3000\n",
        "0s - loss: 3.3970 - val_loss: 4.1818\n"
       ]
      },
      {
       "output_type": "stream",
       "stream": "stdout",
       "text": [
        "Epoch 1684/3000\n",
        "0s - loss: 3.2488 - val_loss: 4.1860\n"
       ]
      },
      {
       "output_type": "stream",
       "stream": "stdout",
       "text": [
        "Epoch 1685/3000\n",
        "0s - loss: 3.2944 - val_loss: 4.3371\n"
       ]
      },
      {
       "output_type": "stream",
       "stream": "stdout",
       "text": [
        "Epoch 1686/3000\n",
        "0s - loss: 3.4276 - val_loss: 4.2427\n"
       ]
      },
      {
       "output_type": "stream",
       "stream": "stdout",
       "text": [
        "Epoch 1687/3000\n",
        "0s - loss: 3.3247 - val_loss: 4.4201\n",
        "Epoch 1688/3000\n",
        "0s - loss: 3.5934 - val_loss: 4.6820\n"
       ]
      },
      {
       "output_type": "stream",
       "stream": "stdout",
       "text": [
        "Epoch 1689/3000\n",
        "0s - loss: 3.5922 - val_loss: 4.5111\n",
        "Epoch 1690/3000\n",
        "0s - loss: 3.4557 - val_loss: 4.4520\n"
       ]
      },
      {
       "output_type": "stream",
       "stream": "stdout",
       "text": [
        "Epoch 1691/3000\n",
        "0s - loss: 3.3556 - val_loss: 4.4154\n"
       ]
      },
      {
       "output_type": "stream",
       "stream": "stdout",
       "text": [
        "Epoch 1692/3000\n",
        "0s - loss: 3.3696 - val_loss: 4.4598\n"
       ]
      },
      {
       "output_type": "stream",
       "stream": "stdout",
       "text": [
        "Epoch 1693/3000\n",
        "0s - loss: 3.3967 - val_loss: 4.2597\n"
       ]
      },
      {
       "output_type": "stream",
       "stream": "stdout",
       "text": [
        "Epoch 1694/3000\n",
        "0s - loss: 3.2559 - val_loss: 4.1882\n",
        "Epoch 1695/3000\n",
        "0s - loss: 3.2778 - val_loss: 4.3007\n"
       ]
      },
      {
       "output_type": "stream",
       "stream": "stdout",
       "text": [
        "Epoch 1696/3000\n",
        "0s - loss: 3.3727 - val_loss: 4.3244\n"
       ]
      },
      {
       "output_type": "stream",
       "stream": "stdout",
       "text": [
        "Epoch 1697/3000\n",
        "0s - loss: 3.4430 - val_loss: 4.4688\n",
        "Epoch 1698/3000\n",
        "0s - loss: 3.4376 - val_loss: 4.5380\n"
       ]
      },
      {
       "output_type": "stream",
       "stream": "stdout",
       "text": [
        "Epoch 1699/3000\n",
        "0s - loss: 3.4318 - val_loss: 4.4824\n",
        "Epoch 1700/3000\n",
        "0s - loss: 3.5460 - val_loss: 4.3079\n"
       ]
      },
      {
       "output_type": "stream",
       "stream": "stdout",
       "text": [
        "Epoch 1701/3000\n",
        "0s - loss: 3.4139 - val_loss: 4.3905\n"
       ]
      },
      {
       "output_type": "stream",
       "stream": "stdout",
       "text": [
        "Epoch 1702/3000\n",
        "0s - loss: 3.5509 - val_loss: 4.4207\n",
        "Epoch 1703/3000\n",
        "0s - loss: 3.3693 - val_loss: 4.1438\n"
       ]
      },
      {
       "output_type": "stream",
       "stream": "stdout",
       "text": [
        "Epoch 1704/3000\n",
        "0s - loss: 3.2543 - val_loss: 4.5659\n",
        "Epoch 1705/3000\n",
        "0s - loss: 3.7062 - val_loss: 4.4513\n"
       ]
      },
      {
       "output_type": "stream",
       "stream": "stdout",
       "text": [
        "Epoch 1706/3000\n",
        "0s - loss: 3.5583 - val_loss: 4.3754\n",
        "Epoch 1707/3000\n",
        "0s - loss: 3.4425 - val_loss: 4.3581\n"
       ]
      },
      {
       "output_type": "stream",
       "stream": "stdout",
       "text": [
        "Epoch 1708/3000\n",
        "0s - loss: 3.2467 - val_loss: 4.0457\n",
        "Epoch 1709/3000\n",
        "0s - loss: 3.1470 - val_loss: 4.0884\n"
       ]
      },
      {
       "output_type": "stream",
       "stream": "stdout",
       "text": [
        "Epoch 1710/3000\n",
        "0s - loss: 3.4110 - val_loss: 5.0343\n"
       ]
      },
      {
       "output_type": "stream",
       "stream": "stdout",
       "text": [
        "Epoch 1711/3000\n",
        "0s - loss: 4.0520 - val_loss: 4.2898\n"
       ]
      },
      {
       "output_type": "stream",
       "stream": "stdout",
       "text": [
        "Epoch 1712/3000\n",
        "0s - loss: 3.3650 - val_loss: 4.3841\n",
        "Epoch 1713/3000\n",
        "0s - loss: 3.3227 - val_loss: 4.0949\n"
       ]
      },
      {
       "output_type": "stream",
       "stream": "stdout",
       "text": [
        "Epoch 1714/3000\n",
        "0s - loss: 3.0980 - val_loss: 4.0487\n",
        "Epoch 1715/3000\n",
        "0s - loss: 3.0829 - val_loss: 4.2331\n"
       ]
      },
      {
       "output_type": "stream",
       "stream": "stdout",
       "text": [
        "Epoch 1716/3000\n",
        "0s - loss: 3.3802 - val_loss: 4.2930\n"
       ]
      },
      {
       "output_type": "stream",
       "stream": "stdout",
       "text": [
        "Epoch 1717/3000\n",
        "0s - loss: 3.4136 - val_loss: 4.8505\n"
       ]
      },
      {
       "output_type": "stream",
       "stream": "stdout",
       "text": [
        "Epoch 1718/3000\n",
        "0s - loss: 4.1912 - val_loss: 4.6187\n"
       ]
      },
      {
       "output_type": "stream",
       "stream": "stdout",
       "text": [
        "Epoch 1719/3000\n",
        "0s - loss: 3.5497 - val_loss: 4.2389\n"
       ]
      },
      {
       "output_type": "stream",
       "stream": "stdout",
       "text": [
        "Epoch 1720/3000\n",
        "0s - loss: 3.2673 - val_loss: 4.2681\n"
       ]
      },
      {
       "output_type": "stream",
       "stream": "stdout",
       "text": [
        "Epoch 1721/3000\n",
        "0s - loss: 3.6724 - val_loss: 4.5167\n"
       ]
      },
      {
       "output_type": "stream",
       "stream": "stdout",
       "text": [
        "Epoch 1722/3000\n",
        "0s - loss: 3.5441 - val_loss: 4.2593\n"
       ]
      },
      {
       "output_type": "stream",
       "stream": "stdout",
       "text": [
        "Epoch 1723/3000\n",
        "0s - loss: 3.2995 - val_loss: 4.4143\n"
       ]
      },
      {
       "output_type": "stream",
       "stream": "stdout",
       "text": [
        "Epoch 1724/3000\n",
        "0s - loss: 3.3165 - val_loss: 4.2232\n"
       ]
      },
      {
       "output_type": "stream",
       "stream": "stdout",
       "text": [
        "Epoch 1725/3000\n",
        "0s - loss: 3.2091 - val_loss: 4.0977\n"
       ]
      },
      {
       "output_type": "stream",
       "stream": "stdout",
       "text": [
        "Epoch 1726/3000\n",
        "0s - loss: 3.1259 - val_loss: 4.1349\n"
       ]
      },
      {
       "output_type": "stream",
       "stream": "stdout",
       "text": [
        "Epoch 1727/3000\n",
        "0s - loss: 3.1658 - val_loss: 4.4122\n"
       ]
      },
      {
       "output_type": "stream",
       "stream": "stdout",
       "text": [
        "Epoch 1728/3000\n",
        "0s - loss: 3.5814 - val_loss: 4.6160\n"
       ]
      },
      {
       "output_type": "stream",
       "stream": "stdout",
       "text": [
        "Epoch 1729/3000\n",
        "0s - loss: 3.5061 - val_loss: 4.2436\n"
       ]
      },
      {
       "output_type": "stream",
       "stream": "stdout",
       "text": [
        "Epoch 1730/3000\n",
        "0s - loss: 3.2714 - val_loss: 4.1843\n"
       ]
      },
      {
       "output_type": "stream",
       "stream": "stdout",
       "text": [
        "Epoch 1731/3000\n",
        "0s - loss: 3.3011 - val_loss: 4.7945\n"
       ]
      },
      {
       "output_type": "stream",
       "stream": "stdout",
       "text": [
        "Epoch 1732/3000\n",
        "0s - loss: 3.6942 - val_loss: 4.5474\n"
       ]
      },
      {
       "output_type": "stream",
       "stream": "stdout",
       "text": [
        "Epoch 1733/3000\n",
        "0s - loss: 3.3828 - val_loss: 4.4200\n"
       ]
      },
      {
       "output_type": "stream",
       "stream": "stdout",
       "text": [
        "Epoch 1734/3000\n",
        "0s - loss: 3.3670 - val_loss: 4.4413\n"
       ]
      },
      {
       "output_type": "stream",
       "stream": "stdout",
       "text": [
        "Epoch 1735/3000\n",
        "0s - loss: 3.5397 - val_loss: 4.6380\n"
       ]
      },
      {
       "output_type": "stream",
       "stream": "stdout",
       "text": [
        "Epoch 1736/3000\n",
        "0s - loss: 3.6482 - val_loss: 4.3763\n"
       ]
      },
      {
       "output_type": "stream",
       "stream": "stdout",
       "text": [
        "Epoch 1737/3000\n",
        "0s - loss: 3.4694 - val_loss: 4.4497\n"
       ]
      },
      {
       "output_type": "stream",
       "stream": "stdout",
       "text": [
        "Epoch 1738/3000\n",
        "0s - loss: 3.3834 - val_loss: 4.1295\n"
       ]
      },
      {
       "output_type": "stream",
       "stream": "stdout",
       "text": [
        "Epoch 1739/3000\n",
        "0s - loss: 3.1283 - val_loss: 4.0440\n"
       ]
      },
      {
       "output_type": "stream",
       "stream": "stdout",
       "text": [
        "Epoch 1740/3000\n",
        "0s - loss: 3.1539 - val_loss: 4.3450\n"
       ]
      },
      {
       "output_type": "stream",
       "stream": "stdout",
       "text": [
        "Epoch 1741/3000\n",
        "0s - loss: 3.6859 - val_loss: 4.7678\n"
       ]
      },
      {
       "output_type": "stream",
       "stream": "stdout",
       "text": [
        "Epoch 1742/3000\n",
        "0s - loss: 3.6418 - val_loss: 4.5340\n"
       ]
      },
      {
       "output_type": "stream",
       "stream": "stdout",
       "text": [
        "Epoch 1743/3000\n",
        "0s - loss: 3.5167 - val_loss: 4.5994\n"
       ]
      },
      {
       "output_type": "stream",
       "stream": "stdout",
       "text": [
        "Epoch 1744/3000\n",
        "0s - loss: 3.4584 - val_loss: 4.2838\n"
       ]
      },
      {
       "output_type": "stream",
       "stream": "stdout",
       "text": [
        "Epoch 1745/3000\n",
        "0s - loss: 3.2963 - val_loss: 4.3100\n"
       ]
      },
      {
       "output_type": "stream",
       "stream": "stdout",
       "text": [
        "Epoch 1746/3000\n",
        "0s - loss: 3.2705 - val_loss: 4.1949\n"
       ]
      },
      {
       "output_type": "stream",
       "stream": "stdout",
       "text": [
        "Epoch 1747/3000\n",
        "0s - loss: 3.2221 - val_loss: 4.2561\n"
       ]
      },
      {
       "output_type": "stream",
       "stream": "stdout",
       "text": [
        "Epoch 1748/3000\n",
        "0s - loss: 3.3578 - val_loss: 4.7103\n"
       ]
      },
      {
       "output_type": "stream",
       "stream": "stdout",
       "text": [
        "Epoch 1749/3000\n",
        "0s - loss: 3.6446 - val_loss: 4.5782\n"
       ]
      },
      {
       "output_type": "stream",
       "stream": "stdout",
       "text": [
        "Epoch 1750/3000\n",
        "0s - loss: 3.4629 - val_loss: 4.4199\n"
       ]
      },
      {
       "output_type": "stream",
       "stream": "stdout",
       "text": [
        "Epoch 1751/3000\n",
        "0s - loss: 3.4822 - val_loss: 4.2074\n"
       ]
      },
      {
       "output_type": "stream",
       "stream": "stdout",
       "text": [
        "Epoch 1752/3000\n",
        "0s - loss: 3.3773 - val_loss: 4.3218\n"
       ]
      },
      {
       "output_type": "stream",
       "stream": "stdout",
       "text": [
        "Epoch 1753/3000\n",
        "0s - loss: 3.6494 - val_loss: 4.4451\n"
       ]
      },
      {
       "output_type": "stream",
       "stream": "stdout",
       "text": [
        "Epoch 1754/3000\n",
        "0s - loss: 3.5296 - val_loss: 4.1283\n"
       ]
      },
      {
       "output_type": "stream",
       "stream": "stdout",
       "text": [
        "Epoch 1755/3000\n",
        "0s - loss: 3.2013 - val_loss: 4.0590\n"
       ]
      },
      {
       "output_type": "stream",
       "stream": "stdout",
       "text": [
        "Epoch 1756/3000\n",
        "0s - loss: 3.1439 - val_loss: 4.2023\n"
       ]
      },
      {
       "output_type": "stream",
       "stream": "stdout",
       "text": [
        "Epoch 1757/3000\n",
        "0s - loss: 3.2763 - val_loss: 4.4445\n"
       ]
      },
      {
       "output_type": "stream",
       "stream": "stdout",
       "text": [
        "Epoch 1758/3000\n",
        "0s - loss: 3.3647 - val_loss: 4.1721\n"
       ]
      },
      {
       "output_type": "stream",
       "stream": "stdout",
       "text": [
        "Epoch 1759/3000\n",
        "0s - loss: 3.2536 - val_loss: 4.5235\n"
       ]
      },
      {
       "output_type": "stream",
       "stream": "stdout",
       "text": [
        "Epoch 1760/3000\n",
        "0s - loss: 3.6543 - val_loss: 4.9564\n"
       ]
      },
      {
       "output_type": "stream",
       "stream": "stdout",
       "text": [
        "Epoch 1761/3000\n",
        "0s - loss: 3.9360 - val_loss: 4.5507\n"
       ]
      },
      {
       "output_type": "stream",
       "stream": "stdout",
       "text": [
        "Epoch 1762/3000\n",
        "0s - loss: 3.3795 - val_loss: 4.3808\n"
       ]
      },
      {
       "output_type": "stream",
       "stream": "stdout",
       "text": [
        "Epoch 1763/3000\n",
        "0s - loss: 3.6908 - val_loss: 4.5610\n"
       ]
      },
      {
       "output_type": "stream",
       "stream": "stdout",
       "text": [
        "Epoch 1764/3000\n",
        "0s - loss: 3.4312 - val_loss: 4.3135\n"
       ]
      },
      {
       "output_type": "stream",
       "stream": "stdout",
       "text": [
        "Epoch 1765/3000\n",
        "0s - loss: 3.2287 - val_loss: 4.1894\n"
       ]
      },
      {
       "output_type": "stream",
       "stream": "stdout",
       "text": [
        "Epoch 1766/3000\n",
        "0s - loss: 3.1633 - val_loss: 4.5614\n"
       ]
      },
      {
       "output_type": "stream",
       "stream": "stdout",
       "text": [
        "Epoch 1767/3000\n",
        "0s - loss: 3.5277 - val_loss: 4.4439\n"
       ]
      },
      {
       "output_type": "stream",
       "stream": "stdout",
       "text": [
        "Epoch 1768/3000\n",
        "0s - loss: 3.4419 - val_loss: 4.3222\n"
       ]
      },
      {
       "output_type": "stream",
       "stream": "stdout",
       "text": [
        "Epoch 1769/3000\n",
        "0s - loss: 3.2668 - val_loss: 4.1558\n"
       ]
      },
      {
       "output_type": "stream",
       "stream": "stdout",
       "text": [
        "Epoch 1770/3000\n",
        "0s - loss: 3.4640 - val_loss: 4.2375\n"
       ]
      },
      {
       "output_type": "stream",
       "stream": "stdout",
       "text": [
        "Epoch 1771/3000\n",
        "0s - loss: 3.3670 - val_loss: 4.2193\n"
       ]
      },
      {
       "output_type": "stream",
       "stream": "stdout",
       "text": [
        "Epoch 1772/3000\n",
        "0s - loss: 3.3898 - val_loss: 4.5288\n"
       ]
      },
      {
       "output_type": "stream",
       "stream": "stdout",
       "text": [
        "Epoch 1773/3000\n",
        "0s - loss: 3.4541 - val_loss: 4.2732\n"
       ]
      },
      {
       "output_type": "stream",
       "stream": "stdout",
       "text": [
        "Epoch 1774/3000\n",
        "0s - loss: 3.2336 - val_loss: 4.4410\n"
       ]
      },
      {
       "output_type": "stream",
       "stream": "stdout",
       "text": [
        "Epoch 1775/3000\n",
        "0s - loss: 3.4487 - val_loss: 4.3127\n"
       ]
      },
      {
       "output_type": "stream",
       "stream": "stdout",
       "text": [
        "Epoch 1776/3000\n",
        "0s - loss: 3.2990 - val_loss: 4.3531\n"
       ]
      },
      {
       "output_type": "stream",
       "stream": "stdout",
       "text": [
        "Epoch 1777/3000\n",
        "0s - loss: 3.4783 - val_loss: 4.3979\n"
       ]
      },
      {
       "output_type": "stream",
       "stream": "stdout",
       "text": [
        "Epoch 1778/3000\n",
        "0s - loss: 3.4627 - val_loss: 4.4462\n"
       ]
      },
      {
       "output_type": "stream",
       "stream": "stdout",
       "text": [
        "Epoch 1779/3000\n",
        "0s - loss: 3.4540 - val_loss: 4.2100\n"
       ]
      },
      {
       "output_type": "stream",
       "stream": "stdout",
       "text": [
        "Epoch 1780/3000\n",
        "0s - loss: 3.2577 - val_loss: 4.2222\n"
       ]
      },
      {
       "output_type": "stream",
       "stream": "stdout",
       "text": [
        "Epoch 1781/3000\n",
        "0s - loss: 3.3221 - val_loss: 4.3100\n"
       ]
      },
      {
       "output_type": "stream",
       "stream": "stdout",
       "text": [
        "Epoch 1782/3000\n",
        "0s - loss: 3.2579 - val_loss: 4.1429\n"
       ]
      },
      {
       "output_type": "stream",
       "stream": "stdout",
       "text": [
        "Epoch 1783/3000\n",
        "0s - loss: 3.1904 - val_loss: 4.5298\n"
       ]
      },
      {
       "output_type": "stream",
       "stream": "stdout",
       "text": [
        "Epoch 1784/3000\n",
        "0s - loss: 3.7753 - val_loss: 4.8088\n"
       ]
      },
      {
       "output_type": "stream",
       "stream": "stdout",
       "text": [
        "Epoch 1785/3000\n",
        "0s - loss: 3.6092 - val_loss: 4.6703\n"
       ]
      },
      {
       "output_type": "stream",
       "stream": "stdout",
       "text": [
        "Epoch 1786/3000\n",
        "0s - loss: 3.6141 - val_loss: 4.8606\n"
       ]
      },
      {
       "output_type": "stream",
       "stream": "stdout",
       "text": [
        "Epoch 1787/3000\n",
        "0s - loss: 3.4717 - val_loss: 4.3183\n"
       ]
      },
      {
       "output_type": "stream",
       "stream": "stdout",
       "text": [
        "Epoch 1788/3000\n",
        "0s - loss: 3.3615 - val_loss: 4.3493\n"
       ]
      },
      {
       "output_type": "stream",
       "stream": "stdout",
       "text": [
        "Epoch 1789/3000\n",
        "0s - loss: 3.2516 - val_loss: 4.1826\n"
       ]
      },
      {
       "output_type": "stream",
       "stream": "stdout",
       "text": [
        "Epoch 1790/3000\n",
        "0s - loss: 3.3693 - val_loss: 4.4148\n"
       ]
      },
      {
       "output_type": "stream",
       "stream": "stdout",
       "text": [
        "Epoch 1791/3000\n",
        "0s - loss: 3.4687 - val_loss: 4.1341\n"
       ]
      },
      {
       "output_type": "stream",
       "stream": "stdout",
       "text": [
        "Epoch 1792/3000\n",
        "0s - loss: 3.2216 - val_loss: 4.2883\n"
       ]
      },
      {
       "output_type": "stream",
       "stream": "stdout",
       "text": [
        "Epoch 1793/3000\n",
        "0s - loss: 3.2558 - val_loss: 4.3757\n"
       ]
      },
      {
       "output_type": "stream",
       "stream": "stdout",
       "text": [
        "Epoch 1794/3000\n",
        "0s - loss: 3.3793 - val_loss: 4.5038\n"
       ]
      },
      {
       "output_type": "stream",
       "stream": "stdout",
       "text": [
        "Epoch 1795/3000\n",
        "0s - loss: 3.3969 - val_loss: 4.3831\n"
       ]
      },
      {
       "output_type": "stream",
       "stream": "stdout",
       "text": [
        "Epoch 1796/3000\n",
        "0s - loss: 3.5823 - val_loss: 4.8918\n"
       ]
      },
      {
       "output_type": "stream",
       "stream": "stdout",
       "text": [
        "Epoch 1797/3000\n",
        "0s - loss: 3.6948 - val_loss: 4.5036\n"
       ]
      },
      {
       "output_type": "stream",
       "stream": "stdout",
       "text": [
        "Epoch 1798/3000\n",
        "0s - loss: 3.4282 - val_loss: 4.3419\n"
       ]
      },
      {
       "output_type": "stream",
       "stream": "stdout",
       "text": [
        "Epoch 1799/3000\n",
        "0s - loss: 3.3698 - val_loss: 4.3527\n"
       ]
      },
      {
       "output_type": "stream",
       "stream": "stdout",
       "text": [
        "Epoch 1800/3000\n",
        "0s - loss: 3.4422 - val_loss: 4.2666\n"
       ]
      },
      {
       "output_type": "stream",
       "stream": "stdout",
       "text": [
        "Epoch 1801/3000\n",
        "0s - loss: 3.3181 - val_loss: 4.1385\n"
       ]
      },
      {
       "output_type": "stream",
       "stream": "stdout",
       "text": [
        "Epoch 1802/3000\n",
        "0s - loss: 3.2740 - val_loss: 4.1940\n"
       ]
      },
      {
       "output_type": "stream",
       "stream": "stdout",
       "text": [
        "Epoch 1803/3000\n",
        "0s - loss: 3.2380 - val_loss: 4.3049\n"
       ]
      },
      {
       "output_type": "stream",
       "stream": "stdout",
       "text": [
        "Epoch 1804/3000\n",
        "0s - loss: 3.3982 - val_loss: 4.5648\n"
       ]
      },
      {
       "output_type": "stream",
       "stream": "stdout",
       "text": [
        "Epoch 1805/3000\n",
        "0s - loss: 3.5785 - val_loss: 4.4318\n"
       ]
      },
      {
       "output_type": "stream",
       "stream": "stdout",
       "text": [
        "Epoch 1806/3000\n",
        "0s - loss: 3.3378 - val_loss: 4.7612\n",
        "Epoch 1807/3000\n",
        "0s - loss: 3.4372 - val_loss: 4.3579\n"
       ]
      },
      {
       "output_type": "stream",
       "stream": "stdout",
       "text": [
        "Epoch 1808/3000\n",
        "0s - loss: 3.1737 - val_loss: 4.1257\n"
       ]
      },
      {
       "output_type": "stream",
       "stream": "stdout",
       "text": [
        "Epoch 1809/3000\n",
        "0s - loss: 3.2639 - val_loss: 4.5666\n"
       ]
      },
      {
       "output_type": "stream",
       "stream": "stdout",
       "text": [
        "Epoch 1810/3000\n",
        "0s - loss: 3.6076 - val_loss: 4.4724\n"
       ]
      },
      {
       "output_type": "stream",
       "stream": "stdout",
       "text": [
        "Epoch 1811/3000\n",
        "0s - loss: 3.4466 - val_loss: 4.2013\n"
       ]
      },
      {
       "output_type": "stream",
       "stream": "stdout",
       "text": [
        "Epoch 1812/3000\n",
        "0s - loss: 3.2347 - val_loss: 4.1835\n"
       ]
      },
      {
       "output_type": "stream",
       "stream": "stdout",
       "text": [
        "Epoch 1813/3000\n",
        "0s - loss: 3.2867 - val_loss: 4.2147\n"
       ]
      },
      {
       "output_type": "stream",
       "stream": "stdout",
       "text": [
        "Epoch 1814/3000\n",
        "0s - loss: 3.2570 - val_loss: 4.3163\n"
       ]
      },
      {
       "output_type": "stream",
       "stream": "stdout",
       "text": [
        "Epoch 1815/3000\n",
        "0s - loss: 3.4736 - val_loss: 4.4141\n"
       ]
      },
      {
       "output_type": "stream",
       "stream": "stdout",
       "text": [
        "Epoch 1816/3000\n",
        "0s - loss: 3.5076 - val_loss: 4.5391\n"
       ]
      },
      {
       "output_type": "stream",
       "stream": "stdout",
       "text": [
        "Epoch 1817/3000\n",
        "0s - loss: 3.6066 - val_loss: 4.3791\n"
       ]
      },
      {
       "output_type": "stream",
       "stream": "stdout",
       "text": [
        "Epoch 1818/3000\n",
        "0s - loss: 3.3876 - val_loss: 4.2410\n"
       ]
      },
      {
       "output_type": "stream",
       "stream": "stdout",
       "text": [
        "Epoch 1819/3000\n",
        "0s - loss: 3.2027 - val_loss: 4.2711\n"
       ]
      },
      {
       "output_type": "stream",
       "stream": "stdout",
       "text": [
        "Epoch 1820/3000\n",
        "0s - loss: 3.3609 - val_loss: 4.5482\n"
       ]
      },
      {
       "output_type": "stream",
       "stream": "stdout",
       "text": [
        "Epoch 1821/3000\n",
        "0s - loss: 3.5571 - val_loss: 4.6288\n"
       ]
      },
      {
       "output_type": "stream",
       "stream": "stdout",
       "text": [
        "Epoch 1822/3000\n",
        "0s - loss: 3.5144 - val_loss: 4.4839\n"
       ]
      },
      {
       "output_type": "stream",
       "stream": "stdout",
       "text": [
        "Epoch 1823/3000\n",
        "0s - loss: 3.2959 - val_loss: 4.1374\n"
       ]
      },
      {
       "output_type": "stream",
       "stream": "stdout",
       "text": [
        "Epoch 1824/3000\n",
        "0s - loss: 3.1017 - val_loss: 4.1753\n"
       ]
      },
      {
       "output_type": "stream",
       "stream": "stdout",
       "text": [
        "Epoch 1825/3000\n",
        "0s - loss: 3.2634 - val_loss: 4.7019\n"
       ]
      },
      {
       "output_type": "stream",
       "stream": "stdout",
       "text": [
        "Epoch 1826/3000\n",
        "0s - loss: 3.4854 - val_loss: 4.5320\n"
       ]
      },
      {
       "output_type": "stream",
       "stream": "stdout",
       "text": [
        "Epoch 1827/3000\n",
        "0s - loss: 3.4478 - val_loss: 4.4400\n"
       ]
      },
      {
       "output_type": "stream",
       "stream": "stdout",
       "text": [
        "Epoch 1828/3000\n",
        "0s - loss: 3.5021 - val_loss: 4.4311\n"
       ]
      },
      {
       "output_type": "stream",
       "stream": "stdout",
       "text": [
        "Epoch 1829/3000\n",
        "0s - loss: 3.5786 - val_loss: 4.4058\n"
       ]
      },
      {
       "output_type": "stream",
       "stream": "stdout",
       "text": [
        "Epoch 1830/3000\n",
        "0s - loss: 3.4494 - val_loss: 4.3066\n"
       ]
      },
      {
       "output_type": "stream",
       "stream": "stdout",
       "text": [
        "Epoch 1831/3000\n",
        "0s - loss: 3.3200 - val_loss: 4.4013\n"
       ]
      },
      {
       "output_type": "stream",
       "stream": "stdout",
       "text": [
        "Epoch 1832/3000\n",
        "0s - loss: 3.3555 - val_loss: 4.3657\n"
       ]
      },
      {
       "output_type": "stream",
       "stream": "stdout",
       "text": [
        "Epoch 1833/3000\n",
        "0s - loss: 3.2215 - val_loss: 4.1957\n"
       ]
      },
      {
       "output_type": "stream",
       "stream": "stdout",
       "text": [
        "Epoch 1834/3000\n",
        "0s - loss: 3.2896 - val_loss: 4.3304\n"
       ]
      },
      {
       "output_type": "stream",
       "stream": "stdout",
       "text": [
        "Epoch 1835/3000\n",
        "0s - loss: 3.3905 - val_loss: 4.3375\n"
       ]
      },
      {
       "output_type": "stream",
       "stream": "stdout",
       "text": [
        "Epoch 1836/3000\n",
        "0s - loss: 3.3908 - val_loss: 4.5848\n"
       ]
      },
      {
       "output_type": "stream",
       "stream": "stdout",
       "text": [
        "Epoch 1837/3000\n",
        "0s - loss: 3.6059 - val_loss: 4.2220\n"
       ]
      },
      {
       "output_type": "stream",
       "stream": "stdout",
       "text": [
        "Epoch 1838/3000\n",
        "0s - loss: 3.2458 - val_loss: 4.2288\n"
       ]
      },
      {
       "output_type": "stream",
       "stream": "stdout",
       "text": [
        "Epoch 1839/3000\n",
        "0s - loss: 3.4832 - val_loss: 4.3348\n"
       ]
      },
      {
       "output_type": "stream",
       "stream": "stdout",
       "text": [
        "Epoch 1840/3000\n",
        "0s - loss: 3.3872 - val_loss: 4.2522\n"
       ]
      },
      {
       "output_type": "stream",
       "stream": "stdout",
       "text": [
        "Epoch 1841/3000\n",
        "0s - loss: 3.5277 - val_loss: 4.5008\n"
       ]
      },
      {
       "output_type": "stream",
       "stream": "stdout",
       "text": [
        "Epoch 1842/3000\n",
        "0s - loss: 3.4996 - val_loss: 4.0730\n",
        "Epoch 1843/3000\n",
        "0s - loss: 3.1651 - val_loss: 4.2934\n"
       ]
      },
      {
       "output_type": "stream",
       "stream": "stdout",
       "text": [
        "Epoch 1844/3000\n",
        "0s - loss: 3.3099 - val_loss: 4.2035\n"
       ]
      },
      {
       "output_type": "stream",
       "stream": "stdout",
       "text": [
        "Epoch 1845/3000\n",
        "0s - loss: 3.2808 - val_loss: 4.3578\n"
       ]
      },
      {
       "output_type": "stream",
       "stream": "stdout",
       "text": [
        "Epoch 1846/3000\n",
        "0s - loss: 3.4598 - val_loss: 4.3480\n",
        "Epoch 1847/3000\n",
        "0s - loss: 3.5729 - val_loss: 4.6295\n"
       ]
      },
      {
       "output_type": "stream",
       "stream": "stdout",
       "text": [
        "Epoch 1848/3000\n",
        "0s - loss: 3.5893 - val_loss: 4.4961\n",
        "Epoch 1849/3000\n",
        "0s - loss: 3.3410 - val_loss: 4.3501\n"
       ]
      },
      {
       "output_type": "stream",
       "stream": "stdout",
       "text": [
        "Epoch 1850/3000\n",
        "0s - loss: 3.3104 - val_loss: 4.3129\n",
        "Epoch 1851/3000\n",
        "0s - loss: 3.2610 - val_loss: 4.2029\n"
       ]
      },
      {
       "output_type": "stream",
       "stream": "stdout",
       "text": [
        "Epoch 1852/3000\n",
        "0s - loss: 3.2838 - val_loss: 4.3602\n"
       ]
      },
      {
       "output_type": "stream",
       "stream": "stdout",
       "text": [
        "Epoch 1853/3000\n",
        "0s - loss: 3.5110 - val_loss: 4.4789\n"
       ]
      },
      {
       "output_type": "stream",
       "stream": "stdout",
       "text": [
        "Epoch 1854/3000\n",
        "0s - loss: 3.5741 - val_loss: 4.2768\n",
        "Epoch 1855/3000\n",
        "0s - loss: 3.3219 - val_loss: 4.3614\n"
       ]
      },
      {
       "output_type": "stream",
       "stream": "stdout",
       "text": [
        "Epoch 1856/3000\n",
        "0s - loss: 3.4476 - val_loss: 4.4413\n",
        "Epoch 1857/3000\n",
        "0s - loss: 3.3904 - val_loss: 4.2794\n"
       ]
      },
      {
       "output_type": "stream",
       "stream": "stdout",
       "text": [
        "Epoch 1858/3000\n",
        "0s - loss: 3.3951 - val_loss: 4.3543\n"
       ]
      },
      {
       "output_type": "stream",
       "stream": "stdout",
       "text": [
        "Epoch 1859/3000\n",
        "0s - loss: 3.2627 - val_loss: 4.1984\n"
       ]
      },
      {
       "output_type": "stream",
       "stream": "stdout",
       "text": [
        "Epoch 1860/3000\n",
        "0s - loss: 3.3076 - val_loss: 4.3171\n",
        "Epoch 1861/3000\n",
        "0s - loss: 3.3992 - val_loss: 4.4505\n"
       ]
      },
      {
       "output_type": "stream",
       "stream": "stdout",
       "text": [
        "Epoch 1862/3000\n",
        "0s - loss: 3.5098 - val_loss: 4.7173\n"
       ]
      },
      {
       "output_type": "stream",
       "stream": "stdout",
       "text": [
        "Epoch 1863/3000\n",
        "0s - loss: 3.5254 - val_loss: 4.4945\n",
        "Epoch 1864/3000\n",
        "0s - loss: 3.4753 - val_loss: 4.3952\n"
       ]
      },
      {
       "output_type": "stream",
       "stream": "stdout",
       "text": [
        "Epoch 1865/3000\n",
        "0s - loss: 3.2856 - val_loss: 4.2060\n"
       ]
      },
      {
       "output_type": "stream",
       "stream": "stdout",
       "text": [
        "Epoch 1866/3000\n",
        "0s - loss: 3.3647 - val_loss: 4.4726\n"
       ]
      },
      {
       "output_type": "stream",
       "stream": "stdout",
       "text": [
        "Epoch 1867/3000\n",
        "0s - loss: 3.4235 - val_loss: 4.2130\n",
        "Epoch 1868/3000\n",
        "0s - loss: 3.3547 - val_loss: 4.2825\n"
       ]
      },
      {
       "output_type": "stream",
       "stream": "stdout",
       "text": [
        "Epoch 1869/3000\n",
        "0s - loss: 3.2568 - val_loss: 4.1015\n",
        "Epoch 1870/3000\n",
        "0s - loss: 3.1206 - val_loss: 4.4711\n"
       ]
      },
      {
       "output_type": "stream",
       "stream": "stdout",
       "text": [
        "Epoch 1871/3000\n",
        "0s - loss: 3.7156 - val_loss: 4.9432\n"
       ]
      },
      {
       "output_type": "stream",
       "stream": "stdout",
       "text": [
        "Epoch 1872/3000\n",
        "0s - loss: 3.7201 - val_loss: 4.5700\n"
       ]
      },
      {
       "output_type": "stream",
       "stream": "stdout",
       "text": [
        "Epoch 1873/3000\n",
        "0s - loss: 3.6499 - val_loss: 4.1541\n",
        "Epoch 1874/3000"
       ]
      },
      {
       "output_type": "stream",
       "stream": "stdout",
       "text": [
        "\n",
        "0s - loss: 3.2617 - val_loss: 4.1386\n"
       ]
      },
      {
       "output_type": "stream",
       "stream": "stdout",
       "text": [
        "Epoch 1875/3000\n",
        "0s - loss: 3.3061 - val_loss: 4.2534\n"
       ]
      },
      {
       "output_type": "stream",
       "stream": "stdout",
       "text": [
        "Epoch 1876/3000\n",
        "0s - loss: 3.2999 - val_loss: 4.2568\n"
       ]
      },
      {
       "output_type": "stream",
       "stream": "stdout",
       "text": [
        "Epoch 1877/3000\n",
        "0s - loss: 3.2158 - val_loss: 4.2372\n",
        "Epoch 1878/3000\n",
        "0s - loss: 3.2401 - val_loss: 4.1404\n"
       ]
      },
      {
       "output_type": "stream",
       "stream": "stdout",
       "text": [
        "Epoch 1879/3000\n",
        "0s - loss: 3.2470 - val_loss: 4.1555\n",
        "Epoch 1880/3000\n",
        "0s - loss: 3.3797 - val_loss: 4.2609\n"
       ]
      },
      {
       "output_type": "stream",
       "stream": "stdout",
       "text": [
        "Epoch 1881/3000\n",
        "0s - loss: 3.3212 - val_loss: 4.5990\n"
       ]
      },
      {
       "output_type": "stream",
       "stream": "stdout",
       "text": [
        "Epoch 1882/3000\n",
        "0s - loss: 3.4589 - val_loss: 4.5589\n"
       ]
      },
      {
       "output_type": "stream",
       "stream": "stdout",
       "text": [
        "Epoch 1883/3000\n",
        "0s - loss: 3.3318 - val_loss: 4.4349\n"
       ]
      },
      {
       "output_type": "stream",
       "stream": "stdout",
       "text": [
        "Epoch 1884/3000\n",
        "0s - loss: 3.4806 - val_loss: 4.4660\n"
       ]
      },
      {
       "output_type": "stream",
       "stream": "stdout",
       "text": [
        "Epoch 1885/3000\n",
        "0s - loss: 3.4682 - val_loss: 4.2575\n"
       ]
      },
      {
       "output_type": "stream",
       "stream": "stdout",
       "text": [
        "Epoch 1886/3000\n",
        "0s - loss: 3.4165 - val_loss: 4.7754\n"
       ]
      },
      {
       "output_type": "stream",
       "stream": "stdout",
       "text": [
        "Epoch 1887/3000\n",
        "0s - loss: 3.4675 - val_loss: 4.1536\n",
        "Epoch 1888/3000\n",
        "0s - loss: 3.2310 - val_loss: 4.2642\n"
       ]
      },
      {
       "output_type": "stream",
       "stream": "stdout",
       "text": [
        "Epoch 1889/3000\n",
        "0s - loss: 3.2430 - val_loss: 4.1822\n",
        "Epoch 1890/3000\n",
        "0s - loss: 3.2553 - val_loss: 4.4256\n"
       ]
      },
      {
       "output_type": "stream",
       "stream": "stdout",
       "text": [
        "Epoch 1891/3000\n",
        "0s - loss: 3.4281 - val_loss: 4.3032\n",
        "Epoch 1892/3000\n",
        "0s - loss: 3.4409 - val_loss: 4.4358\n"
       ]
      },
      {
       "output_type": "stream",
       "stream": "stdout",
       "text": [
        "Epoch 1893/3000\n",
        "0s - loss: 3.6302 - val_loss: 4.2522\n",
        "Epoch 1894/3000\n",
        "0s - loss: 3.3710 - val_loss: 4.3683\n"
       ]
      },
      {
       "output_type": "stream",
       "stream": "stdout",
       "text": [
        "Epoch 1895/3000\n",
        "0s - loss: 3.3138 - val_loss: 4.2838\n",
        "Epoch 1896/3000\n",
        "0s - loss: 3.2112 - val_loss: 4.2494\n"
       ]
      },
      {
       "output_type": "stream",
       "stream": "stdout",
       "text": [
        "Epoch 1897/3000\n",
        "0s - loss: 3.1688 - val_loss: 4.2009\n",
        "Epoch 1898/3000\n",
        "0s - loss: 3.2299 - val_loss: 4.4342\n"
       ]
      },
      {
       "output_type": "stream",
       "stream": "stdout",
       "text": [
        "Epoch 1899/3000\n",
        "0s - loss: 3.3591 - val_loss: 4.4753\n"
       ]
      },
      {
       "output_type": "stream",
       "stream": "stdout",
       "text": [
        "Epoch 1900/3000\n",
        "0s - loss: 3.4864 - val_loss: 4.3848\n"
       ]
      },
      {
       "output_type": "stream",
       "stream": "stdout",
       "text": [
        "Epoch 1901/3000\n",
        "0s - loss: 3.2943 - val_loss: 4.2640\n"
       ]
      },
      {
       "output_type": "stream",
       "stream": "stdout",
       "text": [
        "Epoch 1902/3000\n",
        "0s - loss: 3.3318 - val_loss: 4.5346\n"
       ]
      },
      {
       "output_type": "stream",
       "stream": "stdout",
       "text": [
        "Epoch 1903/3000\n",
        "0s - loss: 3.7612 - val_loss: 4.5965\n",
        "Epoch 1904/3000\n",
        "0s - loss: 3.6041 - val_loss: 4.3206\n"
       ]
      },
      {
       "output_type": "stream",
       "stream": "stdout",
       "text": [
        "Epoch 1905/3000\n",
        "0s - loss: 3.3290 - val_loss: 3.9959\n",
        "Epoch 1906/3000\n",
        "0s - loss: 3.0860 - val_loss: 4.0079\n"
       ]
      },
      {
       "output_type": "stream",
       "stream": "stdout",
       "text": [
        "Epoch 1907/3000\n",
        "0s - loss: 3.2450 - val_loss: 4.4446\n",
        "Epoch 1908/3000\n",
        "0s - loss: 3.5302 - val_loss: 4.2880\n"
       ]
      },
      {
       "output_type": "stream",
       "stream": "stdout",
       "text": [
        "Epoch 1909/3000\n",
        "0s - loss: 3.4325 - val_loss: 4.5297\n",
        "Epoch 1910/3000\n",
        "0s - loss: 3.5644 - val_loss: 4.4278\n"
       ]
      },
      {
       "output_type": "stream",
       "stream": "stdout",
       "text": [
        "Epoch 1911/3000\n",
        "0s - loss: 3.3293 - val_loss: 4.3532\n"
       ]
      },
      {
       "output_type": "stream",
       "stream": "stdout",
       "text": [
        "Epoch 1912/3000\n",
        "0s - loss: 3.3054 - val_loss: 4.2563\n"
       ]
      },
      {
       "output_type": "stream",
       "stream": "stdout",
       "text": [
        "Epoch 1913/3000\n",
        "0s - loss: 3.3227 - val_loss: 4.0984\n"
       ]
      },
      {
       "output_type": "stream",
       "stream": "stdout",
       "text": [
        "Epoch 1914/3000\n",
        "0s - loss: 3.1696 - val_loss: 4.1344\n"
       ]
      },
      {
       "output_type": "stream",
       "stream": "stdout",
       "text": [
        "Epoch 1915/3000\n",
        "0s - loss: 3.2874 - val_loss: 4.4965\n",
        "Epoch 1916/3000\n",
        "0s - loss: 3.6319 - val_loss: 4.5447\n"
       ]
      },
      {
       "output_type": "stream",
       "stream": "stdout",
       "text": [
        "Epoch 1917/3000\n",
        "0s - loss: 3.3413 - val_loss: 4.4070\n",
        "Epoch 1918/3000\n",
        "0s - loss: 3.2863 - val_loss: 4.3038\n"
       ]
      },
      {
       "output_type": "stream",
       "stream": "stdout",
       "text": [
        "Epoch 1919/3000\n",
        "0s - loss: 3.2296 - val_loss: 4.3563\n"
       ]
      },
      {
       "output_type": "stream",
       "stream": "stdout",
       "text": [
        "Epoch 1920/3000\n",
        "0s - loss: 3.3257 - val_loss: 4.2630\n"
       ]
      },
      {
       "output_type": "stream",
       "stream": "stdout",
       "text": [
        "Epoch 1921/3000\n",
        "0s - loss: 3.3102 - val_loss: 4.1583\n"
       ]
      },
      {
       "output_type": "stream",
       "stream": "stdout",
       "text": [
        "Epoch 1922/3000\n",
        "0s - loss: 3.2849 - val_loss: 4.3367\n"
       ]
      },
      {
       "output_type": "stream",
       "stream": "stdout",
       "text": [
        "Epoch 1923/3000\n",
        "0s - loss: 3.3509 - val_loss: 4.6467\n"
       ]
      },
      {
       "output_type": "stream",
       "stream": "stdout",
       "text": [
        "Epoch 1924/3000\n",
        "0s - loss: 3.8699 - val_loss: 5.0078\n"
       ]
      },
      {
       "output_type": "stream",
       "stream": "stdout",
       "text": [
        "Epoch 1925/3000\n",
        "0s - loss: 3.8417 - val_loss: 4.3147\n"
       ]
      },
      {
       "output_type": "stream",
       "stream": "stdout",
       "text": [
        "Epoch 1926/3000\n",
        "0s - loss: 3.3857 - val_loss: 4.4514\n"
       ]
      },
      {
       "output_type": "stream",
       "stream": "stdout",
       "text": [
        "Epoch 1927/3000\n",
        "0s - loss: 3.4529 - val_loss: 4.1234\n",
        "Epoch 1928/3000\n",
        "0s - loss: 3.2044 - val_loss: 4.3799\n"
       ]
      },
      {
       "output_type": "stream",
       "stream": "stdout",
       "text": [
        "Epoch 1929/3000\n",
        "0s - loss: 3.3497 - val_loss: 4.4409\n",
        "Epoch 1930/3000\n",
        "0s - loss: 3.2535 - val_loss: 4.1839\n"
       ]
      },
      {
       "output_type": "stream",
       "stream": "stdout",
       "text": [
        "Epoch 1931/3000\n",
        "0s - loss: 3.3050 - val_loss: 4.3940\n",
        "Epoch 1932/3000\n",
        "0s - loss: 3.2982 - val_loss: 4.1847\n"
       ]
      },
      {
       "output_type": "stream",
       "stream": "stdout",
       "text": [
        "Epoch 1933/3000\n",
        "0s - loss: 3.1805 - val_loss: 4.2118\n",
        "Epoch 1934/3000\n",
        "0s - loss: 3.3832 - val_loss: 4.3050\n"
       ]
      },
      {
       "output_type": "stream",
       "stream": "stdout",
       "text": [
        "Epoch 1935/3000\n",
        "0s - loss: 3.4147 - val_loss: 4.7839\n"
       ]
      },
      {
       "output_type": "stream",
       "stream": "stdout",
       "text": [
        "Epoch 1936/3000\n",
        "0s - loss: 3.7260 - val_loss: 4.6719\n",
        "Epoch 1937/3000\n",
        "0s - loss: 3.4101 - val_loss: 4.1821\n"
       ]
      },
      {
       "output_type": "stream",
       "stream": "stdout",
       "text": [
        "Epoch 1938/3000\n",
        "0s - loss: 3.3246 - val_loss: 4.2059\n"
       ]
      },
      {
       "output_type": "stream",
       "stream": "stdout",
       "text": [
        "Epoch 1939/3000\n",
        "0s - loss: 3.1989 - val_loss: 4.0769\n"
       ]
      },
      {
       "output_type": "stream",
       "stream": "stdout",
       "text": [
        "Epoch 1940/3000\n",
        "0s - loss: 3.1545 - val_loss: 4.2107\n"
       ]
      },
      {
       "output_type": "stream",
       "stream": "stdout",
       "text": [
        "Epoch 1941/3000\n",
        "0s - loss: 3.3136 - val_loss: 4.2306\n"
       ]
      },
      {
       "output_type": "stream",
       "stream": "stdout",
       "text": [
        "Epoch 1942/3000\n",
        "0s - loss: 3.3267 - val_loss: 4.4102\n"
       ]
      },
      {
       "output_type": "stream",
       "stream": "stdout",
       "text": [
        "Epoch 1943/3000\n",
        "0s - loss: 3.2629 - val_loss: 4.3364\n"
       ]
      },
      {
       "output_type": "stream",
       "stream": "stdout",
       "text": [
        "Epoch 1944/3000\n",
        "0s - loss: 3.2493 - val_loss: 4.6631\n"
       ]
      },
      {
       "output_type": "stream",
       "stream": "stdout",
       "text": [
        "Epoch 1945/3000\n",
        "0s - loss: 3.6528 - val_loss: 4.7995\n",
        "Epoch 1946/3000\n",
        "0s - loss: 3.9440 - val_loss: 4.6715\n"
       ]
      },
      {
       "output_type": "stream",
       "stream": "stdout",
       "text": [
        "Epoch 1947/3000\n",
        "0s - loss: 3.4133 - val_loss: 4.3646\n",
        "Epoch 1948/3000\n",
        "0s - loss: 3.2694 - val_loss: 4.3001\n"
       ]
      },
      {
       "output_type": "stream",
       "stream": "stdout",
       "text": [
        "Epoch 1949/3000\n",
        "0s - loss: 3.1974 - val_loss: 4.1535\n"
       ]
      },
      {
       "output_type": "stream",
       "stream": "stdout",
       "text": [
        "Epoch 1950/3000\n",
        "0s - loss: 3.3351 - val_loss: 4.3974\n"
       ]
      },
      {
       "output_type": "stream",
       "stream": "stdout",
       "text": [
        "Epoch 1951/3000\n",
        "0s - loss: 3.3526 - val_loss: 4.1059\n",
        "Epoch 1952/3000\n",
        "0s - loss: 3.1588 - val_loss: 4.1922\n"
       ]
      },
      {
       "output_type": "stream",
       "stream": "stdout",
       "text": [
        "Epoch 1953/3000\n",
        "0s - loss: 3.3110 - val_loss: 4.3357\n",
        "Epoch 1954/3000\n",
        "0s - loss: 3.3978 - val_loss: 4.4444\n"
       ]
      },
      {
       "output_type": "stream",
       "stream": "stdout",
       "text": [
        "Epoch 1955/3000\n",
        "0s - loss: 3.4265 - val_loss: 4.3227\n"
       ]
      },
      {
       "output_type": "stream",
       "stream": "stdout",
       "text": [
        "Epoch 1956/3000\n",
        "0s - loss: 3.3982 - val_loss: 4.3582\n"
       ]
      },
      {
       "output_type": "stream",
       "stream": "stdout",
       "text": [
        "Epoch 1957/3000\n",
        "0s - loss: 3.3424 - val_loss: 4.2974\n"
       ]
      },
      {
       "output_type": "stream",
       "stream": "stdout",
       "text": [
        "Epoch 1958/3000\n",
        "0s - loss: 3.3620 - val_loss: 4.2753\n"
       ]
      },
      {
       "output_type": "stream",
       "stream": "stdout",
       "text": [
        "Epoch 1959/3000\n",
        "0s - loss: 3.3662 - val_loss: 4.3707\n"
       ]
      },
      {
       "output_type": "stream",
       "stream": "stdout",
       "text": [
        "Epoch 1960/3000\n",
        "0s - loss: 3.3727 - val_loss: 4.3318\n"
       ]
      },
      {
       "output_type": "stream",
       "stream": "stdout",
       "text": [
        "Epoch 1961/3000\n",
        "0s - loss: 3.4054 - val_loss: 4.4326\n",
        "Epoch 1962/3000\n",
        "0s - loss: 3.4690 - val_loss: 4.2325\n"
       ]
      },
      {
       "output_type": "stream",
       "stream": "stdout",
       "text": [
        "Epoch 1963/3000\n",
        "0s - loss: 3.3563 - val_loss: 4.2926\n",
        "Epoch 1964/3000\n",
        "0s - loss: 3.3060 - val_loss: 4.4562\n"
       ]
      },
      {
       "output_type": "stream",
       "stream": "stdout",
       "text": [
        "Epoch 1965/3000\n",
        "0s - loss: 3.3624 - val_loss: 4.3640\n",
        "Epoch 1966/3000\n",
        "0s - loss: 3.2036 - val_loss: 4.1285\n"
       ]
      },
      {
       "output_type": "stream",
       "stream": "stdout",
       "text": [
        "Epoch 1967/3000\n",
        "0s - loss: 3.0888 - val_loss: 4.1680\n",
        "Epoch 1968/3000\n",
        "0s - loss: 3.3454 - val_loss: 4.5222\n"
       ]
      },
      {
       "output_type": "stream",
       "stream": "stdout",
       "text": [
        "Epoch 1969/3000\n",
        "0s - loss: 3.4942 - val_loss: 4.4503\n"
       ]
      },
      {
       "output_type": "stream",
       "stream": "stdout",
       "text": [
        "Epoch 1970/3000\n",
        "0s - loss: 3.5870 - val_loss: 4.4413\n",
        "Epoch 1971/3000\n",
        "0s - loss: 3.4296 - val_loss: 4.2611\n"
       ]
      },
      {
       "output_type": "stream",
       "stream": "stdout",
       "text": [
        "Epoch 1972/3000\n",
        "0s - loss: 3.3083 - val_loss: 4.2695\n",
        "Epoch 1973/3000\n",
        "0s - loss: 3.3763 - val_loss: 4.3185\n"
       ]
      },
      {
       "output_type": "stream",
       "stream": "stdout",
       "text": [
        "Epoch 1974/3000\n",
        "0s - loss: 3.2771 - val_loss: 4.4359\n"
       ]
      },
      {
       "output_type": "stream",
       "stream": "stdout",
       "text": [
        "Epoch 1975/3000\n",
        "0s - loss: 3.2962 - val_loss: 4.3344\n",
        "Epoch 1976/3000\n",
        "0s - loss: 3.3100 - val_loss: 4.3539\n"
       ]
      },
      {
       "output_type": "stream",
       "stream": "stdout",
       "text": [
        "Epoch 1977/3000\n",
        "0s - loss: 3.4466 - val_loss: 4.4506\n"
       ]
      },
      {
       "output_type": "stream",
       "stream": "stdout",
       "text": [
        "Epoch 1978/3000\n",
        "0s - loss: 3.4529 - val_loss: 4.3263\n"
       ]
      },
      {
       "output_type": "stream",
       "stream": "stdout",
       "text": [
        "Epoch 1979/3000\n",
        "0s - loss: 3.2577 - val_loss: 4.2653\n"
       ]
      },
      {
       "output_type": "stream",
       "stream": "stdout",
       "text": [
        "Epoch 1980/3000\n",
        "0s - loss: 3.2721 - val_loss: 4.5010\n"
       ]
      },
      {
       "output_type": "stream",
       "stream": "stdout",
       "text": [
        "Epoch 1981/3000\n",
        "0s - loss: 3.4784 - val_loss: 4.2652\n"
       ]
      },
      {
       "output_type": "stream",
       "stream": "stdout",
       "text": [
        "Epoch 1982/3000\n",
        "0s - loss: 3.2575 - val_loss: 4.1605\n"
       ]
      },
      {
       "output_type": "stream",
       "stream": "stdout",
       "text": [
        "Epoch 1983/3000\n",
        "0s - loss: 3.1313 - val_loss: 4.1277\n"
       ]
      },
      {
       "output_type": "stream",
       "stream": "stdout",
       "text": [
        "Epoch 1984/3000\n",
        "0s - loss: 3.2169 - val_loss: 4.4075\n"
       ]
      },
      {
       "output_type": "stream",
       "stream": "stdout",
       "text": [
        "Epoch 1985/3000\n",
        "0s - loss: 3.5183 - val_loss: 4.4790\n"
       ]
      },
      {
       "output_type": "stream",
       "stream": "stdout",
       "text": [
        "Epoch 1986/3000\n",
        "0s - loss: 3.7241 - val_loss: 4.3754\n"
       ]
      },
      {
       "output_type": "stream",
       "stream": "stdout",
       "text": [
        "Epoch 1987/3000\n",
        "0s - loss: 3.5691 - val_loss: 4.4462\n"
       ]
      },
      {
       "output_type": "stream",
       "stream": "stdout",
       "text": [
        "Epoch 1988/3000\n",
        "0s - loss: 3.4526 - val_loss: 4.3205\n"
       ]
      },
      {
       "output_type": "stream",
       "stream": "stdout",
       "text": [
        "Epoch 1989/3000\n",
        "0s - loss: 3.3612 - val_loss: 4.3699\n"
       ]
      },
      {
       "output_type": "stream",
       "stream": "stdout",
       "text": [
        "Epoch 1990/3000\n",
        "0s - loss: 3.3012 - val_loss: 4.2345\n"
       ]
      },
      {
       "output_type": "stream",
       "stream": "stdout",
       "text": [
        "Epoch 1991/3000\n",
        "0s - loss: 3.1627 - val_loss: 4.2140\n"
       ]
      },
      {
       "output_type": "stream",
       "stream": "stdout",
       "text": [
        "Epoch 1992/3000\n",
        "0s - loss: 3.1688 - val_loss: 4.0828\n"
       ]
      },
      {
       "output_type": "stream",
       "stream": "stdout",
       "text": [
        "Epoch 1993/3000\n",
        "0s - loss: 3.1255 - val_loss: 4.2048\n"
       ]
      },
      {
       "output_type": "stream",
       "stream": "stdout",
       "text": [
        "Epoch 1994/3000\n",
        "0s - loss: 3.2983 - val_loss: 4.4630\n"
       ]
      },
      {
       "output_type": "stream",
       "stream": "stdout",
       "text": [
        "Epoch 1995/3000\n",
        "0s - loss: 3.4742 - val_loss: 4.5414\n"
       ]
      },
      {
       "output_type": "stream",
       "stream": "stdout",
       "text": [
        "Epoch 1996/3000\n",
        "0s - loss: 3.4308 - val_loss: 4.4232\n"
       ]
      },
      {
       "output_type": "stream",
       "stream": "stdout",
       "text": [
        "Epoch 1997/3000\n",
        "0s - loss: 3.3800 - val_loss: 4.2871\n"
       ]
      },
      {
       "output_type": "stream",
       "stream": "stdout",
       "text": [
        "Epoch 1998/3000\n",
        "0s - loss: 3.3705 - val_loss: 4.5657\n"
       ]
      },
      {
       "output_type": "stream",
       "stream": "stdout",
       "text": [
        "Epoch 1999/3000\n",
        "0s - loss: 3.4064 - val_loss: 4.5999\n"
       ]
      },
      {
       "output_type": "stream",
       "stream": "stdout",
       "text": [
        "Epoch 2000/3000\n",
        "0s - loss: 3.3806 - val_loss: 4.3968\n",
        "Epoch 2001/3000\n",
        "0s - loss: 3.3089 - val_loss: 4.2920\n"
       ]
      },
      {
       "output_type": "stream",
       "stream": "stdout",
       "text": [
        "Epoch 2002/3000\n",
        "0s - loss: 3.5345 - val_loss: 4.4738\n"
       ]
      },
      {
       "output_type": "stream",
       "stream": "stdout",
       "text": [
        "Epoch 2003/3000\n",
        "0s - loss: 3.5671 - val_loss: 4.1140\n"
       ]
      },
      {
       "output_type": "stream",
       "stream": "stdout",
       "text": [
        "Epoch 2004/3000\n",
        "0s - loss: 3.1411 - val_loss: 3.9455\n"
       ]
      },
      {
       "output_type": "stream",
       "stream": "stdout",
       "text": [
        "Epoch 2005/3000\n",
        "0s - loss: 3.0745 - val_loss: 4.2364\n"
       ]
      },
      {
       "output_type": "stream",
       "stream": "stdout",
       "text": [
        "Epoch 2006/3000\n",
        "0s - loss: 3.5151 - val_loss: 4.4900\n"
       ]
      },
      {
       "output_type": "stream",
       "stream": "stdout",
       "text": [
        "Epoch 2007/3000\n",
        "0s - loss: 3.3754 - val_loss: 4.0918\n",
        "Epoch 2008/3000\n",
        "0s - loss: 3.1790 - val_loss: 4.0618\n"
       ]
      },
      {
       "output_type": "stream",
       "stream": "stdout",
       "text": [
        "Epoch 2009/3000\n",
        "0s - loss: 3.1581 - val_loss: 4.1941\n"
       ]
      },
      {
       "output_type": "stream",
       "stream": "stdout",
       "text": [
        "Epoch 2010/3000\n",
        "0s - loss: 3.3641 - val_loss: 4.5995\n"
       ]
      },
      {
       "output_type": "stream",
       "stream": "stdout",
       "text": [
        "Epoch 2011/3000\n",
        "0s - loss: 3.5415 - val_loss: 4.3726\n"
       ]
      },
      {
       "output_type": "stream",
       "stream": "stdout",
       "text": [
        "Epoch 2012/3000\n",
        "0s - loss: 3.3236 - val_loss: 4.2023\n"
       ]
      },
      {
       "output_type": "stream",
       "stream": "stdout",
       "text": [
        "Epoch 2013/3000\n",
        "0s - loss: 3.2755 - val_loss: 4.1894\n"
       ]
      },
      {
       "output_type": "stream",
       "stream": "stdout",
       "text": [
        "Epoch 2014/3000\n",
        "0s - loss: 3.3070 - val_loss: 4.2574\n"
       ]
      },
      {
       "output_type": "stream",
       "stream": "stdout",
       "text": [
        "Epoch 2015/3000\n",
        "0s - loss: 3.2839 - val_loss: 4.2907\n"
       ]
      },
      {
       "output_type": "stream",
       "stream": "stdout",
       "text": [
        "Epoch 2016/3000\n",
        "0s - loss: 3.3611 - val_loss: 4.4905\n"
       ]
      },
      {
       "output_type": "stream",
       "stream": "stdout",
       "text": [
        "Epoch 2017/3000\n",
        "0s - loss: 3.5502 - val_loss: 4.2670\n"
       ]
      },
      {
       "output_type": "stream",
       "stream": "stdout",
       "text": [
        "Epoch 2018/3000\n",
        "0s - loss: 3.4655 - val_loss: 4.2588\n",
        "Epoch 2019/3000\n",
        "0s - loss: 3.2758 - val_loss: 4.3913\n"
       ]
      },
      {
       "output_type": "stream",
       "stream": "stdout",
       "text": [
        "Epoch 2020/3000\n",
        "0s - loss: 3.5626 - val_loss: 4.5192\n",
        "Epoch 2021/3000\n",
        "0s - loss: 3.4943 - val_loss: 4.4676\n"
       ]
      },
      {
       "output_type": "stream",
       "stream": "stdout",
       "text": [
        "Epoch 2022/3000\n",
        "0s - loss: 3.3614 - val_loss: 4.1636\n",
        "Epoch 2023/3000\n",
        "0s - loss: 3.1683 - val_loss: 4.2576\n"
       ]
      },
      {
       "output_type": "stream",
       "stream": "stdout",
       "text": [
        "Epoch 2024/3000\n",
        "0s - loss: 3.3346 - val_loss: 4.3903\n"
       ]
      },
      {
       "output_type": "stream",
       "stream": "stdout",
       "text": [
        "Epoch 2025/3000\n",
        "0s - loss: 3.3341 - val_loss: 4.4671\n",
        "Epoch 2026/3000\n",
        "0s - loss: 3.3315 - val_loss: 4.2969\n"
       ]
      },
      {
       "output_type": "stream",
       "stream": "stdout",
       "text": [
        "Epoch 2027/3000\n",
        "0s - loss: 3.2027 - val_loss: 4.0953\n"
       ]
      },
      {
       "output_type": "stream",
       "stream": "stdout",
       "text": [
        "Epoch 2028/3000\n",
        "0s - loss: 3.1606 - val_loss: 4.2018\n",
        "Epoch 2029/3000\n",
        "0s - loss: 3.3674 - val_loss: 4.6263\n"
       ]
      },
      {
       "output_type": "stream",
       "stream": "stdout",
       "text": [
        "Epoch 2030/3000\n",
        "0s - loss: 3.7050 - val_loss: 4.5155\n"
       ]
      },
      {
       "output_type": "stream",
       "stream": "stdout",
       "text": [
        "Epoch 2031/3000\n",
        "0s - loss: 3.3711 - val_loss: 4.3001\n"
       ]
      },
      {
       "output_type": "stream",
       "stream": "stdout",
       "text": [
        "Epoch 2032/3000\n",
        "0s - loss: 3.2647 - val_loss: 4.3621\n"
       ]
      },
      {
       "output_type": "stream",
       "stream": "stdout",
       "text": [
        "Epoch 2033/3000\n",
        "0s - loss: 3.3231 - val_loss: 4.1646\n",
        "Epoch 2034/3000\n",
        "0s - loss: 3.3602 - val_loss: 4.2661\n"
       ]
      },
      {
       "output_type": "stream",
       "stream": "stdout",
       "text": [
        "Epoch 2035/3000\n",
        "0s - loss: 3.3258 - val_loss: 4.3372\n"
       ]
      },
      {
       "output_type": "stream",
       "stream": "stdout",
       "text": [
        "Epoch 2036/3000\n",
        "0s - loss: 3.2348 - val_loss: 4.1918\n"
       ]
      },
      {
       "output_type": "stream",
       "stream": "stdout",
       "text": [
        "Epoch 2037/3000\n",
        "0s - loss: 3.2865 - val_loss: 4.6420\n"
       ]
      },
      {
       "output_type": "stream",
       "stream": "stdout",
       "text": [
        "Epoch 2038/3000\n",
        "0s - loss: 3.5308 - val_loss: 4.4053\n",
        "Epoch 2039/3000\n",
        "0s - loss: 3.3302 - val_loss: 4.2661\n"
       ]
      },
      {
       "output_type": "stream",
       "stream": "stdout",
       "text": [
        "Epoch 2040/3000\n",
        "0s - loss: 3.1553 - val_loss: 4.2795\n",
        "Epoch 2041/3000\n",
        "0s - loss: 3.4142 - val_loss: 4.6950\n"
       ]
      },
      {
       "output_type": "stream",
       "stream": "stdout",
       "text": [
        "Epoch 2042/3000\n",
        "0s - loss: 3.6360 - val_loss: 4.4436\n"
       ]
      },
      {
       "output_type": "stream",
       "stream": "stdout",
       "text": [
        "Epoch 2043/3000\n",
        "0s - loss: 3.4456 - val_loss: 4.2229\n"
       ]
      },
      {
       "output_type": "stream",
       "stream": "stdout",
       "text": [
        "Epoch 2044/3000\n",
        "0s - loss: 3.2534 - val_loss: 4.0900\n"
       ]
      },
      {
       "output_type": "stream",
       "stream": "stdout",
       "text": [
        "Epoch 2045/3000\n",
        "0s - loss: 3.2200 - val_loss: 4.3951\n"
       ]
      },
      {
       "output_type": "stream",
       "stream": "stdout",
       "text": [
        "Epoch 2046/3000\n",
        "0s - loss: 3.5336 - val_loss: 4.3669\n"
       ]
      },
      {
       "output_type": "stream",
       "stream": "stdout",
       "text": [
        "Epoch 2047/3000\n",
        "0s - loss: 3.3136 - val_loss: 4.1117\n"
       ]
      },
      {
       "output_type": "stream",
       "stream": "stdout",
       "text": [
        "Epoch 2048/3000\n",
        "0s - loss: 3.2015 - val_loss: 4.2265\n"
       ]
      },
      {
       "output_type": "stream",
       "stream": "stdout",
       "text": [
        "Epoch 2049/3000\n",
        "0s - loss: 3.3179 - val_loss: 4.1096\n"
       ]
      },
      {
       "output_type": "stream",
       "stream": "stdout",
       "text": [
        "Epoch 2050/3000\n",
        "0s - loss: 3.2116 - val_loss: 4.3378\n"
       ]
      },
      {
       "output_type": "stream",
       "stream": "stdout",
       "text": [
        "Epoch 2051/3000\n",
        "0s - loss: 3.4685 - val_loss: 4.5572\n"
       ]
      },
      {
       "output_type": "stream",
       "stream": "stdout",
       "text": [
        "Epoch 2052/3000\n",
        "0s - loss: 3.6441 - val_loss: 4.3860\n"
       ]
      },
      {
       "output_type": "stream",
       "stream": "stdout",
       "text": [
        "Epoch 2053/3000\n",
        "0s - loss: 3.3289 - val_loss: 4.1157\n"
       ]
      },
      {
       "output_type": "stream",
       "stream": "stdout",
       "text": [
        "Epoch 2054/3000\n",
        "0s - loss: 3.0902 - val_loss: 4.1443\n"
       ]
      },
      {
       "output_type": "stream",
       "stream": "stdout",
       "text": [
        "Epoch 2055/3000\n",
        "0s - loss: 3.2551 - val_loss: 4.4070\n"
       ]
      },
      {
       "output_type": "stream",
       "stream": "stdout",
       "text": [
        "Epoch 2056/3000\n",
        "0s - loss: 3.4159 - val_loss: 4.5026\n"
       ]
      },
      {
       "output_type": "stream",
       "stream": "stdout",
       "text": [
        "Epoch 2057/3000\n",
        "0s - loss: 3.4944 - val_loss: 4.6739\n"
       ]
      },
      {
       "output_type": "stream",
       "stream": "stdout",
       "text": [
        "Epoch 2058/3000\n",
        "0s - loss: 3.4026 - val_loss: 4.3374\n"
       ]
      },
      {
       "output_type": "stream",
       "stream": "stdout",
       "text": [
        "Epoch 2059/3000\n",
        "0s - loss: 3.4659 - val_loss: 4.3539\n"
       ]
      },
      {
       "output_type": "stream",
       "stream": "stdout",
       "text": [
        "Epoch 2060/3000\n",
        "0s - loss: 3.2979 - val_loss: 4.2155\n"
       ]
      },
      {
       "output_type": "stream",
       "stream": "stdout",
       "text": [
        "Epoch 2061/3000\n",
        "0s - loss: 3.3328 - val_loss: 4.1603\n"
       ]
      },
      {
       "output_type": "stream",
       "stream": "stdout",
       "text": [
        "Epoch 2062/3000\n",
        "0s - loss: 3.2757 - val_loss: 4.0733\n"
       ]
      },
      {
       "output_type": "stream",
       "stream": "stdout",
       "text": [
        "Epoch 2063/3000\n",
        "0s - loss: 3.3603 - val_loss: 4.4167\n"
       ]
      },
      {
       "output_type": "stream",
       "stream": "stdout",
       "text": [
        "Epoch 2064/3000\n",
        "0s - loss: 3.5356 - val_loss: 4.3465\n"
       ]
      },
      {
       "output_type": "stream",
       "stream": "stdout",
       "text": [
        "Epoch 2065/3000\n",
        "0s - loss: 3.4049 - val_loss: 4.4381\n"
       ]
      },
      {
       "output_type": "stream",
       "stream": "stdout",
       "text": [
        "Epoch 2066/3000\n",
        "0s - loss: 3.3669 - val_loss: 4.1581\n"
       ]
      },
      {
       "output_type": "stream",
       "stream": "stdout",
       "text": [
        "Epoch 2067/3000\n",
        "0s - loss: 3.1078 - val_loss: 4.0786\n"
       ]
      },
      {
       "output_type": "stream",
       "stream": "stdout",
       "text": [
        "Epoch 2068/3000\n",
        "0s - loss: 3.0993 - val_loss: 4.4572\n"
       ]
      },
      {
       "output_type": "stream",
       "stream": "stdout",
       "text": [
        "Epoch 2069/3000\n",
        "0s - loss: 3.4528 - val_loss: 4.6024\n"
       ]
      },
      {
       "output_type": "stream",
       "stream": "stdout",
       "text": [
        "Epoch 2070/3000\n",
        "0s - loss: 3.3424 - val_loss: 4.2914\n"
       ]
      },
      {
       "output_type": "stream",
       "stream": "stdout",
       "text": [
        "Epoch 2071/3000\n",
        "0s - loss: 3.2552 - val_loss: 4.5711\n"
       ]
      },
      {
       "output_type": "stream",
       "stream": "stdout",
       "text": [
        "Epoch 2072/3000\n",
        "0s - loss: 3.6980 - val_loss: 4.5374\n"
       ]
      },
      {
       "output_type": "stream",
       "stream": "stdout",
       "text": [
        "Epoch 2073/3000\n",
        "0s - loss: 3.4778 - val_loss: 4.3704\n"
       ]
      },
      {
       "output_type": "stream",
       "stream": "stdout",
       "text": [
        "Epoch 2074/3000\n",
        "0s - loss: 3.3070 - val_loss: 4.2692\n"
       ]
      },
      {
       "output_type": "stream",
       "stream": "stdout",
       "text": [
        "Epoch 2075/3000\n",
        "0s - loss: 3.2291 - val_loss: 4.4103\n"
       ]
      },
      {
       "output_type": "stream",
       "stream": "stdout",
       "text": [
        "Epoch 2076/3000\n",
        "0s - loss: 3.2649 - val_loss: 4.1507\n"
       ]
      },
      {
       "output_type": "stream",
       "stream": "stdout",
       "text": [
        "Epoch 2077/3000\n",
        "0s - loss: 3.1517 - val_loss: 4.4909\n"
       ]
      },
      {
       "output_type": "stream",
       "stream": "stdout",
       "text": [
        "Epoch 2078/3000\n",
        "0s - loss: 3.3599 - val_loss: 4.6091\n"
       ]
      },
      {
       "output_type": "stream",
       "stream": "stdout",
       "text": [
        "Epoch 2079/3000\n",
        "0s - loss: 3.3089 - val_loss: 4.4248\n"
       ]
      },
      {
       "output_type": "stream",
       "stream": "stdout",
       "text": [
        "Epoch 2080/3000\n",
        "0s - loss: 3.4205 - val_loss: 4.4364\n"
       ]
      },
      {
       "output_type": "stream",
       "stream": "stdout",
       "text": [
        "Epoch 2081/3000\n",
        "0s - loss: 3.4496 - val_loss: 4.4772\n"
       ]
      },
      {
       "output_type": "stream",
       "stream": "stdout",
       "text": [
        "Epoch 2082/3000\n",
        "0s - loss: 3.4942 - val_loss: 4.2245\n"
       ]
      },
      {
       "output_type": "stream",
       "stream": "stdout",
       "text": [
        "Epoch 2083/3000\n",
        "0s - loss: 3.2567 - val_loss: 4.1288\n"
       ]
      },
      {
       "output_type": "stream",
       "stream": "stdout",
       "text": [
        "Epoch 2084/3000\n",
        "0s - loss: 3.2271 - val_loss: 4.5071\n"
       ]
      },
      {
       "output_type": "stream",
       "stream": "stdout",
       "text": [
        "Epoch 2085/3000\n",
        "0s - loss: 3.4918 - val_loss: 4.2754\n"
       ]
      },
      {
       "output_type": "stream",
       "stream": "stdout",
       "text": [
        "Epoch 2086/3000\n",
        "0s - loss: 3.3266 - val_loss: 4.3139\n"
       ]
      },
      {
       "output_type": "stream",
       "stream": "stdout",
       "text": [
        "Epoch 2087/3000\n",
        "0s - loss: 3.3335 - val_loss: 4.2451\n"
       ]
      },
      {
       "output_type": "stream",
       "stream": "stdout",
       "text": [
        "Epoch 2088/3000\n",
        "0s - loss: 3.2466 - val_loss: 4.2838\n"
       ]
      },
      {
       "output_type": "stream",
       "stream": "stdout",
       "text": [
        "Epoch 2089/3000\n",
        "0s - loss: 3.1934 - val_loss: 4.3128\n"
       ]
      },
      {
       "output_type": "stream",
       "stream": "stdout",
       "text": [
        "Epoch 2090/3000\n",
        "0s - loss: 3.2308 - val_loss: 4.1242\n"
       ]
      },
      {
       "output_type": "stream",
       "stream": "stdout",
       "text": [
        "Epoch 2091/3000\n",
        "0s - loss: 3.1509 - val_loss: 4.0986\n",
        "Epoch 2092/3000\n",
        "0s - loss: 3.3808 - val_loss: 4.5099\n"
       ]
      },
      {
       "output_type": "stream",
       "stream": "stdout",
       "text": [
        "Epoch 2093/3000\n",
        "0s - loss: 3.5360 - val_loss: 4.7379\n"
       ]
      },
      {
       "output_type": "stream",
       "stream": "stdout",
       "text": [
        "Epoch 2094/3000\n",
        "0s - loss: 3.7743 - val_loss: 4.7269\n"
       ]
      },
      {
       "output_type": "stream",
       "stream": "stdout",
       "text": [
        "Epoch 2095/3000\n",
        "0s - loss: 3.5152 - val_loss: 4.2031\n"
       ]
      },
      {
       "output_type": "stream",
       "stream": "stdout",
       "text": [
        "Epoch 2096/3000\n",
        "0s - loss: 3.1920 - val_loss: 4.1059\n"
       ]
      },
      {
       "output_type": "stream",
       "stream": "stdout",
       "text": [
        "Epoch 2097/3000\n",
        "0s - loss: 3.1564 - val_loss: 4.1665\n"
       ]
      },
      {
       "output_type": "stream",
       "stream": "stdout",
       "text": [
        "Epoch 2098/3000\n",
        "0s - loss: 3.1357 - val_loss: 4.3205\n"
       ]
      },
      {
       "output_type": "stream",
       "stream": "stdout",
       "text": [
        "Epoch 2099/3000\n",
        "0s - loss: 3.2504 - val_loss: 4.2576\n"
       ]
      },
      {
       "output_type": "stream",
       "stream": "stdout",
       "text": [
        "Epoch 2100/3000\n",
        "0s - loss: 3.2029 - val_loss: 4.4048\n"
       ]
      },
      {
       "output_type": "stream",
       "stream": "stdout",
       "text": [
        "Epoch 2101/3000\n",
        "0s - loss: 3.2288 - val_loss: 4.4667\n"
       ]
      },
      {
       "output_type": "stream",
       "stream": "stdout",
       "text": [
        "Epoch 2102/3000\n",
        "0s - loss: 3.5369 - val_loss: 4.8315\n"
       ]
      },
      {
       "output_type": "stream",
       "stream": "stdout",
       "text": [
        "Epoch 2103/3000\n",
        "0s - loss: 3.7905 - val_loss: 4.2874\n"
       ]
      },
      {
       "output_type": "stream",
       "stream": "stdout",
       "text": [
        "Epoch 2104/3000\n",
        "0s - loss: 3.3363 - val_loss: 4.3865\n"
       ]
      },
      {
       "output_type": "stream",
       "stream": "stdout",
       "text": [
        "Epoch 2105/3000\n",
        "0s - loss: 3.2804 - val_loss: 4.1059\n"
       ]
      },
      {
       "output_type": "stream",
       "stream": "stdout",
       "text": [
        "Epoch 2106/3000\n",
        "0s - loss: 3.0959 - val_loss: 4.1327\n"
       ]
      },
      {
       "output_type": "stream",
       "stream": "stdout",
       "text": [
        "Epoch 2107/3000\n",
        "0s - loss: 3.2042 - val_loss: 4.2391\n"
       ]
      },
      {
       "output_type": "stream",
       "stream": "stdout",
       "text": [
        "Epoch 2108/3000\n",
        "0s - loss: 3.4275 - val_loss: 4.4182\n"
       ]
      },
      {
       "output_type": "stream",
       "stream": "stdout",
       "text": [
        "Epoch 2109/3000\n",
        "0s - loss: 3.4206 - val_loss: 4.1443\n"
       ]
      },
      {
       "output_type": "stream",
       "stream": "stdout",
       "text": [
        "Epoch 2110/3000\n",
        "0s - loss: 3.3204 - val_loss: 4.3195\n"
       ]
      },
      {
       "output_type": "stream",
       "stream": "stdout",
       "text": [
        "Epoch 2111/3000\n",
        "0s - loss: 3.2598 - val_loss: 4.0549\n",
        "Epoch 2112/3000\n",
        "0s - loss: 3.1304 - val_loss: 4.3119\n"
       ]
      },
      {
       "output_type": "stream",
       "stream": "stdout",
       "text": [
        "Epoch 2113/3000\n",
        "0s - loss: 3.4384 - val_loss: 4.7111\n"
       ]
      },
      {
       "output_type": "stream",
       "stream": "stdout",
       "text": [
        "Epoch 2114/3000\n",
        "0s - loss: 3.4278 - val_loss: 4.2707\n"
       ]
      },
      {
       "output_type": "stream",
       "stream": "stdout",
       "text": [
        "Epoch 2115/3000\n",
        "0s - loss: 3.2660 - val_loss: 4.4727\n"
       ]
      },
      {
       "output_type": "stream",
       "stream": "stdout",
       "text": [
        "Epoch 2116/3000\n",
        "0s - loss: 3.4920 - val_loss: 4.3082\n"
       ]
      },
      {
       "output_type": "stream",
       "stream": "stdout",
       "text": [
        "Epoch 2117/3000\n",
        "0s - loss: 3.3297 - val_loss: 4.3970\n"
       ]
      },
      {
       "output_type": "stream",
       "stream": "stdout",
       "text": [
        "Epoch 2118/3000\n",
        "0s - loss: 3.4657 - val_loss: 4.3584\n"
       ]
      },
      {
       "output_type": "stream",
       "stream": "stdout",
       "text": [
        "Epoch 2119/3000\n",
        "0s - loss: 3.2131 - val_loss: 4.0492\n"
       ]
      },
      {
       "output_type": "stream",
       "stream": "stdout",
       "text": [
        "Epoch 2120/3000\n",
        "0s - loss: 3.1302 - val_loss: 4.5006\n"
       ]
      },
      {
       "output_type": "stream",
       "stream": "stdout",
       "text": [
        "Epoch 2121/3000\n",
        "0s - loss: 3.4899 - val_loss: 4.2573\n"
       ]
      },
      {
       "output_type": "stream",
       "stream": "stdout",
       "text": [
        "Epoch 2122/3000\n",
        "0s - loss: 3.1894 - val_loss: 4.1435\n"
       ]
      },
      {
       "output_type": "stream",
       "stream": "stdout",
       "text": [
        "Epoch 2123/3000\n",
        "0s - loss: 3.2484 - val_loss: 4.1912\n"
       ]
      },
      {
       "output_type": "stream",
       "stream": "stdout",
       "text": [
        "Epoch 2124/3000\n",
        "0s - loss: 3.2940 - val_loss: 4.5260\n"
       ]
      },
      {
       "output_type": "stream",
       "stream": "stdout",
       "text": [
        "Epoch 2125/3000\n",
        "0s - loss: 3.4987 - val_loss: 4.2238\n"
       ]
      },
      {
       "output_type": "stream",
       "stream": "stdout",
       "text": [
        "Epoch 2126/3000\n",
        "0s - loss: 3.2811 - val_loss: 4.4203\n"
       ]
      },
      {
       "output_type": "stream",
       "stream": "stdout",
       "text": [
        "Epoch 2127/3000\n",
        "0s - loss: 3.5554 - val_loss: 4.3619\n"
       ]
      },
      {
       "output_type": "stream",
       "stream": "stdout",
       "text": [
        "Epoch 2128/3000\n",
        "0s - loss: 3.3240 - val_loss: 4.3154\n"
       ]
      },
      {
       "output_type": "stream",
       "stream": "stdout",
       "text": [
        "Epoch 2129/3000\n",
        "0s - loss: 3.3800 - val_loss: 4.6987\n"
       ]
      },
      {
       "output_type": "stream",
       "stream": "stdout",
       "text": [
        "Epoch 2130/3000\n",
        "0s - loss: 3.3560 - val_loss: 4.3802\n"
       ]
      },
      {
       "output_type": "stream",
       "stream": "stdout",
       "text": [
        "Epoch 2131/3000\n",
        "0s - loss: 3.4082 - val_loss: 4.3956\n"
       ]
      },
      {
       "output_type": "stream",
       "stream": "stdout",
       "text": [
        "Epoch 2132/3000\n",
        "0s - loss: 3.2875 - val_loss: 4.2773\n"
       ]
      },
      {
       "output_type": "stream",
       "stream": "stdout",
       "text": [
        "Epoch 2133/3000\n",
        "0s - loss: 3.1944 - val_loss: 4.2897\n"
       ]
      },
      {
       "output_type": "stream",
       "stream": "stdout",
       "text": [
        "Epoch 2134/3000\n",
        "0s - loss: 3.1977 - val_loss: 4.1464\n"
       ]
      },
      {
       "output_type": "stream",
       "stream": "stdout",
       "text": [
        "Epoch 2135/3000\n",
        "0s - loss: 3.1833 - val_loss: 4.4611\n"
       ]
      },
      {
       "output_type": "stream",
       "stream": "stdout",
       "text": [
        "Epoch 2136/3000\n",
        "0s - loss: 3.5352 - val_loss: 4.3129\n"
       ]
      },
      {
       "output_type": "stream",
       "stream": "stdout",
       "text": [
        "Epoch 2137/3000\n",
        "0s - loss: 3.3779 - val_loss: 4.3004\n"
       ]
      },
      {
       "output_type": "stream",
       "stream": "stdout",
       "text": [
        "Epoch 2138/3000\n",
        "0s - loss: 3.4666 - val_loss: 4.2722\n"
       ]
      },
      {
       "output_type": "stream",
       "stream": "stdout",
       "text": [
        "Epoch 2139/3000\n",
        "0s - loss: 3.3156 - val_loss: 4.1932\n"
       ]
      },
      {
       "output_type": "stream",
       "stream": "stdout",
       "text": [
        "Epoch 2140/3000\n",
        "0s - loss: 3.1467 - val_loss: 4.2806\n"
       ]
      },
      {
       "output_type": "stream",
       "stream": "stdout",
       "text": [
        "Epoch 2141/3000\n",
        "0s - loss: 3.2567 - val_loss: 4.5487\n"
       ]
      },
      {
       "output_type": "stream",
       "stream": "stdout",
       "text": [
        "Epoch 2142/3000\n",
        "0s - loss: 3.3708 - val_loss: 4.4372\n"
       ]
      },
      {
       "output_type": "stream",
       "stream": "stdout",
       "text": [
        "Epoch 2143/3000\n",
        "0s - loss: 3.3866 - val_loss: 4.4856\n",
        "Epoch 2144/3000\n",
        "0s - loss: 3.3733 - val_loss: 4.0950\n"
       ]
      },
      {
       "output_type": "stream",
       "stream": "stdout",
       "text": [
        "Epoch 2145/3000\n",
        "0s - loss: 3.1447 - val_loss: 4.1118\n"
       ]
      },
      {
       "output_type": "stream",
       "stream": "stdout",
       "text": [
        "Epoch 2146/3000\n",
        "0s - loss: 3.1496 - val_loss: 4.5243\n"
       ]
      },
      {
       "output_type": "stream",
       "stream": "stdout",
       "text": [
        "Epoch 2147/3000\n",
        "0s - loss: 3.3847 - val_loss: 4.4220\n"
       ]
      },
      {
       "output_type": "stream",
       "stream": "stdout",
       "text": [
        "Epoch 2148/3000\n",
        "0s - loss: 3.3083 - val_loss: 4.4237\n"
       ]
      },
      {
       "output_type": "stream",
       "stream": "stdout",
       "text": [
        "Epoch 2149/3000\n",
        "0s - loss: 3.3562 - val_loss: 4.6843\n"
       ]
      },
      {
       "output_type": "stream",
       "stream": "stdout",
       "text": [
        "Epoch 2150/3000\n",
        "0s - loss: 3.5495 - val_loss: 4.3742\n"
       ]
      },
      {
       "output_type": "stream",
       "stream": "stdout",
       "text": [
        "Epoch 2151/3000\n",
        "0s - loss: 3.2645 - val_loss: 4.3597\n"
       ]
      },
      {
       "output_type": "stream",
       "stream": "stdout",
       "text": [
        "Epoch 2152/3000\n",
        "0s - loss: 3.3593 - val_loss: 4.6197\n"
       ]
      },
      {
       "output_type": "stream",
       "stream": "stdout",
       "text": [
        "Epoch 2153/3000\n",
        "0s - loss: 3.5925 - val_loss: 4.2861\n"
       ]
      },
      {
       "output_type": "stream",
       "stream": "stdout",
       "text": [
        "Epoch 2154/3000\n",
        "0s - loss: 3.2734 - val_loss: 4.1717\n"
       ]
      },
      {
       "output_type": "stream",
       "stream": "stdout",
       "text": [
        "Epoch 2155/3000\n",
        "0s - loss: 3.2606 - val_loss: 4.0388\n"
       ]
      },
      {
       "output_type": "stream",
       "stream": "stdout",
       "text": [
        "Epoch 2156/3000\n",
        "0s - loss: 3.1185 - val_loss: 4.1478\n"
       ]
      },
      {
       "output_type": "stream",
       "stream": "stdout",
       "text": [
        "Epoch 2157/3000\n",
        "0s - loss: 3.2529 - val_loss: 4.4886\n"
       ]
      },
      {
       "output_type": "stream",
       "stream": "stdout",
       "text": [
        "Epoch 2158/3000\n",
        "0s - loss: 3.4177 - val_loss: 4.1840\n"
       ]
      },
      {
       "output_type": "stream",
       "stream": "stdout",
       "text": [
        "Epoch 2159/3000\n",
        "0s - loss: 3.1414 - val_loss: 4.3637\n",
        "Epoch 2160/3000\n",
        "0s - loss: 3.3173 - val_loss: 4.4829\n"
       ]
      },
      {
       "output_type": "stream",
       "stream": "stdout",
       "text": [
        "Epoch 2161/3000\n",
        "0s - loss: 3.3338 - val_loss: 4.2387\n"
       ]
      },
      {
       "output_type": "stream",
       "stream": "stdout",
       "text": [
        "Epoch 2162/3000\n",
        "0s - loss: 3.3450 - val_loss: 5.0193\n"
       ]
      },
      {
       "output_type": "stream",
       "stream": "stdout",
       "text": [
        "Epoch 2163/3000\n",
        "0s - loss: 3.9198 - val_loss: 4.1503\n"
       ]
      },
      {
       "output_type": "stream",
       "stream": "stdout",
       "text": [
        "Epoch 2164/3000\n",
        "0s - loss: 3.1384 - val_loss: 4.1230\n"
       ]
      },
      {
       "output_type": "stream",
       "stream": "stdout",
       "text": [
        "Epoch 2165/3000\n",
        "0s - loss: 3.1320 - val_loss: 4.3036\n",
        "Epoch 2166/3000"
       ]
      },
      {
       "output_type": "stream",
       "stream": "stdout",
       "text": [
        "\n",
        "0s - loss: 3.2315 - val_loss: 4.3236\n"
       ]
      },
      {
       "output_type": "stream",
       "stream": "stdout",
       "text": [
        "Epoch 2167/3000\n",
        "0s - loss: 3.1556 - val_loss: 4.3041\n"
       ]
      },
      {
       "output_type": "stream",
       "stream": "stdout",
       "text": [
        "Epoch 2168/3000\n",
        "0s - loss: 3.2962 - val_loss: 4.3075\n"
       ]
      },
      {
       "output_type": "stream",
       "stream": "stdout",
       "text": [
        "Epoch 2169/3000\n",
        "0s - loss: 3.3001 - val_loss: 4.4528\n"
       ]
      },
      {
       "output_type": "stream",
       "stream": "stdout",
       "text": [
        "Epoch 2170/3000\n",
        "0s - loss: 3.5766 - val_loss: 4.4366\n"
       ]
      },
      {
       "output_type": "stream",
       "stream": "stdout",
       "text": [
        "Epoch 2171/3000\n",
        "0s - loss: 3.4082 - val_loss: 4.2224\n"
       ]
      },
      {
       "output_type": "stream",
       "stream": "stdout",
       "text": [
        "Epoch 2172/3000\n",
        "0s - loss: 3.2696 - val_loss: 4.1653\n"
       ]
      },
      {
       "output_type": "stream",
       "stream": "stdout",
       "text": [
        "Epoch 2173/3000\n",
        "0s - loss: 3.1685 - val_loss: 4.1809\n"
       ]
      },
      {
       "output_type": "stream",
       "stream": "stdout",
       "text": [
        "Epoch 2174/3000\n",
        "0s - loss: 3.1744 - val_loss: 4.3944\n"
       ]
      },
      {
       "output_type": "stream",
       "stream": "stdout",
       "text": [
        "Epoch 2175/3000\n",
        "0s - loss: 3.3391 - val_loss: 4.4382\n",
        "Epoch 2176/3000\n",
        "0s - loss: 3.2877 - val_loss: 4.1297\n"
       ]
      },
      {
       "output_type": "stream",
       "stream": "stdout",
       "text": [
        "Epoch 2177/3000\n",
        "0s - loss: 3.0721 - val_loss: 4.2594\n"
       ]
      },
      {
       "output_type": "stream",
       "stream": "stdout",
       "text": [
        "Epoch 2178/3000\n",
        "0s - loss: 3.4443 - val_loss: 4.8147\n"
       ]
      },
      {
       "output_type": "stream",
       "stream": "stdout",
       "text": [
        "Epoch 2179/3000\n",
        "0s - loss: 3.5814 - val_loss: 4.3166\n"
       ]
      },
      {
       "output_type": "stream",
       "stream": "stdout",
       "text": [
        "Epoch 2180/3000\n",
        "0s - loss: 3.4149 - val_loss: 4.2825\n"
       ]
      },
      {
       "output_type": "stream",
       "stream": "stdout",
       "text": [
        "Epoch 2181/3000\n",
        "0s - loss: 3.3703 - val_loss: 4.1718\n"
       ]
      },
      {
       "output_type": "stream",
       "stream": "stdout",
       "text": [
        "Epoch 2182/3000\n",
        "0s - loss: 3.3369 - val_loss: 4.5881\n"
       ]
      },
      {
       "output_type": "stream",
       "stream": "stdout",
       "text": [
        "Epoch 2183/3000\n",
        "0s - loss: 3.4729 - val_loss: 4.1908\n",
        "Epoch 2184/3000\n",
        "0s - loss: 3.2802 - val_loss: 4.3367\n"
       ]
      },
      {
       "output_type": "stream",
       "stream": "stdout",
       "text": [
        "Epoch 2185/3000\n",
        "0s - loss: 3.3810 - val_loss: 4.2169\n"
       ]
      },
      {
       "output_type": "stream",
       "stream": "stdout",
       "text": [
        "Epoch 2186/3000\n",
        "0s - loss: 3.2454 - val_loss: 4.2478\n"
       ]
      },
      {
       "output_type": "stream",
       "stream": "stdout",
       "text": [
        "Epoch 2187/3000\n",
        "0s - loss: 3.1919 - val_loss: 4.1833\n"
       ]
      },
      {
       "output_type": "stream",
       "stream": "stdout",
       "text": [
        "Epoch 2188/3000\n",
        "0s - loss: 3.2277 - val_loss: 4.2088\n"
       ]
      },
      {
       "output_type": "stream",
       "stream": "stdout",
       "text": [
        "Epoch 2189/3000\n",
        "0s - loss: 3.3700 - val_loss: 4.3147\n"
       ]
      },
      {
       "output_type": "stream",
       "stream": "stdout",
       "text": [
        "Epoch 2190/3000\n",
        "0s - loss: 3.3143 - val_loss: 4.1443\n"
       ]
      },
      {
       "output_type": "stream",
       "stream": "stdout",
       "text": [
        "Epoch 2191/3000\n",
        "0s - loss: 3.1419 - val_loss: 4.3536\n"
       ]
      },
      {
       "output_type": "stream",
       "stream": "stdout",
       "text": [
        "Epoch 2192/3000\n",
        "0s - loss: 3.4559 - val_loss: 4.4416\n"
       ]
      },
      {
       "output_type": "stream",
       "stream": "stdout",
       "text": [
        "Epoch 2193/3000\n",
        "0s - loss: 3.3198 - val_loss: 4.2216\n"
       ]
      },
      {
       "output_type": "stream",
       "stream": "stdout",
       "text": [
        "Epoch 2194/3000\n",
        "0s - loss: 3.1884 - val_loss: 4.1260\n",
        "Epoch 2195/3000\n",
        "0s - loss: 3.2422 - val_loss: 4.1022\n"
       ]
      },
      {
       "output_type": "stream",
       "stream": "stdout",
       "text": [
        "Epoch 2196/3000\n",
        "0s - loss: 3.4246 - val_loss: 4.8011\n"
       ]
      },
      {
       "output_type": "stream",
       "stream": "stdout",
       "text": [
        "Epoch 2197/3000\n",
        "0s - loss: 3.6198 - val_loss: 4.5690\n"
       ]
      },
      {
       "output_type": "stream",
       "stream": "stdout",
       "text": [
        "Epoch 2198/3000\n",
        "0s - loss: 3.3545 - val_loss: 4.2457\n"
       ]
      },
      {
       "output_type": "stream",
       "stream": "stdout",
       "text": [
        "Epoch 2199/3000\n",
        "0s - loss: 3.3295 - val_loss: 4.2864\n"
       ]
      },
      {
       "output_type": "stream",
       "stream": "stdout",
       "text": [
        "Epoch 2200/3000\n",
        "0s - loss: 3.3484 - val_loss: 4.1473\n"
       ]
      },
      {
       "output_type": "stream",
       "stream": "stdout",
       "text": [
        "Epoch 2201/3000\n",
        "0s - loss: 3.1185 - val_loss: 4.1743\n",
        "Epoch 2202/3000\n",
        "0s - loss: 3.1496 - val_loss: 4.3014\n"
       ]
      },
      {
       "output_type": "stream",
       "stream": "stdout",
       "text": [
        "Epoch 2203/3000\n",
        "0s - loss: 3.2970 - val_loss: 4.2962\n"
       ]
      },
      {
       "output_type": "stream",
       "stream": "stdout",
       "text": [
        "Epoch 2204/3000\n",
        "0s - loss: 3.2108 - val_loss: 4.1141\n"
       ]
      },
      {
       "output_type": "stream",
       "stream": "stdout",
       "text": [
        "Epoch 2205/3000\n",
        "0s - loss: 3.1314 - val_loss: 4.3775\n",
        "Epoch 2206/3000\n",
        "0s - loss: 3.5163 - val_loss: 4.7651\n"
       ]
      },
      {
       "output_type": "stream",
       "stream": "stdout",
       "text": [
        "Epoch 2207/3000\n",
        "0s - loss: 3.9370 - val_loss: 4.6555\n",
        "Epoch 2208/3000\n",
        "0s - loss: 3.7018 - val_loss: 4.4261\n"
       ]
      },
      {
       "output_type": "stream",
       "stream": "stdout",
       "text": [
        "Epoch 2209/3000\n",
        "0s - loss: 3.2940 - val_loss: 4.2656\n"
       ]
      },
      {
       "output_type": "stream",
       "stream": "stdout",
       "text": [
        "Epoch 2210/3000\n",
        "0s - loss: 3.1908 - val_loss: 4.3563\n"
       ]
      },
      {
       "output_type": "stream",
       "stream": "stdout",
       "text": [
        "Epoch 2211/3000\n",
        "0s - loss: 3.1619 - val_loss: 4.1431\n"
       ]
      },
      {
       "output_type": "stream",
       "stream": "stdout",
       "text": [
        "Epoch 2212/3000\n",
        "0s - loss: 3.0281 - val_loss: 4.1069\n"
       ]
      },
      {
       "output_type": "stream",
       "stream": "stdout",
       "text": [
        "Epoch 2213/3000\n",
        "0s - loss: 3.0981 - val_loss: 4.2087\n"
       ]
      },
      {
       "output_type": "stream",
       "stream": "stdout",
       "text": [
        "Epoch 2214/3000\n",
        "0s - loss: 3.2715 - val_loss: 4.3262\n"
       ]
      },
      {
       "output_type": "stream",
       "stream": "stdout",
       "text": [
        "Epoch 2215/3000\n",
        "0s - loss: 3.6102 - val_loss: 4.5721\n",
        "Epoch 2216/3000\n",
        "0s - loss: 3.6070 - val_loss: 4.3719\n"
       ]
      },
      {
       "output_type": "stream",
       "stream": "stdout",
       "text": [
        "Epoch 2217/3000\n",
        "0s - loss: 3.2933 - val_loss: 4.1399\n"
       ]
      },
      {
       "output_type": "stream",
       "stream": "stdout",
       "text": [
        "Epoch 2218/3000\n",
        "0s - loss: 3.1402 - val_loss: 4.4161\n"
       ]
      },
      {
       "output_type": "stream",
       "stream": "stdout",
       "text": [
        "Epoch 2219/3000\n",
        "0s - loss: 3.2682 - val_loss: 4.2334\n"
       ]
      },
      {
       "output_type": "stream",
       "stream": "stdout",
       "text": [
        "Epoch 2220/3000\n",
        "0s - loss: 3.2404 - val_loss: 4.1814\n"
       ]
      },
      {
       "output_type": "stream",
       "stream": "stdout",
       "text": [
        "Epoch 2221/3000\n",
        "0s - loss: 3.1833 - val_loss: 4.3448\n"
       ]
      },
      {
       "output_type": "stream",
       "stream": "stdout",
       "text": [
        "Epoch 2222/3000\n",
        "0s - loss: 3.2879 - val_loss: 4.3347\n"
       ]
      },
      {
       "output_type": "stream",
       "stream": "stdout",
       "text": [
        "Epoch 2223/3000\n",
        "0s - loss: 3.2864 - val_loss: 4.4823\n"
       ]
      },
      {
       "output_type": "stream",
       "stream": "stdout",
       "text": [
        "Epoch 2224/3000\n",
        "0s - loss: 3.6560 - val_loss: 4.6221\n"
       ]
      },
      {
       "output_type": "stream",
       "stream": "stdout",
       "text": [
        "Epoch 2225/3000\n",
        "0s - loss: 3.4527 - val_loss: 4.2708\n"
       ]
      },
      {
       "output_type": "stream",
       "stream": "stdout",
       "text": [
        "Epoch 2226/3000\n",
        "0s - loss: 3.2871 - val_loss: 4.1610\n",
        "Epoch 2227/3000\n",
        "0s - loss: 3.2370 - val_loss: 4.1366\n"
       ]
      },
      {
       "output_type": "stream",
       "stream": "stdout",
       "text": [
        "Epoch 2228/3000\n",
        "0s - loss: 3.2031 - val_loss: 4.1888\n"
       ]
      },
      {
       "output_type": "stream",
       "stream": "stdout",
       "text": [
        "Epoch 2229/3000\n",
        "0s - loss: 3.1419 - val_loss: 4.4141\n"
       ]
      },
      {
       "output_type": "stream",
       "stream": "stdout",
       "text": [
        "Epoch 2230/3000\n",
        "0s - loss: 3.2998 - val_loss: 4.3781\n"
       ]
      },
      {
       "output_type": "stream",
       "stream": "stdout",
       "text": [
        "Epoch 2231/3000\n",
        "0s - loss: 3.2370 - val_loss: 4.2342\n"
       ]
      },
      {
       "output_type": "stream",
       "stream": "stdout",
       "text": [
        "Epoch 2232/3000\n",
        "0s - loss: 3.4199 - val_loss: 4.9457\n"
       ]
      },
      {
       "output_type": "stream",
       "stream": "stdout",
       "text": [
        "Epoch 2233/3000\n",
        "0s - loss: 3.6530 - val_loss: 4.3807\n"
       ]
      },
      {
       "output_type": "stream",
       "stream": "stdout",
       "text": [
        "Epoch 2234/3000\n",
        "0s - loss: 3.3380 - val_loss: 4.4107\n"
       ]
      },
      {
       "output_type": "stream",
       "stream": "stdout",
       "text": [
        "Epoch 2235/3000\n",
        "0s - loss: 3.2386 - val_loss: 4.1496\n"
       ]
      },
      {
       "output_type": "stream",
       "stream": "stdout",
       "text": [
        "Epoch 2236/3000\n",
        "0s - loss: 3.1410 - val_loss: 4.3025\n"
       ]
      },
      {
       "output_type": "stream",
       "stream": "stdout",
       "text": [
        "Epoch 2237/3000\n",
        "0s - loss: 3.2073 - val_loss: 4.2937\n"
       ]
      },
      {
       "output_type": "stream",
       "stream": "stdout",
       "text": [
        "Epoch 2238/3000\n",
        "0s - loss: 3.2442 - val_loss: 4.2343\n"
       ]
      },
      {
       "output_type": "stream",
       "stream": "stdout",
       "text": [
        "Epoch 2239/3000\n",
        "0s - loss: 3.2633 - val_loss: 4.2702\n"
       ]
      },
      {
       "output_type": "stream",
       "stream": "stdout",
       "text": [
        "Epoch 2240/3000\n",
        "0s - loss: 3.3891 - val_loss: 4.3727\n",
        "Epoch 2241/3000\n",
        "0s - loss: 3.5836 - val_loss: 4.4737\n"
       ]
      },
      {
       "output_type": "stream",
       "stream": "stdout",
       "text": [
        "Epoch 2242/3000\n",
        "0s - loss: 3.4993 - val_loss: 4.6498\n"
       ]
      },
      {
       "output_type": "stream",
       "stream": "stdout",
       "text": [
        "Epoch 2243/3000\n",
        "0s - loss: 3.6341 - val_loss: 4.3672\n"
       ]
      },
      {
       "output_type": "stream",
       "stream": "stdout",
       "text": [
        "Epoch 2244/3000\n",
        "0s - loss: 3.2294 - val_loss: 4.1913\n",
        "Epoch 2245/3000\n",
        "0s - loss: 3.1670 - val_loss: 4.2100\n"
       ]
      },
      {
       "output_type": "stream",
       "stream": "stdout",
       "text": [
        "Epoch 2246/3000\n",
        "0s - loss: 3.2216 - val_loss: 4.1847\n",
        "Epoch 2247/3000\n",
        "0s - loss: 3.1526 - val_loss: 4.2589\n"
       ]
      },
      {
       "output_type": "stream",
       "stream": "stdout",
       "text": [
        "Epoch 2248/3000\n",
        "0s - loss: 3.1865 - val_loss: 4.4665\n"
       ]
      },
      {
       "output_type": "stream",
       "stream": "stdout",
       "text": [
        "Epoch 2249/3000\n",
        "0s - loss: 3.2993 - val_loss: 4.3339\n"
       ]
      },
      {
       "output_type": "stream",
       "stream": "stdout",
       "text": [
        "Epoch 2250/3000\n",
        "0s - loss: 3.2361 - val_loss: 4.2930\n"
       ]
      },
      {
       "output_type": "stream",
       "stream": "stdout",
       "text": [
        "Epoch 2251/3000\n",
        "0s - loss: 3.2594 - val_loss: 4.5381\n",
        "Epoch 2252/3000\n",
        "0s - loss: 3.5365 - val_loss: 4.3451\n"
       ]
      },
      {
       "output_type": "stream",
       "stream": "stdout",
       "text": [
        "Epoch 2253/3000\n",
        "0s - loss: 3.4010 - val_loss: 4.6162\n"
       ]
      },
      {
       "output_type": "stream",
       "stream": "stdout",
       "text": [
        "Epoch 2254/3000\n",
        "0s - loss: 3.3902 - val_loss: 4.2308\n",
        "Epoch 2255/3000\n",
        "0s - loss: 3.1477 - val_loss: 4.1044\n"
       ]
      },
      {
       "output_type": "stream",
       "stream": "stdout",
       "text": [
        "Epoch 2256/3000\n",
        "0s - loss: 3.2074 - val_loss: 4.5540\n"
       ]
      },
      {
       "output_type": "stream",
       "stream": "stdout",
       "text": [
        "Epoch 2257/3000\n",
        "0s - loss: 3.6158 - val_loss: 4.1194\n",
        "Epoch 2258/3000\n",
        "0s - loss: 3.1378 - val_loss: 4.0530\n"
       ]
      },
      {
       "output_type": "stream",
       "stream": "stdout",
       "text": [
        "Epoch 2259/3000\n",
        "0s - loss: 3.0688 - val_loss: 4.1769\n"
       ]
      },
      {
       "output_type": "stream",
       "stream": "stdout",
       "text": [
        "Epoch 2260/3000\n",
        "0s - loss: 3.2653 - val_loss: 4.2764\n"
       ]
      },
      {
       "output_type": "stream",
       "stream": "stdout",
       "text": [
        "Epoch 2261/3000\n",
        "0s - loss: 3.2048 - val_loss: 4.4254\n"
       ]
      },
      {
       "output_type": "stream",
       "stream": "stdout",
       "text": [
        "Epoch 2262/3000\n",
        "0s - loss: 3.3042 - val_loss: 4.7062\n"
       ]
      },
      {
       "output_type": "stream",
       "stream": "stdout",
       "text": [
        "Epoch 2263/3000\n",
        "0s - loss: 3.4691 - val_loss: 4.7990\n"
       ]
      },
      {
       "output_type": "stream",
       "stream": "stdout",
       "text": [
        "Epoch 2264/3000\n",
        "0s - loss: 3.7154 - val_loss: 4.5281\n",
        "Epoch 2265/3000\n",
        "0s - loss: 3.3126 - val_loss: 4.3410\n"
       ]
      },
      {
       "output_type": "stream",
       "stream": "stdout",
       "text": [
        "Epoch 2266/3000\n",
        "0s - loss: 3.2050 - val_loss: 4.1930\n"
       ]
      },
      {
       "output_type": "stream",
       "stream": "stdout",
       "text": [
        "Epoch 2267/3000\n",
        "0s - loss: 3.1374 - val_loss: 4.2939\n"
       ]
      },
      {
       "output_type": "stream",
       "stream": "stdout",
       "text": [
        "Epoch 2268/3000\n",
        "0s - loss: 3.2119 - val_loss: 4.3315\n"
       ]
      },
      {
       "output_type": "stream",
       "stream": "stdout",
       "text": [
        "Epoch 2269/3000\n",
        "0s - loss: 3.2805 - val_loss: 4.3494\n"
       ]
      },
      {
       "output_type": "stream",
       "stream": "stdout",
       "text": [
        "Epoch 2270/3000\n",
        "0s - loss: 3.2588 - val_loss: 4.1260\n"
       ]
      },
      {
       "output_type": "stream",
       "stream": "stdout",
       "text": [
        "Epoch 2271/3000\n",
        "0s - loss: 3.1449 - val_loss: 4.3330\n",
        "Epoch 2272/3000\n",
        "0s - loss: 3.3404 - val_loss: 4.3025\n"
       ]
      },
      {
       "output_type": "stream",
       "stream": "stdout",
       "text": [
        "Epoch 2273/3000\n",
        "0s - loss: 3.2806 - val_loss: 4.5536\n"
       ]
      },
      {
       "output_type": "stream",
       "stream": "stdout",
       "text": [
        "Epoch 2274/3000\n",
        "0s - loss: 3.8014 - val_loss: 4.5383\n"
       ]
      },
      {
       "output_type": "stream",
       "stream": "stdout",
       "text": [
        "Epoch 2275/3000\n",
        "0s - loss: 3.6031 - val_loss: 4.3412\n"
       ]
      },
      {
       "output_type": "stream",
       "stream": "stdout",
       "text": [
        "Epoch 2276/3000\n",
        "0s - loss: 3.4077 - val_loss: 4.0725\n",
        "Epoch 2277/3000\n",
        "0s - loss: 3.2339 - val_loss: 4.1167\n"
       ]
      },
      {
       "output_type": "stream",
       "stream": "stdout",
       "text": [
        "Epoch 2278/3000\n",
        "0s - loss: 3.1231 - val_loss: 4.0685\n"
       ]
      },
      {
       "output_type": "stream",
       "stream": "stdout",
       "text": [
        "Epoch 2279/3000\n",
        "0s - loss: 3.0540 - val_loss: 4.1035\n"
       ]
      },
      {
       "output_type": "stream",
       "stream": "stdout",
       "text": [
        "Epoch 2280/3000\n",
        "0s - loss: 3.1437 - val_loss: 4.2820\n"
       ]
      },
      {
       "output_type": "stream",
       "stream": "stdout",
       "text": [
        "Epoch 2281/3000\n",
        "0s - loss: 3.2671 - val_loss: 4.3293\n"
       ]
      },
      {
       "output_type": "stream",
       "stream": "stdout",
       "text": [
        "Epoch 2282/3000\n",
        "0s - loss: 3.4212 - val_loss: 4.4071\n"
       ]
      },
      {
       "output_type": "stream",
       "stream": "stdout",
       "text": [
        "Epoch 2283/3000\n",
        "0s - loss: 3.4622 - val_loss: 4.3222\n"
       ]
      },
      {
       "output_type": "stream",
       "stream": "stdout",
       "text": [
        "Epoch 2284/3000\n",
        "0s - loss: 3.2777 - val_loss: 4.2509\n"
       ]
      },
      {
       "output_type": "stream",
       "stream": "stdout",
       "text": [
        "Epoch 2285/3000\n",
        "0s - loss: 3.1083 - val_loss: 4.2596\n"
       ]
      },
      {
       "output_type": "stream",
       "stream": "stdout",
       "text": [
        "Epoch 2286/3000\n",
        "0s - loss: 3.3577 - val_loss: 4.6456\n"
       ]
      },
      {
       "output_type": "stream",
       "stream": "stdout",
       "text": [
        "Epoch 2287/3000\n",
        "0s - loss: 3.6272 - val_loss: 4.2629\n"
       ]
      },
      {
       "output_type": "stream",
       "stream": "stdout",
       "text": [
        "Epoch 2288/3000\n",
        "0s - loss: 3.1832 - val_loss: 4.3226\n"
       ]
      },
      {
       "output_type": "stream",
       "stream": "stdout",
       "text": [
        "Epoch 2289/3000\n",
        "0s - loss: 3.2362 - val_loss: 4.2572\n",
        "Epoch 2290/3000\n",
        "0s - loss: 3.2111 - val_loss: 4.2598\n"
       ]
      },
      {
       "output_type": "stream",
       "stream": "stdout",
       "text": [
        "Epoch 2291/3000\n",
        "0s - loss: 3.3078 - val_loss: 4.3149\n"
       ]
      },
      {
       "output_type": "stream",
       "stream": "stdout",
       "text": [
        "Epoch 2292/3000\n",
        "0s - loss: 3.2390 - val_loss: 4.4474\n"
       ]
      },
      {
       "output_type": "stream",
       "stream": "stdout",
       "text": [
        "Epoch 2293/3000\n",
        "0s - loss: 3.2634 - val_loss: 4.3774\n"
       ]
      },
      {
       "output_type": "stream",
       "stream": "stdout",
       "text": [
        "Epoch 2294/3000\n",
        "0s - loss: 3.1752 - val_loss: 4.2693\n"
       ]
      },
      {
       "output_type": "stream",
       "stream": "stdout",
       "text": [
        "Epoch 2295/3000\n",
        "0s - loss: 3.3113 - val_loss: 4.2896\n"
       ]
      },
      {
       "output_type": "stream",
       "stream": "stdout",
       "text": [
        "Epoch 2296/3000\n",
        "0s - loss: 3.3085 - val_loss: 4.2034\n"
       ]
      },
      {
       "output_type": "stream",
       "stream": "stdout",
       "text": [
        "Epoch 2297/3000\n",
        "0s - loss: 3.2639 - val_loss: 4.4189\n"
       ]
      },
      {
       "output_type": "stream",
       "stream": "stdout",
       "text": [
        "Epoch 2298/3000\n",
        "0s - loss: 3.4439 - val_loss: 4.2687\n"
       ]
      },
      {
       "output_type": "stream",
       "stream": "stdout",
       "text": [
        "Epoch 2299/3000\n",
        "0s - loss: 3.2043 - val_loss: 4.3329\n"
       ]
      },
      {
       "output_type": "stream",
       "stream": "stdout",
       "text": [
        "Epoch 2300/3000\n",
        "0s - loss: 3.3388 - val_loss: 4.4521\n"
       ]
      },
      {
       "output_type": "stream",
       "stream": "stdout",
       "text": [
        "Epoch 2301/3000\n",
        "0s - loss: 3.2688 - val_loss: 4.3232\n"
       ]
      },
      {
       "output_type": "stream",
       "stream": "stdout",
       "text": [
        "Epoch 2302/3000\n",
        "0s - loss: 3.4231 - val_loss: 4.6425\n",
        "Epoch 2303/3000\n",
        "0s - loss: 3.4577 - val_loss: 4.5154\n"
       ]
      },
      {
       "output_type": "stream",
       "stream": "stdout",
       "text": [
        "Epoch 2304/3000\n",
        "0s - loss: 3.4508 - val_loss: 4.4488\n",
        "Epoch 2305/3000\n",
        "0s - loss: 3.3918 - val_loss: 4.1402\n"
       ]
      },
      {
       "output_type": "stream",
       "stream": "stdout",
       "text": [
        "Epoch 2306/3000\n",
        "0s - loss: 3.1546 - val_loss: 4.2017\n",
        "Epoch 2307/3000\n",
        "0s - loss: 3.2158 - val_loss: 4.2795\n"
       ]
      },
      {
       "output_type": "stream",
       "stream": "stdout",
       "text": [
        "Epoch 2308/3000\n",
        "0s - loss: 3.1922 - val_loss: 4.3810\n",
        "Epoch 2309/3000\n",
        "0s - loss: 3.2583 - val_loss: 4.3577\n"
       ]
      },
      {
       "output_type": "stream",
       "stream": "stdout",
       "text": [
        "Epoch 2310/3000\n",
        "0s - loss: 3.1824 - val_loss: 4.0750\n"
       ]
      },
      {
       "output_type": "stream",
       "stream": "stdout",
       "text": [
        "Epoch 2311/3000\n",
        "0s - loss: 3.1300 - val_loss: 4.2556\n"
       ]
      },
      {
       "output_type": "stream",
       "stream": "stdout",
       "text": [
        "Epoch 2312/3000\n",
        "0s - loss: 3.3161 - val_loss: 4.4434\n",
        "Epoch 2313/3000\n",
        "0s - loss: 3.3746 - val_loss: 4.3948\n"
       ]
      },
      {
       "output_type": "stream",
       "stream": "stdout",
       "text": [
        "Epoch 2314/3000\n",
        "0s - loss: 3.4173 - val_loss: 4.6208\n"
       ]
      },
      {
       "output_type": "stream",
       "stream": "stdout",
       "text": [
        "Epoch 2315/3000\n",
        "0s - loss: 3.4769 - val_loss: 4.2423\n"
       ]
      },
      {
       "output_type": "stream",
       "stream": "stdout",
       "text": [
        "Epoch 2316/3000\n",
        "0s - loss: 3.1957 - val_loss: 4.2577\n"
       ]
      },
      {
       "output_type": "stream",
       "stream": "stdout",
       "text": [
        "Epoch 2317/3000\n",
        "0s - loss: 3.2242 - val_loss: 4.6828\n"
       ]
      },
      {
       "output_type": "stream",
       "stream": "stdout",
       "text": [
        "Epoch 2318/3000\n",
        "0s - loss: 3.5005 - val_loss: 4.3742\n"
       ]
      },
      {
       "output_type": "stream",
       "stream": "stdout",
       "text": [
        "Epoch 2319/3000\n",
        "0s - loss: 3.1900 - val_loss: 4.1598\n"
       ]
      },
      {
       "output_type": "stream",
       "stream": "stdout",
       "text": [
        "Epoch 2320/3000\n",
        "0s - loss: 3.2286 - val_loss: 4.4899\n"
       ]
      },
      {
       "output_type": "stream",
       "stream": "stdout",
       "text": [
        "Epoch 2321/3000\n",
        "0s - loss: 3.5025 - val_loss: 4.2598\n"
       ]
      },
      {
       "output_type": "stream",
       "stream": "stdout",
       "text": [
        "Epoch 2322/3000\n",
        "0s - loss: 3.2700 - val_loss: 4.1331\n"
       ]
      },
      {
       "output_type": "stream",
       "stream": "stdout",
       "text": [
        "Epoch 2323/3000\n",
        "0s - loss: 3.1061 - val_loss: 4.2212\n",
        "Epoch 2324/3000\n",
        "0s - loss: 3.3082 - val_loss: 4.3652\n"
       ]
      },
      {
       "output_type": "stream",
       "stream": "stdout",
       "text": [
        "Epoch 2325/3000\n",
        "0s - loss: 3.3711 - val_loss: 4.3574\n"
       ]
      },
      {
       "output_type": "stream",
       "stream": "stdout",
       "text": [
        "Epoch 2326/3000\n",
        "0s - loss: 3.3612 - val_loss: 4.1996\n",
        "Epoch 2327/3000\n",
        "0s - loss: 3.1503 - val_loss: 4.0939\n"
       ]
      },
      {
       "output_type": "stream",
       "stream": "stdout",
       "text": [
        "Epoch 2328/3000\n",
        "0s - loss: 3.1259 - val_loss: 4.2088\n"
       ]
      },
      {
       "output_type": "stream",
       "stream": "stdout",
       "text": [
        "Epoch 2329/3000\n",
        "0s - loss: 3.2803 - val_loss: 4.3336\n"
       ]
      },
      {
       "output_type": "stream",
       "stream": "stdout",
       "text": [
        "Epoch 2330/3000\n",
        "0s - loss: 3.4869 - val_loss: 4.6566\n"
       ]
      },
      {
       "output_type": "stream",
       "stream": "stdout",
       "text": [
        "Epoch 2331/3000\n",
        "0s - loss: 3.4663 - val_loss: 4.4990\n"
       ]
      },
      {
       "output_type": "stream",
       "stream": "stdout",
       "text": [
        "Epoch 2332/3000\n",
        "0s - loss: 3.4625 - val_loss: 4.5549\n"
       ]
      },
      {
       "output_type": "stream",
       "stream": "stdout",
       "text": [
        "Epoch 2333/3000\n",
        "0s - loss: 3.3032 - val_loss: 4.2852\n"
       ]
      },
      {
       "output_type": "stream",
       "stream": "stdout",
       "text": [
        "Epoch 2334/3000\n",
        "0s - loss: 3.1500 - val_loss: 4.2892\n"
       ]
      },
      {
       "output_type": "stream",
       "stream": "stdout",
       "text": [
        "Epoch 2335/3000\n",
        "0s - loss: 3.2247 - val_loss: 4.3309\n"
       ]
      },
      {
       "output_type": "stream",
       "stream": "stdout",
       "text": [
        "Epoch 2336/3000\n",
        "0s - loss: 3.2304 - val_loss: 4.5173\n"
       ]
      },
      {
       "output_type": "stream",
       "stream": "stdout",
       "text": [
        "Epoch 2337/3000\n",
        "0s - loss: 3.4300 - val_loss: 4.7737\n"
       ]
      },
      {
       "output_type": "stream",
       "stream": "stdout",
       "text": [
        "Epoch 2338/3000\n",
        "0s - loss: 3.8838 - val_loss: 4.4251\n"
       ]
      },
      {
       "output_type": "stream",
       "stream": "stdout",
       "text": [
        "Epoch 2339/3000\n",
        "0s - loss: 3.3230 - val_loss: 4.3272\n"
       ]
      },
      {
       "output_type": "stream",
       "stream": "stdout",
       "text": [
        "Epoch 2340/3000\n",
        "0s - loss: 3.2323 - val_loss: 4.2429\n"
       ]
      },
      {
       "output_type": "stream",
       "stream": "stdout",
       "text": [
        "Epoch 2341/3000\n",
        "0s - loss: 3.1746 - val_loss: 4.1486\n"
       ]
      },
      {
       "output_type": "stream",
       "stream": "stdout",
       "text": [
        "Epoch 2342/3000\n",
        "0s - loss: 3.0696 - val_loss: 4.0429\n"
       ]
      },
      {
       "output_type": "stream",
       "stream": "stdout",
       "text": [
        "Epoch 2343/3000\n",
        "0s - loss: 3.1003 - val_loss: 4.3285\n"
       ]
      },
      {
       "output_type": "stream",
       "stream": "stdout",
       "text": [
        "Epoch 2344/3000\n",
        "0s - loss: 3.2674 - val_loss: 4.1666\n"
       ]
      },
      {
       "output_type": "stream",
       "stream": "stdout",
       "text": [
        "Epoch 2345/3000\n",
        "0s - loss: 3.1658 - val_loss: 4.4551\n"
       ]
      },
      {
       "output_type": "stream",
       "stream": "stdout",
       "text": [
        "Epoch 2346/3000\n",
        "0s - loss: 3.4929 - val_loss: 5.1383\n"
       ]
      },
      {
       "output_type": "stream",
       "stream": "stdout",
       "text": [
        "Epoch 2347/3000\n",
        "0s - loss: 3.6829 - val_loss: 4.2979\n"
       ]
      },
      {
       "output_type": "stream",
       "stream": "stdout",
       "text": [
        "Epoch 2348/3000\n",
        "0s - loss: 3.3106 - val_loss: 4.3093\n"
       ]
      },
      {
       "output_type": "stream",
       "stream": "stdout",
       "text": [
        "Epoch 2349/3000\n",
        "0s - loss: 3.1964 - val_loss: 4.1807\n"
       ]
      },
      {
       "output_type": "stream",
       "stream": "stdout",
       "text": [
        "Epoch 2350/3000\n",
        "0s - loss: 3.1765 - val_loss: 4.6157\n"
       ]
      },
      {
       "output_type": "stream",
       "stream": "stdout",
       "text": [
        "Epoch 2351/3000\n",
        "0s - loss: 3.3576 - val_loss: 4.1723\n"
       ]
      },
      {
       "output_type": "stream",
       "stream": "stdout",
       "text": [
        "Epoch 2352/3000\n",
        "0s - loss: 3.2004 - val_loss: 4.3714\n"
       ]
      },
      {
       "output_type": "stream",
       "stream": "stdout",
       "text": [
        "Epoch 2353/3000\n",
        "0s - loss: 3.2737 - val_loss: 4.2550\n",
        "Epoch 2354/3000\n",
        "0s - loss: 3.2166 - val_loss: 4.4278\n"
       ]
      },
      {
       "output_type": "stream",
       "stream": "stdout",
       "text": [
        "Epoch 2355/3000\n",
        "0s - loss: 3.4760 - val_loss: 4.4380\n"
       ]
      },
      {
       "output_type": "stream",
       "stream": "stdout",
       "text": [
        "Epoch 2356/3000\n",
        "0s - loss: 3.2993 - val_loss: 4.1772\n"
       ]
      },
      {
       "output_type": "stream",
       "stream": "stdout",
       "text": [
        "Epoch 2357/3000\n",
        "0s - loss: 3.1359 - val_loss: 4.2346\n"
       ]
      },
      {
       "output_type": "stream",
       "stream": "stdout",
       "text": [
        "Epoch 2358/3000\n",
        "0s - loss: 3.2370 - val_loss: 4.1351\n"
       ]
      },
      {
       "output_type": "stream",
       "stream": "stdout",
       "text": [
        "Epoch 2359/3000\n",
        "0s - loss: 3.3508 - val_loss: 4.3300\n"
       ]
      },
      {
       "output_type": "stream",
       "stream": "stdout",
       "text": [
        "Epoch 2360/3000\n",
        "0s - loss: 3.3584 - val_loss: 4.1765\n"
       ]
      },
      {
       "output_type": "stream",
       "stream": "stdout",
       "text": [
        "Epoch 2361/3000\n",
        "0s - loss: 3.1715 - val_loss: 4.2580\n"
       ]
      },
      {
       "output_type": "stream",
       "stream": "stdout",
       "text": [
        "Epoch 2362/3000\n",
        "0s - loss: 3.3473 - val_loss: 4.4031\n"
       ]
      },
      {
       "output_type": "stream",
       "stream": "stdout",
       "text": [
        "Epoch 2363/3000\n",
        "0s - loss: 3.3663 - val_loss: 4.6762\n"
       ]
      },
      {
       "output_type": "stream",
       "stream": "stdout",
       "text": [
        "Epoch 2364/3000\n",
        "0s - loss: 3.5322 - val_loss: 4.5825\n",
        "Epoch 2365/3000\n",
        "0s - loss: 3.4405 - val_loss: 4.2566\n"
       ]
      },
      {
       "output_type": "stream",
       "stream": "stdout",
       "text": [
        "Epoch 2366/3000\n",
        "0s - loss: 3.1999 - val_loss: 4.0850\n",
        "Epoch 2367/3000\n",
        "0s - loss: 3.1024 - val_loss: 4.1978\n"
       ]
      },
      {
       "output_type": "stream",
       "stream": "stdout",
       "text": [
        "Epoch 2368/3000\n",
        "0s - loss: 3.1630 - val_loss: 4.2005\n"
       ]
      },
      {
       "output_type": "stream",
       "stream": "stdout",
       "text": [
        "Epoch 2369/3000\n",
        "0s - loss: 3.2290 - val_loss: 4.2323\n"
       ]
      },
      {
       "output_type": "stream",
       "stream": "stdout",
       "text": [
        "Epoch 2370/3000\n",
        "0s - loss: 3.2343 - val_loss: 4.1913\n"
       ]
      },
      {
       "output_type": "stream",
       "stream": "stdout",
       "text": [
        "Epoch 2371/3000\n",
        "0s - loss: 3.3119 - val_loss: 4.3839\n"
       ]
      },
      {
       "output_type": "stream",
       "stream": "stdout",
       "text": [
        "Epoch 2372/3000\n",
        "0s - loss: 3.3591 - val_loss: 4.7442\n",
        "Epoch 2373/3000\n",
        "0s - loss: 3.6485 - val_loss: 4.5107\n"
       ]
      },
      {
       "output_type": "stream",
       "stream": "stdout",
       "text": [
        "Epoch 2374/3000\n",
        "0s - loss: 3.2330 - val_loss: 4.3524\n"
       ]
      },
      {
       "output_type": "stream",
       "stream": "stdout",
       "text": [
        "Epoch 2375/3000\n",
        "0s - loss: 3.2727 - val_loss: 4.4435\n",
        "Epoch 2376/3000\n",
        "0s - loss: 3.2225 - val_loss: 4.0754\n"
       ]
      },
      {
       "output_type": "stream",
       "stream": "stdout",
       "text": [
        "Epoch 2377/3000\n",
        "0s - loss: 3.0071 - val_loss: 4.0164\n",
        "Epoch 2378/3000\n",
        "0s - loss: 3.0155 - val_loss: 4.1795\n"
       ]
      },
      {
       "output_type": "stream",
       "stream": "stdout",
       "text": [
        "Epoch 2379/3000\n",
        "0s - loss: 3.2019 - val_loss: 4.4351\n",
        "Epoch 2380/3000\n",
        "0s - loss: 3.4482 - val_loss: 4.4648\n"
       ]
      },
      {
       "output_type": "stream",
       "stream": "stdout",
       "text": [
        "Epoch 2381/3000\n",
        "0s - loss: 3.5426 - val_loss: 4.3833\n"
       ]
      },
      {
       "output_type": "stream",
       "stream": "stdout",
       "text": [
        "Epoch 2382/3000\n",
        "0s - loss: 3.3270 - val_loss: 4.4683\n"
       ]
      },
      {
       "output_type": "stream",
       "stream": "stdout",
       "text": [
        "Epoch 2383/3000\n",
        "0s - loss: 3.3621 - val_loss: 4.2481\n"
       ]
      },
      {
       "output_type": "stream",
       "stream": "stdout",
       "text": [
        "Epoch 2384/3000\n",
        "0s - loss: 3.2759 - val_loss: 4.2772\n"
       ]
      },
      {
       "output_type": "stream",
       "stream": "stdout",
       "text": [
        "Epoch 2385/3000\n",
        "0s - loss: 3.2090 - val_loss: 4.1898\n"
       ]
      },
      {
       "output_type": "stream",
       "stream": "stdout",
       "text": [
        "Epoch 2386/3000\n",
        "0s - loss: 3.1535 - val_loss: 4.3341\n"
       ]
      },
      {
       "output_type": "stream",
       "stream": "stdout",
       "text": [
        "Epoch 2387/3000\n",
        "0s - loss: 3.2353 - val_loss: 4.3143\n",
        "Epoch 2388/3000\n",
        "0s - loss: 3.1536 - val_loss: 4.0998\n"
       ]
      },
      {
       "output_type": "stream",
       "stream": "stdout",
       "text": [
        "Epoch 2389/3000\n",
        "0s - loss: 3.1150 - val_loss: 4.6025\n"
       ]
      },
      {
       "output_type": "stream",
       "stream": "stdout",
       "text": [
        "Epoch 2390/3000\n",
        "0s - loss: 3.6357 - val_loss: 4.5580\n",
        "Epoch 2391/3000\n",
        "0s - loss: 3.5265 - val_loss: 4.4043\n"
       ]
      },
      {
       "output_type": "stream",
       "stream": "stdout",
       "text": [
        "Epoch 2392/3000\n",
        "0s - loss: 3.5215 - val_loss: 4.1393\n",
        "Epoch 2393/3000\n",
        "0s - loss: 3.1844 - val_loss: 4.1281\n"
       ]
      },
      {
       "output_type": "stream",
       "stream": "stdout",
       "text": [
        "Epoch 2394/3000\n",
        "0s - loss: 3.1367 - val_loss: 4.1823\n",
        "Epoch 2395/3000\n",
        "0s - loss: 3.1307 - val_loss: 4.0616\n"
       ]
      },
      {
       "output_type": "stream",
       "stream": "stdout",
       "text": [
        "Epoch 2396/3000\n",
        "0s - loss: 3.0642 - val_loss: 4.1863\n",
        "Epoch 2397/3000\n",
        "0s - loss: 3.2319 - val_loss: 4.4586\n"
       ]
      },
      {
       "output_type": "stream",
       "stream": "stdout",
       "text": [
        "Epoch 2398/3000\n",
        "0s - loss: 3.3862 - val_loss: 4.4120\n",
        "Epoch 2399/3000\n",
        "0s - loss: 3.5112 - val_loss: 4.8324\n"
       ]
      },
      {
       "output_type": "stream",
       "stream": "stdout",
       "text": [
        "Epoch 2400/3000\n",
        "0s - loss: 3.5053 - val_loss: 4.3086\n"
       ]
      },
      {
       "output_type": "stream",
       "stream": "stdout",
       "text": [
        "Epoch 2401/3000\n",
        "0s - loss: 3.3983 - val_loss: 4.2234\n"
       ]
      },
      {
       "output_type": "stream",
       "stream": "stdout",
       "text": [
        "Epoch 2402/3000\n",
        "0s - loss: 3.2256 - val_loss: 4.1634\n",
        "Epoch 2403/3000\n",
        "0s - loss: 3.1791 - val_loss: 4.1700\n"
       ]
      },
      {
       "output_type": "stream",
       "stream": "stdout",
       "text": [
        "Epoch 2404/3000\n",
        "0s - loss: 3.1265 - val_loss: 4.1132\n"
       ]
      },
      {
       "output_type": "stream",
       "stream": "stdout",
       "text": [
        "Epoch 2405/3000\n",
        "0s - loss: 3.2272 - val_loss: 4.2603\n"
       ]
      },
      {
       "output_type": "stream",
       "stream": "stdout",
       "text": [
        "Epoch 2406/3000\n",
        "0s - loss: 3.3434 - val_loss: 4.2368\n"
       ]
      },
      {
       "output_type": "stream",
       "stream": "stdout",
       "text": [
        "Epoch 2407/3000\n",
        "0s - loss: 3.1763 - val_loss: 4.3235\n"
       ]
      },
      {
       "output_type": "stream",
       "stream": "stdout",
       "text": [
        "Epoch 2408/3000\n",
        "0s - loss: 3.1843 - val_loss: 4.3740\n"
       ]
      },
      {
       "output_type": "stream",
       "stream": "stdout",
       "text": [
        "Epoch 2409/3000\n",
        "0s - loss: 3.3100 - val_loss: 4.4344\n"
       ]
      },
      {
       "output_type": "stream",
       "stream": "stdout",
       "text": [
        "Epoch 2410/3000\n",
        "0s - loss: 3.3596 - val_loss: 4.4450\n"
       ]
      },
      {
       "output_type": "stream",
       "stream": "stdout",
       "text": [
        "Epoch 2411/3000\n",
        "0s - loss: 3.4019 - val_loss: 4.5064\n"
       ]
      },
      {
       "output_type": "stream",
       "stream": "stdout",
       "text": [
        "Epoch 2412/3000\n",
        "0s - loss: 3.2408 - val_loss: 4.1347\n"
       ]
      },
      {
       "output_type": "stream",
       "stream": "stdout",
       "text": [
        "Epoch 2413/3000\n",
        "0s - loss: 3.1423 - val_loss: 4.6920\n"
       ]
      },
      {
       "output_type": "stream",
       "stream": "stdout",
       "text": [
        "Epoch 2414/3000\n",
        "0s - loss: 3.6522 - val_loss: 4.5373\n"
       ]
      },
      {
       "output_type": "stream",
       "stream": "stdout",
       "text": [
        "Epoch 2415/3000\n",
        "0s - loss: 3.2538 - val_loss: 4.2892\n"
       ]
      },
      {
       "output_type": "stream",
       "stream": "stdout",
       "text": [
        "Epoch 2416/3000\n",
        "0s - loss: 3.1122 - val_loss: 4.1777\n"
       ]
      },
      {
       "output_type": "stream",
       "stream": "stdout",
       "text": [
        "Epoch 2417/3000\n",
        "0s - loss: 3.0756 - val_loss: 4.1464\n"
       ]
      },
      {
       "output_type": "stream",
       "stream": "stdout",
       "text": [
        "Epoch 2418/3000\n",
        "0s - loss: 3.1427 - val_loss: 4.1115\n",
        "Epoch 2419/3000\n",
        "0s - loss: 3.2755 - val_loss: 4.5239\n"
       ]
      },
      {
       "output_type": "stream",
       "stream": "stdout",
       "text": [
        "Epoch 2420/3000\n",
        "0s - loss: 3.5653 - val_loss: 4.3123\n",
        "Epoch 2421/3000\n",
        "0s - loss: 3.2770 - val_loss: 4.2781\n"
       ]
      },
      {
       "output_type": "stream",
       "stream": "stdout",
       "text": [
        "Epoch 2422/3000\n",
        "0s - loss: 3.1756 - val_loss: 4.2203\n"
       ]
      },
      {
       "output_type": "stream",
       "stream": "stdout",
       "text": [
        "Epoch 2423/3000\n",
        "0s - loss: 3.1267 - val_loss: 4.3226\n"
       ]
      },
      {
       "output_type": "stream",
       "stream": "stdout",
       "text": [
        "Epoch 2424/3000\n",
        "0s - loss: 3.2136 - val_loss: 4.3717\n"
       ]
      },
      {
       "output_type": "stream",
       "stream": "stdout",
       "text": [
        "Epoch 2425/3000\n",
        "0s - loss: 3.4148 - val_loss: 4.3420\n"
       ]
      },
      {
       "output_type": "stream",
       "stream": "stdout",
       "text": [
        "Epoch 2426/3000\n",
        "0s - loss: 3.3770 - val_loss: 4.4694\n"
       ]
      },
      {
       "output_type": "stream",
       "stream": "stdout",
       "text": [
        "Epoch 2427/3000\n",
        "0s - loss: 3.5331 - val_loss: 4.5696\n"
       ]
      },
      {
       "output_type": "stream",
       "stream": "stdout",
       "text": [
        "Epoch 2428/3000\n",
        "0s - loss: 3.3419 - val_loss: 4.3489\n"
       ]
      },
      {
       "output_type": "stream",
       "stream": "stdout",
       "text": [
        "Epoch 2429/3000\n",
        "0s - loss: 3.1367 - val_loss: 4.0639\n"
       ]
      },
      {
       "output_type": "stream",
       "stream": "stdout",
       "text": [
        "Epoch 2430/3000\n",
        "0s - loss: 2.9944 - val_loss: 4.0154\n"
       ]
      },
      {
       "output_type": "stream",
       "stream": "stdout",
       "text": [
        "Epoch 2431/3000\n",
        "0s - loss: 3.1105 - val_loss: 4.2275\n"
       ]
      },
      {
       "output_type": "stream",
       "stream": "stdout",
       "text": [
        "Epoch 2432/3000\n",
        "0s - loss: 3.2754 - val_loss: 4.4642\n"
       ]
      },
      {
       "output_type": "stream",
       "stream": "stdout",
       "text": [
        "Epoch 2433/3000\n",
        "0s - loss: 3.3370 - val_loss: 4.4633\n"
       ]
      },
      {
       "output_type": "stream",
       "stream": "stdout",
       "text": [
        "Epoch 2434/3000\n",
        "0s - loss: 3.4402 - val_loss: 4.2450\n",
        "Epoch 2435/3000\n",
        "0s - loss: 3.1559 - val_loss: 4.0941\n"
       ]
      },
      {
       "output_type": "stream",
       "stream": "stdout",
       "text": [
        "Epoch 2436/3000\n",
        "0s - loss: 3.0781 - val_loss: 4.2990\n",
        "Epoch 2437/3000\n",
        "0s - loss: 3.2871 - val_loss: 4.6001\n"
       ]
      },
      {
       "output_type": "stream",
       "stream": "stdout",
       "text": [
        "Epoch 2438/3000\n",
        "0s - loss: 3.5758 - val_loss: 4.6457\n"
       ]
      },
      {
       "output_type": "stream",
       "stream": "stdout",
       "text": [
        "Epoch 2439/3000\n",
        "0s - loss: 3.4069 - val_loss: 4.2044\n",
        "Epoch 2440/3000\n",
        "0s - loss: 3.0893 - val_loss: 4.2644\n"
       ]
      },
      {
       "output_type": "stream",
       "stream": "stdout",
       "text": [
        "Epoch 2441/3000\n",
        "0s - loss: 3.3742 - val_loss: 4.3406\n"
       ]
      },
      {
       "output_type": "stream",
       "stream": "stdout",
       "text": [
        "Epoch 2442/3000\n",
        "0s - loss: 3.3249 - val_loss: 4.3015\n",
        "Epoch 2443/3000\n",
        "0s - loss: 3.3327 - val_loss: 4.3045\n"
       ]
      },
      {
       "output_type": "stream",
       "stream": "stdout",
       "text": [
        "Epoch 2444/3000\n",
        "0s - loss: 3.1711 - val_loss: 4.1221\n"
       ]
      },
      {
       "output_type": "stream",
       "stream": "stdout",
       "text": [
        "Epoch 2445/3000\n",
        "0s - loss: 3.0483 - val_loss: 4.1846\n",
        "Epoch 2446/3000\n",
        "0s - loss: 3.1026 - val_loss: 4.1933\n"
       ]
      },
      {
       "output_type": "stream",
       "stream": "stdout",
       "text": [
        "Epoch 2447/3000\n",
        "0s - loss: 3.1549 - val_loss: 4.2305\n",
        "Epoch 2448/3000\n",
        "0s - loss: 3.3218 - val_loss: 4.4153\n"
       ]
      },
      {
       "output_type": "stream",
       "stream": "stdout",
       "text": [
        "Epoch 2449/3000\n",
        "0s - loss: 3.4196 - val_loss: 4.2627\n"
       ]
      },
      {
       "output_type": "stream",
       "stream": "stdout",
       "text": [
        "Epoch 2450/3000\n",
        "0s - loss: 3.3663 - val_loss: 4.7099\n",
        "Epoch 2451/3000\n",
        "0s - loss: 3.6491 - val_loss: 4.6410\n"
       ]
      },
      {
       "output_type": "stream",
       "stream": "stdout",
       "text": [
        "Epoch 2452/3000\n",
        "0s - loss: 3.3992 - val_loss: 4.2887\n"
       ]
      },
      {
       "output_type": "stream",
       "stream": "stdout",
       "text": [
        "Epoch 2453/3000\n",
        "0s - loss: 3.0696 - val_loss: 4.0638\n"
       ]
      },
      {
       "output_type": "stream",
       "stream": "stdout",
       "text": [
        "Epoch 2454/3000\n",
        "0s - loss: 3.0987 - val_loss: 4.2086\n"
       ]
      },
      {
       "output_type": "stream",
       "stream": "stdout",
       "text": [
        "Epoch 2455/3000\n",
        "0s - loss: 3.3057 - val_loss: 4.3681\n"
       ]
      },
      {
       "output_type": "stream",
       "stream": "stdout",
       "text": [
        "Epoch 2456/3000\n",
        "0s - loss: 3.2994 - val_loss: 4.1976\n"
       ]
      },
      {
       "output_type": "stream",
       "stream": "stdout",
       "text": [
        "Epoch 2457/3000\n",
        "0s - loss: 3.3177 - val_loss: 4.3400\n"
       ]
      },
      {
       "output_type": "stream",
       "stream": "stdout",
       "text": [
        "Epoch 2458/3000\n",
        "0s - loss: 3.3907 - val_loss: 4.3442\n"
       ]
      },
      {
       "output_type": "stream",
       "stream": "stdout",
       "text": [
        "Epoch 2459/3000\n",
        "0s - loss: 3.3219 - val_loss: 4.1507\n"
       ]
      },
      {
       "output_type": "stream",
       "stream": "stdout",
       "text": [
        "Epoch 2460/3000\n",
        "0s - loss: 3.1424 - val_loss: 4.0798\n",
        "Epoch 2461/3000\n",
        "0s - loss: 3.1361 - val_loss: 4.0834\n"
       ]
      },
      {
       "output_type": "stream",
       "stream": "stdout",
       "text": [
        "Epoch 2462/3000\n",
        "0s - loss: 3.2504 - val_loss: 4.3672\n"
       ]
      },
      {
       "output_type": "stream",
       "stream": "stdout",
       "text": [
        "Epoch 2463/3000\n",
        "0s - loss: 3.3963 - val_loss: 4.3472\n",
        "Epoch 2464/3000\n",
        "0s - loss: 3.3176 - val_loss: 4.2512\n"
       ]
      },
      {
       "output_type": "stream",
       "stream": "stdout",
       "text": [
        "Epoch 2465/3000\n",
        "0s - loss: 3.2369 - val_loss: 4.2250\n",
        "Epoch 2466/3000\n",
        "0s - loss: 3.2586 - val_loss: 4.1693\n"
       ]
      },
      {
       "output_type": "stream",
       "stream": "stdout",
       "text": [
        "Epoch 2467/3000\n",
        "0s - loss: 3.2139 - val_loss: 4.2020\n"
       ]
      },
      {
       "output_type": "stream",
       "stream": "stdout",
       "text": [
        "Epoch 2468/3000\n",
        "0s - loss: 3.3450 - val_loss: 4.6455\n"
       ]
      },
      {
       "output_type": "stream",
       "stream": "stdout",
       "text": [
        "Epoch 2469/3000\n",
        "0s - loss: 3.3922 - val_loss: 4.2096\n"
       ]
      },
      {
       "output_type": "stream",
       "stream": "stdout",
       "text": [
        "Epoch 2470/3000\n",
        "0s - loss: 3.2074 - val_loss: 4.2028\n"
       ]
      },
      {
       "output_type": "stream",
       "stream": "stdout",
       "text": [
        "Epoch 2471/3000\n",
        "0s - loss: 3.1643 - val_loss: 4.1490\n"
       ]
      },
      {
       "output_type": "stream",
       "stream": "stdout",
       "text": [
        "Epoch 2472/3000\n",
        "0s - loss: 3.0952 - val_loss: 4.3329\n"
       ]
      },
      {
       "output_type": "stream",
       "stream": "stdout",
       "text": [
        "Epoch 2473/3000\n",
        "0s - loss: 3.2914 - val_loss: 4.2781\n"
       ]
      },
      {
       "output_type": "stream",
       "stream": "stdout",
       "text": [
        "Epoch 2474/3000\n",
        "0s - loss: 3.2432 - val_loss: 4.2461\n"
       ]
      },
      {
       "output_type": "stream",
       "stream": "stdout",
       "text": [
        "Epoch 2475/3000\n",
        "0s - loss: 3.3419 - val_loss: 4.3333\n"
       ]
      },
      {
       "output_type": "stream",
       "stream": "stdout",
       "text": [
        "Epoch 2476/3000\n",
        "0s - loss: 3.3118 - val_loss: 4.2513\n",
        "Epoch 2477/3000\n",
        "0s - loss: 3.3869 - val_loss: 4.6739\n"
       ]
      },
      {
       "output_type": "stream",
       "stream": "stdout",
       "text": [
        "Epoch 2478/3000\n",
        "0s - loss: 3.5394 - val_loss: 4.2837\n",
        "Epoch 2479/3000"
       ]
      },
      {
       "output_type": "stream",
       "stream": "stdout",
       "text": [
        "\n",
        "0s - loss: 3.1883 - val_loss: 4.1032\n"
       ]
      },
      {
       "output_type": "stream",
       "stream": "stdout",
       "text": [
        "Epoch 2480/3000\n",
        "0s - loss: 3.1531 - val_loss: 4.2322\n"
       ]
      },
      {
       "output_type": "stream",
       "stream": "stdout",
       "text": [
        "Epoch 2481/3000\n",
        "0s - loss: 3.2700 - val_loss: 4.2744\n",
        "Epoch 2482/3000\n",
        "0s - loss: 3.2524 - val_loss: 4.1587\n"
       ]
      },
      {
       "output_type": "stream",
       "stream": "stdout",
       "text": [
        "Epoch 2483/3000\n",
        "0s - loss: 3.1771 - val_loss: 4.2071\n"
       ]
      },
      {
       "output_type": "stream",
       "stream": "stdout",
       "text": [
        "Epoch 2484/3000\n",
        "0s - loss: 3.3069 - val_loss: 4.1929\n"
       ]
      },
      {
       "output_type": "stream",
       "stream": "stdout",
       "text": [
        "Epoch 2485/3000\n",
        "0s - loss: 3.2499 - val_loss: 4.1495\n"
       ]
      },
      {
       "output_type": "stream",
       "stream": "stdout",
       "text": [
        "Epoch 2486/3000\n",
        "0s - loss: 3.2182 - val_loss: 4.2453\n"
       ]
      },
      {
       "output_type": "stream",
       "stream": "stdout",
       "text": [
        "Epoch 2487/3000\n",
        "0s - loss: 3.3167 - val_loss: 4.2752\n"
       ]
      },
      {
       "output_type": "stream",
       "stream": "stdout",
       "text": [
        "Epoch 2488/3000\n",
        "0s - loss: 3.3196 - val_loss: 4.2746\n"
       ]
      },
      {
       "output_type": "stream",
       "stream": "stdout",
       "text": [
        "Epoch 2489/3000\n",
        "0s - loss: 3.2553 - val_loss: 4.3494\n"
       ]
      },
      {
       "output_type": "stream",
       "stream": "stdout",
       "text": [
        "Epoch 2490/3000\n",
        "0s - loss: 3.2680 - val_loss: 4.4160\n"
       ]
      },
      {
       "output_type": "stream",
       "stream": "stdout",
       "text": [
        "Epoch 2491/3000\n",
        "0s - loss: 3.3390 - val_loss: 4.7575\n"
       ]
      },
      {
       "output_type": "stream",
       "stream": "stdout",
       "text": [
        "Epoch 2492/3000\n",
        "0s - loss: 3.5751 - val_loss: 4.2741\n"
       ]
      },
      {
       "output_type": "stream",
       "stream": "stdout",
       "text": [
        "Epoch 2493/3000\n",
        "0s - loss: 3.0712 - val_loss: 4.0915\n"
       ]
      },
      {
       "output_type": "stream",
       "stream": "stdout",
       "text": [
        "Epoch 2494/3000\n",
        "0s - loss: 3.1459 - val_loss: 4.3392\n"
       ]
      },
      {
       "output_type": "stream",
       "stream": "stdout",
       "text": [
        "Epoch 2495/3000\n",
        "0s - loss: 3.4483 - val_loss: 4.4346\n"
       ]
      },
      {
       "output_type": "stream",
       "stream": "stdout",
       "text": [
        "Epoch 2496/3000\n",
        "0s - loss: 3.2946 - val_loss: 4.4895\n"
       ]
      },
      {
       "output_type": "stream",
       "stream": "stdout",
       "text": [
        "Epoch 2497/3000\n",
        "0s - loss: 3.3282 - val_loss: 4.5256\n"
       ]
      },
      {
       "output_type": "stream",
       "stream": "stdout",
       "text": [
        "Epoch 2498/3000\n",
        "0s - loss: 3.2556 - val_loss: 4.1646\n"
       ]
      },
      {
       "output_type": "stream",
       "stream": "stdout",
       "text": [
        "Epoch 2499/3000\n",
        "0s - loss: 3.0826 - val_loss: 4.2474\n"
       ]
      },
      {
       "output_type": "stream",
       "stream": "stdout",
       "text": [
        "Epoch 2500/3000\n",
        "0s - loss: 3.0803 - val_loss: 4.1159\n"
       ]
      },
      {
       "output_type": "stream",
       "stream": "stdout",
       "text": [
        "Epoch 2501/3000\n",
        "0s - loss: 3.3201 - val_loss: 4.7066\n",
        "Epoch 2502/3000\n",
        "0s - loss: 3.5795 - val_loss: 4.2297\n"
       ]
      },
      {
       "output_type": "stream",
       "stream": "stdout",
       "text": [
        "Epoch 2503/3000\n",
        "0s - loss: 3.2275 - val_loss: 4.1917\n"
       ]
      },
      {
       "output_type": "stream",
       "stream": "stdout",
       "text": [
        "Epoch 2504/3000\n",
        "0s - loss: 3.3228 - val_loss: 4.3009\n",
        "Epoch 2505/3000\n",
        "0s - loss: 3.1562 - val_loss: 4.1609\n"
       ]
      },
      {
       "output_type": "stream",
       "stream": "stdout",
       "text": [
        "Epoch 2506/3000\n",
        "0s - loss: 3.1142 - val_loss: 4.1816\n"
       ]
      },
      {
       "output_type": "stream",
       "stream": "stdout",
       "text": [
        "Epoch 2507/3000\n",
        "0s - loss: 3.1872 - val_loss: 4.2505\n"
       ]
      },
      {
       "output_type": "stream",
       "stream": "stdout",
       "text": [
        "Epoch 2508/3000\n",
        "0s - loss: 3.1680 - val_loss: 4.3447\n"
       ]
      },
      {
       "output_type": "stream",
       "stream": "stdout",
       "text": [
        "Epoch 2509/3000\n",
        "0s - loss: 3.3168 - val_loss: 4.5545\n"
       ]
      },
      {
       "output_type": "stream",
       "stream": "stdout",
       "text": [
        "Epoch 2510/3000\n",
        "0s - loss: 3.4445 - val_loss: 4.6303\n"
       ]
      },
      {
       "output_type": "stream",
       "stream": "stdout",
       "text": [
        "Epoch 2511/3000\n",
        "0s - loss: 3.3966 - val_loss: 4.5572\n"
       ]
      },
      {
       "output_type": "stream",
       "stream": "stdout",
       "text": [
        "Epoch 2512/3000\n",
        "0s - loss: 3.3001 - val_loss: 4.2925\n"
       ]
      },
      {
       "output_type": "stream",
       "stream": "stdout",
       "text": [
        "Epoch 2513/3000\n",
        "0s - loss: 3.2585 - val_loss: 4.3446\n"
       ]
      },
      {
       "output_type": "stream",
       "stream": "stdout",
       "text": [
        "Epoch 2514/3000\n",
        "0s - loss: 3.3337 - val_loss: 4.3700\n",
        "Epoch 2515/3000\n",
        "0s - loss: 3.2890 - val_loss: 4.3192\n"
       ]
      },
      {
       "output_type": "stream",
       "stream": "stdout",
       "text": [
        "Epoch 2516/3000\n",
        "0s - loss: 3.1992 - val_loss: 4.2038\n"
       ]
      },
      {
       "output_type": "stream",
       "stream": "stdout",
       "text": [
        "Epoch 2517/3000\n",
        "0s - loss: 3.2175 - val_loss: 4.3182\n"
       ]
      },
      {
       "output_type": "stream",
       "stream": "stdout",
       "text": [
        "Epoch 2518/3000\n",
        "0s - loss: 3.2000 - val_loss: 4.2402\n",
        "Epoch 2519/3000\n",
        "0s - loss: 3.1739 - val_loss: 4.2409\n"
       ]
      },
      {
       "output_type": "stream",
       "stream": "stdout",
       "text": [
        "Epoch 2520/3000\n",
        "0s - loss: 3.1188 - val_loss: 4.1185\n"
       ]
      },
      {
       "output_type": "stream",
       "stream": "stdout",
       "text": [
        "Epoch 2521/3000\n",
        "0s - loss: 3.0903 - val_loss: 4.3286\n"
       ]
      },
      {
       "output_type": "stream",
       "stream": "stdout",
       "text": [
        "Epoch 2522/3000\n",
        "0s - loss: 3.3881 - val_loss: 4.5670\n"
       ]
      },
      {
       "output_type": "stream",
       "stream": "stdout",
       "text": [
        "Epoch 2523/3000\n",
        "0s - loss: 3.6040 - val_loss: 4.5844\n",
        "Epoch 2524/3000\n",
        "0s - loss: 3.4818 - val_loss: 4.3082\n"
       ]
      },
      {
       "output_type": "stream",
       "stream": "stdout",
       "text": [
        "Epoch 2525/3000\n",
        "0s - loss: 3.3633 - val_loss: 4.2600\n"
       ]
      },
      {
       "output_type": "stream",
       "stream": "stdout",
       "text": [
        "Epoch 2526/3000\n",
        "0s - loss: 3.3271 - val_loss: 3.9961\n"
       ]
      },
      {
       "output_type": "stream",
       "stream": "stdout",
       "text": [
        "Epoch 2527/3000\n",
        "0s - loss: 3.0200 - val_loss: 4.0266\n",
        "Epoch 2528/3000\n",
        "0s - loss: 3.0454 - val_loss: 4.1202\n"
       ]
      },
      {
       "output_type": "stream",
       "stream": "stdout",
       "text": [
        "Epoch 2529/3000\n",
        "0s - loss: 3.1802 - val_loss: 4.7178\n"
       ]
      },
      {
       "output_type": "stream",
       "stream": "stdout",
       "text": [
        "Epoch 2530/3000\n",
        "0s - loss: 3.6488 - val_loss: 4.6007\n",
        "Epoch 2531/3000\n",
        "0s - loss: 3.3150 - val_loss: 4.1831\n"
       ]
      },
      {
       "output_type": "stream",
       "stream": "stdout",
       "text": [
        "Epoch 2532/3000\n",
        "0s - loss: 3.1648 - val_loss: 4.2583\n"
       ]
      },
      {
       "output_type": "stream",
       "stream": "stdout",
       "text": [
        "Epoch 2533/3000\n",
        "0s - loss: 3.1933 - val_loss: 4.0775\n",
        "Epoch 2534/3000\n",
        "0s - loss: 3.1177 - val_loss: 4.1874\n"
       ]
      },
      {
       "output_type": "stream",
       "stream": "stdout",
       "text": [
        "Epoch 2535/3000\n",
        "0s - loss: 3.2153 - val_loss: 4.4624\n",
        "Epoch 2536/3000\n",
        "0s - loss: 3.4923 - val_loss: 4.5550\n"
       ]
      },
      {
       "output_type": "stream",
       "stream": "stdout",
       "text": [
        "Epoch 2537/3000\n",
        "0s - loss: 3.4725 - val_loss: 4.4665\n"
       ]
      },
      {
       "output_type": "stream",
       "stream": "stdout",
       "text": [
        "Epoch 2538/3000\n",
        "0s - loss: 3.2280 - val_loss: 4.2068\n"
       ]
      },
      {
       "output_type": "stream",
       "stream": "stdout",
       "text": [
        "Epoch 2539/3000\n",
        "0s - loss: 3.0548 - val_loss: 4.2148\n"
       ]
      },
      {
       "output_type": "stream",
       "stream": "stdout",
       "text": [
        "Epoch 2540/3000\n",
        "0s - loss: 3.1279 - val_loss: 4.1923\n",
        "Epoch 2541/3000\n",
        "0s - loss: 3.0651 - val_loss: 4.1729\n"
       ]
      },
      {
       "output_type": "stream",
       "stream": "stdout",
       "text": [
        "Epoch 2542/3000\n",
        "0s - loss: 3.2722 - val_loss: 4.4891\n"
       ]
      },
      {
       "output_type": "stream",
       "stream": "stdout",
       "text": [
        "Epoch 2543/3000\n",
        "0s - loss: 3.4389 - val_loss: 4.4406\n"
       ]
      },
      {
       "output_type": "stream",
       "stream": "stdout",
       "text": [
        "Epoch 2544/3000\n",
        "0s - loss: 3.5827 - val_loss: 4.3554\n"
       ]
      },
      {
       "output_type": "stream",
       "stream": "stdout",
       "text": [
        "Epoch 2545/3000\n",
        "0s - loss: 3.2990 - val_loss: 4.2187\n"
       ]
      },
      {
       "output_type": "stream",
       "stream": "stdout",
       "text": [
        "Epoch 2546/3000\n",
        "0s - loss: 3.1706 - val_loss: 4.2225\n",
        "Epoch 2547/3000\n",
        "0s - loss: 3.1809 - val_loss: 4.1412\n"
       ]
      },
      {
       "output_type": "stream",
       "stream": "stdout",
       "text": [
        "Epoch 2548/3000\n",
        "0s - loss: 3.1940 - val_loss: 4.3601\n",
        "Epoch 2549/3000\n",
        "0s - loss: 3.4567 - val_loss: 4.5236\n"
       ]
      },
      {
       "output_type": "stream",
       "stream": "stdout",
       "text": [
        "Epoch 2550/3000\n",
        "0s - loss: 3.3184 - val_loss: 4.2107\n"
       ]
      },
      {
       "output_type": "stream",
       "stream": "stdout",
       "text": [
        "Epoch 2551/3000\n",
        "0s - loss: 3.0804 - val_loss: 4.3284\n",
        "Epoch 2552/3000\n",
        "0s - loss: 3.1183 - val_loss: 4.1710\n"
       ]
      },
      {
       "output_type": "stream",
       "stream": "stdout",
       "text": [
        "Epoch 2553/3000\n",
        "0s - loss: 3.1652 - val_loss: 4.4328\n"
       ]
      },
      {
       "output_type": "stream",
       "stream": "stdout",
       "text": [
        "Epoch 2554/3000\n",
        "0s - loss: 3.3371 - val_loss: 4.3055\n",
        "Epoch 2555/3000\n",
        "0s - loss: 3.1661 - val_loss: 4.4151\n"
       ]
      },
      {
       "output_type": "stream",
       "stream": "stdout",
       "text": [
        "Epoch 2556/3000\n",
        "0s - loss: 3.3108 - val_loss: 4.3342\n"
       ]
      },
      {
       "output_type": "stream",
       "stream": "stdout",
       "text": [
        "Epoch 2557/3000\n",
        "0s - loss: 3.2600 - val_loss: 4.2993\n"
       ]
      },
      {
       "output_type": "stream",
       "stream": "stdout",
       "text": [
        "Epoch 2558/3000\n",
        "0s - loss: 3.3224 - val_loss: 4.3417\n",
        "Epoch 2559/3000\n",
        "0s - loss: 3.3274 - val_loss: 4.2789\n"
       ]
      },
      {
       "output_type": "stream",
       "stream": "stdout",
       "text": [
        "Epoch 2560/3000\n",
        "0s - loss: 3.1151 - val_loss: 4.3929\n",
        "Epoch 2561/3000\n",
        "0s - loss: 3.1336 - val_loss: 4.3174\n"
       ]
      },
      {
       "output_type": "stream",
       "stream": "stdout",
       "text": [
        "Epoch 2562/3000\n",
        "0s - loss: 3.3604 - val_loss: 4.6566\n"
       ]
      },
      {
       "output_type": "stream",
       "stream": "stdout",
       "text": [
        "Epoch 2563/3000\n",
        "0s - loss: 3.5010 - val_loss: 4.2780\n"
       ]
      },
      {
       "output_type": "stream",
       "stream": "stdout",
       "text": [
        "Epoch 2564/3000\n",
        "0s - loss: 3.2883 - val_loss: 4.2243\n",
        "Epoch 2565/3000\n",
        "0s - loss: 3.1543 - val_loss: 4.3091\n"
       ]
      },
      {
       "output_type": "stream",
       "stream": "stdout",
       "text": [
        "Epoch 2566/3000\n",
        "0s - loss: 3.1067 - val_loss: 4.3026\n",
        "Epoch 2567/3000\n",
        "0s - loss: 3.1328 - val_loss: 4.3594\n"
       ]
      },
      {
       "output_type": "stream",
       "stream": "stdout",
       "text": [
        "Epoch 2568/3000\n",
        "0s - loss: 3.2596 - val_loss: 4.4060\n"
       ]
      },
      {
       "output_type": "stream",
       "stream": "stdout",
       "text": [
        "Epoch 2569/3000\n",
        "0s - loss: 3.3248 - val_loss: 4.2154\n"
       ]
      },
      {
       "output_type": "stream",
       "stream": "stdout",
       "text": [
        "Epoch 2570/3000\n",
        "0s - loss: 3.3065 - val_loss: 4.5738\n"
       ]
      },
      {
       "output_type": "stream",
       "stream": "stdout",
       "text": [
        "Epoch 2571/3000\n",
        "0s - loss: 3.4477 - val_loss: 4.2567\n",
        "Epoch 2572/3000\n",
        "0s - loss: 3.1902 - val_loss: 4.2664\n"
       ]
      },
      {
       "output_type": "stream",
       "stream": "stdout",
       "text": [
        "Epoch 2573/3000\n",
        "0s - loss: 3.1827 - val_loss: 4.1872\n"
       ]
      },
      {
       "output_type": "stream",
       "stream": "stdout",
       "text": [
        "Epoch 2574/3000\n",
        "0s - loss: 3.4334 - val_loss: 4.4937\n"
       ]
      },
      {
       "output_type": "stream",
       "stream": "stdout",
       "text": [
        "Epoch 2575/3000\n",
        "0s - loss: 3.4181 - val_loss: 4.0813\n"
       ]
      },
      {
       "output_type": "stream",
       "stream": "stdout",
       "text": [
        "Epoch 2576/3000\n",
        "0s - loss: 3.0737 - val_loss: 4.2869\n"
       ]
      },
      {
       "output_type": "stream",
       "stream": "stdout",
       "text": [
        "Epoch 2577/3000\n",
        "0s - loss: 3.2251 - val_loss: 4.1875\n"
       ]
      },
      {
       "output_type": "stream",
       "stream": "stdout",
       "text": [
        "Epoch 2578/3000\n",
        "0s - loss: 3.0498 - val_loss: 3.9840\n"
       ]
      },
      {
       "output_type": "stream",
       "stream": "stdout",
       "text": [
        "Epoch 2579/3000\n",
        "0s - loss: 2.9931 - val_loss: 4.1808\n"
       ]
      },
      {
       "output_type": "stream",
       "stream": "stdout",
       "text": [
        "Epoch 2580/3000\n",
        "0s - loss: 3.3523 - val_loss: 4.5658\n",
        "Epoch 2581/3000\n",
        "0s - loss: 3.3918 - val_loss: 4.3051\n"
       ]
      },
      {
       "output_type": "stream",
       "stream": "stdout",
       "text": [
        "Epoch 2582/3000\n",
        "0s - loss: 3.3441 - val_loss: 4.8086\n"
       ]
      },
      {
       "output_type": "stream",
       "stream": "stdout",
       "text": [
        "Epoch 2583/3000\n",
        "0s - loss: 3.4578 - val_loss: 4.2687\n",
        "Epoch 2584/3000\n",
        "0s - loss: 3.1040 - val_loss: 4.2901\n"
       ]
      },
      {
       "output_type": "stream",
       "stream": "stdout",
       "text": [
        "Epoch 2585/3000\n",
        "0s - loss: 3.1767 - val_loss: 4.1786\n",
        "Epoch 2586/3000\n",
        "0s - loss: 3.0359 - val_loss: 4.0936\n"
       ]
      },
      {
       "output_type": "stream",
       "stream": "stdout",
       "text": [
        "Epoch 2587/3000\n",
        "0s - loss: 3.0405 - val_loss: 4.2578\n"
       ]
      },
      {
       "output_type": "stream",
       "stream": "stdout",
       "text": [
        "Epoch 2588/3000\n",
        "0s - loss: 3.2667 - val_loss: 4.3275\n"
       ]
      },
      {
       "output_type": "stream",
       "stream": "stdout",
       "text": [
        "Epoch 2589/3000\n",
        "0s - loss: 3.3226 - val_loss: 4.5930\n",
        "Epoch 2590/3000\n",
        "0s - loss: 3.5388 - val_loss: 4.2149\n"
       ]
      },
      {
       "output_type": "stream",
       "stream": "stdout",
       "text": [
        "Epoch 2591/3000\n",
        "0s - loss: 3.1816 - val_loss: 4.4808\n",
        "Epoch 2592/3000\n",
        "0s - loss: 3.3198 - val_loss: 4.3834\n"
       ]
      },
      {
       "output_type": "stream",
       "stream": "stdout",
       "text": [
        "Epoch 2593/3000\n",
        "0s - loss: 3.3879 - val_loss: 4.1831\n"
       ]
      },
      {
       "output_type": "stream",
       "stream": "stdout",
       "text": [
        "Epoch 2594/3000\n",
        "0s - loss: 3.2531 - val_loss: 4.1804\n",
        "Epoch 2595/3000\n",
        "0s - loss: 3.1140 - val_loss: 4.1819\n"
       ]
      },
      {
       "output_type": "stream",
       "stream": "stdout",
       "text": [
        "Epoch 2596/3000\n",
        "0s - loss: 3.1090 - val_loss: 4.4070\n"
       ]
      },
      {
       "output_type": "stream",
       "stream": "stdout",
       "text": [
        "Epoch 2597/3000\n",
        "0s - loss: 3.2877 - val_loss: 4.5396\n"
       ]
      },
      {
       "output_type": "stream",
       "stream": "stdout",
       "text": [
        "Epoch 2598/3000\n",
        "0s - loss: 3.3666 - val_loss: 4.4738\n"
       ]
      },
      {
       "output_type": "stream",
       "stream": "stdout",
       "text": [
        "Epoch 2599/3000\n",
        "0s - loss: 3.2495 - val_loss: 4.1074\n"
       ]
      },
      {
       "output_type": "stream",
       "stream": "stdout",
       "text": [
        "Epoch 2600/3000\n",
        "0s - loss: 3.0235 - val_loss: 4.1461\n"
       ]
      },
      {
       "output_type": "stream",
       "stream": "stdout",
       "text": [
        "Epoch 2601/3000\n",
        "0s - loss: 3.1383 - val_loss: 4.4286\n",
        "Epoch 2602/3000\n",
        "0s - loss: 3.2325 - val_loss: 4.4053\n"
       ]
      },
      {
       "output_type": "stream",
       "stream": "stdout",
       "text": [
        "Epoch 2603/3000\n",
        "0s - loss: 3.3846 - val_loss: 4.3245\n"
       ]
      },
      {
       "output_type": "stream",
       "stream": "stdout",
       "text": [
        "Epoch 2604/3000\n",
        "0s - loss: 3.2632 - val_loss: 4.3938\n"
       ]
      },
      {
       "output_type": "stream",
       "stream": "stdout",
       "text": [
        "Epoch 2605/3000\n",
        "0s - loss: 3.2785 - val_loss: 4.3005\n"
       ]
      },
      {
       "output_type": "stream",
       "stream": "stdout",
       "text": [
        "Epoch 2606/3000\n",
        "0s - loss: 3.1937 - val_loss: 4.0510\n"
       ]
      },
      {
       "output_type": "stream",
       "stream": "stdout",
       "text": [
        "Epoch 2607/3000\n",
        "0s - loss: 3.0204 - val_loss: 4.0674\n"
       ]
      },
      {
       "output_type": "stream",
       "stream": "stdout",
       "text": [
        "Epoch 2608/3000\n",
        "0s - loss: 3.1554 - val_loss: 4.4923\n"
       ]
      },
      {
       "output_type": "stream",
       "stream": "stdout",
       "text": [
        "Epoch 2609/3000\n",
        "0s - loss: 3.4752 - val_loss: 4.3944\n"
       ]
      },
      {
       "output_type": "stream",
       "stream": "stdout",
       "text": [
        "Epoch 2610/3000\n",
        "0s - loss: 3.3614 - val_loss: 4.6691\n"
       ]
      },
      {
       "output_type": "stream",
       "stream": "stdout",
       "text": [
        "Epoch 2611/3000\n",
        "0s - loss: 3.3919 - val_loss: 4.3159\n"
       ]
      },
      {
       "output_type": "stream",
       "stream": "stdout",
       "text": [
        "Epoch 2612/3000\n",
        "0s - loss: 3.2297 - val_loss: 4.4257\n"
       ]
      },
      {
       "output_type": "stream",
       "stream": "stdout",
       "text": [
        "Epoch 2613/3000\n",
        "0s - loss: 3.2565 - val_loss: 4.1566\n"
       ]
      },
      {
       "output_type": "stream",
       "stream": "stdout",
       "text": [
        "Epoch 2614/3000\n",
        "0s - loss: 3.0804 - val_loss: 4.1780\n"
       ]
      },
      {
       "output_type": "stream",
       "stream": "stdout",
       "text": [
        "Epoch 2615/3000\n",
        "0s - loss: 3.0875 - val_loss: 4.3997\n"
       ]
      },
      {
       "output_type": "stream",
       "stream": "stdout",
       "text": [
        "Epoch 2616/3000\n",
        "0s - loss: 3.2840 - val_loss: 4.2112\n"
       ]
      },
      {
       "output_type": "stream",
       "stream": "stdout",
       "text": [
        "Epoch 2617/3000\n",
        "0s - loss: 3.1806 - val_loss: 4.2797\n"
       ]
      },
      {
       "output_type": "stream",
       "stream": "stdout",
       "text": [
        "Epoch 2618/3000\n",
        "0s - loss: 3.3209 - val_loss: 4.2617\n"
       ]
      },
      {
       "output_type": "stream",
       "stream": "stdout",
       "text": [
        "Epoch 2619/3000\n",
        "0s - loss: 3.3695 - val_loss: 4.2595\n"
       ]
      },
      {
       "output_type": "stream",
       "stream": "stdout",
       "text": [
        "Epoch 2620/3000\n",
        "0s - loss: 3.5627 - val_loss: 4.5224\n"
       ]
      },
      {
       "output_type": "stream",
       "stream": "stdout",
       "text": [
        "Epoch 2621/3000\n",
        "0s - loss: 3.3744 - val_loss: 4.1691\n"
       ]
      },
      {
       "output_type": "stream",
       "stream": "stdout",
       "text": [
        "Epoch 2622/3000\n",
        "0s - loss: 3.1982 - val_loss: 4.1857\n"
       ]
      },
      {
       "output_type": "stream",
       "stream": "stdout",
       "text": [
        "Epoch 2623/3000\n",
        "0s - loss: 3.1336 - val_loss: 4.0760\n"
       ]
      },
      {
       "output_type": "stream",
       "stream": "stdout",
       "text": [
        "Epoch 2624/3000\n",
        "0s - loss: 3.0485 - val_loss: 4.1846\n"
       ]
      },
      {
       "output_type": "stream",
       "stream": "stdout",
       "text": [
        "Epoch 2625/3000\n",
        "0s - loss: 3.1222 - val_loss: 4.3604\n"
       ]
      },
      {
       "output_type": "stream",
       "stream": "stdout",
       "text": [
        "Epoch 2626/3000\n",
        "0s - loss: 3.1803 - val_loss: 4.2077\n"
       ]
      },
      {
       "output_type": "stream",
       "stream": "stdout",
       "text": [
        "Epoch 2627/3000\n",
        "0s - loss: 3.2021 - val_loss: 4.4020\n"
       ]
      },
      {
       "output_type": "stream",
       "stream": "stdout",
       "text": [
        "Epoch 2628/3000\n",
        "0s - loss: 3.3824 - val_loss: 4.1946\n"
       ]
      },
      {
       "output_type": "stream",
       "stream": "stdout",
       "text": [
        "Epoch 2629/3000\n",
        "0s - loss: 3.1553 - val_loss: 4.3939\n"
       ]
      },
      {
       "output_type": "stream",
       "stream": "stdout",
       "text": [
        "Epoch 2630/3000\n",
        "0s - loss: 3.3161 - val_loss: 4.2786\n"
       ]
      },
      {
       "output_type": "stream",
       "stream": "stdout",
       "text": [
        "Epoch 2631/3000\n",
        "0s - loss: 3.3416 - val_loss: 4.3629\n"
       ]
      },
      {
       "output_type": "stream",
       "stream": "stdout",
       "text": [
        "Epoch 2632/3000\n",
        "0s - loss: 3.2791 - val_loss: 4.2568\n"
       ]
      },
      {
       "output_type": "stream",
       "stream": "stdout",
       "text": [
        "Epoch 2633/3000\n",
        "0s - loss: 3.1497 - val_loss: 4.2634\n"
       ]
      },
      {
       "output_type": "stream",
       "stream": "stdout",
       "text": [
        "Epoch 2634/3000\n",
        "0s - loss: 3.1842 - val_loss: 4.4787\n"
       ]
      },
      {
       "output_type": "stream",
       "stream": "stdout",
       "text": [
        "Epoch 2635/3000\n",
        "0s - loss: 3.4717 - val_loss: 4.6260\n"
       ]
      },
      {
       "output_type": "stream",
       "stream": "stdout",
       "text": [
        "Epoch 2636/3000\n",
        "0s - loss: 3.1877 - val_loss: 4.0868\n"
       ]
      },
      {
       "output_type": "stream",
       "stream": "stdout",
       "text": [
        "Epoch 2637/3000\n",
        "0s - loss: 3.0729 - val_loss: 4.2784\n"
       ]
      },
      {
       "output_type": "stream",
       "stream": "stdout",
       "text": [
        "Epoch 2638/3000\n",
        "0s - loss: 3.1801 - val_loss: 4.1731\n"
       ]
      },
      {
       "output_type": "stream",
       "stream": "stdout",
       "text": [
        "Epoch 2639/3000\n",
        "0s - loss: 3.0927 - val_loss: 4.1769\n"
       ]
      },
      {
       "output_type": "stream",
       "stream": "stdout",
       "text": [
        "Epoch 2640/3000\n",
        "0s - loss: 3.3029 - val_loss: 4.7408\n"
       ]
      },
      {
       "output_type": "stream",
       "stream": "stdout",
       "text": [
        "Epoch 2641/3000\n",
        "0s - loss: 3.6615 - val_loss: 4.3788\n"
       ]
      },
      {
       "output_type": "stream",
       "stream": "stdout",
       "text": [
        "Epoch 2642/3000\n",
        "0s - loss: 3.2589 - val_loss: 4.2225\n"
       ]
      },
      {
       "output_type": "stream",
       "stream": "stdout",
       "text": [
        "Epoch 2643/3000\n",
        "0s - loss: 3.1397 - val_loss: 4.0719\n"
       ]
      },
      {
       "output_type": "stream",
       "stream": "stdout",
       "text": [
        "Epoch 2644/3000\n",
        "0s - loss: 3.0458 - val_loss: 4.4144\n"
       ]
      },
      {
       "output_type": "stream",
       "stream": "stdout",
       "text": [
        "Epoch 2645/3000\n",
        "0s - loss: 3.3118 - val_loss: 4.2544\n"
       ]
      },
      {
       "output_type": "stream",
       "stream": "stdout",
       "text": [
        "Epoch 2646/3000\n",
        "0s - loss: 3.1156 - val_loss: 4.4237\n"
       ]
      },
      {
       "output_type": "stream",
       "stream": "stdout",
       "text": [
        "Epoch 2647/3000\n",
        "0s - loss: 3.3001 - val_loss: 4.6774\n"
       ]
      },
      {
       "output_type": "stream",
       "stream": "stdout",
       "text": [
        "Epoch 2648/3000\n",
        "0s - loss: 3.3811 - val_loss: 4.2503\n"
       ]
      },
      {
       "output_type": "stream",
       "stream": "stdout",
       "text": [
        "Epoch 2649/3000\n",
        "0s - loss: 3.1942 - val_loss: 4.4005\n"
       ]
      },
      {
       "output_type": "stream",
       "stream": "stdout",
       "text": [
        "Epoch 2650/3000\n",
        "0s - loss: 3.1707 - val_loss: 4.2494\n"
       ]
      },
      {
       "output_type": "stream",
       "stream": "stdout",
       "text": [
        "Epoch 2651/3000\n",
        "0s - loss: 3.0600 - val_loss: 4.3681\n"
       ]
      },
      {
       "output_type": "stream",
       "stream": "stdout",
       "text": [
        "Epoch 2652/3000\n",
        "0s - loss: 3.2889 - val_loss: 4.2890\n"
       ]
      },
      {
       "output_type": "stream",
       "stream": "stdout",
       "text": [
        "Epoch 2653/3000\n",
        "0s - loss: 3.1207 - val_loss: 4.2073\n"
       ]
      },
      {
       "output_type": "stream",
       "stream": "stdout",
       "text": [
        "Epoch 2654/3000\n",
        "0s - loss: 3.2575 - val_loss: 4.3592\n"
       ]
      },
      {
       "output_type": "stream",
       "stream": "stdout",
       "text": [
        "Epoch 2655/3000\n",
        "0s - loss: 3.4363 - val_loss: 4.7887\n"
       ]
      },
      {
       "output_type": "stream",
       "stream": "stdout",
       "text": [
        "Epoch 2656/3000\n",
        "0s - loss: 3.7760 - val_loss: 4.3156\n"
       ]
      },
      {
       "output_type": "stream",
       "stream": "stdout",
       "text": [
        "Epoch 2657/3000\n",
        "0s - loss: 3.2771 - val_loss: 4.2840\n"
       ]
      },
      {
       "output_type": "stream",
       "stream": "stdout",
       "text": [
        "Epoch 2658/3000\n",
        "0s - loss: 3.2223 - val_loss: 4.1061\n"
       ]
      },
      {
       "output_type": "stream",
       "stream": "stdout",
       "text": [
        "Epoch 2659/3000\n",
        "0s - loss: 3.0468 - val_loss: 4.1728\n"
       ]
      },
      {
       "output_type": "stream",
       "stream": "stdout",
       "text": [
        "Epoch 2660/3000\n",
        "0s - loss: 3.1369 - val_loss: 4.2723\n"
       ]
      },
      {
       "output_type": "stream",
       "stream": "stdout",
       "text": [
        "Epoch 2661/3000\n",
        "0s - loss: 3.2439 - val_loss: 4.5336\n"
       ]
      },
      {
       "output_type": "stream",
       "stream": "stdout",
       "text": [
        "Epoch 2662/3000\n",
        "0s - loss: 3.2331 - val_loss: 4.2339\n"
       ]
      },
      {
       "output_type": "stream",
       "stream": "stdout",
       "text": [
        "Epoch 2663/3000\n",
        "0s - loss: 3.0923 - val_loss: 4.2956\n"
       ]
      },
      {
       "output_type": "stream",
       "stream": "stdout",
       "text": [
        "Epoch 2664/3000\n",
        "0s - loss: 3.1826 - val_loss: 4.2750\n"
       ]
      },
      {
       "output_type": "stream",
       "stream": "stdout",
       "text": [
        "Epoch 2665/3000\n",
        "0s - loss: 3.0968 - val_loss: 4.2235\n"
       ]
      },
      {
       "output_type": "stream",
       "stream": "stdout",
       "text": [
        "Epoch 2666/3000\n",
        "0s - loss: 3.2516 - val_loss: 4.3748\n"
       ]
      },
      {
       "output_type": "stream",
       "stream": "stdout",
       "text": [
        "Epoch 2667/3000\n",
        "0s - loss: 3.3681 - val_loss: 4.5941\n"
       ]
      },
      {
       "output_type": "stream",
       "stream": "stdout",
       "text": [
        "Epoch 2668/3000\n",
        "0s - loss: 3.3922 - val_loss: 4.3126\n"
       ]
      },
      {
       "output_type": "stream",
       "stream": "stdout",
       "text": [
        "Epoch 2669/3000\n",
        "0s - loss: 3.2654 - val_loss: 4.3625\n"
       ]
      },
      {
       "output_type": "stream",
       "stream": "stdout",
       "text": [
        "Epoch 2670/3000\n",
        "0s - loss: 3.1198 - val_loss: 4.3956\n"
       ]
      },
      {
       "output_type": "stream",
       "stream": "stdout",
       "text": [
        "Epoch 2671/3000\n",
        "0s - loss: 3.1932 - val_loss: 4.5738\n"
       ]
      },
      {
       "output_type": "stream",
       "stream": "stdout",
       "text": [
        "Epoch 2672/3000\n",
        "0s - loss: 3.4645 - val_loss: 4.5091\n"
       ]
      },
      {
       "output_type": "stream",
       "stream": "stdout",
       "text": [
        "Epoch 2673/3000\n",
        "0s - loss: 3.3528 - val_loss: 4.2198\n"
       ]
      },
      {
       "output_type": "stream",
       "stream": "stdout",
       "text": [
        "Epoch 2674/3000\n",
        "0s - loss: 3.1170 - val_loss: 4.4055\n"
       ]
      },
      {
       "output_type": "stream",
       "stream": "stdout",
       "text": [
        "Epoch 2675/3000\n",
        "0s - loss: 3.3315 - val_loss: 4.4093\n"
       ]
      },
      {
       "output_type": "stream",
       "stream": "stdout",
       "text": [
        "Epoch 2676/3000\n",
        "0s - loss: 3.2287 - val_loss: 4.2182\n"
       ]
      },
      {
       "output_type": "stream",
       "stream": "stdout",
       "text": [
        "Epoch 2677/3000\n",
        "0s - loss: 3.2218 - val_loss: 4.2481\n"
       ]
      },
      {
       "output_type": "stream",
       "stream": "stdout",
       "text": [
        "Epoch 2678/3000\n",
        "0s - loss: 3.2534 - val_loss: 4.3513\n"
       ]
      },
      {
       "output_type": "stream",
       "stream": "stdout",
       "text": [
        "Epoch 2679/3000\n",
        "0s - loss: 3.3774 - val_loss: 4.4698\n"
       ]
      },
      {
       "output_type": "stream",
       "stream": "stdout",
       "text": [
        "Epoch 2680/3000\n",
        "0s - loss: 3.3855 - val_loss: 4.3673\n"
       ]
      },
      {
       "output_type": "stream",
       "stream": "stdout",
       "text": [
        "Epoch 2681/3000\n",
        "0s - loss: 3.2954 - val_loss: 4.4420\n"
       ]
      },
      {
       "output_type": "stream",
       "stream": "stdout",
       "text": [
        "Epoch 2682/3000\n",
        "0s - loss: 3.3014 - val_loss: 4.1662\n"
       ]
      },
      {
       "output_type": "stream",
       "stream": "stdout",
       "text": [
        "Epoch 2683/3000\n",
        "0s - loss: 3.0852 - val_loss: 4.0384\n"
       ]
      },
      {
       "output_type": "stream",
       "stream": "stdout",
       "text": [
        "Epoch 2684/3000\n",
        "0s - loss: 3.0141 - val_loss: 4.2297\n",
        "Epoch 2685/3000\n",
        "0s - loss: 3.1540 - val_loss: 4.3132\n"
       ]
      },
      {
       "output_type": "stream",
       "stream": "stdout",
       "text": [
        "Epoch 2686/3000\n",
        "0s - loss: 3.1830 - val_loss: 4.3584\n"
       ]
      },
      {
       "output_type": "stream",
       "stream": "stdout",
       "text": [
        "Epoch 2687/3000\n",
        "0s - loss: 3.2944 - val_loss: 4.3754\n"
       ]
      },
      {
       "output_type": "stream",
       "stream": "stdout",
       "text": [
        "Epoch 2688/3000\n",
        "0s - loss: 3.2917 - val_loss: 4.3211\n",
        "Epoch 2689/3000\n",
        "0s - loss: 3.2253 - val_loss: 4.3192\n"
       ]
      },
      {
       "output_type": "stream",
       "stream": "stdout",
       "text": [
        "Epoch 2690/3000\n",
        "0s - loss: 3.2048 - val_loss: 4.4139\n",
        "Epoch 2691/3000\n",
        "0s - loss: 3.3397 - val_loss: 4.3680\n"
       ]
      },
      {
       "output_type": "stream",
       "stream": "stdout",
       "text": [
        "Epoch 2692/3000\n",
        "0s - loss: 3.3302 - val_loss: 4.2732\n"
       ]
      },
      {
       "output_type": "stream",
       "stream": "stdout",
       "text": [
        "Epoch 2693/3000\n",
        "0s - loss: 3.2199 - val_loss: 4.1865\n"
       ]
      },
      {
       "output_type": "stream",
       "stream": "stdout",
       "text": [
        "Epoch 2694/3000\n",
        "0s - loss: 3.1868 - val_loss: 4.1454\n"
       ]
      },
      {
       "output_type": "stream",
       "stream": "stdout",
       "text": [
        "Epoch 2695/3000\n",
        "0s - loss: 3.1628 - val_loss: 4.1859\n"
       ]
      },
      {
       "output_type": "stream",
       "stream": "stdout",
       "text": [
        "Epoch 2696/3000\n",
        "0s - loss: 3.1705 - val_loss: 4.3132\n"
       ]
      },
      {
       "output_type": "stream",
       "stream": "stdout",
       "text": [
        "Epoch 2697/3000\n",
        "0s - loss: 3.1675 - val_loss: 4.2533\n"
       ]
      },
      {
       "output_type": "stream",
       "stream": "stdout",
       "text": [
        "Epoch 2698/3000\n",
        "0s - loss: 3.1686 - val_loss: 4.2771\n",
        "Epoch 2699/3000\n",
        "0s - loss: 3.1554 - val_loss: 4.2627\n"
       ]
      },
      {
       "output_type": "stream",
       "stream": "stdout",
       "text": [
        "Epoch 2700/3000\n",
        "0s - loss: 3.3534 - val_loss: 4.6735\n"
       ]
      },
      {
       "output_type": "stream",
       "stream": "stdout",
       "text": [
        "Epoch 2701/3000\n",
        "0s - loss: 3.5985 - val_loss: 4.3653\n"
       ]
      },
      {
       "output_type": "stream",
       "stream": "stdout",
       "text": [
        "Epoch 2702/3000\n",
        "0s - loss: 3.3430 - val_loss: 4.3067\n"
       ]
      },
      {
       "output_type": "stream",
       "stream": "stdout",
       "text": [
        "Epoch 2703/3000\n",
        "0s - loss: 3.1417 - val_loss: 4.1735\n"
       ]
      },
      {
       "output_type": "stream",
       "stream": "stdout",
       "text": [
        "Epoch 2704/3000\n",
        "0s - loss: 3.0346 - val_loss: 4.5060\n"
       ]
      },
      {
       "output_type": "stream",
       "stream": "stdout",
       "text": [
        "Epoch 2705/3000\n",
        "0s - loss: 3.2389 - val_loss: 4.2850\n"
       ]
      },
      {
       "output_type": "stream",
       "stream": "stdout",
       "text": [
        "Epoch 2706/3000\n",
        "0s - loss: 3.0542 - val_loss: 4.1729\n",
        "Epoch 2707/3000\n",
        "0s - loss: 3.1643 - val_loss: 4.3709\n"
       ]
      },
      {
       "output_type": "stream",
       "stream": "stdout",
       "text": [
        "Epoch 2708/3000\n",
        "0s - loss: 3.2973 - val_loss: 4.3293\n"
       ]
      },
      {
       "output_type": "stream",
       "stream": "stdout",
       "text": [
        "Epoch 2709/3000\n",
        "0s - loss: 3.3671 - val_loss: 4.3555\n",
        "Epoch 2710/3000\n",
        "0s - loss: 3.3283 - val_loss: 4.4229\n"
       ]
      },
      {
       "output_type": "stream",
       "stream": "stdout",
       "text": [
        "Epoch 2711/3000\n",
        "0s - loss: 3.3174 - val_loss: 4.2157\n",
        "Epoch 2712/3000\n",
        "0s - loss: 3.0999 - val_loss: 4.2613\n"
       ]
      },
      {
       "output_type": "stream",
       "stream": "stdout",
       "text": [
        "Epoch 2713/3000\n",
        "0s - loss: 3.1097 - val_loss: 4.3063\n"
       ]
      },
      {
       "output_type": "stream",
       "stream": "stdout",
       "text": [
        "Epoch 2714/3000\n",
        "0s - loss: 3.1489 - val_loss: 4.3505\n"
       ]
      },
      {
       "output_type": "stream",
       "stream": "stdout",
       "text": [
        "Epoch 2715/3000\n",
        "0s - loss: 3.2906 - val_loss: 4.5724\n"
       ]
      },
      {
       "output_type": "stream",
       "stream": "stdout",
       "text": [
        "Epoch 2716/3000\n",
        "0s - loss: 3.3242 - val_loss: 4.3012\n"
       ]
      },
      {
       "output_type": "stream",
       "stream": "stdout",
       "text": [
        "Epoch 2717/3000\n",
        "0s - loss: 3.1769 - val_loss: 4.3377\n"
       ]
      },
      {
       "output_type": "stream",
       "stream": "stdout",
       "text": [
        "Epoch 2718/3000\n",
        "0s - loss: 3.2136 - val_loss: 4.5961\n"
       ]
      },
      {
       "output_type": "stream",
       "stream": "stdout",
       "text": [
        "Epoch 2719/3000\n",
        "0s - loss: 3.3919 - val_loss: 4.2559\n"
       ]
      },
      {
       "output_type": "stream",
       "stream": "stdout",
       "text": [
        "Epoch 2720/3000\n",
        "0s - loss: 3.0891 - val_loss: 4.1862\n"
       ]
      },
      {
       "output_type": "stream",
       "stream": "stdout",
       "text": [
        "Epoch 2721/3000\n",
        "0s - loss: 3.1672 - val_loss: 4.3680\n"
       ]
      },
      {
       "output_type": "stream",
       "stream": "stdout",
       "text": [
        "Epoch 2722/3000\n",
        "0s - loss: 3.3385 - val_loss: 4.2341\n"
       ]
      },
      {
       "output_type": "stream",
       "stream": "stdout",
       "text": [
        "Epoch 2723/3000\n",
        "0s - loss: 3.1646 - val_loss: 4.3462\n"
       ]
      },
      {
       "output_type": "stream",
       "stream": "stdout",
       "text": [
        "Epoch 2724/3000\n",
        "0s - loss: 3.2990 - val_loss: 4.2280\n"
       ]
      },
      {
       "output_type": "stream",
       "stream": "stdout",
       "text": [
        "Epoch 2725/3000\n",
        "0s - loss: 3.1708 - val_loss: 4.1925\n"
       ]
      },
      {
       "output_type": "stream",
       "stream": "stdout",
       "text": [
        "Epoch 2726/3000\n",
        "0s - loss: 3.1883 - val_loss: 4.3180\n"
       ]
      },
      {
       "output_type": "stream",
       "stream": "stdout",
       "text": [
        "Epoch 2727/3000\n",
        "0s - loss: 3.1875 - val_loss: 4.3734\n"
       ]
      },
      {
       "output_type": "stream",
       "stream": "stdout",
       "text": [
        "Epoch 2728/3000\n",
        "0s - loss: 3.1377 - val_loss: 4.1809\n"
       ]
      },
      {
       "output_type": "stream",
       "stream": "stdout",
       "text": [
        "Epoch 2729/3000\n",
        "0s - loss: 3.1154 - val_loss: 4.5663\n"
       ]
      },
      {
       "output_type": "stream",
       "stream": "stdout",
       "text": [
        "Epoch 2730/3000\n",
        "0s - loss: 3.3109 - val_loss: 4.3954\n"
       ]
      },
      {
       "output_type": "stream",
       "stream": "stdout",
       "text": [
        "Epoch 2731/3000\n",
        "0s - loss: 3.2972 - val_loss: 4.3644\n"
       ]
      },
      {
       "output_type": "stream",
       "stream": "stdout",
       "text": [
        "Epoch 2732/3000\n",
        "0s - loss: 3.3364 - val_loss: 4.4397\n",
        "Epoch 2733/3000\n",
        "0s - loss: 3.2441 - val_loss: 4.2147\n"
       ]
      },
      {
       "output_type": "stream",
       "stream": "stdout",
       "text": [
        "Epoch 2734/3000\n",
        "0s - loss: 3.1156 - val_loss: 4.7255\n"
       ]
      },
      {
       "output_type": "stream",
       "stream": "stdout",
       "text": [
        "Epoch 2735/3000\n",
        "0s - loss: 3.4801 - val_loss: 4.4569\n"
       ]
      },
      {
       "output_type": "stream",
       "stream": "stdout",
       "text": [
        "Epoch 2736/3000\n",
        "0s - loss: 3.1817 - val_loss: 4.2471\n"
       ]
      },
      {
       "output_type": "stream",
       "stream": "stdout",
       "text": [
        "Epoch 2737/3000\n",
        "0s - loss: 3.1009 - val_loss: 4.2654\n"
       ]
      },
      {
       "output_type": "stream",
       "stream": "stdout",
       "text": [
        "Epoch 2738/3000\n",
        "0s - loss: 3.1844 - val_loss: 4.1220\n"
       ]
      },
      {
       "output_type": "stream",
       "stream": "stdout",
       "text": [
        "Epoch 2739/3000\n",
        "0s - loss: 3.0993 - val_loss: 4.4337\n"
       ]
      },
      {
       "output_type": "stream",
       "stream": "stdout",
       "text": [
        "Epoch 2740/3000\n",
        "0s - loss: 3.4823 - val_loss: 4.3821\n"
       ]
      },
      {
       "output_type": "stream",
       "stream": "stdout",
       "text": [
        "Epoch 2741/3000\n",
        "0s - loss: 3.1892 - val_loss: 4.2579\n",
        "Epoch 2742/3000\n",
        "0s - loss: 3.1592 - val_loss: 4.3408\n"
       ]
      },
      {
       "output_type": "stream",
       "stream": "stdout",
       "text": [
        "Epoch 2743/3000\n",
        "0s - loss: 3.2198 - val_loss: 4.2841\n"
       ]
      },
      {
       "output_type": "stream",
       "stream": "stdout",
       "text": [
        "Epoch 2744/3000\n",
        "0s - loss: 3.1711 - val_loss: 4.4369\n"
       ]
      },
      {
       "output_type": "stream",
       "stream": "stdout",
       "text": [
        "Epoch 2745/3000\n",
        "0s - loss: 3.1485 - val_loss: 4.2165\n",
        "Epoch 2746/3000\n",
        "0s - loss: 3.1487 - val_loss: 4.2445\n"
       ]
      },
      {
       "output_type": "stream",
       "stream": "stdout",
       "text": [
        "Epoch 2747/3000\n",
        "0s - loss: 3.2233 - val_loss: 4.2614\n"
       ]
      },
      {
       "output_type": "stream",
       "stream": "stdout",
       "text": [
        "Epoch 2748/3000\n",
        "0s - loss: 3.2035 - val_loss: 4.2391\n"
       ]
      },
      {
       "output_type": "stream",
       "stream": "stdout",
       "text": [
        "Epoch 2749/3000\n",
        "0s - loss: 3.2251 - val_loss: 4.4804\n"
       ]
      },
      {
       "output_type": "stream",
       "stream": "stdout",
       "text": [
        "Epoch 2750/3000\n",
        "0s - loss: 3.3733 - val_loss: 4.3934\n"
       ]
      },
      {
       "output_type": "stream",
       "stream": "stdout",
       "text": [
        "Epoch 2751/3000\n",
        "0s - loss: 3.3305 - val_loss: 4.4262\n"
       ]
      },
      {
       "output_type": "stream",
       "stream": "stdout",
       "text": [
        "Epoch 2752/3000\n",
        "0s - loss: 3.2870 - val_loss: 4.3711\n"
       ]
      },
      {
       "output_type": "stream",
       "stream": "stdout",
       "text": [
        "Epoch 2753/3000\n",
        "0s - loss: 3.1691 - val_loss: 4.3917\n"
       ]
      },
      {
       "output_type": "stream",
       "stream": "stdout",
       "text": [
        "Epoch 2754/3000\n",
        "0s - loss: 3.2326 - val_loss: 4.3984\n"
       ]
      },
      {
       "output_type": "stream",
       "stream": "stdout",
       "text": [
        "Epoch 2755/3000\n",
        "0s - loss: 3.1836 - val_loss: 4.2518\n"
       ]
      },
      {
       "output_type": "stream",
       "stream": "stdout",
       "text": [
        "Epoch 2756/3000\n",
        "0s - loss: 3.4341 - val_loss: 4.2705\n"
       ]
      },
      {
       "output_type": "stream",
       "stream": "stdout",
       "text": [
        "Epoch 2757/3000\n",
        "0s - loss: 3.2094 - val_loss: 4.1322\n"
       ]
      },
      {
       "output_type": "stream",
       "stream": "stdout",
       "text": [
        "Epoch 2758/3000\n",
        "0s - loss: 3.1112 - val_loss: 4.0579\n"
       ]
      },
      {
       "output_type": "stream",
       "stream": "stdout",
       "text": [
        "Epoch 2759/3000\n",
        "0s - loss: 3.0524 - val_loss: 4.1793\n"
       ]
      },
      {
       "output_type": "stream",
       "stream": "stdout",
       "text": [
        "Epoch 2760/3000\n",
        "0s - loss: 3.1657 - val_loss: 4.3919\n"
       ]
      },
      {
       "output_type": "stream",
       "stream": "stdout",
       "text": [
        "Epoch 2761/3000\n",
        "0s - loss: 3.4222 - val_loss: 4.6056\n"
       ]
      },
      {
       "output_type": "stream",
       "stream": "stdout",
       "text": [
        "Epoch 2762/3000\n",
        "0s - loss: 3.3901 - val_loss: 4.4125\n"
       ]
      },
      {
       "output_type": "stream",
       "stream": "stdout",
       "text": [
        "Epoch 2763/3000\n",
        "0s - loss: 3.3779 - val_loss: 4.3768\n"
       ]
      },
      {
       "output_type": "stream",
       "stream": "stdout",
       "text": [
        "Epoch 2764/3000\n",
        "0s - loss: 3.2259 - val_loss: 4.2095\n"
       ]
      },
      {
       "output_type": "stream",
       "stream": "stdout",
       "text": [
        "Epoch 2765/3000\n",
        "0s - loss: 3.1147 - val_loss: 4.2120\n"
       ]
      },
      {
       "output_type": "stream",
       "stream": "stdout",
       "text": [
        "Epoch 2766/3000\n",
        "0s - loss: 3.1182 - val_loss: 4.2691\n"
       ]
      },
      {
       "output_type": "stream",
       "stream": "stdout",
       "text": [
        "Epoch 2767/3000\n",
        "0s - loss: 3.3041 - val_loss: 4.7017\n"
       ]
      },
      {
       "output_type": "stream",
       "stream": "stdout",
       "text": [
        "Epoch 2768/3000\n",
        "0s - loss: 3.5529 - val_loss: 4.2444\n"
       ]
      },
      {
       "output_type": "stream",
       "stream": "stdout",
       "text": [
        "Epoch 2769/3000\n",
        "0s - loss: 3.1802 - val_loss: 4.3019\n"
       ]
      },
      {
       "output_type": "stream",
       "stream": "stdout",
       "text": [
        "Epoch 2770/3000\n",
        "0s - loss: 3.1615 - val_loss: 4.1829\n"
       ]
      },
      {
       "output_type": "stream",
       "stream": "stdout",
       "text": [
        "Epoch 2771/3000\n",
        "0s - loss: 3.0437 - val_loss: 4.1747\n"
       ]
      },
      {
       "output_type": "stream",
       "stream": "stdout",
       "text": [
        "Epoch 2772/3000\n",
        "0s - loss: 3.1514 - val_loss: 4.1799\n"
       ]
      },
      {
       "output_type": "stream",
       "stream": "stdout",
       "text": [
        "Epoch 2773/3000\n",
        "0s - loss: 3.1579 - val_loss: 4.1234\n"
       ]
      },
      {
       "output_type": "stream",
       "stream": "stdout",
       "text": [
        "Epoch 2774/3000\n",
        "0s - loss: 3.0630 - val_loss: 4.1155\n"
       ]
      },
      {
       "output_type": "stream",
       "stream": "stdout",
       "text": [
        "Epoch 2775/3000\n",
        "0s - loss: 3.1773 - val_loss: 4.4950\n",
        "Epoch 2776/3000\n",
        "0s - loss: 3.6804 - val_loss: 4.8002\n"
       ]
      },
      {
       "output_type": "stream",
       "stream": "stdout",
       "text": [
        "Epoch 2777/3000\n",
        "0s - loss: 3.6171 - val_loss: 4.1355\n"
       ]
      },
      {
       "output_type": "stream",
       "stream": "stdout",
       "text": [
        "Epoch 2778/3000\n",
        "0s - loss: 3.1749 - val_loss: 4.0945\n"
       ]
      },
      {
       "output_type": "stream",
       "stream": "stdout",
       "text": [
        "Epoch 2779/3000\n",
        "0s - loss: 3.0851 - val_loss: 4.2465\n"
       ]
      },
      {
       "output_type": "stream",
       "stream": "stdout",
       "text": [
        "Epoch 2780/3000\n",
        "0s - loss: 3.2436 - val_loss: 4.3047\n"
       ]
      },
      {
       "output_type": "stream",
       "stream": "stdout",
       "text": [
        "Epoch 2781/3000\n",
        "0s - loss: 3.1442 - val_loss: 4.0270\n"
       ]
      },
      {
       "output_type": "stream",
       "stream": "stdout",
       "text": [
        "Epoch 2782/3000\n",
        "0s - loss: 3.0290 - val_loss: 4.0589\n"
       ]
      },
      {
       "output_type": "stream",
       "stream": "stdout",
       "text": [
        "Epoch 2783/3000\n",
        "0s - loss: 3.1506 - val_loss: 4.2513\n"
       ]
      },
      {
       "output_type": "stream",
       "stream": "stdout",
       "text": [
        "Epoch 2784/3000\n",
        "0s - loss: 3.2129 - val_loss: 4.1579\n",
        "Epoch 2785/3000\n",
        "0s - loss: 3.1042 - val_loss: 4.4226\n"
       ]
      },
      {
       "output_type": "stream",
       "stream": "stdout",
       "text": [
        "Epoch 2786/3000\n",
        "0s - loss: 3.2545 - val_loss: 4.2477\n"
       ]
      },
      {
       "output_type": "stream",
       "stream": "stdout",
       "text": [
        "Epoch 2787/3000\n",
        "0s - loss: 3.1053 - val_loss: 4.4386\n"
       ]
      },
      {
       "output_type": "stream",
       "stream": "stdout",
       "text": [
        "Epoch 2788/3000\n",
        "0s - loss: 3.3809 - val_loss: 4.4467\n"
       ]
      },
      {
       "output_type": "stream",
       "stream": "stdout",
       "text": [
        "Epoch 2789/3000\n",
        "0s - loss: 3.3941 - val_loss: 4.3714\n"
       ]
      },
      {
       "output_type": "stream",
       "stream": "stdout",
       "text": [
        "Epoch 2790/3000\n",
        "0s - loss: 3.3991 - val_loss: 4.4900\n"
       ]
      },
      {
       "output_type": "stream",
       "stream": "stdout",
       "text": [
        "Epoch 2791/3000\n",
        "0s - loss: 3.4054 - val_loss: 4.3639\n"
       ]
      },
      {
       "output_type": "stream",
       "stream": "stdout",
       "text": [
        "Epoch 2792/3000\n",
        "0s - loss: 3.0587 - val_loss: 4.2531\n"
       ]
      },
      {
       "output_type": "stream",
       "stream": "stdout",
       "text": [
        "Epoch 2793/3000\n",
        "0s - loss: 3.0779 - val_loss: 4.3317\n"
       ]
      },
      {
       "output_type": "stream",
       "stream": "stdout",
       "text": [
        "Epoch 2794/3000\n",
        "0s - loss: 3.2222 - val_loss: 4.4852\n"
       ]
      },
      {
       "output_type": "stream",
       "stream": "stdout",
       "text": [
        "Epoch 2795/3000\n",
        "0s - loss: 3.3552 - val_loss: 4.3290\n"
       ]
      },
      {
       "output_type": "stream",
       "stream": "stdout",
       "text": [
        "Epoch 2796/3000\n",
        "0s - loss: 3.1437 - val_loss: 4.2379\n"
       ]
      },
      {
       "output_type": "stream",
       "stream": "stdout",
       "text": [
        "Epoch 2797/3000\n",
        "0s - loss: 3.0863 - val_loss: 4.1127\n"
       ]
      },
      {
       "output_type": "stream",
       "stream": "stdout",
       "text": [
        "Epoch 2798/3000\n",
        "0s - loss: 3.1078 - val_loss: 4.3050\n"
       ]
      },
      {
       "output_type": "stream",
       "stream": "stdout",
       "text": [
        "Epoch 2799/3000\n",
        "0s - loss: 3.3333 - val_loss: 4.3360\n"
       ]
      },
      {
       "output_type": "stream",
       "stream": "stdout",
       "text": [
        "Epoch 2800/3000\n",
        "0s - loss: 3.1415 - val_loss: 4.1816\n"
       ]
      },
      {
       "output_type": "stream",
       "stream": "stdout",
       "text": [
        "Epoch 2801/3000\n",
        "0s - loss: 3.0764 - val_loss: 4.3596\n"
       ]
      },
      {
       "output_type": "stream",
       "stream": "stdout",
       "text": [
        "Epoch 2802/3000\n",
        "0s - loss: 3.2903 - val_loss: 4.3999\n"
       ]
      },
      {
       "output_type": "stream",
       "stream": "stdout",
       "text": [
        "Epoch 2803/3000\n",
        "0s - loss: 3.1708 - val_loss: 4.2217\n"
       ]
      },
      {
       "output_type": "stream",
       "stream": "stdout",
       "text": [
        "Epoch 2804/3000\n",
        "0s - loss: 3.2304 - val_loss: 4.5944\n"
       ]
      },
      {
       "output_type": "stream",
       "stream": "stdout",
       "text": [
        "Epoch 2805/3000\n",
        "0s - loss: 3.5029 - val_loss: 4.4282\n"
       ]
      },
      {
       "output_type": "stream",
       "stream": "stdout",
       "text": [
        "Epoch 2806/3000\n",
        "0s - loss: 3.3229 - val_loss: 4.1072\n"
       ]
      },
      {
       "output_type": "stream",
       "stream": "stdout",
       "text": [
        "Epoch 2807/3000\n",
        "0s - loss: 3.0091 - val_loss: 4.0239\n"
       ]
      },
      {
       "output_type": "stream",
       "stream": "stdout",
       "text": [
        "Epoch 2808/3000\n",
        "0s - loss: 2.9700 - val_loss: 4.0624\n"
       ]
      },
      {
       "output_type": "stream",
       "stream": "stdout",
       "text": [
        "Epoch 2809/3000\n",
        "0s - loss: 3.0091 - val_loss: 4.0415\n"
       ]
      },
      {
       "output_type": "stream",
       "stream": "stdout",
       "text": [
        "Epoch 2810/3000\n",
        "0s - loss: 2.9823 - val_loss: 4.0667\n"
       ]
      },
      {
       "output_type": "stream",
       "stream": "stdout",
       "text": [
        "Epoch 2811/3000\n",
        "0s - loss: 3.0377 - val_loss: 4.5391\n"
       ]
      },
      {
       "output_type": "stream",
       "stream": "stdout",
       "text": [
        "Epoch 2812/3000\n",
        "0s - loss: 3.8442 - val_loss: 4.9245\n"
       ]
      },
      {
       "output_type": "stream",
       "stream": "stdout",
       "text": [
        "Epoch 2813/3000\n",
        "0s - loss: 3.7059 - val_loss: 4.6288\n"
       ]
      },
      {
       "output_type": "stream",
       "stream": "stdout",
       "text": [
        "Epoch 2814/3000\n",
        "0s - loss: 3.2973 - val_loss: 4.1693\n"
       ]
      },
      {
       "output_type": "stream",
       "stream": "stdout",
       "text": [
        "Epoch 2815/3000\n",
        "0s - loss: 2.9710 - val_loss: 4.1865\n"
       ]
      },
      {
       "output_type": "stream",
       "stream": "stdout",
       "text": [
        "Epoch 2816/3000\n",
        "0s - loss: 3.0236 - val_loss: 4.5626\n"
       ]
      },
      {
       "output_type": "stream",
       "stream": "stdout",
       "text": [
        "Epoch 2817/3000\n",
        "0s - loss: 3.3887 - val_loss: 4.4018\n"
       ]
      },
      {
       "output_type": "stream",
       "stream": "stdout",
       "text": [
        "Epoch 2818/3000\n",
        "0s - loss: 3.1039 - val_loss: 4.1193\n",
        "Epoch 2819/3000\n",
        "0s - loss: 3.1018 - val_loss: 4.2537\n"
       ]
      },
      {
       "output_type": "stream",
       "stream": "stdout",
       "text": [
        "Epoch 2820/3000\n",
        "0s - loss: 3.2543 - val_loss: 4.1354\n"
       ]
      },
      {
       "output_type": "stream",
       "stream": "stdout",
       "text": [
        "Epoch 2821/3000\n",
        "0s - loss: 3.1343 - val_loss: 4.3329\n",
        "Epoch 2822/3000\n",
        "0s - loss: 3.6272 - val_loss: 4.4907\n"
       ]
      },
      {
       "output_type": "stream",
       "stream": "stdout",
       "text": [
        "Epoch 2823/3000\n",
        "0s - loss: 3.3609 - val_loss: 4.2999\n"
       ]
      },
      {
       "output_type": "stream",
       "stream": "stdout",
       "text": [
        "Epoch 2824/3000\n",
        "0s - loss: 3.2477 - val_loss: 4.2280\n"
       ]
      },
      {
       "output_type": "stream",
       "stream": "stdout",
       "text": [
        "Epoch 2825/3000\n",
        "0s - loss: 3.1345 - val_loss: 4.1529\n",
        "Epoch 2826/3000"
       ]
      },
      {
       "output_type": "stream",
       "stream": "stdout",
       "text": [
        "\n",
        "0s - loss: 3.0240 - val_loss: 4.3131\n"
       ]
      },
      {
       "output_type": "stream",
       "stream": "stdout",
       "text": [
        "Epoch 2827/3000\n",
        "0s - loss: 3.1278 - val_loss: 4.3010\n",
        "Epoch 2828/3000\n",
        "0s - loss: 3.1203 - val_loss: 4.4556\n"
       ]
      },
      {
       "output_type": "stream",
       "stream": "stdout",
       "text": [
        "Epoch 2829/3000\n",
        "0s - loss: 3.4513 - val_loss: 4.3669\n",
        "Epoch 2830/3000\n",
        "0s - loss: 3.2229 - val_loss: 4.1959\n"
       ]
      },
      {
       "output_type": "stream",
       "stream": "stdout",
       "text": [
        "Epoch 2831/3000\n",
        "0s - loss: 3.1289 - val_loss: 4.1003\n",
        "Epoch 2832/3000\n",
        "0s - loss: 3.1412 - val_loss: 4.3065\n"
       ]
      },
      {
       "output_type": "stream",
       "stream": "stdout",
       "text": [
        "Epoch 2833/3000\n",
        "0s - loss: 3.1974 - val_loss: 4.2052\n"
       ]
      },
      {
       "output_type": "stream",
       "stream": "stdout",
       "text": [
        "Epoch 2834/3000\n",
        "0s - loss: 3.2699 - val_loss: 4.5869\n"
       ]
      },
      {
       "output_type": "stream",
       "stream": "stdout",
       "text": [
        "Epoch 2835/3000\n",
        "0s - loss: 3.4183 - val_loss: 4.3762\n",
        "Epoch 2836/3000\n",
        "0s - loss: 3.2563 - val_loss: 4.2297\n"
       ]
      },
      {
       "output_type": "stream",
       "stream": "stdout",
       "text": [
        "Epoch 2837/3000\n",
        "0s - loss: 3.2050 - val_loss: 4.2705\n"
       ]
      },
      {
       "output_type": "stream",
       "stream": "stdout",
       "text": [
        "Epoch 2838/3000\n",
        "0s - loss: 3.2001 - val_loss: 4.2534\n"
       ]
      },
      {
       "output_type": "stream",
       "stream": "stdout",
       "text": [
        "Epoch 2839/3000\n",
        "0s - loss: 3.1566 - val_loss: 4.1712\n"
       ]
      },
      {
       "output_type": "stream",
       "stream": "stdout",
       "text": [
        "Epoch 2840/3000\n",
        "0s - loss: 3.0977 - val_loss: 4.0875\n",
        "Epoch 2841/3000\n",
        "0s - loss: 3.0538 - val_loss: 4.1690\n"
       ]
      },
      {
       "output_type": "stream",
       "stream": "stdout",
       "text": [
        "Epoch 2842/3000\n",
        "0s - loss: 3.1985 - val_loss: 4.5354\n"
       ]
      },
      {
       "output_type": "stream",
       "stream": "stdout",
       "text": [
        "Epoch 2843/3000\n",
        "0s - loss: 3.4522 - val_loss: 4.4410\n"
       ]
      },
      {
       "output_type": "stream",
       "stream": "stdout",
       "text": [
        "Epoch 2844/3000\n",
        "0s - loss: 3.4272 - val_loss: 4.2262\n",
        "Epoch 2845/3000\n",
        "0s - loss: 3.2895 - val_loss: 4.3151\n"
       ]
      },
      {
       "output_type": "stream",
       "stream": "stdout",
       "text": [
        "Epoch 2846/3000\n",
        "0s - loss: 3.2779 - val_loss: 4.1856\n"
       ]
      },
      {
       "output_type": "stream",
       "stream": "stdout",
       "text": [
        "Epoch 2847/3000\n",
        "0s - loss: 3.1485 - val_loss: 4.4197\n"
       ]
      },
      {
       "output_type": "stream",
       "stream": "stdout",
       "text": [
        "Epoch 2848/3000\n",
        "0s - loss: 3.1730 - val_loss: 4.1428\n"
       ]
      },
      {
       "output_type": "stream",
       "stream": "stdout",
       "text": [
        "Epoch 2849/3000\n",
        "0s - loss: 3.0229 - val_loss: 4.1935\n"
       ]
      },
      {
       "output_type": "stream",
       "stream": "stdout",
       "text": [
        "Epoch 2850/3000\n",
        "0s - loss: 3.2101 - val_loss: 4.3398\n"
       ]
      },
      {
       "output_type": "stream",
       "stream": "stdout",
       "text": [
        "Epoch 2851/3000\n",
        "0s - loss: 3.3956 - val_loss: 4.2514\n"
       ]
      },
      {
       "output_type": "stream",
       "stream": "stdout",
       "text": [
        "Epoch 2852/3000\n",
        "0s - loss: 3.1949 - val_loss: 4.1678\n",
        "Epoch 2853/3000\n",
        "0s - loss: 3.1590 - val_loss: 4.2610\n"
       ]
      },
      {
       "output_type": "stream",
       "stream": "stdout",
       "text": [
        "Epoch 2854/3000\n",
        "0s - loss: 3.2791 - val_loss: 4.1968\n"
       ]
      },
      {
       "output_type": "stream",
       "stream": "stdout",
       "text": [
        "Epoch 2855/3000\n",
        "0s - loss: 3.1545 - val_loss: 4.1659\n"
       ]
      },
      {
       "output_type": "stream",
       "stream": "stdout",
       "text": [
        "Epoch 2856/3000\n",
        "0s - loss: 3.1860 - val_loss: 4.3269\n"
       ]
      },
      {
       "output_type": "stream",
       "stream": "stdout",
       "text": [
        "Epoch 2857/3000\n",
        "0s - loss: 3.1763 - val_loss: 4.1951\n"
       ]
      },
      {
       "output_type": "stream",
       "stream": "stdout",
       "text": [
        "Epoch 2858/3000\n",
        "0s - loss: 3.0736 - val_loss: 4.1683\n"
       ]
      },
      {
       "output_type": "stream",
       "stream": "stdout",
       "text": [
        "Epoch 2859/3000\n",
        "0s - loss: 3.0421 - val_loss: 4.4136\n"
       ]
      },
      {
       "output_type": "stream",
       "stream": "stdout",
       "text": [
        "Epoch 2860/3000\n",
        "0s - loss: 3.3346 - val_loss: 4.3496\n",
        "Epoch 2861/3000\n",
        "0s - loss: 3.1139 - val_loss: 4.1112\n"
       ]
      },
      {
       "output_type": "stream",
       "stream": "stdout",
       "text": [
        "Epoch 2862/3000\n",
        "0s - loss: 3.0579 - val_loss: 4.2944\n"
       ]
      },
      {
       "output_type": "stream",
       "stream": "stdout",
       "text": [
        "Epoch 2863/3000\n",
        "0s - loss: 3.3855 - val_loss: 4.4491\n"
       ]
      },
      {
       "output_type": "stream",
       "stream": "stdout",
       "text": [
        "Epoch 2864/3000\n",
        "0s - loss: 3.4890 - val_loss: 4.3602\n"
       ]
      },
      {
       "output_type": "stream",
       "stream": "stdout",
       "text": [
        "Epoch 2865/3000\n",
        "0s - loss: 3.2695 - val_loss: 4.1521\n"
       ]
      },
      {
       "output_type": "stream",
       "stream": "stdout",
       "text": [
        "Epoch 2866/3000\n",
        "0s - loss: 3.1337 - val_loss: 4.2868\n"
       ]
      },
      {
       "output_type": "stream",
       "stream": "stdout",
       "text": [
        "Epoch 2867/3000\n",
        "0s - loss: 3.2334 - val_loss: 4.1981\n"
       ]
      },
      {
       "output_type": "stream",
       "stream": "stdout",
       "text": [
        "Epoch 2868/3000\n",
        "0s - loss: 3.1111 - val_loss: 4.1607\n"
       ]
      },
      {
       "output_type": "stream",
       "stream": "stdout",
       "text": [
        "Epoch 2869/3000\n",
        "0s - loss: 3.1684 - val_loss: 4.3772\n"
       ]
      },
      {
       "output_type": "stream",
       "stream": "stdout",
       "text": [
        "Epoch 2870/3000\n",
        "0s - loss: 3.4384 - val_loss: 4.6415\n",
        "Epoch 2871/3000\n",
        "0s - loss: 3.4298 - val_loss: 4.2715\n"
       ]
      },
      {
       "output_type": "stream",
       "stream": "stdout",
       "text": [
        "Epoch 2872/3000\n",
        "0s - loss: 3.1392 - val_loss: 4.2448\n",
        "Epoch 2873/3000\n",
        "0s - loss: 3.1257 - val_loss: 4.1603\n"
       ]
      },
      {
       "output_type": "stream",
       "stream": "stdout",
       "text": [
        "Epoch 2874/3000\n",
        "0s - loss: 3.0782 - val_loss: 4.3058\n"
       ]
      },
      {
       "output_type": "stream",
       "stream": "stdout",
       "text": [
        "Epoch 2875/3000\n",
        "0s - loss: 3.0953 - val_loss: 4.1925\n",
        "Epoch 2876/3000"
       ]
      },
      {
       "output_type": "stream",
       "stream": "stdout",
       "text": [
        "\n",
        "0s - loss: 3.1008 - val_loss: 4.3591\n"
       ]
      },
      {
       "output_type": "stream",
       "stream": "stdout",
       "text": [
        "Epoch 2877/3000\n",
        "0s - loss: 3.1635 - val_loss: 4.2468\n",
        "Epoch 2878/3000\n",
        "0s - loss: 3.2518 - val_loss: 4.3848\n"
       ]
      },
      {
       "output_type": "stream",
       "stream": "stdout",
       "text": [
        "Epoch 2879/3000\n",
        "0s - loss: 3.2267 - val_loss: 4.3151\n"
       ]
      },
      {
       "output_type": "stream",
       "stream": "stdout",
       "text": [
        "Epoch 2880/3000\n",
        "0s - loss: 3.2179 - val_loss: 4.5532\n"
       ]
      },
      {
       "output_type": "stream",
       "stream": "stdout",
       "text": [
        "Epoch 2881/3000\n",
        "0s - loss: 3.2443 - val_loss: 4.5270\n",
        "Epoch 2882/3000\n",
        "0s - loss: 3.3060 - val_loss: 4.3877\n"
       ]
      },
      {
       "output_type": "stream",
       "stream": "stdout",
       "text": [
        "Epoch 2883/3000\n",
        "0s - loss: 3.1958 - val_loss: 4.3228\n",
        "Epoch 2884/3000\n",
        "0s - loss: 3.2368 - val_loss: 4.2611\n"
       ]
      },
      {
       "output_type": "stream",
       "stream": "stdout",
       "text": [
        "Epoch 2885/3000\n",
        "0s - loss: 3.0910 - val_loss: 4.1918\n"
       ]
      },
      {
       "output_type": "stream",
       "stream": "stdout",
       "text": [
        "Epoch 2886/3000\n",
        "0s - loss: 3.1552 - val_loss: 4.4743\n"
       ]
      },
      {
       "output_type": "stream",
       "stream": "stdout",
       "text": [
        "Epoch 2887/3000\n",
        "0s - loss: 3.2749 - val_loss: 4.2783\n"
       ]
      },
      {
       "output_type": "stream",
       "stream": "stdout",
       "text": [
        "Epoch 2888/3000\n",
        "0s - loss: 3.1836 - val_loss: 4.2614\n"
       ]
      },
      {
       "output_type": "stream",
       "stream": "stdout",
       "text": [
        "Epoch 2889/3000\n",
        "0s - loss: 3.1594 - val_loss: 4.1892\n"
       ]
      },
      {
       "output_type": "stream",
       "stream": "stdout",
       "text": [
        "Epoch 2890/3000\n",
        "0s - loss: 3.1790 - val_loss: 4.2559\n"
       ]
      },
      {
       "output_type": "stream",
       "stream": "stdout",
       "text": [
        "Epoch 2891/3000\n",
        "0s - loss: 3.2473 - val_loss: 4.3421\n",
        "Epoch 2892/3000\n",
        "0s - loss: 3.4409 - val_loss: 4.7597\n"
       ]
      },
      {
       "output_type": "stream",
       "stream": "stdout",
       "text": [
        "Epoch 2893/3000\n",
        "0s - loss: 3.6120 - val_loss: 4.1301\n",
        "Epoch 2894/3000\n",
        "0s - loss: 3.0674 - val_loss: 4.0822\n"
       ]
      },
      {
       "output_type": "stream",
       "stream": "stdout",
       "text": [
        "Epoch 2895/3000\n",
        "0s - loss: 2.9728 - val_loss: 4.0529\n"
       ]
      },
      {
       "output_type": "stream",
       "stream": "stdout",
       "text": [
        "Epoch 2896/3000\n",
        "0s - loss: 3.0658 - val_loss: 4.1411\n"
       ]
      },
      {
       "output_type": "stream",
       "stream": "stdout",
       "text": [
        "Epoch 2897/3000\n",
        "0s - loss: 3.1267 - val_loss: 4.2631\n"
       ]
      },
      {
       "output_type": "stream",
       "stream": "stdout",
       "text": [
        "Epoch 2898/3000\n",
        "0s - loss: 3.2725 - val_loss: 4.4248\n",
        "Epoch 2899/3000\n",
        "0s - loss: 3.3799 - val_loss: 4.4625\n"
       ]
      },
      {
       "output_type": "stream",
       "stream": "stdout",
       "text": [
        "Epoch 2900/3000\n",
        "0s - loss: 3.2352 - val_loss: 4.1899\n"
       ]
      },
      {
       "output_type": "stream",
       "stream": "stdout",
       "text": [
        "Epoch 2901/3000\n",
        "0s - loss: 3.0175 - val_loss: 4.1436\n"
       ]
      },
      {
       "output_type": "stream",
       "stream": "stdout",
       "text": [
        "Epoch 2902/3000\n",
        "0s - loss: 3.1018 - val_loss: 4.4052\n"
       ]
      },
      {
       "output_type": "stream",
       "stream": "stdout",
       "text": [
        "Epoch 2903/3000\n",
        "0s - loss: 3.2378 - val_loss: 4.4865\n"
       ]
      },
      {
       "output_type": "stream",
       "stream": "stdout",
       "text": [
        "Epoch 2904/3000\n",
        "0s - loss: 3.4812 - val_loss: 4.7645\n"
       ]
      },
      {
       "output_type": "stream",
       "stream": "stdout",
       "text": [
        "Epoch 2905/3000\n",
        "0s - loss: 3.4940 - val_loss: 4.3127\n"
       ]
      },
      {
       "output_type": "stream",
       "stream": "stdout",
       "text": [
        "Epoch 2906/3000\n",
        "0s - loss: 3.1031 - val_loss: 4.0716\n"
       ]
      },
      {
       "output_type": "stream",
       "stream": "stdout",
       "text": [
        "Epoch 2907/3000\n",
        "0s - loss: 3.0606 - val_loss: 4.2111\n"
       ]
      },
      {
       "output_type": "stream",
       "stream": "stdout",
       "text": [
        "Epoch 2908/3000\n",
        "0s - loss: 3.2495 - val_loss: 4.3193\n",
        "Epoch 2909/3000\n",
        "0s - loss: 3.1449 - val_loss: 4.2065\n"
       ]
      },
      {
       "output_type": "stream",
       "stream": "stdout",
       "text": [
        "Epoch 2910/3000\n",
        "0s - loss: 3.0980 - val_loss: 4.3302\n"
       ]
      },
      {
       "output_type": "stream",
       "stream": "stdout",
       "text": [
        "Epoch 2911/3000\n",
        "0s - loss: 3.2113 - val_loss: 4.3308\n"
       ]
      },
      {
       "output_type": "stream",
       "stream": "stdout",
       "text": [
        "Epoch 2912/3000\n",
        "0s - loss: 3.2793 - val_loss: 4.3110\n",
        "Epoch 2913/3000\n",
        "0s - loss: 3.2259 - val_loss: 4.3125\n"
       ]
      },
      {
       "output_type": "stream",
       "stream": "stdout",
       "text": [
        "Epoch 2914/3000\n",
        "0s - loss: 3.3544 - val_loss: 4.3802\n",
        "Epoch 2915/3000\n",
        "0s - loss: 3.3952 - val_loss: 4.2801\n"
       ]
      },
      {
       "output_type": "stream",
       "stream": "stdout",
       "text": [
        "Epoch 2916/3000\n",
        "0s - loss: 3.2792 - val_loss: 4.5124\n"
       ]
      },
      {
       "output_type": "stream",
       "stream": "stdout",
       "text": [
        "Epoch 2917/3000\n",
        "0s - loss: 3.3386 - val_loss: 4.3191\n"
       ]
      },
      {
       "output_type": "stream",
       "stream": "stdout",
       "text": [
        "Epoch 2918/3000\n",
        "0s - loss: 3.1471 - val_loss: 4.2699\n"
       ]
      },
      {
       "output_type": "stream",
       "stream": "stdout",
       "text": [
        "Epoch 2919/3000\n",
        "0s - loss: 3.2306 - val_loss: 4.2335\n",
        "Epoch 2920/3000\n",
        "0s - loss: 3.1887 - val_loss: 4.2023\n"
       ]
      },
      {
       "output_type": "stream",
       "stream": "stdout",
       "text": [
        "Epoch 2921/3000\n",
        "0s - loss: 3.1928 - val_loss: 4.0948\n",
        "Epoch 2922/3000\n",
        "0s - loss: 3.0310 - val_loss: 3.9774\n"
       ]
      },
      {
       "output_type": "stream",
       "stream": "stdout",
       "text": [
        "Epoch 2923/3000\n",
        "0s - loss: 2.9847 - val_loss: 4.0308\n"
       ]
      },
      {
       "output_type": "stream",
       "stream": "stdout",
       "text": [
        "Epoch 2924/3000\n",
        "0s - loss: 3.0272 - val_loss: 4.0631\n"
       ]
      },
      {
       "output_type": "stream",
       "stream": "stdout",
       "text": [
        "Epoch 2925/3000\n",
        "0s - loss: 3.0555 - val_loss: 4.2970\n"
       ]
      },
      {
       "output_type": "stream",
       "stream": "stdout",
       "text": [
        "Epoch 2926/3000\n",
        "0s - loss: 3.4017 - val_loss: 4.4664\n",
        "Epoch 2927/3000\n",
        "0s - loss: 3.4333 - val_loss: 4.4462\n"
       ]
      },
      {
       "output_type": "stream",
       "stream": "stdout",
       "text": [
        "Epoch 2928/3000\n",
        "0s - loss: 3.4629 - val_loss: 4.6128\n"
       ]
      },
      {
       "output_type": "stream",
       "stream": "stdout",
       "text": [
        "Epoch 2929/3000\n",
        "0s - loss: 3.3079 - val_loss: 4.2483\n"
       ]
      },
      {
       "output_type": "stream",
       "stream": "stdout",
       "text": [
        "Epoch 2930/3000\n",
        "0s - loss: 3.0448 - val_loss: 4.3258\n",
        "Epoch 2931/3000\n",
        "0s - loss: 3.1550 - val_loss: 4.2175\n"
       ]
      },
      {
       "output_type": "stream",
       "stream": "stdout",
       "text": [
        "Epoch 2932/3000\n",
        "0s - loss: 3.0842 - val_loss: 4.2228\n"
       ]
      },
      {
       "output_type": "stream",
       "stream": "stdout",
       "text": [
        "Epoch 2933/3000\n",
        "0s - loss: 3.2274 - val_loss: 4.5507\n"
       ]
      },
      {
       "output_type": "stream",
       "stream": "stdout",
       "text": [
        "Epoch 2934/3000\n",
        "0s - loss: 3.3870 - val_loss: 4.3328\n"
       ]
      },
      {
       "output_type": "stream",
       "stream": "stdout",
       "text": [
        "Epoch 2935/3000\n",
        "0s - loss: 3.1147 - val_loss: 4.2680\n"
       ]
      },
      {
       "output_type": "stream",
       "stream": "stdout",
       "text": [
        "Epoch 2936/3000\n",
        "0s - loss: 3.1427 - val_loss: 4.3280\n"
       ]
      },
      {
       "output_type": "stream",
       "stream": "stdout",
       "text": [
        "Epoch 2937/3000\n",
        "0s - loss: 3.1606 - val_loss: 4.2743\n"
       ]
      },
      {
       "output_type": "stream",
       "stream": "stdout",
       "text": [
        "Epoch 2938/3000\n",
        "0s - loss: 3.1543 - val_loss: 4.3914\n"
       ]
      },
      {
       "output_type": "stream",
       "stream": "stdout",
       "text": [
        "Epoch 2939/3000\n",
        "0s - loss: 3.3032 - val_loss: 4.2655\n"
       ]
      },
      {
       "output_type": "stream",
       "stream": "stdout",
       "text": [
        "Epoch 2940/3000\n",
        "0s - loss: 3.1293 - val_loss: 4.1756\n",
        "Epoch 2941/3000\n",
        "0s - loss: 3.0225 - val_loss: 4.2395\n"
       ]
      },
      {
       "output_type": "stream",
       "stream": "stdout",
       "text": [
        "Epoch 2942/3000\n",
        "0s - loss: 3.1558 - val_loss: 4.4629\n"
       ]
      },
      {
       "output_type": "stream",
       "stream": "stdout",
       "text": [
        "Epoch 2943/3000\n",
        "0s - loss: 3.2642 - val_loss: 4.3371\n"
       ]
      },
      {
       "output_type": "stream",
       "stream": "stdout",
       "text": [
        "Epoch 2944/3000\n",
        "0s - loss: 3.3229 - val_loss: 4.4995\n"
       ]
      },
      {
       "output_type": "stream",
       "stream": "stdout",
       "text": [
        "Epoch 2945/3000\n",
        "0s - loss: 3.3996 - val_loss: 4.4075\n"
       ]
      },
      {
       "output_type": "stream",
       "stream": "stdout",
       "text": [
        "Epoch 2946/3000\n",
        "0s - loss: 3.2192 - val_loss: 4.2388\n",
        "Epoch 2947/3000\n",
        "0s - loss: 3.1528 - val_loss: 4.1160\n"
       ]
      },
      {
       "output_type": "stream",
       "stream": "stdout",
       "text": [
        "Epoch 2948/3000\n",
        "0s - loss: 3.0242 - val_loss: 4.1143\n",
        "Epoch 2949/3000\n",
        "0s - loss: 3.1531 - val_loss: 4.5028\n"
       ]
      },
      {
       "output_type": "stream",
       "stream": "stdout",
       "text": [
        "Epoch 2950/3000\n",
        "0s - loss: 3.3155 - val_loss: 4.2980\n",
        "Epoch 2951/3000\n",
        "0s - loss: 3.1141 - val_loss: 4.0658\n"
       ]
      },
      {
       "output_type": "stream",
       "stream": "stdout",
       "text": [
        "Epoch 2952/3000\n",
        "0s - loss: 3.0885 - val_loss: 4.3681\n",
        "Epoch 2953/3000\n",
        "0s - loss: 3.3014 - val_loss: 4.3997\n"
       ]
      },
      {
       "output_type": "stream",
       "stream": "stdout",
       "text": [
        "Epoch 2954/3000\n",
        "0s - loss: 3.3467 - val_loss: 4.3591\n",
        "Epoch 2955/3000\n",
        "0s - loss: 3.2476 - val_loss: 4.0957\n"
       ]
      },
      {
       "output_type": "stream",
       "stream": "stdout",
       "text": [
        "Epoch 2956/3000\n",
        "0s - loss: 3.0746 - val_loss: 4.2783\n"
       ]
      },
      {
       "output_type": "stream",
       "stream": "stdout",
       "text": [
        "Epoch 2957/3000\n",
        "0s - loss: 3.2942 - val_loss: 4.2370\n",
        "Epoch 2958/3000\n",
        "0s - loss: 3.2173 - val_loss: 4.1080\n"
       ]
      },
      {
       "output_type": "stream",
       "stream": "stdout",
       "text": [
        "Epoch 2959/3000\n",
        "0s - loss: 3.1066 - val_loss: 4.1457\n",
        "Epoch 2960/3000"
       ]
      },
      {
       "output_type": "stream",
       "stream": "stdout",
       "text": [
        "\n",
        "0s - loss: 3.0973 - val_loss: 4.3963\n"
       ]
      },
      {
       "output_type": "stream",
       "stream": "stdout",
       "text": [
        "Epoch 2961/3000\n",
        "0s - loss: 3.1503 - val_loss: 4.2698\n",
        "Epoch 2962/3000\n",
        "0s - loss: 3.1090 - val_loss: 4.4880\n"
       ]
      },
      {
       "output_type": "stream",
       "stream": "stdout",
       "text": [
        "Epoch 2963/3000\n",
        "0s - loss: 3.4780 - val_loss: 4.7668\n",
        "Epoch 2964/3000\n",
        "0s - loss: 3.3365 - val_loss: 4.1933\n"
       ]
      },
      {
       "output_type": "stream",
       "stream": "stdout",
       "text": [
        "Epoch 2965/3000\n",
        "0s - loss: 3.1499 - val_loss: 4.3221\n",
        "Epoch 2966/3000\n",
        "0s - loss: 3.2802 - val_loss: 4.2190\n"
       ]
      },
      {
       "output_type": "stream",
       "stream": "stdout",
       "text": [
        "Epoch 2967/3000\n",
        "0s - loss: 3.0905 - val_loss: 4.0327\n",
        "Epoch 2968/3000\n",
        "0s - loss: 2.9512 - val_loss: 4.0925\n"
       ]
      },
      {
       "output_type": "stream",
       "stream": "stdout",
       "text": [
        "Epoch 2969/3000\n",
        "0s - loss: 3.0680 - val_loss: 4.1830\n"
       ]
      },
      {
       "output_type": "stream",
       "stream": "stdout",
       "text": [
        "Epoch 2970/3000\n",
        "0s - loss: 3.2123 - val_loss: 4.3133\n"
       ]
      },
      {
       "output_type": "stream",
       "stream": "stdout",
       "text": [
        "Epoch 2971/3000\n",
        "0s - loss: 3.2773 - val_loss: 4.3963\n",
        "Epoch 2972/3000\n",
        "0s - loss: 3.2115 - val_loss: 4.4780\n"
       ]
      },
      {
       "output_type": "stream",
       "stream": "stdout",
       "text": [
        "Epoch 2973/3000\n",
        "0s - loss: 3.2896 - val_loss: 4.3165\n"
       ]
      },
      {
       "output_type": "stream",
       "stream": "stdout",
       "text": [
        "Epoch 2974/3000\n",
        "0s - loss: 3.3698 - val_loss: 4.3482\n",
        "Epoch 2975/3000\n",
        "0s - loss: 3.2491 - val_loss: 4.2068\n"
       ]
      },
      {
       "output_type": "stream",
       "stream": "stdout",
       "text": [
        "Epoch 2976/3000\n",
        "0s - loss: 3.1822 - val_loss: 4.2022\n"
       ]
      },
      {
       "output_type": "stream",
       "stream": "stdout",
       "text": [
        "Epoch 2977/3000\n",
        "0s - loss: 3.1828 - val_loss: 4.3168\n",
        "Epoch 2978/3000\n",
        "0s - loss: 3.1513 - val_loss: 4.1375\n"
       ]
      },
      {
       "output_type": "stream",
       "stream": "stdout",
       "text": [
        "Epoch 2979/3000\n",
        "0s - loss: 3.0016 - val_loss: 4.1104\n"
       ]
      },
      {
       "output_type": "stream",
       "stream": "stdout",
       "text": [
        "Epoch 2980/3000\n",
        "0s - loss: 3.1196 - val_loss: 4.3285\n",
        "Epoch 2981/3000\n",
        "0s - loss: 3.1515 - val_loss: 4.2059\n"
       ]
      },
      {
       "output_type": "stream",
       "stream": "stdout",
       "text": [
        "Epoch 2982/3000\n",
        "0s - loss: 3.2500 - val_loss: 4.3636\n",
        "Epoch 2983/3000\n",
        "0s - loss: 3.2811 - val_loss: 4.1966\n"
       ]
      },
      {
       "output_type": "stream",
       "stream": "stdout",
       "text": [
        "Epoch 2984/3000\n",
        "0s - loss: 3.1870 - val_loss: 4.1409\n"
       ]
      },
      {
       "output_type": "stream",
       "stream": "stdout",
       "text": [
        "Epoch 2985/3000\n",
        "0s - loss: 3.2029 - val_loss: 4.3589\n",
        "Epoch 2986/3000\n",
        "0s - loss: 3.4102 - val_loss: 4.2812\n"
       ]
      },
      {
       "output_type": "stream",
       "stream": "stdout",
       "text": [
        "Epoch 2987/3000\n",
        "0s - loss: 3.1400 - val_loss: 4.1096\n",
        "Epoch 2988/3000\n",
        "0s - loss: 3.0817 - val_loss: 4.2514\n"
       ]
      },
      {
       "output_type": "stream",
       "stream": "stdout",
       "text": [
        "Epoch 2989/3000\n",
        "0s - loss: 3.1980 - val_loss: 4.2860\n",
        "Epoch 2990/3000\n",
        "0s - loss: 3.2128 - val_loss: 4.4314\n"
       ]
      },
      {
       "output_type": "stream",
       "stream": "stdout",
       "text": [
        "Epoch 2991/3000\n",
        "0s - loss: 3.3406 - val_loss: 4.1897\n"
       ]
      },
      {
       "output_type": "stream",
       "stream": "stdout",
       "text": [
        "Epoch 2992/3000\n",
        "0s - loss: 3.0888 - val_loss: 4.1867\n"
       ]
      },
      {
       "output_type": "stream",
       "stream": "stdout",
       "text": [
        "Epoch 2993/3000\n",
        "0s - loss: 3.1056 - val_loss: 4.1794\n",
        "Epoch 2994/3000\n",
        "0s - loss: 3.1151 - val_loss: 4.2930\n"
       ]
      },
      {
       "output_type": "stream",
       "stream": "stdout",
       "text": [
        "Epoch 2995/3000\n",
        "0s - loss: 3.2331 - val_loss: 4.0969\n"
       ]
      },
      {
       "output_type": "stream",
       "stream": "stdout",
       "text": [
        "Epoch 2996/3000\n",
        "0s - loss: 3.0753 - val_loss: 4.2087\n"
       ]
      },
      {
       "output_type": "stream",
       "stream": "stdout",
       "text": [
        "Epoch 2997/3000\n",
        "0s - loss: 3.1712 - val_loss: 4.3268\n",
        "Epoch 2998/3000\n",
        "0s - loss: 3.3020 - val_loss: 4.4991\n"
       ]
      },
      {
       "output_type": "stream",
       "stream": "stdout",
       "text": [
        "Epoch 2999/3000\n",
        "0s - loss: 3.3676 - val_loss: 4.2935\n"
       ]
      },
      {
       "output_type": "stream",
       "stream": "stdout",
       "text": [
        "Epoch 3000/3000\n",
        "0s - loss: 3.2102 - val_loss: 4.1175\n"
       ]
      }
     ],
     "prompt_number": 12
    },
    {
     "cell_type": "code",
     "collapsed": false,
     "input": [
      "print myNN.model.evaluate(lora_only, dataset.pos_train_classifier, batch_size=32, verbose=1, sample_weight=None)"
     ],
     "language": "python",
     "metadata": {},
     "outputs": [
      {
       "output_type": "stream",
       "stream": "stdout",
       "text": [
        "\r",
        "  32/1200 [..............................] - ETA: 0s"
       ]
      },
      {
       "output_type": "stream",
       "stream": "stdout",
       "text": [
        "\b\b\b\b\b\b\b\b\b\b\b\b\b\b\b\b\b\b\b\b\b\b\b\b\b\b\b\b\b\b\b\b\b\b\b\b\b\b\b\b\b\b\b\b\b\b\b\b\b\b\b\b\r",
        " 896/1200 [=====================>........] - ETA: 0s"
       ]
      },
      {
       "output_type": "stream",
       "stream": "stdout",
       "text": [
        "3.17372079213\n"
       ]
      }
     ],
     "prompt_number": 13
    },
    {
     "cell_type": "code",
     "collapsed": false,
     "input": [
      "print dataset.pos_train[1,:]"
     ],
     "language": "python",
     "metadata": {},
     "outputs": [
      {
       "output_type": "stream",
       "stream": "stdout",
       "text": [
        "[22  2]\n"
       ]
      }
     ],
     "prompt_number": 15
    },
    {
     "cell_type": "code",
     "collapsed": false,
     "input": [
      "myNN.predict(lora_only[1,:])"
     ],
     "language": "python",
     "metadata": {},
     "outputs": [
      {
       "ename": "ValueError",
       "evalue": "Error when checking : expected dense_input_2 to have shape (None, 8) but got array with shape (8, 1)",
       "output_type": "pyerr",
       "traceback": [
        "\u001b[0;31m---------------------------------------------------------------------------\u001b[0m\n\u001b[0;31mValueError\u001b[0m                                Traceback (most recent call last)",
        "\u001b[0;32m<ipython-input-16-ceab892b9478>\u001b[0m in \u001b[0;36m<module>\u001b[0;34m()\u001b[0m\n\u001b[0;32m----> 1\u001b[0;31m \u001b[0mmyNN\u001b[0m\u001b[0;34m.\u001b[0m\u001b[0mpredict\u001b[0m\u001b[0;34m(\u001b[0m\u001b[0mlora_only\u001b[0m\u001b[0;34m[\u001b[0m\u001b[0;36m1\u001b[0m\u001b[0;34m,\u001b[0m\u001b[0;34m:\u001b[0m\u001b[0;34m]\u001b[0m\u001b[0;34m)\u001b[0m\u001b[0;34m\u001b[0m\u001b[0m\n\u001b[0m",
        "\u001b[0;32m/home/murat/rf-localization/deep-rf-regression/nn.pyc\u001b[0m in \u001b[0;36mpredict\u001b[0;34m(self, x)\u001b[0m\n\u001b[1;32m    131\u001b[0m \u001b[0;34m\u001b[0m\u001b[0m\n\u001b[1;32m    132\u001b[0m     \u001b[0;32mdef\u001b[0m \u001b[0mpredict\u001b[0m\u001b[0;34m(\u001b[0m\u001b[0mself\u001b[0m\u001b[0;34m,\u001b[0m \u001b[0mx\u001b[0m\u001b[0;34m)\u001b[0m\u001b[0;34m:\u001b[0m\u001b[0;34m\u001b[0m\u001b[0m\n\u001b[0;32m--> 133\u001b[0;31m         \u001b[0;32mreturn\u001b[0m \u001b[0mself\u001b[0m\u001b[0;34m.\u001b[0m\u001b[0mmodel\u001b[0m\u001b[0;34m.\u001b[0m\u001b[0mpredict\u001b[0m\u001b[0;34m(\u001b[0m\u001b[0mx\u001b[0m\u001b[0;34m,\u001b[0m \u001b[0mbatch_size\u001b[0m\u001b[0;34m=\u001b[0m\u001b[0mself\u001b[0m\u001b[0;34m.\u001b[0m\u001b[0mbatch_size\u001b[0m\u001b[0;34m,\u001b[0m \u001b[0mverbose\u001b[0m\u001b[0;34m=\u001b[0m\u001b[0;36m1\u001b[0m\u001b[0;34m)\u001b[0m\u001b[0;34m\u001b[0m\u001b[0m\n\u001b[0m\u001b[1;32m    134\u001b[0m \u001b[0;34m\u001b[0m\u001b[0m\n\u001b[1;32m    135\u001b[0m     \u001b[0;32mdef\u001b[0m \u001b[0mcalculate_error\u001b[0m\u001b[0;34m(\u001b[0m\u001b[0mself\u001b[0m\u001b[0;34m,\u001b[0m \u001b[0my\u001b[0m\u001b[0;34m,\u001b[0m \u001b[0my_hat\u001b[0m\u001b[0;34m)\u001b[0m\u001b[0;34m:\u001b[0m\u001b[0;34m\u001b[0m\u001b[0m\n",
        "\u001b[0;32m/usr/local/lib/python2.7/dist-packages/keras/models.pyc\u001b[0m in \u001b[0;36mpredict\u001b[0;34m(self, x, batch_size, verbose)\u001b[0m\n\u001b[1;32m    722\u001b[0m         \u001b[0;32mif\u001b[0m \u001b[0mself\u001b[0m\u001b[0;34m.\u001b[0m\u001b[0mmodel\u001b[0m \u001b[0;32mis\u001b[0m \u001b[0mNone\u001b[0m\u001b[0;34m:\u001b[0m\u001b[0;34m\u001b[0m\u001b[0m\n\u001b[1;32m    723\u001b[0m             \u001b[0mself\u001b[0m\u001b[0;34m.\u001b[0m\u001b[0mbuild\u001b[0m\u001b[0;34m(\u001b[0m\u001b[0;34m)\u001b[0m\u001b[0;34m\u001b[0m\u001b[0m\n\u001b[0;32m--> 724\u001b[0;31m         \u001b[0;32mreturn\u001b[0m \u001b[0mself\u001b[0m\u001b[0;34m.\u001b[0m\u001b[0mmodel\u001b[0m\u001b[0;34m.\u001b[0m\u001b[0mpredict\u001b[0m\u001b[0;34m(\u001b[0m\u001b[0mx\u001b[0m\u001b[0;34m,\u001b[0m \u001b[0mbatch_size\u001b[0m\u001b[0;34m=\u001b[0m\u001b[0mbatch_size\u001b[0m\u001b[0;34m,\u001b[0m \u001b[0mverbose\u001b[0m\u001b[0;34m=\u001b[0m\u001b[0mverbose\u001b[0m\u001b[0;34m)\u001b[0m\u001b[0;34m\u001b[0m\u001b[0m\n\u001b[0m\u001b[1;32m    725\u001b[0m \u001b[0;34m\u001b[0m\u001b[0m\n\u001b[1;32m    726\u001b[0m     \u001b[0;32mdef\u001b[0m \u001b[0mpredict_on_batch\u001b[0m\u001b[0;34m(\u001b[0m\u001b[0mself\u001b[0m\u001b[0;34m,\u001b[0m \u001b[0mx\u001b[0m\u001b[0;34m)\u001b[0m\u001b[0;34m:\u001b[0m\u001b[0;34m\u001b[0m\u001b[0m\n",
        "\u001b[0;32m/usr/local/lib/python2.7/dist-packages/keras/engine/training.pyc\u001b[0m in \u001b[0;36mpredict\u001b[0;34m(self, x, batch_size, verbose)\u001b[0m\n\u001b[1;32m   1252\u001b[0m         x = standardize_input_data(x, self.input_names,\n\u001b[1;32m   1253\u001b[0m                                    \u001b[0mself\u001b[0m\u001b[0;34m.\u001b[0m\u001b[0minternal_input_shapes\u001b[0m\u001b[0;34m,\u001b[0m\u001b[0;34m\u001b[0m\u001b[0m\n\u001b[0;32m-> 1254\u001b[0;31m                                    check_batch_axis=False)\n\u001b[0m\u001b[1;32m   1255\u001b[0m         \u001b[0;32mif\u001b[0m \u001b[0mself\u001b[0m\u001b[0;34m.\u001b[0m\u001b[0mstateful\u001b[0m\u001b[0;34m:\u001b[0m\u001b[0;34m\u001b[0m\u001b[0m\n\u001b[1;32m   1256\u001b[0m             \u001b[0;32mif\u001b[0m \u001b[0mx\u001b[0m\u001b[0;34m[\u001b[0m\u001b[0;36m0\u001b[0m\u001b[0;34m]\u001b[0m\u001b[0;34m.\u001b[0m\u001b[0mshape\u001b[0m\u001b[0;34m[\u001b[0m\u001b[0;36m0\u001b[0m\u001b[0;34m]\u001b[0m \u001b[0;34m>\u001b[0m \u001b[0mbatch_size\u001b[0m \u001b[0;32mand\u001b[0m \u001b[0mx\u001b[0m\u001b[0;34m[\u001b[0m\u001b[0;36m0\u001b[0m\u001b[0;34m]\u001b[0m\u001b[0;34m.\u001b[0m\u001b[0mshape\u001b[0m\u001b[0;34m[\u001b[0m\u001b[0;36m0\u001b[0m\u001b[0;34m]\u001b[0m \u001b[0;34m%\u001b[0m \u001b[0mbatch_size\u001b[0m \u001b[0;34m!=\u001b[0m \u001b[0;36m0\u001b[0m\u001b[0;34m:\u001b[0m\u001b[0;34m\u001b[0m\u001b[0m\n",
        "\u001b[0;32m/usr/local/lib/python2.7/dist-packages/keras/engine/training.pyc\u001b[0m in \u001b[0;36mstandardize_input_data\u001b[0;34m(data, names, shapes, check_batch_axis, exception_prefix)\u001b[0m\n\u001b[1;32m    122\u001b[0m                             \u001b[0;34m' to have shape '\u001b[0m \u001b[0;34m+\u001b[0m \u001b[0mstr\u001b[0m\u001b[0;34m(\u001b[0m\u001b[0mshapes\u001b[0m\u001b[0;34m[\u001b[0m\u001b[0mi\u001b[0m\u001b[0;34m]\u001b[0m\u001b[0;34m)\u001b[0m \u001b[0;34m+\u001b[0m\u001b[0;34m\u001b[0m\u001b[0m\n\u001b[1;32m    123\u001b[0m                             \u001b[0;34m' but got array with shape '\u001b[0m \u001b[0;34m+\u001b[0m\u001b[0;34m\u001b[0m\u001b[0m\n\u001b[0;32m--> 124\u001b[0;31m                             str(array.shape))\n\u001b[0m\u001b[1;32m    125\u001b[0m     \u001b[0;32mreturn\u001b[0m \u001b[0marrays\u001b[0m\u001b[0;34m\u001b[0m\u001b[0m\n\u001b[1;32m    126\u001b[0m \u001b[0;34m\u001b[0m\u001b[0m\n",
        "\u001b[0;31mValueError\u001b[0m: Error when checking : expected dense_input_2 to have shape (None, 8) but got array with shape (8, 1)"
       ]
      }
     ],
     "prompt_number": 16
    },
    {
     "cell_type": "code",
     "collapsed": false,
     "input": [
      "print lora_only[1,:].reshape(-1).shape\n",
      "\n"
     ],
     "language": "python",
     "metadata": {},
     "outputs": [
      {
       "output_type": "stream",
       "stream": "stdout",
       "text": [
        "(8,)\n"
       ]
      }
     ],
     "prompt_number": 21
    },
    {
     "cell_type": "code",
     "collapsed": false,
     "input": [
      "qq = lora_only[0:3,:]"
     ],
     "language": "python",
     "metadata": {},
     "outputs": [],
     "prompt_number": 32
    },
    {
     "cell_type": "code",
     "collapsed": false,
     "input": [
      "print qq.shape"
     ],
     "language": "python",
     "metadata": {},
     "outputs": [
      {
       "output_type": "stream",
       "stream": "stdout",
       "text": [
        "(3, 8)\n"
       ]
      }
     ],
     "prompt_number": 33
    },
    {
     "cell_type": "code",
     "collapsed": false,
     "input": [
      "pp = myNN.predict(qq)"
     ],
     "language": "python",
     "metadata": {},
     "outputs": [
      {
       "output_type": "stream",
       "stream": "stdout",
       "text": [
        "\r",
        "3/3 [==============================] - 0s"
       ]
      },
      {
       "output_type": "stream",
       "stream": "stdout",
       "text": [
        "\n"
       ]
      }
     ],
     "prompt_number": 35
    },
    {
     "cell_type": "code",
     "collapsed": false,
     "input": [
      "pp.shape"
     ],
     "language": "python",
     "metadata": {},
     "outputs": [
      {
       "metadata": {},
       "output_type": "pyout",
       "prompt_number": 36,
       "text": [
        "(3, 175)"
       ]
      }
     ],
     "prompt_number": 36
    },
    {
     "cell_type": "code",
     "collapsed": false,
     "input": [
      "pp[0,:].argmax()"
     ],
     "language": "python",
     "metadata": {},
     "outputs": [
      {
       "metadata": {},
       "output_type": "pyout",
       "prompt_number": 41,
       "text": [
        "115"
       ]
      }
     ],
     "prompt_number": 41
    },
    {
     "cell_type": "code",
     "collapsed": false,
     "input": [
      "np.argmax(pp[0,:])"
     ],
     "language": "python",
     "metadata": {},
     "outputs": [
      {
       "metadata": {},
       "output_type": "pyout",
       "prompt_number": 43,
       "text": [
        "115"
       ]
      }
     ],
     "prompt_number": 43
    },
    {
     "cell_type": "code",
     "collapsed": false,
     "input": [
      "np.argmax(pp[1,:])"
     ],
     "language": "python",
     "metadata": {},
     "outputs": [
      {
       "metadata": {},
       "output_type": "pyout",
       "prompt_number": 44,
       "text": [
        "115"
       ]
      }
     ],
     "prompt_number": 44
    },
    {
     "cell_type": "code",
     "collapsed": false,
     "input": [
      "np.argmax(pp[2,:])"
     ],
     "language": "python",
     "metadata": {},
     "outputs": [
      {
       "metadata": {},
       "output_type": "pyout",
       "prompt_number": 45,
       "text": [
        "51"
       ]
      }
     ],
     "prompt_number": 45
    },
    {
     "cell_type": "code",
     "collapsed": false,
     "input": [
      "import matplotlib.pyplot as plt\n"
     ],
     "language": "python",
     "metadata": {},
     "outputs": [],
     "prompt_number": 46
    },
    {
     "cell_type": "code",
     "collapsed": false,
     "input": [
      "plt.plot(range(175), pp[0,:])"
     ],
     "language": "python",
     "metadata": {},
     "outputs": [
      {
       "metadata": {},
       "output_type": "pyout",
       "prompt_number": 49,
       "text": [
        "[<matplotlib.lines.Line2D at 0x7ff2d5cf2510>]"
       ]
      },
      {
       "metadata": {},
       "output_type": "display_data",
       "png": "[encoded data removed]",
       "text": [
        "<matplotlib.figure.Figure at 0x7ff2d5c61e90>"
       ]
      }
     ],
     "prompt_number": 49
    },
    {
     "cell_type": "code",
     "collapsed": false,
     "input": [
      "np.sort(pp[0,:])"
     ],
     "language": "python",
     "metadata": {},
     "outputs": [
      {
       "metadata": {},
       "output_type": "pyout",
       "prompt_number": 50,
       "text": [
        "array([  2.99462473e-12,   3.35387165e-12,   3.37997642e-12,\n",
        "         3.50109113e-12,   3.61632230e-12,   3.62859330e-12,\n",
        "         3.63288674e-12,   3.63324735e-12,   3.77052122e-12,\n",
        "         3.86012793e-12,   3.86641370e-12,   4.08437737e-12,\n",
        "         4.17183562e-12,   4.40782437e-12,   4.57270680e-12,\n",
        "         4.95491452e-12,   6.89734625e-09,   2.71094009e-08,\n",
        "         3.91379622e-08,   8.62829168e-08,   1.26430251e-07,\n",
        "         1.91493299e-07,   2.41194783e-07,   4.58412330e-07,\n",
        "         7.27129930e-07,   7.89622618e-07,   1.18264495e-06,\n",
        "         1.27918804e-06,   1.57096770e-06,   2.11282941e-06,\n",
        "         2.20100242e-06,   2.68797930e-06,   2.84870021e-06,\n",
        "         3.59123760e-06,   3.88513945e-06,   4.10828625e-06,\n",
        "         5.08873154e-06,   5.31582282e-06,   5.46352703e-06,\n",
        "         5.79194921e-06,   6.19076263e-06,   7.99958525e-06,\n",
        "         1.03842194e-05,   1.27068733e-05,   1.50841170e-05,\n",
        "         1.64519624e-05,   1.77488546e-05,   1.89503116e-05,\n",
        "         2.11068163e-05,   2.17855832e-05,   2.39555065e-05,\n",
        "         2.63236798e-05,   3.10394244e-05,   3.57180470e-05,\n",
        "         3.62309438e-05,   3.93160553e-05,   4.08769447e-05,\n",
        "         4.11786532e-05,   4.23924721e-05,   4.25083563e-05,\n",
        "         4.29733918e-05,   4.36217233e-05,   4.46872618e-05,\n",
        "         5.04931886e-05,   5.75718113e-05,   5.77048886e-05,\n",
        "         6.03871231e-05,   6.05563291e-05,   7.12602123e-05,\n",
        "         7.37652881e-05,   7.76621091e-05,   7.83293217e-05,\n",
        "         9.17514408e-05,   1.11874513e-04,   1.15223527e-04,\n",
        "         1.16347066e-04,   1.22537953e-04,   1.32724352e-04,\n",
        "         1.40556120e-04,   1.43132944e-04,   1.52530614e-04,\n",
        "         1.62487748e-04,   1.62574303e-04,   1.63006684e-04,\n",
        "         1.84852106e-04,   1.97923509e-04,   2.08308658e-04,\n",
        "         2.17354158e-04,   2.19948561e-04,   2.49914243e-04,\n",
        "         2.62561487e-04,   3.02102970e-04,   3.32195574e-04,\n",
        "         3.59906553e-04,   3.72873794e-04,   3.79205070e-04,\n",
        "         4.57179645e-04,   4.78403788e-04,   4.78782662e-04,\n",
        "         5.21739072e-04,   5.30163234e-04,   5.33190323e-04,\n",
        "         5.57315361e-04,   5.93236764e-04,   6.01885666e-04,\n",
        "         6.50973001e-04,   7.09158077e-04,   7.14422960e-04,\n",
        "         7.19164673e-04,   7.93452899e-04,   8.05115618e-04,\n",
        "         8.33317696e-04,   9.84491548e-04,   9.85595281e-04,\n",
        "         1.03807065e-03,   1.14246155e-03,   1.23004778e-03,\n",
        "         1.28636369e-03,   1.36063271e-03,   1.38457457e-03,\n",
        "         1.40148564e-03,   1.40791037e-03,   1.45552889e-03,\n",
        "         1.68724626e-03,   1.86566042e-03,   2.34653312e-03,\n",
        "         2.38695578e-03,   3.19784088e-03,   3.20541929e-03,\n",
        "         3.27872462e-03,   3.31688439e-03,   3.45987570e-03,\n",
        "         3.52621847e-03,   3.67163634e-03,   3.79983941e-03,\n",
        "         4.25426103e-03,   4.25980659e-03,   4.30239551e-03,\n",
        "         4.39461274e-03,   4.85315593e-03,   5.09242713e-03,\n",
        "         5.14487317e-03,   5.41269826e-03,   5.71561279e-03,\n",
        "         5.89989452e-03,   6.01087511e-03,   6.02391921e-03,\n",
        "         6.28146855e-03,   6.38088956e-03,   6.41240645e-03,\n",
        "         6.52121287e-03,   6.88402029e-03,   7.70194316e-03,\n",
        "         7.87389744e-03,   8.52220133e-03,   1.32074524e-02,\n",
        "         1.53447324e-02,   1.56629812e-02,   1.60258971e-02,\n",
        "         1.61974709e-02,   2.02708170e-02,   2.28248052e-02,\n",
        "         2.48988383e-02,   2.67636795e-02,   3.28502655e-02,\n",
        "         3.67010869e-02,   3.70866545e-02,   4.00171988e-02,\n",
        "         4.08104584e-02,   4.71906327e-02,   5.05997017e-02,\n",
        "         6.20067231e-02,   7.48849213e-02,   1.07424632e-01,\n",
        "         1.15712307e-01], dtype=float32)"
       ]
      }
     ],
     "prompt_number": 50
    },
    {
     "cell_type": "code",
     "collapsed": false,
     "input": [
      "pp[1,:].argsort()"
     ],
     "language": "python",
     "metadata": {},
     "outputs": [
      {
       "metadata": {},
       "output_type": "pyout",
       "prompt_number": 52,
       "text": [
        "array([114,   2, 168, 163,  44, 164, 154, 157, 156, 165, 170, 171, 158,\n",
        "         1, 172, 161,  26,  18,  51,  16,  72, 118, 133, 121, 100, 106,\n",
        "       169,  25, 113,  29,  36, 140, 173, 146, 135,   0, 107,  35,   8,\n",
        "       108, 129, 159, 145,  71,  78,   9, 130,  57,   4,  65,  91,  13,\n",
        "        92, 137, 153,  98,  37, 122, 112,  14,  74,  63,   5, 144, 128,\n",
        "       141,  66,  80, 127,  19, 119, 142,  40,  94,  43,   7,  12,  21,\n",
        "       162, 109,  42, 101,  34,  50,  33,  86,  22,  99,  54,  73, 120,\n",
        "       136, 125,  85,  67,  31,  30,  49,  28,  56,  64,  79,  84, 150,\n",
        "       116,  45, 105,  76,  93,  10,  53,  32, 151, 126,  24,  11,  15,\n",
        "       155,  23,  90,  55,  17,  38,  77,  82, 147, 134,  39, 143,  97,\n",
        "       117,  59,  58,  81, 124, 110, 104,  41,   3,  89, 152, 149,  60,\n",
        "       102,  47,  70,  96,  87, 138, 111, 131,  48,  88,  27,  83,  20,\n",
        "        61, 148,  75,  95,  62,  46, 132,  69, 174,   6, 167, 123, 103,\n",
        "       166, 160,  68,  52, 139, 115])"
       ]
      }
     ],
     "prompt_number": 52
    },
    {
     "cell_type": "code",
     "collapsed": false,
     "input": [],
     "language": "python",
     "metadata": {},
     "outputs": []
    }
   ],
   "metadata": {}
  }
 ]
}