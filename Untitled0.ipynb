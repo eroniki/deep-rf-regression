{
 "metadata": {
  "name": ""
 },
 "nbformat": 3,
 "nbformat_minor": 0,
 "worksheets": [
  {
   "cells": [
    {
     "cell_type": "code",
     "collapsed": false,
     "input": [
      "from keras.models import Sequential\n",
      "from keras.layers import Dense, Activation, Merge\n",
      "from keras.utils.visualize_util import plot\n",
      "from IPython.display import SVG\n",
      "from keras.utils.visualize_util import model_to_dot"
     ],
     "language": "python",
     "metadata": {},
     "outputs": [
      {
       "output_type": "stream",
       "stream": "stderr",
       "text": [
        "Using TensorFlow backend.\n"
       ]
      }
     ],
     "prompt_number": 1
    },
    {
     "cell_type": "code",
     "collapsed": false,
     "input": [
      "weight_model = Sequential()\n",
      "weight_model.add(Dense(8, input_dim=8))\n",
      "weight_model.add(Activation('relu'))\n",
      "weight_model.add(Dense(8, input_dim=8))\n",
      "weight_model.add(Activation('relu'))\n",
      "weight_model.add(Dense(8, input_dim=8))\n",
      "weight_model.add(Activation('softmax'))\n",
      "weight_model.summary()"
     ],
     "language": "python",
     "metadata": {},
     "outputs": [
      {
       "output_type": "stream",
       "stream": "stdout",
       "text": [
        "____________________________________________________________________________________________________\n",
        "Layer (type)                     Output Shape          Param #     Connected to                     \n",
        "====================================================================================================\n",
        "dense_1 (Dense)                  (None, 8)             72          dense_input_1[0][0]              \n",
        "____________________________________________________________________________________________________\n",
        "activation_1 (Activation)        (None, 8)             0           dense_1[0][0]                    \n",
        "____________________________________________________________________________________________________\n",
        "dense_2 (Dense)                  (None, 8)             72          activation_1[0][0]               \n",
        "____________________________________________________________________________________________________\n",
        "activation_2 (Activation)        (None, 8)             0           dense_2[0][0]                    \n",
        "____________________________________________________________________________________________________\n",
        "dense_3 (Dense)                  (None, 8)             72          activation_2[0][0]               \n",
        "____________________________________________________________________________________________________\n",
        "activation_3 (Activation)        (None, 8)             0           dense_3[0][0]                    \n",
        "====================================================================================================\n",
        "Total params: 216\n",
        "Trainable params: 216\n",
        "Non-trainable params: 0\n",
        "____________________________________________________________________________________________________\n"
       ]
      }
     ],
     "prompt_number": 2
    },
    {
     "cell_type": "code",
     "collapsed": false,
     "input": [
      "wifi_input = Sequential()\n",
      "wifi_input.add(Dense(8, input_dim=8))\n",
      "wifi_input.summary()"
     ],
     "language": "python",
     "metadata": {},
     "outputs": [
      {
       "output_type": "stream",
       "stream": "stdout",
       "text": [
        "____________________________________________________________________________________________________\n",
        "Layer (type)                     Output Shape          Param #     Connected to                     \n",
        "====================================================================================================\n",
        "dense_4 (Dense)                  (None, 8)             72          dense_input_2[0][0]              \n",
        "====================================================================================================\n",
        "Total params: 72\n",
        "Trainable params: 72\n",
        "Non-trainable params: 0\n",
        "____________________________________________________________________________________________________\n"
       ]
      }
     ],
     "prompt_number": 3
    },
    {
     "cell_type": "code",
     "collapsed": false,
     "input": [
      "prod_model = Sequential()\n",
      "prod_model.add(Merge([weight_model, wifi_input], mode='mul'))\n",
      "prod_model.summary()"
     ],
     "language": "python",
     "metadata": {},
     "outputs": [
      {
       "output_type": "stream",
       "stream": "stdout",
       "text": [
        "____________________________________________________________________________________________________\n",
        "Layer (type)                     Output Shape          Param #     Connected to                     \n",
        "====================================================================================================\n",
        "dense_1 (Dense)                  (None, 8)             72          dense_input_1[0][0]              \n",
        "____________________________________________________________________________________________________\n",
        "activation_1 (Activation)        (None, 8)             0           dense_1[0][0]                    \n",
        "____________________________________________________________________________________________________\n",
        "dense_2 (Dense)                  (None, 8)             72          activation_1[0][0]               \n",
        "____________________________________________________________________________________________________\n",
        "activation_2 (Activation)        (None, 8)             0           dense_2[0][0]                    \n",
        "____________________________________________________________________________________________________\n",
        "dense_3 (Dense)                  (None, 8)             72          activation_2[0][0]               \n",
        "____________________________________________________________________________________________________\n",
        "activation_3 (Activation)        (None, 8)             0           dense_3[0][0]                    \n",
        "____________________________________________________________________________________________________\n",
        "dense_4 (Dense)                  (None, 8)             72          dense_input_2[0][0]              \n",
        "====================================================================================================\n",
        "Total params: 288\n",
        "Trainable params: 288\n",
        "Non-trainable params: 0\n",
        "____________________________________________________________________________________________________\n"
       ]
      }
     ],
     "prompt_number": 4
    },
    {
     "cell_type": "code",
     "collapsed": false,
     "input": [
      "ple_model = Sequential()\n",
      "ple_model.add(Dense(8, input_dim=8))\n",
      "ple_model.add(Activation('relu'))\n",
      "ple_model.add(Dense(8, input_dim=8))\n",
      "ple_model.add(Activation('relu'))\n",
      "ple_model.add(Dense(8, input_dim=8))\n",
      "ple_model.add(Activation('relu'))\n",
      "ple_model.summary()"
     ],
     "language": "python",
     "metadata": {},
     "outputs": [
      {
       "output_type": "stream",
       "stream": "stdout",
       "text": [
        "____________________________________________________________________________________________________\n",
        "Layer (type)                     Output Shape          Param #     Connected to                     \n",
        "====================================================================================================\n",
        "dense_5 (Dense)                  (None, 8)             72          dense_input_3[0][0]              \n",
        "____________________________________________________________________________________________________\n",
        "activation_4 (Activation)        (None, 8)             0           dense_5[0][0]                    \n",
        "____________________________________________________________________________________________________\n",
        "dense_6 (Dense)                  (None, 8)             72          activation_4[0][0]               \n",
        "____________________________________________________________________________________________________\n",
        "activation_5 (Activation)        (None, 8)             0           dense_6[0][0]                    \n",
        "____________________________________________________________________________________________________\n",
        "dense_7 (Dense)                  (None, 8)             72          activation_5[0][0]               \n",
        "____________________________________________________________________________________________________\n",
        "activation_6 (Activation)        (None, 8)             0           dense_7[0][0]                    \n",
        "====================================================================================================\n",
        "Total params: 216\n",
        "Trainable params: 216\n",
        "Non-trainable params: 0\n",
        "____________________________________________________________________________________________________\n"
       ]
      }
     ],
     "prompt_number": 5
    },
    {
     "cell_type": "code",
     "collapsed": false,
     "input": [
      "wifi_loc = Sequential()\n",
      "wifi_loc.add(Dense(8, input_dim=16))\n",
      "wifi_loc.add(Activation('relu'))\n",
      "wifi_loc.add(Dense(6, input_dim=8))\n",
      "wifi_loc.add(Activation('relu'))\n",
      "wifi_loc.add(Dense(2, input_dim=6))\n",
      "wifi_loc.add(Activation('relu'))"
     ],
     "language": "python",
     "metadata": {},
     "outputs": [],
     "prompt_number": 6
    },
    {
     "cell_type": "code",
     "collapsed": false,
     "input": [],
     "language": "python",
     "metadata": {},
     "outputs": []
    },
    {
     "cell_type": "code",
     "collapsed": false,
     "input": [
      "final_model = Sequential()\n",
      "final_model.add(Merge([wifi_loc, ple_model, ple_model], mode='concat', concat_axis=1))\n",
      "\n",
      "final_model.compile(optimizer='rmsprop',\n",
      "              loss='categorical_crossentropy',\n",
      "              metrics=['accuracy'])\n",
      "plot(final_model, to_file='model.png', show_shapes=True, show_layer_names=True)\n",
      "final_model.summary()\n",
      "\n",
      "SVG(model_to_dot(final_model).create(prog='dot', format='svg'))\n"
     ],
     "language": "python",
     "metadata": {},
     "outputs": [
      {
       "output_type": "stream",
       "stream": "stdout",
       "text": [
        "____________________________________________________________________________________________________\n",
        "Layer (type)                     Output Shape          Param #     Connected to                     \n",
        "====================================================================================================\n",
        "dense_8 (Dense)                  (None, 8)             136                                          \n",
        "____________________________________________________________________________________________________\n",
        "activation_7 (Activation)        (None, 8)             0                                            \n",
        "____________________________________________________________________________________________________\n",
        "dense_9 (Dense)                  (None, 6)             54                                           \n",
        "____________________________________________________________________________________________________\n",
        "activation_8 (Activation)        (None, 6)             0                                            \n",
        "____________________________________________________________________________________________________\n",
        "dense_10 (Dense)                 (None, 2)             14                                           \n",
        "____________________________________________________________________________________________________\n",
        "activation_9 (Activation)        (None, 2)             0                                            \n",
        "____________________________________________________________________________________________________\n",
        "dense_5 (Dense)                  (None, 8)             72                                           \n",
        "____________________________________________________________________________________________________\n",
        "activation_4 (Activation)        (None, 8)             0                                            \n",
        "____________________________________________________________________________________________________\n",
        "dense_6 (Dense)                  (None, 8)             72                                           \n",
        "____________________________________________________________________________________________________\n",
        "activation_5 (Activation)        (None, 8)             0                                            \n",
        "____________________________________________________________________________________________________\n",
        "dense_7 (Dense)                  (None, 8)             72                                           \n",
        "____________________________________________________________________________________________________\n",
        "activation_6 (Activation)        (None, 8)             0                                            \n",
        "====================================================================================================\n",
        "Total params: 420\n",
        "Trainable params: 420\n",
        "Non-trainable params: 0\n",
        "____________________________________________________________________________________________________\n"
       ]
      },
      {
       "metadata": {},
       "output_type": "pyout",
       "prompt_number": 7,
       "svg": [
        "<svg height=\"120pt\" viewBox=\"0.00 0.00 323.00 120.00\" width=\"323pt\" xmlns=\"http://www.w3.org/2000/svg\" xmlns:xlink=\"http://www.w3.org/1999/xlink\">\n",
        "<g class=\"graph\" id=\"graph0\" transform=\"scale(1 1) rotate(0) translate(4 116)\">\n",
        "<title>G</title>\n",
        "<polygon fill=\"white\" points=\"-4,4 -4,-116 319,-116 319,4 -4,4\" stroke=\"none\"/>\n",
        "<!-- 140123514755536 -->\n",
        "<g class=\"node\" id=\"node1\"><title>140123514755536</title>\n",
        "<polygon fill=\"none\" points=\"-0.5,-75 -0.5,-111 148.5,-111 148.5,-75 -0.5,-75\" stroke=\"black\"/>\n",
        "<text font-family=\"Times,serif\" font-size=\"14.00\" text-anchor=\"middle\" x=\"74\" y=\"-89.3\">sequential_5: Sequential</text>\n",
        "</g>\n",
        "<!-- 140123514072592 -->\n",
        "<g class=\"node\" id=\"node3\"><title>140123514072592</title>\n",
        "<polygon fill=\"none\" points=\"103,-1 103,-37 211,-37 211,-1 103,-1\" stroke=\"black\"/>\n",
        "<text font-family=\"Times,serif\" font-size=\"14.00\" text-anchor=\"middle\" x=\"157\" y=\"-15.3\">merge_2: Merge</text>\n",
        "</g>\n",
        "<!-- 140123514755536&#45;&gt;140123514072592 -->\n",
        "<g class=\"edge\" id=\"edge1\"><title>140123514755536-&gt;140123514072592</title>\n",
        "<path d=\"M93.6698,-74.937C104.342,-65.6792 117.707,-54.0857 129.405,-43.9379\" fill=\"none\" stroke=\"black\"/>\n",
        "<polygon fill=\"black\" points=\"131.923,-46.3867 137.184,-37.19 127.336,-41.099 131.923,-46.3867\" stroke=\"black\"/>\n",
        "</g>\n",
        "<!-- 140123515468816 -->\n",
        "<g class=\"node\" id=\"node2\"><title>140123515468816</title>\n",
        "<polygon fill=\"none\" points=\"166.5,-75 166.5,-111 315.5,-111 315.5,-75 166.5,-75\" stroke=\"black\"/>\n",
        "<text font-family=\"Times,serif\" font-size=\"14.00\" text-anchor=\"middle\" x=\"241\" y=\"-89.3\">sequential_4: Sequential</text>\n",
        "</g>\n",
        "<!-- 140123515468816&#45;&gt;140123514072592 -->\n",
        "<g class=\"edge\" id=\"edge2\"><title>140123515468816-&gt;140123514072592</title>\n",
        "<path d=\"M221.093,-74.937C210.292,-65.6792 196.767,-54.0857 184.928,-43.9379\" fill=\"none\" stroke=\"black\"/>\n",
        "<polygon fill=\"black\" points=\"186.925,-41.0406 177.055,-37.19 182.37,-46.3554 186.925,-41.0406\" stroke=\"black\"/>\n",
        "</g>\n",
        "</g>\n",
        "</svg>"
       ],
       "text": [
        "<IPython.core.display.SVG at 0x7f710c2fd950>"
       ]
      }
     ],
     "prompt_number": 7
    },
    {
     "cell_type": "code",
     "collapsed": false,
     "input": [],
     "language": "python",
     "metadata": {},
     "outputs": [],
     "prompt_number": 7
    }
   ],
   "metadata": {}
  }
 ]
}